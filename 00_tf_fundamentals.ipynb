{
  "nbformat": 4,
  "nbformat_minor": 0,
  "metadata": {
    "colab": {
      "name": "00_tf_fundamentals.ipynb",
      "provenance": [],
      "collapsed_sections": []
    },
    "kernelspec": {
      "name": "python3",
      "display_name": "Python 3"
    },
    "language_info": {
      "name": "python"
    }
  },
  "cells": [
    {
      "cell_type": "markdown",
      "source": [
        "# First part of tensorflow developer course"
      ],
      "metadata": {
        "id": "4EuQ9auVI0Oi"
      }
    },
    {
      "cell_type": "code",
      "source": [
        "import tensorflow as tf\n",
        "print(tf.__version__)"
      ],
      "metadata": {
        "id": "ykVPLlGEHcgB",
        "colab": {
          "base_uri": "https://localhost:8080/"
        },
        "outputId": "450adaf6-b63b-4878-e9f9-2fedbba212f3"
      },
      "execution_count": null,
      "outputs": [
        {
          "output_type": "stream",
          "name": "stdout",
          "text": [
            "2.8.0\n"
          ]
        }
      ]
    },
    {
      "cell_type": "markdown",
      "source": [
        "create tensors with tf.Constant()"
      ],
      "metadata": {
        "id": "nGhKy_SoHyu-"
      }
    },
    {
      "cell_type": "code",
      "source": [
        "scalar = tf.constant(7)\n",
        "scalar"
      ],
      "metadata": {
        "colab": {
          "base_uri": "https://localhost:8080/"
        },
        "id": "KCRiD_8aHx8t",
        "outputId": "d31ac86b-920b-45e2-9366-9643d0bf07e1"
      },
      "execution_count": null,
      "outputs": [
        {
          "output_type": "execute_result",
          "data": {
            "text/plain": [
              "<tf.Tensor: shape=(), dtype=int32, numpy=7>"
            ]
          },
          "metadata": {},
          "execution_count": 2
        }
      ]
    },
    {
      "cell_type": "code",
      "source": [
        "scalar.ndim # number of dimensions"
      ],
      "metadata": {
        "colab": {
          "base_uri": "https://localhost:8080/"
        },
        "id": "Km2xQzBZIEC2",
        "outputId": "177c9d55-cc65-4917-dae1-74086d99d3f5"
      },
      "execution_count": null,
      "outputs": [
        {
          "output_type": "execute_result",
          "data": {
            "text/plain": [
              "0"
            ]
          },
          "metadata": {},
          "execution_count": 3
        }
      ]
    },
    {
      "cell_type": "code",
      "source": [
        "vector = tf.constant([5, 6])\n",
        "vector"
      ],
      "metadata": {
        "colab": {
          "base_uri": "https://localhost:8080/"
        },
        "id": "hZ7PaHPvIQ8E",
        "outputId": "b1dd34df-75e4-4754-b1a7-3aa6aef434a3"
      },
      "execution_count": null,
      "outputs": [
        {
          "output_type": "execute_result",
          "data": {
            "text/plain": [
              "<tf.Tensor: shape=(2,), dtype=int32, numpy=array([5, 6], dtype=int32)>"
            ]
          },
          "metadata": {},
          "execution_count": 4
        }
      ]
    },
    {
      "cell_type": "code",
      "source": [
        "vector.ndim"
      ],
      "metadata": {
        "colab": {
          "base_uri": "https://localhost:8080/"
        },
        "id": "Bgn7bf3_IZcb",
        "outputId": "72d4d220-a623-4566-c1ad-94534b0a095a"
      },
      "execution_count": null,
      "outputs": [
        {
          "output_type": "execute_result",
          "data": {
            "text/plain": [
              "1"
            ]
          },
          "metadata": {},
          "execution_count": 5
        }
      ]
    },
    {
      "cell_type": "code",
      "source": [
        "matrix = tf.constant([[2,3], [4,5]])\n",
        "matrix"
      ],
      "metadata": {
        "colab": {
          "base_uri": "https://localhost:8080/"
        },
        "id": "wp6QsOB9IfHY",
        "outputId": "ec1d78ae-61ec-4812-966f-9e15e9a398d2"
      },
      "execution_count": null,
      "outputs": [
        {
          "output_type": "execute_result",
          "data": {
            "text/plain": [
              "<tf.Tensor: shape=(2, 2), dtype=int32, numpy=\n",
              "array([[2, 3],\n",
              "       [4, 5]], dtype=int32)>"
            ]
          },
          "metadata": {},
          "execution_count": 6
        }
      ]
    },
    {
      "cell_type": "code",
      "source": [
        "matrix.ndim"
      ],
      "metadata": {
        "colab": {
          "base_uri": "https://localhost:8080/"
        },
        "id": "yk9vWMP5IqJf",
        "outputId": "28b50968-2ad0-40e9-8dc1-765e3fe9ec46"
      },
      "execution_count": null,
      "outputs": [
        {
          "output_type": "execute_result",
          "data": {
            "text/plain": [
              "2"
            ]
          },
          "metadata": {},
          "execution_count": 7
        }
      ]
    },
    {
      "cell_type": "code",
      "source": [
        "matrix_2 = tf.constant([[20, 3.],\n",
        "                        [3, 4],\n",
        "                        [3, 54]], dtype = tf.float16)"
      ],
      "metadata": {
        "id": "zsE5UTggItza"
      },
      "execution_count": null,
      "outputs": []
    },
    {
      "cell_type": "code",
      "source": [
        "matrix_2"
      ],
      "metadata": {
        "colab": {
          "base_uri": "https://localhost:8080/"
        },
        "id": "FVG6wIYkJSYf",
        "outputId": "22cf7fa8-595a-4f2d-b52a-62f97e1d92e0"
      },
      "execution_count": null,
      "outputs": [
        {
          "output_type": "execute_result",
          "data": {
            "text/plain": [
              "<tf.Tensor: shape=(3, 2), dtype=float16, numpy=\n",
              "array([[20.,  3.],\n",
              "       [ 3.,  4.],\n",
              "       [ 3., 54.]], dtype=float16)>"
            ]
          },
          "metadata": {},
          "execution_count": 9
        }
      ]
    },
    {
      "cell_type": "code",
      "source": [
        "matrix_2.ndim"
      ],
      "metadata": {
        "colab": {
          "base_uri": "https://localhost:8080/"
        },
        "id": "EapYYHntJWnJ",
        "outputId": "75830bcf-346d-483f-a5eb-245e13149ec9"
      },
      "execution_count": null,
      "outputs": [
        {
          "output_type": "execute_result",
          "data": {
            "text/plain": [
              "2"
            ]
          },
          "metadata": {},
          "execution_count": 10
        }
      ]
    },
    {
      "cell_type": "code",
      "source": [
        "tensor = tf.constant([[[3,4,5],\n",
        "                       [4, 5,6]],\n",
        "                      [[3,4,5,],\n",
        "                      [45,5,6]],\n",
        "                      [[4,5,6],\n",
        "                       [4,5,6]]])"
      ],
      "metadata": {
        "id": "cLKxmV5ZJZVO"
      },
      "execution_count": null,
      "outputs": []
    },
    {
      "cell_type": "code",
      "source": [
        "tensor"
      ],
      "metadata": {
        "colab": {
          "base_uri": "https://localhost:8080/"
        },
        "id": "xANb-YpCKCqM",
        "outputId": "49d40d6f-b8cb-449c-cb1f-4a639fd937a1"
      },
      "execution_count": null,
      "outputs": [
        {
          "output_type": "execute_result",
          "data": {
            "text/plain": [
              "<tf.Tensor: shape=(3, 2, 3), dtype=int32, numpy=\n",
              "array([[[ 3,  4,  5],\n",
              "        [ 4,  5,  6]],\n",
              "\n",
              "       [[ 3,  4,  5],\n",
              "        [45,  5,  6]],\n",
              "\n",
              "       [[ 4,  5,  6],\n",
              "        [ 4,  5,  6]]], dtype=int32)>"
            ]
          },
          "metadata": {},
          "execution_count": 12
        }
      ]
    },
    {
      "cell_type": "code",
      "source": [
        "tensor_2 = tf.Variable([10, 7])\n",
        "tensor_2"
      ],
      "metadata": {
        "colab": {
          "base_uri": "https://localhost:8080/"
        },
        "id": "Ee7Xg9rJKDyR",
        "outputId": "5a57d825-6b24-487a-e447-6e79a5ad93fa"
      },
      "execution_count": null,
      "outputs": [
        {
          "output_type": "execute_result",
          "data": {
            "text/plain": [
              "<tf.Variable 'Variable:0' shape=(2,) dtype=int32, numpy=array([10,  7], dtype=int32)>"
            ]
          },
          "metadata": {},
          "execution_count": 13
        }
      ]
    },
    {
      "cell_type": "code",
      "source": [
        "tensor_2[0].assign(0)"
      ],
      "metadata": {
        "colab": {
          "base_uri": "https://localhost:8080/"
        },
        "id": "AYnNJCqlK-G2",
        "outputId": "bdf4332b-fa25-4d23-b5e8-ba29c6e6963f"
      },
      "execution_count": null,
      "outputs": [
        {
          "output_type": "execute_result",
          "data": {
            "text/plain": [
              "<tf.Variable 'UnreadVariable' shape=(2,) dtype=int32, numpy=array([0, 7], dtype=int32)>"
            ]
          },
          "metadata": {},
          "execution_count": 14
        }
      ]
    },
    {
      "cell_type": "code",
      "source": [
        "random_1 = tf.random.Generator.from_seed(42)\n",
        "random_1 = random_1.normal(shape = (3,2))\n",
        "random_1"
      ],
      "metadata": {
        "colab": {
          "base_uri": "https://localhost:8080/"
        },
        "id": "nXfUaNGULT3v",
        "outputId": "284909ea-fa76-468b-e30e-f774f7eaa19f"
      },
      "execution_count": null,
      "outputs": [
        {
          "output_type": "execute_result",
          "data": {
            "text/plain": [
              "<tf.Tensor: shape=(3, 2), dtype=float32, numpy=\n",
              "array([[-0.7565803 , -0.06854702],\n",
              "       [ 0.07595026, -1.2573844 ],\n",
              "       [-0.23193763, -1.8107855 ]], dtype=float32)>"
            ]
          },
          "metadata": {},
          "execution_count": 15
        }
      ]
    },
    {
      "cell_type": "code",
      "source": [
        "not_shuffled = tf.constant([[10, 4],\n",
        "                            [2, 4]])"
      ],
      "metadata": {
        "id": "WEkOT2g4W-8y"
      },
      "execution_count": null,
      "outputs": []
    },
    {
      "cell_type": "code",
      "source": [
        "tf.random.shuffle(not_shuffled)"
      ],
      "metadata": {
        "colab": {
          "base_uri": "https://localhost:8080/"
        },
        "id": "6igxQro4aiwZ",
        "outputId": "0349587e-0215-4e8e-e9dd-ad7034363aca"
      },
      "execution_count": null,
      "outputs": [
        {
          "output_type": "execute_result",
          "data": {
            "text/plain": [
              "<tf.Tensor: shape=(2, 2), dtype=int32, numpy=\n",
              "array([[10,  4],\n",
              "       [ 2,  4]], dtype=int32)>"
            ]
          },
          "metadata": {},
          "execution_count": 17
        }
      ]
    },
    {
      "cell_type": "code",
      "source": [
        "tf.ones(shape = (3,4))"
      ],
      "metadata": {
        "colab": {
          "base_uri": "https://localhost:8080/"
        },
        "id": "dA6rx5X7a2Uv",
        "outputId": "a81dc72c-8111-41fb-9884-05d4fe1460cf"
      },
      "execution_count": null,
      "outputs": [
        {
          "output_type": "execute_result",
          "data": {
            "text/plain": [
              "<tf.Tensor: shape=(3, 4), dtype=float32, numpy=\n",
              "array([[1., 1., 1., 1.],\n",
              "       [1., 1., 1., 1.],\n",
              "       [1., 1., 1., 1.]], dtype=float32)>"
            ]
          },
          "metadata": {},
          "execution_count": 18
        }
      ]
    },
    {
      "cell_type": "code",
      "source": [
        "tf.zeros(shape = (3,4))"
      ],
      "metadata": {
        "colab": {
          "base_uri": "https://localhost:8080/"
        },
        "id": "Bf0B8OmycsMe",
        "outputId": "b1275dc7-e034-4321-9752-fb41c40b6bde"
      },
      "execution_count": null,
      "outputs": [
        {
          "output_type": "execute_result",
          "data": {
            "text/plain": [
              "<tf.Tensor: shape=(3, 4), dtype=float32, numpy=\n",
              "array([[0., 0., 0., 0.],\n",
              "       [0., 0., 0., 0.],\n",
              "       [0., 0., 0., 0.]], dtype=float32)>"
            ]
          },
          "metadata": {},
          "execution_count": 19
        }
      ]
    },
    {
      "cell_type": "code",
      "source": [
        "import numpy as np"
      ],
      "metadata": {
        "id": "sl4a0IKUcvab"
      },
      "execution_count": null,
      "outputs": []
    },
    {
      "cell_type": "code",
      "source": [
        "array_A = np.array([3,4,6,3,5,5,6,7,3,45,])"
      ],
      "metadata": {
        "id": "tru3pc0MdONR"
      },
      "execution_count": null,
      "outputs": []
    },
    {
      "cell_type": "code",
      "source": [
        "array_A"
      ],
      "metadata": {
        "colab": {
          "base_uri": "https://localhost:8080/"
        },
        "id": "oNHAvM_9dSyr",
        "outputId": "85ae260a-4ea5-4ea9-9a6d-2636d36757f0"
      },
      "execution_count": null,
      "outputs": [
        {
          "output_type": "execute_result",
          "data": {
            "text/plain": [
              "array([ 3,  4,  6,  3,  5,  5,  6,  7,  3, 45])"
            ]
          },
          "metadata": {},
          "execution_count": 22
        }
      ]
    },
    {
      "cell_type": "code",
      "source": [
        "tensor_A = tf.constant(array_A)"
      ],
      "metadata": {
        "id": "HLQXh-RGdV7O"
      },
      "execution_count": null,
      "outputs": []
    },
    {
      "cell_type": "code",
      "source": [
        "tensor_A.shape"
      ],
      "metadata": {
        "colab": {
          "base_uri": "https://localhost:8080/"
        },
        "id": "X6eu2hO0dc0j",
        "outputId": "05ab0221-7202-4570-e4b1-2611e50f4288"
      },
      "execution_count": null,
      "outputs": [
        {
          "output_type": "execute_result",
          "data": {
            "text/plain": [
              "TensorShape([10])"
            ]
          },
          "metadata": {},
          "execution_count": 24
        }
      ]
    },
    {
      "cell_type": "code",
      "source": [
        "tf.size(tensor_A)"
      ],
      "metadata": {
        "colab": {
          "base_uri": "https://localhost:8080/"
        },
        "id": "96O8RzcP6hDO",
        "outputId": "e15fdaed-223e-4abf-b24d-fef84888d509"
      },
      "execution_count": null,
      "outputs": [
        {
          "output_type": "execute_result",
          "data": {
            "text/plain": [
              "<tf.Tensor: shape=(), dtype=int32, numpy=10>"
            ]
          },
          "metadata": {},
          "execution_count": 25
        }
      ]
    },
    {
      "cell_type": "code",
      "source": [
        "tensorB = tf.zeros(shape =[2,3,4,5])"
      ],
      "metadata": {
        "id": "9tRjiLKr6oZw"
      },
      "execution_count": null,
      "outputs": []
    },
    {
      "cell_type": "code",
      "source": [
        "tensorB"
      ],
      "metadata": {
        "colab": {
          "base_uri": "https://localhost:8080/"
        },
        "id": "YQmo9M8s7JAR",
        "outputId": "e3fa2eb5-5dff-41c4-d359-8654ae7c8564"
      },
      "execution_count": null,
      "outputs": [
        {
          "output_type": "execute_result",
          "data": {
            "text/plain": [
              "<tf.Tensor: shape=(2, 3, 4, 5), dtype=float32, numpy=\n",
              "array([[[[0., 0., 0., 0., 0.],\n",
              "         [0., 0., 0., 0., 0.],\n",
              "         [0., 0., 0., 0., 0.],\n",
              "         [0., 0., 0., 0., 0.]],\n",
              "\n",
              "        [[0., 0., 0., 0., 0.],\n",
              "         [0., 0., 0., 0., 0.],\n",
              "         [0., 0., 0., 0., 0.],\n",
              "         [0., 0., 0., 0., 0.]],\n",
              "\n",
              "        [[0., 0., 0., 0., 0.],\n",
              "         [0., 0., 0., 0., 0.],\n",
              "         [0., 0., 0., 0., 0.],\n",
              "         [0., 0., 0., 0., 0.]]],\n",
              "\n",
              "\n",
              "       [[[0., 0., 0., 0., 0.],\n",
              "         [0., 0., 0., 0., 0.],\n",
              "         [0., 0., 0., 0., 0.],\n",
              "         [0., 0., 0., 0., 0.]],\n",
              "\n",
              "        [[0., 0., 0., 0., 0.],\n",
              "         [0., 0., 0., 0., 0.],\n",
              "         [0., 0., 0., 0., 0.],\n",
              "         [0., 0., 0., 0., 0.]],\n",
              "\n",
              "        [[0., 0., 0., 0., 0.],\n",
              "         [0., 0., 0., 0., 0.],\n",
              "         [0., 0., 0., 0., 0.],\n",
              "         [0., 0., 0., 0., 0.]]]], dtype=float32)>"
            ]
          },
          "metadata": {},
          "execution_count": 27
        }
      ]
    },
    {
      "cell_type": "code",
      "source": [
        "tensorB.shape"
      ],
      "metadata": {
        "colab": {
          "base_uri": "https://localhost:8080/"
        },
        "id": "xAWIYmWr7Kpk",
        "outputId": "ad17143d-74ec-4c43-f9db-ea1b5975cc6c"
      },
      "execution_count": null,
      "outputs": [
        {
          "output_type": "execute_result",
          "data": {
            "text/plain": [
              "TensorShape([2, 3, 4, 5])"
            ]
          },
          "metadata": {},
          "execution_count": 28
        }
      ]
    },
    {
      "cell_type": "code",
      "source": [
        "#tensorB.numpy()"
      ],
      "metadata": {
        "id": "LXd0Y3bK7O1R"
      },
      "execution_count": null,
      "outputs": []
    },
    {
      "cell_type": "code",
      "source": [
        "# Nnew axis\n",
        "tensor_C = tensorB[..., tf.newaxis]"
      ],
      "metadata": {
        "id": "AlpXFkvm8T1u"
      },
      "execution_count": null,
      "outputs": []
    },
    {
      "cell_type": "code",
      "source": [
        "#tf.expand_dims(tensorB, axis = 3)"
      ],
      "metadata": {
        "id": "8wZMBicn_Dzj"
      },
      "execution_count": null,
      "outputs": []
    },
    {
      "cell_type": "code",
      "source": [
        "#tf.add(tensor_C, 20)"
      ],
      "metadata": {
        "id": "bnjIbR9k_Ei9"
      },
      "execution_count": null,
      "outputs": []
    },
    {
      "cell_type": "code",
      "source": [
        "tensor"
      ],
      "metadata": {
        "colab": {
          "base_uri": "https://localhost:8080/"
        },
        "id": "iFCjkK4W4o5-",
        "outputId": "b3314629-c112-408f-93b8-948256f1d1fe"
      },
      "execution_count": null,
      "outputs": [
        {
          "output_type": "execute_result",
          "data": {
            "text/plain": [
              "<tf.Tensor: shape=(3, 2, 3), dtype=int32, numpy=\n",
              "array([[[ 3,  4,  5],\n",
              "        [ 4,  5,  6]],\n",
              "\n",
              "       [[ 3,  4,  5],\n",
              "        [45,  5,  6]],\n",
              "\n",
              "       [[ 4,  5,  6],\n",
              "        [ 4,  5,  6]]], dtype=int32)>"
            ]
          },
          "metadata": {},
          "execution_count": 34
        }
      ]
    },
    {
      "cell_type": "code",
      "source": [
        "tf.transpose(tensor)"
      ],
      "metadata": {
        "colab": {
          "base_uri": "https://localhost:8080/"
        },
        "id": "_u9JyIkk4vWU",
        "outputId": "24e1949d-6d4c-46e1-c816-b86f509bcf43"
      },
      "execution_count": null,
      "outputs": [
        {
          "output_type": "execute_result",
          "data": {
            "text/plain": [
              "<tf.Tensor: shape=(3, 2, 3), dtype=int32, numpy=\n",
              "array([[[ 3,  3,  4],\n",
              "        [ 4, 45,  4]],\n",
              "\n",
              "       [[ 4,  4,  5],\n",
              "        [ 5,  5,  5]],\n",
              "\n",
              "       [[ 5,  5,  6],\n",
              "        [ 6,  6,  6]]], dtype=int32)>"
            ]
          },
          "metadata": {},
          "execution_count": 35
        }
      ]
    },
    {
      "cell_type": "code",
      "source": [
        "X = tf.Variable([[5,6, 6], [3, 8,8]])"
      ],
      "metadata": {
        "id": "dFK9NL1D4xtz"
      },
      "execution_count": null,
      "outputs": []
    },
    {
      "cell_type": "code",
      "source": [
        "X"
      ],
      "metadata": {
        "colab": {
          "base_uri": "https://localhost:8080/"
        },
        "id": "o5tK7oEH7TMo",
        "outputId": "69c4090b-f770-49dd-838b-eab0f071ad70"
      },
      "execution_count": null,
      "outputs": [
        {
          "output_type": "execute_result",
          "data": {
            "text/plain": [
              "<tf.Variable 'Variable:0' shape=(2, 3) dtype=int32, numpy=\n",
              "array([[5, 6, 6],\n",
              "       [3, 8, 8]], dtype=int32)>"
            ]
          },
          "metadata": {},
          "execution_count": 37
        }
      ]
    },
    {
      "cell_type": "code",
      "source": [
        "y = tf.Variable([[3,4,], [3,8], [5,1]])"
      ],
      "metadata": {
        "id": "dvWz1dga7YCY"
      },
      "execution_count": null,
      "outputs": []
    },
    {
      "cell_type": "code",
      "source": [
        "y"
      ],
      "metadata": {
        "colab": {
          "base_uri": "https://localhost:8080/"
        },
        "id": "dk2NOpev7hqI",
        "outputId": "1b49a482-a68f-438b-dfb5-2cb51a471010"
      },
      "execution_count": null,
      "outputs": [
        {
          "output_type": "execute_result",
          "data": {
            "text/plain": [
              "<tf.Variable 'Variable:0' shape=(3, 2) dtype=int32, numpy=\n",
              "array([[3, 4],\n",
              "       [3, 8],\n",
              "       [5, 1]], dtype=int32)>"
            ]
          },
          "metadata": {},
          "execution_count": 39
        }
      ]
    },
    {
      "cell_type": "code",
      "source": [
        "tf.matmul(X, y)"
      ],
      "metadata": {
        "colab": {
          "base_uri": "https://localhost:8080/"
        },
        "id": "qS0rmSUO7h-7",
        "outputId": "a61cfa5f-897b-4b1d-bb10-7f7f3c7bdf00"
      },
      "execution_count": null,
      "outputs": [
        {
          "output_type": "execute_result",
          "data": {
            "text/plain": [
              "<tf.Tensor: shape=(2, 2), dtype=int32, numpy=\n",
              "array([[63, 74],\n",
              "       [73, 84]], dtype=int32)>"
            ]
          },
          "metadata": {},
          "execution_count": 40
        }
      ]
    },
    {
      "cell_type": "code",
      "source": [
        "tf.tensordot(X, y, axes = 1)"
      ],
      "metadata": {
        "colab": {
          "base_uri": "https://localhost:8080/"
        },
        "id": "PqwZv2_h7ke1",
        "outputId": "54c9615c-b91f-4c08-c54f-d6e254c329a6"
      },
      "execution_count": null,
      "outputs": [
        {
          "output_type": "execute_result",
          "data": {
            "text/plain": [
              "<tf.Tensor: shape=(2, 2), dtype=int32, numpy=\n",
              "array([[63, 74],\n",
              "       [73, 84]], dtype=int32)>"
            ]
          },
          "metadata": {},
          "execution_count": 41
        }
      ]
    },
    {
      "cell_type": "code",
      "source": [
        "tf.transpose(X)"
      ],
      "metadata": {
        "colab": {
          "base_uri": "https://localhost:8080/"
        },
        "id": "F1W8LvG27nOo",
        "outputId": "9d6d78c0-c600-4f26-e76e-bb88eaf132e4"
      },
      "execution_count": null,
      "outputs": [
        {
          "output_type": "execute_result",
          "data": {
            "text/plain": [
              "<tf.Tensor: shape=(3, 2), dtype=int32, numpy=\n",
              "array([[5, 3],\n",
              "       [6, 8],\n",
              "       [6, 8]], dtype=int32)>"
            ]
          },
          "metadata": {},
          "execution_count": 42
        }
      ]
    },
    {
      "cell_type": "code",
      "source": [
        "D = tf.cast(X, dtype = tf.float16)"
      ],
      "metadata": {
        "id": "lJhXphn58BFD"
      },
      "execution_count": null,
      "outputs": []
    },
    {
      "cell_type": "code",
      "source": [
        "D"
      ],
      "metadata": {
        "colab": {
          "base_uri": "https://localhost:8080/"
        },
        "id": "7HVEO8ykQXoR",
        "outputId": "091945e0-08f5-4a15-db38-03483f6c9cdd"
      },
      "execution_count": null,
      "outputs": [
        {
          "output_type": "execute_result",
          "data": {
            "text/plain": [
              "<tf.Tensor: shape=(2, 3), dtype=float16, numpy=\n",
              "array([[5., 6., 6.],\n",
              "       [3., 8., 8.]], dtype=float16)>"
            ]
          },
          "metadata": {},
          "execution_count": 44
        }
      ]
    },
    {
      "cell_type": "code",
      "source": [
        "tf.reduce_max(D)"
      ],
      "metadata": {
        "colab": {
          "base_uri": "https://localhost:8080/"
        },
        "id": "ax09IXh7QYs6",
        "outputId": "d6df8954-ac9e-4d19-bdf6-7a30f2f4a3ef"
      },
      "execution_count": null,
      "outputs": [
        {
          "output_type": "execute_result",
          "data": {
            "text/plain": [
              "<tf.Tensor: shape=(), dtype=float16, numpy=8.0>"
            ]
          },
          "metadata": {},
          "execution_count": 45
        }
      ]
    },
    {
      "cell_type": "code",
      "source": [
        "tf.reduce_mean(X)"
      ],
      "metadata": {
        "colab": {
          "base_uri": "https://localhost:8080/"
        },
        "id": "17vZIV9AQ6Iz",
        "outputId": "50db697b-4b1b-402a-9d29-ef7860db6775"
      },
      "execution_count": null,
      "outputs": [
        {
          "output_type": "execute_result",
          "data": {
            "text/plain": [
              "<tf.Tensor: shape=(), dtype=int32, numpy=6>"
            ]
          },
          "metadata": {},
          "execution_count": 46
        }
      ]
    },
    {
      "cell_type": "code",
      "source": [
        "tf.reduce_mean(D)"
      ],
      "metadata": {
        "colab": {
          "base_uri": "https://localhost:8080/"
        },
        "id": "kVA6ss8WQ9PN",
        "outputId": "1674ecad-390f-437f-e771-bdb349d09c67"
      },
      "execution_count": null,
      "outputs": [
        {
          "output_type": "execute_result",
          "data": {
            "text/plain": [
              "<tf.Tensor: shape=(), dtype=float16, numpy=6.0>"
            ]
          },
          "metadata": {},
          "execution_count": 47
        }
      ]
    },
    {
      "cell_type": "code",
      "source": [
        "import tensorflow_probability as tfp"
      ],
      "metadata": {
        "id": "eHApeM9uQ-2D"
      },
      "execution_count": null,
      "outputs": []
    },
    {
      "cell_type": "code",
      "source": [
        "tfp.stats.variance(D)"
      ],
      "metadata": {
        "colab": {
          "base_uri": "https://localhost:8080/"
        },
        "id": "th1cbVniRh9x",
        "outputId": "41c22323-ec52-4918-e406-06f025e1d606"
      },
      "execution_count": null,
      "outputs": [
        {
          "output_type": "execute_result",
          "data": {
            "text/plain": [
              "<tf.Tensor: shape=(3,), dtype=float16, numpy=array([1., 1., 1.], dtype=float16)>"
            ]
          },
          "metadata": {},
          "execution_count": 49
        }
      ]
    },
    {
      "cell_type": "markdown",
      "source": [
        "positional min and max"
      ],
      "metadata": {
        "id": "s0DNThcMN5IG"
      }
    },
    {
      "cell_type": "code",
      "source": [
        "F = tf.random.uniform(shape = [50, 3])\n",
        "F"
      ],
      "metadata": {
        "colab": {
          "base_uri": "https://localhost:8080/"
        },
        "id": "rvj_fNPVRnWK",
        "outputId": "bb6fc9de-9794-41c6-808d-40173be7e333"
      },
      "execution_count": null,
      "outputs": [
        {
          "output_type": "execute_result",
          "data": {
            "text/plain": [
              "<tf.Tensor: shape=(50, 3), dtype=float32, numpy=\n",
              "array([[0.83002675, 0.9163941 , 0.01663744],\n",
              "       [0.534853  , 0.66892326, 0.501971  ],\n",
              "       [0.46022713, 0.45884466, 0.9301686 ],\n",
              "       [0.926631  , 0.0718298 , 0.02739346],\n",
              "       [0.25228715, 0.6477636 , 0.43978786],\n",
              "       [0.08782995, 0.37806547, 0.6123153 ],\n",
              "       [0.04042196, 0.17017317, 0.5013938 ],\n",
              "       [0.88436055, 0.05652916, 0.8595457 ],\n",
              "       [0.7042047 , 0.34247577, 0.5936111 ],\n",
              "       [0.87959206, 0.76052594, 0.7123718 ],\n",
              "       [0.5879581 , 0.99629354, 0.7034793 ],\n",
              "       [0.10119247, 0.9648411 , 0.5939785 ],\n",
              "       [0.1541642 , 0.26190186, 0.7834028 ],\n",
              "       [0.6446941 , 0.2902676 , 0.28010798],\n",
              "       [0.08578312, 0.43844295, 0.30063093],\n",
              "       [0.5231545 , 0.61871624, 0.5630834 ],\n",
              "       [0.12012422, 0.5767088 , 0.44850647],\n",
              "       [0.11445129, 0.72599685, 0.5446509 ],\n",
              "       [0.29606426, 0.7088038 , 0.60986495],\n",
              "       [0.15203118, 0.55962586, 0.82337093],\n",
              "       [0.19048572, 0.7445451 , 0.30109215],\n",
              "       [0.82795286, 0.14610183, 0.9426962 ],\n",
              "       [0.7801062 , 0.55672693, 0.4616456 ],\n",
              "       [0.06800067, 0.530733  , 0.3698045 ],\n",
              "       [0.21867955, 0.8799889 , 0.70352864],\n",
              "       [0.95545757, 0.24567151, 0.6387687 ],\n",
              "       [0.7150321 , 0.4847095 , 0.4771173 ],\n",
              "       [0.612707  , 0.8725778 , 0.10378671],\n",
              "       [0.4945575 , 0.7324668 , 0.31451023],\n",
              "       [0.08800316, 0.05283141, 0.30612862],\n",
              "       [0.15335464, 0.25509226, 0.2660787 ],\n",
              "       [0.20558715, 0.31188858, 0.43935025],\n",
              "       [0.3036456 , 0.75942266, 0.38506138],\n",
              "       [0.23360324, 0.7665808 , 0.28228498],\n",
              "       [0.14569855, 0.736727  , 0.47603512],\n",
              "       [0.10701096, 0.37089467, 0.3532393 ],\n",
              "       [0.9051912 , 0.42357743, 0.9044677 ],\n",
              "       [0.6838521 , 0.53935874, 0.6009284 ],\n",
              "       [0.11709321, 0.14805007, 0.4964701 ],\n",
              "       [0.2796514 , 0.17109025, 0.89404213],\n",
              "       [0.9602889 , 0.4852662 , 0.0413692 ],\n",
              "       [0.64082026, 0.37698925, 0.14693892],\n",
              "       [0.7826686 , 0.20662355, 0.32623446],\n",
              "       [0.929724  , 0.09246171, 0.08672464],\n",
              "       [0.29047167, 0.9930481 , 0.26734746],\n",
              "       [0.10355282, 0.6890626 , 0.23186338],\n",
              "       [0.1518364 , 0.50141287, 0.04602802],\n",
              "       [0.45736408, 0.6900759 , 0.5388789 ],\n",
              "       [0.54775274, 0.00298905, 0.7800988 ],\n",
              "       [0.9432689 , 0.15430391, 0.26486063]], dtype=float32)>"
            ]
          },
          "metadata": {},
          "execution_count": 52
        }
      ]
    },
    {
      "cell_type": "code",
      "source": [
        ""
      ],
      "metadata": {
        "id": "eeamHJCUuq2b"
      },
      "execution_count": null,
      "outputs": []
    },
    {
      "cell_type": "code",
      "source": [
        "tf.argmax(F)"
      ],
      "metadata": {
        "id": "T_TqNX3YR0F3",
        "colab": {
          "base_uri": "https://localhost:8080/"
        },
        "outputId": "c6db92c2-2cfe-428a-f606-badeda84267b"
      },
      "execution_count": null,
      "outputs": [
        {
          "output_type": "execute_result",
          "data": {
            "text/plain": [
              "<tf.Tensor: shape=(3,), dtype=int64, numpy=array([40, 10, 21])>"
            ]
          },
          "metadata": {},
          "execution_count": 53
        }
      ]
    },
    {
      "cell_type": "code",
      "source": [
        "tf.reduce_max(F)"
      ],
      "metadata": {
        "colab": {
          "base_uri": "https://localhost:8080/"
        },
        "id": "vk-_gNIgOMzf",
        "outputId": "f94bd55a-8791-4821-ced2-bcf4860d9832"
      },
      "execution_count": null,
      "outputs": [
        {
          "output_type": "execute_result",
          "data": {
            "text/plain": [
              "<tf.Tensor: shape=(), dtype=float32, numpy=0.99629354>"
            ]
          },
          "metadata": {},
          "execution_count": 55
        }
      ]
    },
    {
      "cell_type": "code",
      "source": [
        "tf.config.list_physical_devices()"
      ],
      "metadata": {
        "colab": {
          "base_uri": "https://localhost:8080/"
        },
        "id": "1TbWxY7MOW03",
        "outputId": "62154629-7173-46c7-a6d9-6b6614a91c95"
      },
      "execution_count": null,
      "outputs": [
        {
          "output_type": "execute_result",
          "data": {
            "text/plain": [
              "[PhysicalDevice(name='/physical_device:CPU:0', device_type='CPU')]"
            ]
          },
          "metadata": {},
          "execution_count": 58
        }
      ]
    },
    {
      "cell_type": "code",
      "source": [
        ""
      ],
      "metadata": {
        "id": "txmv3BewW7Kk"
      },
      "execution_count": null,
      "outputs": []
    }
  ]
}