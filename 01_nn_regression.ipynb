{
  "nbformat": 4,
  "nbformat_minor": 0,
  "metadata": {
    "colab": {
      "name": "01_nn_regression.ipynb",
      "provenance": [],
      "collapsed_sections": []
    },
    "kernelspec": {
      "name": "python3",
      "display_name": "Python 3"
    },
    "language_info": {
      "name": "python"
    }
  },
  "cells": [
    {
      "cell_type": "markdown",
      "source": [
        "# Regression with Neural Networks in Tensorflow"
      ],
      "metadata": {
        "id": "IZWAh3wFutfM"
      }
    },
    {
      "cell_type": "code",
      "source": [
        "import tensorflow as tf\n",
        "print(tf.__version__)"
      ],
      "metadata": {
        "colab": {
          "base_uri": "https://localhost:8080/"
        },
        "id": "mGuJOby3u73x",
        "outputId": "cd7be420-6db5-4eed-88a7-4be6a5d28204"
      },
      "execution_count": 1,
      "outputs": [
        {
          "output_type": "stream",
          "name": "stdout",
          "text": [
            "2.8.0\n"
          ]
        }
      ]
    },
    {
      "cell_type": "code",
      "source": [
        "house_info = tf.constant(['bedroom', 'bathroom', 'garage'])\n",
        "house_price = tf.constant([969699])"
      ],
      "metadata": {
        "id": "t460fpgkvOQG"
      },
      "execution_count": 2,
      "outputs": []
    },
    {
      "cell_type": "code",
      "source": [
        "# 1. Create\n",
        "model = tf.keras.Sequential([\n",
        "    tf.keras.layers.Dense(1)\n",
        "])\n",
        "\n",
        "# 2. Compile\n",
        "model.compile(loss = tf.keras.losses.mae, optimizer = tf.keras.optimizers.SGD(), metrics = ['mae'])"
      ],
      "metadata": {
        "id": "pAh7fopYwjVM"
      },
      "execution_count": 3,
      "outputs": []
    },
    {
      "cell_type": "code",
      "source": [
        "X = tf.constant([[3,4,5],\n",
        "                 [5,6,7],\n",
        "                 [2,7,5]])"
      ],
      "metadata": {
        "id": "TuRCE7SorQh6"
      },
      "execution_count": 4,
      "outputs": []
    },
    {
      "cell_type": "code",
      "source": [
        "X"
      ],
      "metadata": {
        "colab": {
          "base_uri": "https://localhost:8080/"
        },
        "id": "B_WDJPmprWCg",
        "outputId": "0e38d178-b082-4278-a02c-bae281fca244"
      },
      "execution_count": 5,
      "outputs": [
        {
          "output_type": "execute_result",
          "data": {
            "text/plain": [
              "<tf.Tensor: shape=(3, 3), dtype=int32, numpy=\n",
              "array([[3, 4, 5],\n",
              "       [5, 6, 7],\n",
              "       [2, 7, 5]], dtype=int32)>"
            ]
          },
          "metadata": {},
          "execution_count": 5
        }
      ]
    },
    {
      "cell_type": "code",
      "source": [
        "B = tf.math.add(X, 10)"
      ],
      "metadata": {
        "id": "Iat4ZtwKrXVN"
      },
      "execution_count": 6,
      "outputs": []
    },
    {
      "cell_type": "code",
      "source": [
        "y = tf.constant([3, 4, 6])"
      ],
      "metadata": {
        "id": "XFH692fgrhWI"
      },
      "execution_count": 7,
      "outputs": []
    },
    {
      "cell_type": "code",
      "source": [
        "y"
      ],
      "metadata": {
        "colab": {
          "base_uri": "https://localhost:8080/"
        },
        "id": "uUmyBc7arqhv",
        "outputId": "b61144d0-eeac-482c-ba4d-e31a4ff35989"
      },
      "execution_count": 8,
      "outputs": [
        {
          "output_type": "execute_result",
          "data": {
            "text/plain": [
              "<tf.Tensor: shape=(3,), dtype=int32, numpy=array([3, 4, 6], dtype=int32)>"
            ]
          },
          "metadata": {},
          "execution_count": 8
        }
      ]
    },
    {
      "cell_type": "code",
      "source": [
        "# 3. Fit\n",
        "model.fit(X, y, epochs = 5)"
      ],
      "metadata": {
        "colab": {
          "base_uri": "https://localhost:8080/"
        },
        "id": "X78NQcbIbdD9",
        "outputId": "2abacf61-486c-45b6-ca48-00ec6f2ec4ef"
      },
      "execution_count": 9,
      "outputs": [
        {
          "output_type": "stream",
          "name": "stdout",
          "text": [
            "Epoch 1/5\n",
            "1/1 [==============================] - 1s 584ms/step - loss: 1.3067 - mae: 1.3067\n",
            "Epoch 2/5\n",
            "1/1 [==============================] - 0s 11ms/step - loss: 1.2012 - mae: 1.2012\n",
            "Epoch 3/5\n",
            "1/1 [==============================] - 0s 10ms/step - loss: 1.0956 - mae: 1.0956\n",
            "Epoch 4/5\n",
            "1/1 [==============================] - 0s 8ms/step - loss: 0.9901 - mae: 0.9901\n",
            "Epoch 5/5\n",
            "1/1 [==============================] - 0s 7ms/step - loss: 0.8950 - mae: 0.8950\n"
          ]
        },
        {
          "output_type": "execute_result",
          "data": {
            "text/plain": [
              "<keras.callbacks.History at 0x7f50e8e988d0>"
            ]
          },
          "metadata": {},
          "execution_count": 9
        }
      ]
    },
    {
      "cell_type": "markdown",
      "source": [
        "#### Trying to improve performance"
      ],
      "metadata": {
        "id": "CRMpX-5GtQAy"
      }
    },
    {
      "cell_type": "markdown",
      "source": [
        "Trying various techniwues to improve performance such as number of layers and epochs"
      ],
      "metadata": {
        "id": "tZXhDcTstWUj"
      }
    },
    {
      "cell_type": "code",
      "source": [
        "# 1. Create"
      ],
      "metadata": {
        "id": "WTdGEESHtCJB"
      },
      "execution_count": 10,
      "outputs": []
    },
    {
      "cell_type": "code",
      "source": [
        "model = tf.keras.models.Sequential()"
      ],
      "metadata": {
        "id": "vjxbhKLdb1Hl"
      },
      "execution_count": 11,
      "outputs": []
    },
    {
      "cell_type": "code",
      "source": [
        "model.add(tf.keras.layers.Dense(100, activation = 'relu'))\n",
        "model.add(tf.keras.layers.Dense(100, activation = 'relu'))\n",
        "model.add(tf.keras.layers.Dense(100, activation = 'relu'))\n",
        "model.add(tf.keras.layers.Dense(1))\n",
        "\n"
      ],
      "metadata": {
        "id": "BdsifTFPs3pO"
      },
      "execution_count": 12,
      "outputs": []
    },
    {
      "cell_type": "code",
      "source": [
        "# 2. Compile"
      ],
      "metadata": {
        "id": "ZuZnBXmCtEcU"
      },
      "execution_count": 13,
      "outputs": []
    },
    {
      "cell_type": "code",
      "source": [
        "model.compile(loss = tf.keras.losses.mae, optimizer = tf.keras.optimizers.SGD(), metrics = ['mae'])"
      ],
      "metadata": {
        "id": "RINlPpzUs-vE"
      },
      "execution_count": 14,
      "outputs": []
    },
    {
      "cell_type": "code",
      "source": [
        "# 3. Fit"
      ],
      "metadata": {
        "id": "L-Q2T7sQtBZS"
      },
      "execution_count": 15,
      "outputs": []
    },
    {
      "cell_type": "code",
      "source": [
        "model.fit(X, y, epochs = 100)"
      ],
      "metadata": {
        "colab": {
          "base_uri": "https://localhost:8080/"
        },
        "id": "BkIXxcbJtKOP",
        "outputId": "7db7f9d1-2f30-42b9-81c1-fb961adc040c"
      },
      "execution_count": 16,
      "outputs": [
        {
          "output_type": "stream",
          "name": "stdout",
          "text": [
            "Epoch 1/100\n",
            "1/1 [==============================] - 0s 464ms/step - loss: 4.6137 - mae: 4.6137\n",
            "Epoch 2/100\n",
            "1/1 [==============================] - 0s 10ms/step - loss: 3.7731 - mae: 3.7731\n",
            "Epoch 3/100\n",
            "1/1 [==============================] - 0s 8ms/step - loss: 3.0297 - mae: 3.0297\n",
            "Epoch 4/100\n",
            "1/1 [==============================] - 0s 7ms/step - loss: 2.2221 - mae: 2.2221\n",
            "Epoch 5/100\n",
            "1/1 [==============================] - 0s 10ms/step - loss: 1.2793 - mae: 1.2793\n",
            "Epoch 6/100\n",
            "1/1 [==============================] - 0s 11ms/step - loss: 1.1091 - mae: 1.1091\n",
            "Epoch 7/100\n",
            "1/1 [==============================] - 0s 11ms/step - loss: 0.8724 - mae: 0.8724\n",
            "Epoch 8/100\n",
            "1/1 [==============================] - 0s 12ms/step - loss: 1.0731 - mae: 1.0731\n",
            "Epoch 9/100\n",
            "1/1 [==============================] - 0s 9ms/step - loss: 1.1450 - mae: 1.1450\n",
            "Epoch 10/100\n",
            "1/1 [==============================] - 0s 9ms/step - loss: 0.8891 - mae: 0.8891\n",
            "Epoch 11/100\n",
            "1/1 [==============================] - 0s 9ms/step - loss: 0.8185 - mae: 0.8185\n",
            "Epoch 12/100\n",
            "1/1 [==============================] - 0s 12ms/step - loss: 1.1781 - mae: 1.1781\n",
            "Epoch 13/100\n",
            "1/1 [==============================] - 0s 10ms/step - loss: 0.8986 - mae: 0.8986\n",
            "Epoch 14/100\n",
            "1/1 [==============================] - 0s 8ms/step - loss: 0.7091 - mae: 0.7091\n",
            "Epoch 15/100\n",
            "1/1 [==============================] - 0s 8ms/step - loss: 0.7799 - mae: 0.7799\n",
            "Epoch 16/100\n",
            "1/1 [==============================] - 0s 8ms/step - loss: 0.7525 - mae: 0.7525\n",
            "Epoch 17/100\n",
            "1/1 [==============================] - 0s 8ms/step - loss: 1.1033 - mae: 1.1033\n",
            "Epoch 18/100\n",
            "1/1 [==============================] - 0s 8ms/step - loss: 0.8332 - mae: 0.8332\n",
            "Epoch 19/100\n",
            "1/1 [==============================] - 0s 9ms/step - loss: 0.6333 - mae: 0.6333\n",
            "Epoch 20/100\n",
            "1/1 [==============================] - 0s 8ms/step - loss: 0.8946 - mae: 0.8946\n",
            "Epoch 21/100\n",
            "1/1 [==============================] - 0s 9ms/step - loss: 0.9488 - mae: 0.9488\n",
            "Epoch 22/100\n",
            "1/1 [==============================] - 0s 15ms/step - loss: 0.7048 - mae: 0.7048\n",
            "Epoch 23/100\n",
            "1/1 [==============================] - 0s 11ms/step - loss: 0.5762 - mae: 0.5762\n",
            "Epoch 24/100\n",
            "1/1 [==============================] - 0s 12ms/step - loss: 0.6052 - mae: 0.6052\n",
            "Epoch 25/100\n",
            "1/1 [==============================] - 0s 17ms/step - loss: 0.6724 - mae: 0.6724\n",
            "Epoch 26/100\n",
            "1/1 [==============================] - 0s 17ms/step - loss: 0.9312 - mae: 0.9312\n",
            "Epoch 27/100\n",
            "1/1 [==============================] - 0s 14ms/step - loss: 0.6617 - mae: 0.6617\n",
            "Epoch 28/100\n",
            "1/1 [==============================] - 0s 10ms/step - loss: 0.4545 - mae: 0.4545\n",
            "Epoch 29/100\n",
            "1/1 [==============================] - 0s 13ms/step - loss: 0.7688 - mae: 0.7688\n",
            "Epoch 30/100\n",
            "1/1 [==============================] - 0s 7ms/step - loss: 0.8993 - mae: 0.8993\n",
            "Epoch 31/100\n",
            "1/1 [==============================] - 0s 12ms/step - loss: 0.9915 - mae: 0.9915\n",
            "Epoch 32/100\n",
            "1/1 [==============================] - 0s 13ms/step - loss: 0.7138 - mae: 0.7138\n",
            "Epoch 33/100\n",
            "1/1 [==============================] - 0s 23ms/step - loss: 0.4620 - mae: 0.4620\n",
            "Epoch 34/100\n",
            "1/1 [==============================] - 0s 6ms/step - loss: 0.6186 - mae: 0.6186\n",
            "Epoch 35/100\n",
            "1/1 [==============================] - 0s 8ms/step - loss: 1.0849 - mae: 1.0849\n",
            "Epoch 36/100\n",
            "1/1 [==============================] - 0s 10ms/step - loss: 0.8354 - mae: 0.8354\n",
            "Epoch 37/100\n",
            "1/1 [==============================] - 0s 17ms/step - loss: 0.7373 - mae: 0.7373\n",
            "Epoch 38/100\n",
            "1/1 [==============================] - 0s 13ms/step - loss: 0.4646 - mae: 0.4646\n",
            "Epoch 39/100\n",
            "1/1 [==============================] - 0s 14ms/step - loss: 0.4643 - mae: 0.4643\n",
            "Epoch 40/100\n",
            "1/1 [==============================] - 0s 24ms/step - loss: 1.2847 - mae: 1.2847\n",
            "Epoch 41/100\n",
            "1/1 [==============================] - 0s 23ms/step - loss: 0.6851 - mae: 0.6851\n",
            "Epoch 42/100\n",
            "1/1 [==============================] - 0s 6ms/step - loss: 0.8336 - mae: 0.8336\n",
            "Epoch 43/100\n",
            "1/1 [==============================] - 0s 6ms/step - loss: 0.9314 - mae: 0.9314\n",
            "Epoch 44/100\n",
            "1/1 [==============================] - 0s 9ms/step - loss: 0.6291 - mae: 0.6291\n",
            "Epoch 45/100\n",
            "1/1 [==============================] - 0s 15ms/step - loss: 0.3631 - mae: 0.3631\n",
            "Epoch 46/100\n",
            "1/1 [==============================] - 0s 16ms/step - loss: 0.6201 - mae: 0.6201\n",
            "Epoch 47/100\n",
            "1/1 [==============================] - 0s 11ms/step - loss: 1.0183 - mae: 1.0183\n",
            "Epoch 48/100\n",
            "1/1 [==============================] - 0s 14ms/step - loss: 0.8258 - mae: 0.8258\n",
            "Epoch 49/100\n",
            "1/1 [==============================] - 0s 18ms/step - loss: 0.6025 - mae: 0.6025\n",
            "Epoch 50/100\n",
            "1/1 [==============================] - 0s 18ms/step - loss: 1.0387 - mae: 1.0387\n",
            "Epoch 51/100\n",
            "1/1 [==============================] - 0s 37ms/step - loss: 0.5247 - mae: 0.5247\n",
            "Epoch 52/100\n",
            "1/1 [==============================] - 0s 28ms/step - loss: 0.3083 - mae: 0.3083\n",
            "Epoch 53/100\n",
            "1/1 [==============================] - 0s 9ms/step - loss: 0.3425 - mae: 0.3425\n",
            "Epoch 54/100\n",
            "1/1 [==============================] - 0s 23ms/step - loss: 0.4216 - mae: 0.4216\n",
            "Epoch 55/100\n",
            "1/1 [==============================] - 0s 7ms/step - loss: 1.3295 - mae: 1.3295\n",
            "Epoch 56/100\n",
            "1/1 [==============================] - 0s 7ms/step - loss: 0.6593 - mae: 0.6593\n",
            "Epoch 57/100\n",
            "1/1 [==============================] - 0s 10ms/step - loss: 0.8572 - mae: 0.8572\n",
            "Epoch 58/100\n",
            "1/1 [==============================] - 0s 17ms/step - loss: 0.8950 - mae: 0.8950\n",
            "Epoch 59/100\n",
            "1/1 [==============================] - 0s 18ms/step - loss: 0.4933 - mae: 0.4933\n",
            "Epoch 60/100\n",
            "1/1 [==============================] - 0s 14ms/step - loss: 0.2384 - mae: 0.2384\n",
            "Epoch 61/100\n",
            "1/1 [==============================] - 0s 34ms/step - loss: 0.5233 - mae: 0.5233\n",
            "Epoch 62/100\n",
            "1/1 [==============================] - 0s 12ms/step - loss: 1.1579 - mae: 1.1579\n",
            "Epoch 63/100\n",
            "1/1 [==============================] - 0s 14ms/step - loss: 0.7457 - mae: 0.7457\n",
            "Epoch 64/100\n",
            "1/1 [==============================] - 0s 23ms/step - loss: 0.7087 - mae: 0.7087\n",
            "Epoch 65/100\n",
            "1/1 [==============================] - 0s 11ms/step - loss: 0.9613 - mae: 0.9613\n",
            "Epoch 66/100\n",
            "1/1 [==============================] - 0s 13ms/step - loss: 0.3898 - mae: 0.3898\n",
            "Epoch 67/100\n",
            "1/1 [==============================] - 0s 12ms/step - loss: 0.1925 - mae: 0.1925\n",
            "Epoch 68/100\n",
            "1/1 [==============================] - 0s 17ms/step - loss: 0.2396 - mae: 0.2396\n",
            "Epoch 69/100\n",
            "1/1 [==============================] - 0s 12ms/step - loss: 1.3736 - mae: 1.3736\n",
            "Epoch 70/100\n",
            "1/1 [==============================] - 0s 17ms/step - loss: 0.1801 - mae: 0.1801\n",
            "Epoch 71/100\n",
            "1/1 [==============================] - 0s 17ms/step - loss: 0.5283 - mae: 0.5283\n",
            "Epoch 72/100\n",
            "1/1 [==============================] - 0s 15ms/step - loss: 1.0682 - mae: 1.0682\n",
            "Epoch 73/100\n",
            "1/1 [==============================] - 0s 13ms/step - loss: 0.7701 - mae: 0.7701\n",
            "Epoch 74/100\n",
            "1/1 [==============================] - 0s 13ms/step - loss: 0.6206 - mae: 0.6206\n",
            "Epoch 75/100\n",
            "1/1 [==============================] - 0s 15ms/step - loss: 0.9900 - mae: 0.9900\n",
            "Epoch 76/100\n",
            "1/1 [==============================] - 0s 14ms/step - loss: 0.2967 - mae: 0.2967\n",
            "Epoch 77/100\n",
            "1/1 [==============================] - 0s 18ms/step - loss: 0.2262 - mae: 0.2262\n",
            "Epoch 78/100\n",
            "1/1 [==============================] - 0s 13ms/step - loss: 1.3970 - mae: 1.3970\n",
            "Epoch 79/100\n",
            "1/1 [==============================] - 0s 28ms/step - loss: 0.5147 - mae: 0.5147\n",
            "Epoch 80/100\n",
            "1/1 [==============================] - 0s 10ms/step - loss: 0.9090 - mae: 0.9090\n",
            "Epoch 81/100\n",
            "1/1 [==============================] - 0s 7ms/step - loss: 0.7874 - mae: 0.7874\n",
            "Epoch 82/100\n",
            "1/1 [==============================] - 0s 6ms/step - loss: 0.5247 - mae: 0.5247\n",
            "Epoch 83/100\n",
            "1/1 [==============================] - 0s 12ms/step - loss: 0.9859 - mae: 0.9859\n",
            "Epoch 84/100\n",
            "1/1 [==============================] - 0s 25ms/step - loss: 0.2879 - mae: 0.2879\n",
            "Epoch 85/100\n",
            "1/1 [==============================] - 0s 14ms/step - loss: 0.2041 - mae: 0.2041\n",
            "Epoch 86/100\n",
            "1/1 [==============================] - 0s 11ms/step - loss: 1.3714 - mae: 1.3714\n",
            "Epoch 87/100\n",
            "1/1 [==============================] - 0s 11ms/step - loss: 0.4835 - mae: 0.4835\n",
            "Epoch 88/100\n",
            "1/1 [==============================] - 0s 10ms/step - loss: 0.9040 - mae: 0.9040\n",
            "Epoch 89/100\n",
            "1/1 [==============================] - 0s 14ms/step - loss: 0.7193 - mae: 0.7193\n",
            "Epoch 90/100\n",
            "1/1 [==============================] - 0s 8ms/step - loss: 0.5457 - mae: 0.5457\n",
            "Epoch 91/100\n",
            "1/1 [==============================] - 0s 13ms/step - loss: 0.9306 - mae: 0.9306\n",
            "Epoch 92/100\n",
            "1/1 [==============================] - 0s 6ms/step - loss: 0.2839 - mae: 0.2839\n",
            "Epoch 93/100\n",
            "1/1 [==============================] - 0s 13ms/step - loss: 0.1672 - mae: 0.1672\n",
            "Epoch 94/100\n",
            "1/1 [==============================] - 0s 13ms/step - loss: 1.3769 - mae: 1.3769\n",
            "Epoch 95/100\n",
            "1/1 [==============================] - 0s 8ms/step - loss: 0.4611 - mae: 0.4611\n",
            "Epoch 96/100\n",
            "1/1 [==============================] - 0s 17ms/step - loss: 0.9252 - mae: 0.9252\n",
            "Epoch 97/100\n",
            "1/1 [==============================] - 0s 16ms/step - loss: 0.6904 - mae: 0.6904\n",
            "Epoch 98/100\n",
            "1/1 [==============================] - 0s 17ms/step - loss: 0.5683 - mae: 0.5683\n",
            "Epoch 99/100\n",
            "1/1 [==============================] - 0s 27ms/step - loss: 0.8970 - mae: 0.8970\n",
            "Epoch 100/100\n",
            "1/1 [==============================] - 0s 12ms/step - loss: 0.2871 - mae: 0.2871\n"
          ]
        },
        {
          "output_type": "execute_result",
          "data": {
            "text/plain": [
              "<keras.callbacks.History at 0x7f50e7475e50>"
            ]
          },
          "metadata": {},
          "execution_count": 16
        }
      ]
    },
    {
      "cell_type": "markdown",
      "source": [
        "Further model improving"
      ],
      "metadata": {
        "id": "FkyaL2awxHHJ"
      }
    },
    {
      "cell_type": "code",
      "source": [
        "X = tf.range(-100, 100, 4)\n",
        "X"
      ],
      "metadata": {
        "colab": {
          "base_uri": "https://localhost:8080/"
        },
        "id": "o7yqz2x5tUV6",
        "outputId": "acd4c810-af07-49c5-8949-e28b56cecf25"
      },
      "execution_count": 17,
      "outputs": [
        {
          "output_type": "execute_result",
          "data": {
            "text/plain": [
              "<tf.Tensor: shape=(50,), dtype=int32, numpy=\n",
              "array([-100,  -96,  -92,  -88,  -84,  -80,  -76,  -72,  -68,  -64,  -60,\n",
              "        -56,  -52,  -48,  -44,  -40,  -36,  -32,  -28,  -24,  -20,  -16,\n",
              "        -12,   -8,   -4,    0,    4,    8,   12,   16,   20,   24,   28,\n",
              "         32,   36,   40,   44,   48,   52,   56,   60,   64,   68,   72,\n",
              "         76,   80,   84,   88,   92,   96], dtype=int32)>"
            ]
          },
          "metadata": {},
          "execution_count": 17
        }
      ]
    },
    {
      "cell_type": "code",
      "source": [
        "y = X + 10"
      ],
      "metadata": {
        "id": "fVzpcptMxNul"
      },
      "execution_count": 18,
      "outputs": []
    },
    {
      "cell_type": "code",
      "source": [
        "y"
      ],
      "metadata": {
        "colab": {
          "base_uri": "https://localhost:8080/"
        },
        "id": "zp6CVjMoxQK4",
        "outputId": "be01a216-eed9-4ced-c24d-6995be24136a"
      },
      "execution_count": 19,
      "outputs": [
        {
          "output_type": "execute_result",
          "data": {
            "text/plain": [
              "<tf.Tensor: shape=(50,), dtype=int32, numpy=\n",
              "array([-90, -86, -82, -78, -74, -70, -66, -62, -58, -54, -50, -46, -42,\n",
              "       -38, -34, -30, -26, -22, -18, -14, -10,  -6,  -2,   2,   6,  10,\n",
              "        14,  18,  22,  26,  30,  34,  38,  42,  46,  50,  54,  58,  62,\n",
              "        66,  70,  74,  78,  82,  86,  90,  94,  98, 102, 106], dtype=int32)>"
            ]
          },
          "metadata": {},
          "execution_count": 19
        }
      ]
    },
    {
      "cell_type": "code",
      "source": [
        "import matplotlib.pyplot as plt"
      ],
      "metadata": {
        "id": "c6ETXwPsxQrg"
      },
      "execution_count": 20,
      "outputs": []
    },
    {
      "cell_type": "code",
      "source": [
        "plt.scatter(X, y)"
      ],
      "metadata": {
        "colab": {
          "base_uri": "https://localhost:8080/",
          "height": 282
        },
        "id": "_C4DHF6pxZOp",
        "outputId": "7c78c1f4-31a1-44c9-c021-9eb27fbb77d8"
      },
      "execution_count": 21,
      "outputs": [
        {
          "output_type": "execute_result",
          "data": {
            "text/plain": [
              "<matplotlib.collections.PathCollection at 0x7f50e8830750>"
            ]
          },
          "metadata": {},
          "execution_count": 21
        },
        {
          "output_type": "display_data",
          "data": {
            "text/plain": [
              "<Figure size 432x288 with 1 Axes>"
            ],
            "image/png": "[encoded data removed]"
          },
          "metadata": {
            "needs_background": "light"
          }
        }
      ]
    },
    {
      "cell_type": "code",
      "source": [
        "len(X)"
      ],
      "metadata": {
        "colab": {
          "base_uri": "https://localhost:8080/"
        },
        "id": "Hcy8DPphxaYP",
        "outputId": "9e456d6f-fe0d-4034-ef4d-6dd96c56afe6"
      },
      "execution_count": 22,
      "outputs": [
        {
          "output_type": "execute_result",
          "data": {
            "text/plain": [
              "50"
            ]
          },
          "metadata": {},
          "execution_count": 22
        }
      ]
    },
    {
      "cell_type": "markdown",
      "source": [
        "split up into testing and training"
      ],
      "metadata": {
        "id": "ah1gdUodZ2ep"
      }
    },
    {
      "cell_type": "code",
      "source": [
        "X_train, X_test, y_train, y_test = X[:40], X[40:], y[:40], y[40:] # 80/20 split"
      ],
      "metadata": {
        "id": "v5jX5GDJZ5dz"
      },
      "execution_count": 23,
      "outputs": []
    },
    {
      "cell_type": "code",
      "source": [
        "len(X_train)"
      ],
      "metadata": {
        "colab": {
          "base_uri": "https://localhost:8080/"
        },
        "id": "i85EX7k7aHJ_",
        "outputId": "e59eb00b-8b85-4125-f344-893f95e54990"
      },
      "execution_count": 24,
      "outputs": [
        {
          "output_type": "execute_result",
          "data": {
            "text/plain": [
              "40"
            ]
          },
          "metadata": {},
          "execution_count": 24
        }
      ]
    },
    {
      "cell_type": "code",
      "source": [
        "plt.scatter(X_train, y_train)\n",
        "plt.scatter(X_test, y_test)\n",
        "plt.show()"
      ],
      "metadata": {
        "colab": {
          "base_uri": "https://localhost:8080/",
          "height": 265
        },
        "id": "Mde3E0jUid7G",
        "outputId": "0a2a08a3-4cf2-4bbe-a932-539ebfcc0bbc"
      },
      "execution_count": 25,
      "outputs": [
        {
          "output_type": "display_data",
          "data": {
            "text/plain": [
              "<Figure size 432x288 with 1 Axes>"
            ],
            "image/png": "[encoded data removed]"
          },
          "metadata": {
            "needs_background": "light"
          }
        }
      ]
    },
    {
      "cell_type": "code",
      "source": [
        "# 1. Create Model\n",
        "model = tf.keras.Sequential([\n",
        "              tf.keras.layers.Dense(1, input_shape = [1]),\n",
        "              tf.keras.layers.Dense(10),              \n",
        "              tf.keras.layers.Dense(1)\n",
        "])\n",
        "\n",
        "# 2. Compile \n",
        "model.compile(loss = tf.keras.losses.mae, optimizer = tf.keras.optimizers.SGD(), metrics = ['mae'])"
      ],
      "metadata": {
        "id": "v3pMANbCiokg"
      },
      "execution_count": 26,
      "outputs": []
    },
    {
      "cell_type": "code",
      "source": [
        "model.build()"
      ],
      "metadata": {
        "id": "sr1B7WCZjx_j"
      },
      "execution_count": 27,
      "outputs": []
    },
    {
      "cell_type": "code",
      "source": [
        "model.summary()"
      ],
      "metadata": {
        "colab": {
          "base_uri": "https://localhost:8080/"
        },
        "id": "gqmT2k_Ljwp5",
        "outputId": "c939eea8-e77c-4a82-a89b-8cadfe671834"
      },
      "execution_count": 28,
      "outputs": [
        {
          "output_type": "stream",
          "name": "stdout",
          "text": [
            "Model: \"sequential_2\"\n",
            "_________________________________________________________________\n",
            " Layer (type)                Output Shape              Param #   \n",
            "=================================================================\n",
            " dense_5 (Dense)             (None, 1)                 2         \n",
            "                                                                 \n",
            " dense_6 (Dense)             (None, 10)                20        \n",
            "                                                                 \n",
            " dense_7 (Dense)             (None, 1)                 11        \n",
            "                                                                 \n",
            "=================================================================\n",
            "Total params: 33\n",
            "Trainable params: 33\n",
            "Non-trainable params: 0\n",
            "_________________________________________________________________\n"
          ]
        }
      ]
    },
    {
      "cell_type": "code",
      "source": [
        "model.fit(X_train, y_train, epochs = 50)"
      ],
      "metadata": {
        "colab": {
          "base_uri": "https://localhost:8080/"
        },
        "id": "PoAgfAn0jzte",
        "outputId": "47e45418-ac52-4f55-94e2-53dd969b42f5"
      },
      "execution_count": 29,
      "outputs": [
        {
          "output_type": "stream",
          "name": "stdout",
          "text": [
            "Epoch 1/50\n",
            "2/2 [==============================] - 1s 10ms/step - loss: 27.5229 - mae: 27.5229\n",
            "Epoch 2/50\n",
            "2/2 [==============================] - 0s 6ms/step - loss: 40.6632 - mae: 40.6632\n",
            "Epoch 3/50\n",
            "2/2 [==============================] - 0s 8ms/step - loss: 29.9794 - mae: 29.9794\n",
            "Epoch 4/50\n",
            "2/2 [==============================] - 0s 5ms/step - loss: 19.9821 - mae: 19.9821\n",
            "Epoch 5/50\n",
            "2/2 [==============================] - 0s 5ms/step - loss: 20.6914 - mae: 20.6914\n",
            "Epoch 6/50\n",
            "2/2 [==============================] - 0s 14ms/step - loss: 32.0699 - mae: 32.0699\n",
            "Epoch 7/50\n",
            "2/2 [==============================] - 0s 5ms/step - loss: 8.0072 - mae: 8.0072\n",
            "Epoch 8/50\n",
            "2/2 [==============================] - 0s 14ms/step - loss: 12.5886 - mae: 12.5886\n",
            "Epoch 9/50\n",
            "2/2 [==============================] - 0s 8ms/step - loss: 13.1791 - mae: 13.1791\n",
            "Epoch 10/50\n",
            "2/2 [==============================] - 0s 16ms/step - loss: 37.6588 - mae: 37.6588\n",
            "Epoch 11/50\n",
            "2/2 [==============================] - 0s 8ms/step - loss: 27.2091 - mae: 27.2091\n",
            "Epoch 12/50\n",
            "2/2 [==============================] - 0s 17ms/step - loss: 16.8619 - mae: 16.8619\n",
            "Epoch 13/50\n",
            "2/2 [==============================] - 0s 7ms/step - loss: 20.6903 - mae: 20.6903\n",
            "Epoch 14/50\n",
            "2/2 [==============================] - 0s 20ms/step - loss: 18.1598 - mae: 18.1598\n",
            "Epoch 15/50\n",
            "2/2 [==============================] - 0s 7ms/step - loss: 27.6390 - mae: 27.6390\n",
            "Epoch 16/50\n",
            "2/2 [==============================] - 0s 8ms/step - loss: 29.4854 - mae: 29.4854\n",
            "Epoch 17/50\n",
            "2/2 [==============================] - 0s 9ms/step - loss: 23.8715 - mae: 23.8715\n",
            "Epoch 18/50\n",
            "2/2 [==============================] - 0s 8ms/step - loss: 47.8529 - mae: 47.8529\n",
            "Epoch 19/50\n",
            "2/2 [==============================] - 0s 9ms/step - loss: 23.5433 - mae: 23.5433\n",
            "Epoch 20/50\n",
            "2/2 [==============================] - 0s 8ms/step - loss: 20.4672 - mae: 20.4672\n",
            "Epoch 21/50\n",
            "2/2 [==============================] - 0s 8ms/step - loss: 17.0080 - mae: 17.0080\n",
            "Epoch 22/50\n",
            "2/2 [==============================] - 0s 8ms/step - loss: 35.0795 - mae: 35.0795\n",
            "Epoch 23/50\n",
            "2/2 [==============================] - 0s 8ms/step - loss: 20.2897 - mae: 20.2897\n",
            "Epoch 24/50\n",
            "2/2 [==============================] - 0s 6ms/step - loss: 35.4707 - mae: 35.4707\n",
            "Epoch 25/50\n",
            "2/2 [==============================] - 0s 13ms/step - loss: 27.3564 - mae: 27.3564\n",
            "Epoch 26/50\n",
            "2/2 [==============================] - 0s 14ms/step - loss: 10.7481 - mae: 10.7481\n",
            "Epoch 27/50\n",
            "2/2 [==============================] - 0s 8ms/step - loss: 34.7457 - mae: 34.7457\n",
            "Epoch 28/50\n",
            "2/2 [==============================] - 0s 20ms/step - loss: 20.9545 - mae: 20.9545\n",
            "Epoch 29/50\n",
            "2/2 [==============================] - 0s 8ms/step - loss: 33.1333 - mae: 33.1333\n",
            "Epoch 30/50\n",
            "2/2 [==============================] - 0s 13ms/step - loss: 23.6682 - mae: 23.6682\n",
            "Epoch 31/50\n",
            "2/2 [==============================] - 0s 8ms/step - loss: 25.8821 - mae: 25.8821\n",
            "Epoch 32/50\n",
            "2/2 [==============================] - 0s 5ms/step - loss: 19.4771 - mae: 19.4771\n",
            "Epoch 33/50\n",
            "2/2 [==============================] - 0s 9ms/step - loss: 19.6267 - mae: 19.6267\n",
            "Epoch 34/50\n",
            "2/2 [==============================] - 0s 9ms/step - loss: 20.1927 - mae: 20.1927\n",
            "Epoch 35/50\n",
            "2/2 [==============================] - 0s 8ms/step - loss: 26.1769 - mae: 26.1769\n",
            "Epoch 36/50\n",
            "2/2 [==============================] - 0s 8ms/step - loss: 22.8537 - mae: 22.8537\n",
            "Epoch 37/50\n",
            "2/2 [==============================] - 0s 8ms/step - loss: 16.7518 - mae: 16.7518\n",
            "Epoch 38/50\n",
            "2/2 [==============================] - 0s 8ms/step - loss: 27.9614 - mae: 27.9614\n",
            "Epoch 39/50\n",
            "2/2 [==============================] - 0s 14ms/step - loss: 12.1629 - mae: 12.1629\n",
            "Epoch 40/50\n",
            "2/2 [==============================] - 0s 9ms/step - loss: 13.9780 - mae: 13.9780\n",
            "Epoch 41/50\n",
            "2/2 [==============================] - 0s 8ms/step - loss: 16.2074 - mae: 16.2074\n",
            "Epoch 42/50\n",
            "2/2 [==============================] - 0s 9ms/step - loss: 31.8719 - mae: 31.8719\n",
            "Epoch 43/50\n",
            "2/2 [==============================] - 0s 9ms/step - loss: 14.7598 - mae: 14.7598\n",
            "Epoch 44/50\n",
            "2/2 [==============================] - 0s 9ms/step - loss: 20.1297 - mae: 20.1297\n",
            "Epoch 45/50\n",
            "2/2 [==============================] - 0s 8ms/step - loss: 19.6285 - mae: 19.6285\n",
            "Epoch 46/50\n",
            "2/2 [==============================] - 0s 9ms/step - loss: 10.1289 - mae: 10.1289\n",
            "Epoch 47/50\n",
            "2/2 [==============================] - 0s 9ms/step - loss: 21.2683 - mae: 21.2683\n",
            "Epoch 48/50\n",
            "2/2 [==============================] - 0s 8ms/step - loss: 19.5861 - mae: 19.5861\n",
            "Epoch 49/50\n",
            "2/2 [==============================] - 0s 8ms/step - loss: 69.2325 - mae: 69.2325\n",
            "Epoch 50/50\n",
            "2/2 [==============================] - 0s 9ms/step - loss: 19.7594 - mae: 19.7594\n"
          ]
        },
        {
          "output_type": "execute_result",
          "data": {
            "text/plain": [
              "<keras.callbacks.History at 0x7f50e8694450>"
            ]
          },
          "metadata": {},
          "execution_count": 29
        }
      ]
    },
    {
      "cell_type": "code",
      "source": [
        "from tensorflow.keras.utils import plot_model"
      ],
      "metadata": {
        "id": "XvwnZba1oB8T"
      },
      "execution_count": 30,
      "outputs": []
    },
    {
      "cell_type": "code",
      "source": [
        "plot_model(model, show_shapes = True)"
      ],
      "metadata": {
        "colab": {
          "base_uri": "https://localhost:8080/",
          "height": 422
        },
        "id": "OYExqKN4pa-Z",
        "outputId": "cbe7b0a6-1a39-466b-e808-5d99d11ec75a"
      },
      "execution_count": 31,
      "outputs": [
        {
          "output_type": "execute_result",
          "data": {
            "text/plain": [
              "<IPython.core.display.Image object>"
            ],
            "image/png": "[encoded data removed]"
          },
          "metadata": {},
          "execution_count": 31
        }
      ]
    },
    {
      "cell_type": "code",
      "source": [
        "preds = model.predict(X_test)"
      ],
      "metadata": {
        "id": "2uWi2G-lpiOR"
      },
      "execution_count": 32,
      "outputs": []
    },
    {
      "cell_type": "code",
      "source": [
        "def plot_predictions(\n",
        "    train_data,\n",
        "    train_labels,\n",
        "    test_data,\n",
        "    test_labels,\n",
        "    predictions\n",
        "):\n",
        "  plt.figure()\n",
        "  plt.scatter(train_data, train_labels, label = 'Training Data')\n",
        "  plt.scatter(test_data, test_labels, label = 'Test Data')\n",
        "  plt.scatter(test_data, predictions, label = 'Predictions')\n",
        "  plt.legend()\n",
        "  plt.show()\n",
        "\n"
      ],
      "metadata": {
        "id": "Wf79ndf2sLHR"
      },
      "execution_count": 33,
      "outputs": []
    },
    {
      "cell_type": "code",
      "source": [
        "plot_predictions(X_train, y_train, X_test, y_test, preds)"
      ],
      "metadata": {
        "colab": {
          "base_uri": "https://localhost:8080/",
          "height": 265
        },
        "id": "KHSxzZn4s8NS",
        "outputId": "c8be3190-177b-4f59-a08f-4ceeb81b8c48"
      },
      "execution_count": 34,
      "outputs": [
        {
          "output_type": "display_data",
          "data": {
            "text/plain": [
              "<Figure size 432x288 with 1 Axes>"
            ],
            "image/png": "[encoded data removed]"
          },
          "metadata": {
            "needs_background": "light"
          }
        }
      ]
    },
    {
      "cell_type": "code",
      "source": [
        "model.evaluate(X_test, y_test)"
      ],
      "metadata": {
        "colab": {
          "base_uri": "https://localhost:8080/"
        },
        "id": "nmutxasXtFJT",
        "outputId": "ef348622-8864-4218-958b-d5aedb12df43"
      },
      "execution_count": 35,
      "outputs": [
        {
          "output_type": "stream",
          "name": "stdout",
          "text": [
            "1/1 [==============================] - 0s 278ms/step - loss: 28.4622 - mae: 28.4622\n"
          ]
        },
        {
          "output_type": "execute_result",
          "data": {
            "text/plain": [
              "[28.462238311767578, 28.462238311767578]"
            ]
          },
          "metadata": {},
          "execution_count": 35
        }
      ]
    },
    {
      "cell_type": "markdown",
      "source": [
        "#### Saving Model"
      ],
      "metadata": {
        "id": "s8z_05_5goP2"
      }
    },
    {
      "cell_type": "code",
      "source": [
        "model.save('saved_model_format')"
      ],
      "metadata": {
        "colab": {
          "base_uri": "https://localhost:8080/"
        },
        "id": "09iengztyljw",
        "outputId": "0a929af9-7e1e-4b30-f695-65f62d15b817"
      },
      "execution_count": 36,
      "outputs": [
        {
          "output_type": "stream",
          "name": "stdout",
          "text": [
            "INFO:tensorflow:Assets written to: saved_model_format/assets\n"
          ]
        }
      ]
    },
    {
      "cell_type": "code",
      "source": [
        "model.save('model_hdf5_format.hdf5')"
      ],
      "metadata": {
        "id": "6L0qZcMDgfgN"
      },
      "execution_count": 37,
      "outputs": []
    },
    {
      "cell_type": "code",
      "source": [
        ""
      ],
      "metadata": {
        "id": "fTjwgLOJgmWK"
      },
      "execution_count": null,
      "outputs": []
    },
    {
      "cell_type": "markdown",
      "source": [
        "#### Loading Model"
      ],
      "metadata": {
        "id": "AewB4q2vgpyq"
      }
    },
    {
      "cell_type": "code",
      "source": [
        "model_loaded = tf.keras.models.load_model('saved_model_format')"
      ],
      "metadata": {
        "id": "J1cIo_JrgrIW"
      },
      "execution_count": 38,
      "outputs": []
    },
    {
      "cell_type": "code",
      "source": [
        "model_loaded_h5 = tf.keras.models.load_model('model_hdf5_format.hdf5')"
      ],
      "metadata": {
        "id": "mcO135yBgv5v"
      },
      "execution_count": 39,
      "outputs": []
    },
    {
      "cell_type": "markdown",
      "source": [
        "## Example"
      ],
      "metadata": {
        "id": "0Ck_Ro4qg1bg"
      }
    },
    {
      "cell_type": "code",
      "source": [
        "import pandas as pd"
      ],
      "metadata": {
        "id": "K7rEqZS9nCE6"
      },
      "execution_count": 41,
      "outputs": []
    },
    {
      "cell_type": "code",
      "source": [
        "df = pd.read_csv('https://gist.githubusercontent.com/meperezcuello/82a9f1c1c473d6585e750ad2e3c05a41/raw/d42d226d0dd64e7f5395a0eec1b9190a10edbc03/Medical_Cost.csv')"
      ],
      "metadata": {
        "id": "rg0lHLnAm79u"
      },
      "execution_count": 42,
      "outputs": []
    },
    {
      "cell_type": "code",
      "source": [
        "df.head()"
      ],
      "metadata": {
        "colab": {
          "base_uri": "https://localhost:8080/",
          "height": 204
        },
        "id": "aA9Qwm2qnBGE",
        "outputId": "aa94a204-8364-4e55-f349-9e8f828b7163"
      },
      "execution_count": 43,
      "outputs": [
        {
          "output_type": "execute_result",
          "data": {
            "text/plain": [
              "   age     sex     bmi  children smoker     region      charges\n",
              "0   19  female  27.900         0    yes  southwest  16884.92400\n",
              "1   18    male  33.770         1     no  southeast   1725.55230\n",
              "2   28    male  33.000         3     no  southeast   4449.46200\n",
              "3   33    male  22.705         0     no  northwest  21984.47061\n",
              "4   32    male  28.880         0     no  northwest   3866.85520"
            ],
            "text/html": [
              "\n",
              "  <div id=\"df-8db6c5e7-7835-4458-b5a3-cc72d9bfa256\">\n",
              "    <div class=\"colab-df-container\">\n",
              "      <div>\n",
              "<style scoped>\n",
              "    .dataframe tbody tr th:only-of-type {\n",
              "        vertical-align: middle;\n",
              "    }\n",
              "\n",
              "    .dataframe tbody tr th {\n",
              "        vertical-align: top;\n",
              "    }\n",
              "\n",
              "    .dataframe thead th {\n",
              "        text-align: right;\n",
              "    }\n",
              "</style>\n",
              "<table border=\"1\" class=\"dataframe\">\n",
              "  <thead>\n",
              "    <tr style=\"text-align: right;\">\n",
              "      <th></th>\n",
              "      <th>age</th>\n",
              "      <th>sex</th>\n",
              "      <th>bmi</th>\n",
              "      <th>children</th>\n",
              "      <th>smoker</th>\n",
              "      <th>region</th>\n",
              "      <th>charges</th>\n",
              "    </tr>\n",
              "  </thead>\n",
              "  <tbody>\n",
              "    <tr>\n",
              "      <th>0</th>\n",
              "      <td>19</td>\n",
              "      <td>female</td>\n",
              "      <td>27.900</td>\n",
              "      <td>0</td>\n",
              "      <td>yes</td>\n",
              "      <td>southwest</td>\n",
              "      <td>16884.92400</td>\n",
              "    </tr>\n",
              "    <tr>\n",
              "      <th>1</th>\n",
              "      <td>18</td>\n",
              "      <td>male</td>\n",
              "      <td>33.770</td>\n",
              "      <td>1</td>\n",
              "      <td>no</td>\n",
              "      <td>southeast</td>\n",
              "      <td>1725.55230</td>\n",
              "    </tr>\n",
              "    <tr>\n",
              "      <th>2</th>\n",
              "      <td>28</td>\n",
              "      <td>male</td>\n",
              "      <td>33.000</td>\n",
              "      <td>3</td>\n",
              "      <td>no</td>\n",
              "      <td>southeast</td>\n",
              "      <td>4449.46200</td>\n",
              "    </tr>\n",
              "    <tr>\n",
              "      <th>3</th>\n",
              "      <td>33</td>\n",
              "      <td>male</td>\n",
              "      <td>22.705</td>\n",
              "      <td>0</td>\n",
              "      <td>no</td>\n",
              "      <td>northwest</td>\n",
              "      <td>21984.47061</td>\n",
              "    </tr>\n",
              "    <tr>\n",
              "      <th>4</th>\n",
              "      <td>32</td>\n",
              "      <td>male</td>\n",
              "      <td>28.880</td>\n",
              "      <td>0</td>\n",
              "      <td>no</td>\n",
              "      <td>northwest</td>\n",
              "      <td>3866.85520</td>\n",
              "    </tr>\n",
              "  </tbody>\n",
              "</table>\n",
              "</div>\n",
              "      <button class=\"colab-df-convert\" onclick=\"convertToInteractive('df-8db6c5e7-7835-4458-b5a3-cc72d9bfa256')\"\n",
              "              title=\"Convert this dataframe to an interactive table.\"\n",
              "              style=\"display:none;\">\n",
              "        \n",
              "  <svg xmlns=\"http://www.w3.org/2000/svg\" height=\"24px\"viewBox=\"0 0 24 24\"\n",
              "       width=\"24px\">\n",
              "    <path d=\"M0 0h24v24H0V0z\" fill=\"none\"/>\n",
              "    <path d=\"M18.56 5.44l.94 2.06.94-2.06 2.06-.94-2.06-.94-.94-2.06-.94 2.06-2.06.94zm-11 1L8.5 8.5l.94-2.06 2.06-.94-2.06-.94L8.5 2.5l-.94 2.06-2.06.94zm10 10l.94 2.06.94-2.06 2.06-.94-2.06-.94-.94-2.06-.94 2.06-2.06.94z\"/><path d=\"M17.41 7.96l-1.37-1.37c-.4-.4-.92-.59-1.43-.59-.52 0-1.04.2-1.43.59L10.3 9.45l-7.72 7.72c-.78.78-.78 2.05 0 2.83L4 21.41c.39.39.9.59 1.41.59.51 0 1.02-.2 1.41-.59l7.78-7.78 2.81-2.81c.8-.78.8-2.07 0-2.86zM5.41 20L4 18.59l7.72-7.72 1.47 1.35L5.41 20z\"/>\n",
              "  </svg>\n",
              "      </button>\n",
              "      \n",
              "  <style>\n",
              "    .colab-df-container {\n",
              "      display:flex;\n",
              "      flex-wrap:wrap;\n",
              "      gap: 12px;\n",
              "    }\n",
              "\n",
              "    .colab-df-convert {\n",
              "      background-color: #E8F0FE;\n",
              "      border: none;\n",
              "      border-radius: 50%;\n",
              "      cursor: pointer;\n",
              "      display: none;\n",
              "      fill: #1967D2;\n",
              "      height: 32px;\n",
              "      padding: 0 0 0 0;\n",
              "      width: 32px;\n",
              "    }\n",
              "\n",
              "    .colab-df-convert:hover {\n",
              "      background-color: #E2EBFA;\n",
              "      box-shadow: 0px 1px 2px rgba(60, 64, 67, 0.3), 0px 1px 3px 1px rgba(60, 64, 67, 0.15);\n",
              "      fill: #174EA6;\n",
              "    }\n",
              "\n",
              "    [theme=dark] .colab-df-convert {\n",
              "      background-color: #3B4455;\n",
              "      fill: #D2E3FC;\n",
              "    }\n",
              "\n",
              "    [theme=dark] .colab-df-convert:hover {\n",
              "      background-color: #434B5C;\n",
              "      box-shadow: 0px 1px 3px 1px rgba(0, 0, 0, 0.15);\n",
              "      filter: drop-shadow(0px 1px 2px rgba(0, 0, 0, 0.3));\n",
              "      fill: #FFFFFF;\n",
              "    }\n",
              "  </style>\n",
              "\n",
              "      <script>\n",
              "        const buttonEl =\n",
              "          document.querySelector('#df-8db6c5e7-7835-4458-b5a3-cc72d9bfa256 button.colab-df-convert');\n",
              "        buttonEl.style.display =\n",
              "          google.colab.kernel.accessAllowed ? 'block' : 'none';\n",
              "\n",
              "        async function convertToInteractive(key) {\n",
              "          const element = document.querySelector('#df-8db6c5e7-7835-4458-b5a3-cc72d9bfa256');\n",
              "          const dataTable =\n",
              "            await google.colab.kernel.invokeFunction('convertToInteractive',\n",
              "                                                     [key], {});\n",
              "          if (!dataTable) return;\n",
              "\n",
              "          const docLinkHtml = 'Like what you see? Visit the ' +\n",
              "            '<a target=\"_blank\" href=https://colab.research.google.com/notebooks/data_table.ipynb>data table notebook</a>'\n",
              "            + ' to learn more about interactive tables.';\n",
              "          element.innerHTML = '';\n",
              "          dataTable['output_type'] = 'display_data';\n",
              "          await google.colab.output.renderOutput(dataTable, element);\n",
              "          const docLink = document.createElement('div');\n",
              "          docLink.innerHTML = docLinkHtml;\n",
              "          element.appendChild(docLink);\n",
              "        }\n",
              "      </script>\n",
              "    </div>\n",
              "  </div>\n",
              "  "
            ]
          },
          "metadata": {},
          "execution_count": 43
        }
      ]
    },
    {
      "cell_type": "code",
      "source": [
        "df.info()"
      ],
      "metadata": {
        "colab": {
          "base_uri": "https://localhost:8080/"
        },
        "id": "dvumaJ36nGFW",
        "outputId": "7f722937-a51a-4e75-e753-af4d6e7780ab"
      },
      "execution_count": 44,
      "outputs": [
        {
          "output_type": "stream",
          "name": "stdout",
          "text": [
            "<class 'pandas.core.frame.DataFrame'>\n",
            "RangeIndex: 1338 entries, 0 to 1337\n",
            "Data columns (total 7 columns):\n",
            " #   Column    Non-Null Count  Dtype  \n",
            "---  ------    --------------  -----  \n",
            " 0   age       1338 non-null   int64  \n",
            " 1   sex       1338 non-null   object \n",
            " 2   bmi       1338 non-null   float64\n",
            " 3   children  1338 non-null   int64  \n",
            " 4   smoker    1338 non-null   object \n",
            " 5   region    1338 non-null   object \n",
            " 6   charges   1338 non-null   float64\n",
            "dtypes: float64(2), int64(2), object(3)\n",
            "memory usage: 73.3+ KB\n"
          ]
        }
      ]
    },
    {
      "cell_type": "markdown",
      "source": [
        "transform categorical featrues"
      ],
      "metadata": {
        "id": "r4JNP7ST8x-3"
      }
    },
    {
      "cell_type": "code",
      "source": [
        "df = pd.get_dummies(df, columns = ['sex', 'smoker', 'region'])"
      ],
      "metadata": {
        "colab": {
          "base_uri": "https://localhost:8080/",
          "height": 307
        },
        "id": "2HHWUxz2nHMs",
        "outputId": "e41a0758-bc50-4aeb-a882-669768a86323"
      },
      "execution_count": 101,
      "outputs": [
        {
          "output_type": "error",
          "ename": "KeyError",
          "evalue": "ignored",
          "traceback": [
            "\u001b[0;31m---------------------------------------------------------------------------\u001b[0m",
            "\u001b[0;31mKeyError\u001b[0m                                  Traceback (most recent call last)",
            "\u001b[0;32m<ipython-input-101-7fde835648fa>\u001b[0m in \u001b[0;36m<module>\u001b[0;34m()\u001b[0m\n\u001b[0;32m----> 1\u001b[0;31m \u001b[0mdf\u001b[0m \u001b[0;34m=\u001b[0m \u001b[0mpd\u001b[0m\u001b[0;34m.\u001b[0m\u001b[0mget_dummies\u001b[0m\u001b[0;34m(\u001b[0m\u001b[0mdf\u001b[0m\u001b[0;34m,\u001b[0m \u001b[0mcolumns\u001b[0m \u001b[0;34m=\u001b[0m \u001b[0;34m[\u001b[0m\u001b[0;34m'sex'\u001b[0m\u001b[0;34m,\u001b[0m \u001b[0;34m'smoker'\u001b[0m\u001b[0;34m,\u001b[0m \u001b[0;34m'region'\u001b[0m\u001b[0;34m]\u001b[0m\u001b[0;34m)\u001b[0m\u001b[0;34m\u001b[0m\u001b[0;34m\u001b[0m\u001b[0m\n\u001b[0m",
            "\u001b[0;32m/usr/local/lib/python3.7/dist-packages/pandas/core/reshape/reshape.py\u001b[0m in \u001b[0;36mget_dummies\u001b[0;34m(data, prefix, prefix_sep, dummy_na, columns, sparse, drop_first, dtype)\u001b[0m\n\u001b[1;32m    888\u001b[0m             \u001b[0;32mraise\u001b[0m \u001b[0mTypeError\u001b[0m\u001b[0;34m(\u001b[0m\u001b[0;34m\"Input must be a list-like for parameter `columns`\"\u001b[0m\u001b[0;34m)\u001b[0m\u001b[0;34m\u001b[0m\u001b[0;34m\u001b[0m\u001b[0m\n\u001b[1;32m    889\u001b[0m         \u001b[0;32melse\u001b[0m\u001b[0;34m:\u001b[0m\u001b[0;34m\u001b[0m\u001b[0;34m\u001b[0m\u001b[0m\n\u001b[0;32m--> 890\u001b[0;31m             \u001b[0mdata_to_encode\u001b[0m \u001b[0;34m=\u001b[0m \u001b[0mdata\u001b[0m\u001b[0;34m[\u001b[0m\u001b[0mcolumns\u001b[0m\u001b[0;34m]\u001b[0m\u001b[0;34m\u001b[0m\u001b[0;34m\u001b[0m\u001b[0m\n\u001b[0m\u001b[1;32m    891\u001b[0m \u001b[0;34m\u001b[0m\u001b[0m\n\u001b[1;32m    892\u001b[0m         \u001b[0;31m# validate prefixes and separator to avoid silently dropping cols\u001b[0m\u001b[0;34m\u001b[0m\u001b[0;34m\u001b[0m\u001b[0;34m\u001b[0m\u001b[0m\n",
            "\u001b[0;32m/usr/local/lib/python3.7/dist-packages/pandas/core/frame.py\u001b[0m in \u001b[0;36m__getitem__\u001b[0;34m(self, key)\u001b[0m\n\u001b[1;32m   3462\u001b[0m             \u001b[0;32mif\u001b[0m \u001b[0mis_iterator\u001b[0m\u001b[0;34m(\u001b[0m\u001b[0mkey\u001b[0m\u001b[0;34m)\u001b[0m\u001b[0;34m:\u001b[0m\u001b[0;34m\u001b[0m\u001b[0;34m\u001b[0m\u001b[0m\n\u001b[1;32m   3463\u001b[0m                 \u001b[0mkey\u001b[0m \u001b[0;34m=\u001b[0m \u001b[0mlist\u001b[0m\u001b[0;34m(\u001b[0m\u001b[0mkey\u001b[0m\u001b[0;34m)\u001b[0m\u001b[0;34m\u001b[0m\u001b[0;34m\u001b[0m\u001b[0m\n\u001b[0;32m-> 3464\u001b[0;31m             \u001b[0mindexer\u001b[0m \u001b[0;34m=\u001b[0m \u001b[0mself\u001b[0m\u001b[0;34m.\u001b[0m\u001b[0mloc\u001b[0m\u001b[0;34m.\u001b[0m\u001b[0m_get_listlike_indexer\u001b[0m\u001b[0;34m(\u001b[0m\u001b[0mkey\u001b[0m\u001b[0;34m,\u001b[0m \u001b[0maxis\u001b[0m\u001b[0;34m=\u001b[0m\u001b[0;36m1\u001b[0m\u001b[0;34m)\u001b[0m\u001b[0;34m[\u001b[0m\u001b[0;36m1\u001b[0m\u001b[0;34m]\u001b[0m\u001b[0;34m\u001b[0m\u001b[0;34m\u001b[0m\u001b[0m\n\u001b[0m\u001b[1;32m   3465\u001b[0m \u001b[0;34m\u001b[0m\u001b[0m\n\u001b[1;32m   3466\u001b[0m         \u001b[0;31m# take() does not accept boolean indexers\u001b[0m\u001b[0;34m\u001b[0m\u001b[0;34m\u001b[0m\u001b[0;34m\u001b[0m\u001b[0m\n",
            "\u001b[0;32m/usr/local/lib/python3.7/dist-packages/pandas/core/indexing.py\u001b[0m in \u001b[0;36m_get_listlike_indexer\u001b[0;34m(self, key, axis)\u001b[0m\n\u001b[1;32m   1312\u001b[0m             \u001b[0mkeyarr\u001b[0m\u001b[0;34m,\u001b[0m \u001b[0mindexer\u001b[0m\u001b[0;34m,\u001b[0m \u001b[0mnew_indexer\u001b[0m \u001b[0;34m=\u001b[0m \u001b[0max\u001b[0m\u001b[0;34m.\u001b[0m\u001b[0m_reindex_non_unique\u001b[0m\u001b[0;34m(\u001b[0m\u001b[0mkeyarr\u001b[0m\u001b[0;34m)\u001b[0m\u001b[0;34m\u001b[0m\u001b[0;34m\u001b[0m\u001b[0m\n\u001b[1;32m   1313\u001b[0m \u001b[0;34m\u001b[0m\u001b[0m\n\u001b[0;32m-> 1314\u001b[0;31m         \u001b[0mself\u001b[0m\u001b[0;34m.\u001b[0m\u001b[0m_validate_read_indexer\u001b[0m\u001b[0;34m(\u001b[0m\u001b[0mkeyarr\u001b[0m\u001b[0;34m,\u001b[0m \u001b[0mindexer\u001b[0m\u001b[0;34m,\u001b[0m \u001b[0maxis\u001b[0m\u001b[0;34m)\u001b[0m\u001b[0;34m\u001b[0m\u001b[0;34m\u001b[0m\u001b[0m\n\u001b[0m\u001b[1;32m   1315\u001b[0m \u001b[0;34m\u001b[0m\u001b[0m\n\u001b[1;32m   1316\u001b[0m         if needs_i8_conversion(ax.dtype) or isinstance(\n",
            "\u001b[0;32m/usr/local/lib/python3.7/dist-packages/pandas/core/indexing.py\u001b[0m in \u001b[0;36m_validate_read_indexer\u001b[0;34m(self, key, indexer, axis)\u001b[0m\n\u001b[1;32m   1372\u001b[0m                 \u001b[0;32mif\u001b[0m \u001b[0muse_interval_msg\u001b[0m\u001b[0;34m:\u001b[0m\u001b[0;34m\u001b[0m\u001b[0;34m\u001b[0m\u001b[0m\n\u001b[1;32m   1373\u001b[0m                     \u001b[0mkey\u001b[0m \u001b[0;34m=\u001b[0m \u001b[0mlist\u001b[0m\u001b[0;34m(\u001b[0m\u001b[0mkey\u001b[0m\u001b[0;34m)\u001b[0m\u001b[0;34m\u001b[0m\u001b[0;34m\u001b[0m\u001b[0m\n\u001b[0;32m-> 1374\u001b[0;31m                 \u001b[0;32mraise\u001b[0m \u001b[0mKeyError\u001b[0m\u001b[0;34m(\u001b[0m\u001b[0;34mf\"None of [{key}] are in the [{axis_name}]\"\u001b[0m\u001b[0;34m)\u001b[0m\u001b[0;34m\u001b[0m\u001b[0;34m\u001b[0m\u001b[0m\n\u001b[0m\u001b[1;32m   1375\u001b[0m \u001b[0;34m\u001b[0m\u001b[0m\n\u001b[1;32m   1376\u001b[0m             \u001b[0mnot_found\u001b[0m \u001b[0;34m=\u001b[0m \u001b[0mlist\u001b[0m\u001b[0;34m(\u001b[0m\u001b[0mensure_index\u001b[0m\u001b[0;34m(\u001b[0m\u001b[0mkey\u001b[0m\u001b[0;34m)\u001b[0m\u001b[0;34m[\u001b[0m\u001b[0mmissing_mask\u001b[0m\u001b[0;34m.\u001b[0m\u001b[0mnonzero\u001b[0m\u001b[0;34m(\u001b[0m\u001b[0;34m)\u001b[0m\u001b[0;34m[\u001b[0m\u001b[0;36m0\u001b[0m\u001b[0;34m]\u001b[0m\u001b[0;34m]\u001b[0m\u001b[0;34m.\u001b[0m\u001b[0munique\u001b[0m\u001b[0;34m(\u001b[0m\u001b[0;34m)\u001b[0m\u001b[0;34m)\u001b[0m\u001b[0;34m\u001b[0m\u001b[0;34m\u001b[0m\u001b[0m\n",
            "\u001b[0;31mKeyError\u001b[0m: \"None of [Index(['sex', 'smoker', 'region'], dtype='object')] are in the [columns]\""
          ]
        }
      ]
    },
    {
      "cell_type": "code",
      "source": [
        "df.head()"
      ],
      "metadata": {
        "colab": {
          "base_uri": "https://localhost:8080/",
          "height": 204
        },
        "id": "p0MjA3O38l55",
        "outputId": "17615554-6cf7-4af2-ffa3-a84458ee0e36"
      },
      "execution_count": 102,
      "outputs": [
        {
          "output_type": "execute_result",
          "data": {
            "text/plain": [
              "   age     bmi  children      charges  sex_female  sex_male  smoker_no  \\\n",
              "0   19  27.900         0  16884.92400           1         0          0   \n",
              "1   18  33.770         1   1725.55230           0         1          1   \n",
              "2   28  33.000         3   4449.46200           0         1          1   \n",
              "3   33  22.705         0  21984.47061           0         1          1   \n",
              "4   32  28.880         0   3866.85520           0         1          1   \n",
              "\n",
              "   smoker_yes  region_northeast  region_northwest  region_southeast  \\\n",
              "0           1                 0                 0                 0   \n",
              "1           0                 0                 0                 1   \n",
              "2           0                 0                 0                 1   \n",
              "3           0                 0                 1                 0   \n",
              "4           0                 0                 1                 0   \n",
              "\n",
              "   region_southwest  \n",
              "0                 1  \n",
              "1                 0  \n",
              "2                 0  \n",
              "3                 0  \n",
              "4                 0  "
            ],
            "text/html": [
              "\n",
              "  <div id=\"df-a700c53f-bd39-4e58-9dfc-ff92ca854969\">\n",
              "    <div class=\"colab-df-container\">\n",
              "      <div>\n",
              "<style scoped>\n",
              "    .dataframe tbody tr th:only-of-type {\n",
              "        vertical-align: middle;\n",
              "    }\n",
              "\n",
              "    .dataframe tbody tr th {\n",
              "        vertical-align: top;\n",
              "    }\n",
              "\n",
              "    .dataframe thead th {\n",
              "        text-align: right;\n",
              "    }\n",
              "</style>\n",
              "<table border=\"1\" class=\"dataframe\">\n",
              "  <thead>\n",
              "    <tr style=\"text-align: right;\">\n",
              "      <th></th>\n",
              "      <th>age</th>\n",
              "      <th>bmi</th>\n",
              "      <th>children</th>\n",
              "      <th>charges</th>\n",
              "      <th>sex_female</th>\n",
              "      <th>sex_male</th>\n",
              "      <th>smoker_no</th>\n",
              "      <th>smoker_yes</th>\n",
              "      <th>region_northeast</th>\n",
              "      <th>region_northwest</th>\n",
              "      <th>region_southeast</th>\n",
              "      <th>region_southwest</th>\n",
              "    </tr>\n",
              "  </thead>\n",
              "  <tbody>\n",
              "    <tr>\n",
              "      <th>0</th>\n",
              "      <td>19</td>\n",
              "      <td>27.900</td>\n",
              "      <td>0</td>\n",
              "      <td>16884.92400</td>\n",
              "      <td>1</td>\n",
              "      <td>0</td>\n",
              "      <td>0</td>\n",
              "      <td>1</td>\n",
              "      <td>0</td>\n",
              "      <td>0</td>\n",
              "      <td>0</td>\n",
              "      <td>1</td>\n",
              "    </tr>\n",
              "    <tr>\n",
              "      <th>1</th>\n",
              "      <td>18</td>\n",
              "      <td>33.770</td>\n",
              "      <td>1</td>\n",
              "      <td>1725.55230</td>\n",
              "      <td>0</td>\n",
              "      <td>1</td>\n",
              "      <td>1</td>\n",
              "      <td>0</td>\n",
              "      <td>0</td>\n",
              "      <td>0</td>\n",
              "      <td>1</td>\n",
              "      <td>0</td>\n",
              "    </tr>\n",
              "    <tr>\n",
              "      <th>2</th>\n",
              "      <td>28</td>\n",
              "      <td>33.000</td>\n",
              "      <td>3</td>\n",
              "      <td>4449.46200</td>\n",
              "      <td>0</td>\n",
              "      <td>1</td>\n",
              "      <td>1</td>\n",
              "      <td>0</td>\n",
              "      <td>0</td>\n",
              "      <td>0</td>\n",
              "      <td>1</td>\n",
              "      <td>0</td>\n",
              "    </tr>\n",
              "    <tr>\n",
              "      <th>3</th>\n",
              "      <td>33</td>\n",
              "      <td>22.705</td>\n",
              "      <td>0</td>\n",
              "      <td>21984.47061</td>\n",
              "      <td>0</td>\n",
              "      <td>1</td>\n",
              "      <td>1</td>\n",
              "      <td>0</td>\n",
              "      <td>0</td>\n",
              "      <td>1</td>\n",
              "      <td>0</td>\n",
              "      <td>0</td>\n",
              "    </tr>\n",
              "    <tr>\n",
              "      <th>4</th>\n",
              "      <td>32</td>\n",
              "      <td>28.880</td>\n",
              "      <td>0</td>\n",
              "      <td>3866.85520</td>\n",
              "      <td>0</td>\n",
              "      <td>1</td>\n",
              "      <td>1</td>\n",
              "      <td>0</td>\n",
              "      <td>0</td>\n",
              "      <td>1</td>\n",
              "      <td>0</td>\n",
              "      <td>0</td>\n",
              "    </tr>\n",
              "  </tbody>\n",
              "</table>\n",
              "</div>\n",
              "      <button class=\"colab-df-convert\" onclick=\"convertToInteractive('df-a700c53f-bd39-4e58-9dfc-ff92ca854969')\"\n",
              "              title=\"Convert this dataframe to an interactive table.\"\n",
              "              style=\"display:none;\">\n",
              "        \n",
              "  <svg xmlns=\"http://www.w3.org/2000/svg\" height=\"24px\"viewBox=\"0 0 24 24\"\n",
              "       width=\"24px\">\n",
              "    <path d=\"M0 0h24v24H0V0z\" fill=\"none\"/>\n",
              "    <path d=\"M18.56 5.44l.94 2.06.94-2.06 2.06-.94-2.06-.94-.94-2.06-.94 2.06-2.06.94zm-11 1L8.5 8.5l.94-2.06 2.06-.94-2.06-.94L8.5 2.5l-.94 2.06-2.06.94zm10 10l.94 2.06.94-2.06 2.06-.94-2.06-.94-.94-2.06-.94 2.06-2.06.94z\"/><path d=\"M17.41 7.96l-1.37-1.37c-.4-.4-.92-.59-1.43-.59-.52 0-1.04.2-1.43.59L10.3 9.45l-7.72 7.72c-.78.78-.78 2.05 0 2.83L4 21.41c.39.39.9.59 1.41.59.51 0 1.02-.2 1.41-.59l7.78-7.78 2.81-2.81c.8-.78.8-2.07 0-2.86zM5.41 20L4 18.59l7.72-7.72 1.47 1.35L5.41 20z\"/>\n",
              "  </svg>\n",
              "      </button>\n",
              "      \n",
              "  <style>\n",
              "    .colab-df-container {\n",
              "      display:flex;\n",
              "      flex-wrap:wrap;\n",
              "      gap: 12px;\n",
              "    }\n",
              "\n",
              "    .colab-df-convert {\n",
              "      background-color: #E8F0FE;\n",
              "      border: none;\n",
              "      border-radius: 50%;\n",
              "      cursor: pointer;\n",
              "      display: none;\n",
              "      fill: #1967D2;\n",
              "      height: 32px;\n",
              "      padding: 0 0 0 0;\n",
              "      width: 32px;\n",
              "    }\n",
              "\n",
              "    .colab-df-convert:hover {\n",
              "      background-color: #E2EBFA;\n",
              "      box-shadow: 0px 1px 2px rgba(60, 64, 67, 0.3), 0px 1px 3px 1px rgba(60, 64, 67, 0.15);\n",
              "      fill: #174EA6;\n",
              "    }\n",
              "\n",
              "    [theme=dark] .colab-df-convert {\n",
              "      background-color: #3B4455;\n",
              "      fill: #D2E3FC;\n",
              "    }\n",
              "\n",
              "    [theme=dark] .colab-df-convert:hover {\n",
              "      background-color: #434B5C;\n",
              "      box-shadow: 0px 1px 3px 1px rgba(0, 0, 0, 0.15);\n",
              "      filter: drop-shadow(0px 1px 2px rgba(0, 0, 0, 0.3));\n",
              "      fill: #FFFFFF;\n",
              "    }\n",
              "  </style>\n",
              "\n",
              "      <script>\n",
              "        const buttonEl =\n",
              "          document.querySelector('#df-a700c53f-bd39-4e58-9dfc-ff92ca854969 button.colab-df-convert');\n",
              "        buttonEl.style.display =\n",
              "          google.colab.kernel.accessAllowed ? 'block' : 'none';\n",
              "\n",
              "        async function convertToInteractive(key) {\n",
              "          const element = document.querySelector('#df-a700c53f-bd39-4e58-9dfc-ff92ca854969');\n",
              "          const dataTable =\n",
              "            await google.colab.kernel.invokeFunction('convertToInteractive',\n",
              "                                                     [key], {});\n",
              "          if (!dataTable) return;\n",
              "\n",
              "          const docLinkHtml = 'Like what you see? Visit the ' +\n",
              "            '<a target=\"_blank\" href=https://colab.research.google.com/notebooks/data_table.ipynb>data table notebook</a>'\n",
              "            + ' to learn more about interactive tables.';\n",
              "          element.innerHTML = '';\n",
              "          dataTable['output_type'] = 'display_data';\n",
              "          await google.colab.output.renderOutput(dataTable, element);\n",
              "          const docLink = document.createElement('div');\n",
              "          docLink.innerHTML = docLinkHtml;\n",
              "          element.appendChild(docLink);\n",
              "        }\n",
              "      </script>\n",
              "    </div>\n",
              "  </div>\n",
              "  "
            ]
          },
          "metadata": {},
          "execution_count": 102
        }
      ]
    },
    {
      "cell_type": "code",
      "source": [
        "df[['charges']].hist(bins = 50)"
      ],
      "metadata": {
        "colab": {
          "base_uri": "https://localhost:8080/",
          "height": 315
        },
        "id": "gKPUfuui_fSD",
        "outputId": "c967bc38-c84a-4ffb-f1a9-c96caee5c962"
      },
      "execution_count": 103,
      "outputs": [
        {
          "output_type": "execute_result",
          "data": {
            "text/plain": [
              "array([[<matplotlib.axes._subplots.AxesSubplot object at 0x7f50e2e71150>]],\n",
              "      dtype=object)"
            ]
          },
          "metadata": {},
          "execution_count": 103
        },
        {
          "output_type": "display_data",
          "data": {
            "text/plain": [
              "<Figure size 432x288 with 1 Axes>"
            ],
            "image/png": "[encoded data removed]"
          },
          "metadata": {
            "needs_background": "light"
          }
        }
      ]
    },
    {
      "cell_type": "code",
      "source": [
        "from sklearn.model_selection import train_test_split"
      ],
      "metadata": {
        "id": "bbNf01yG8_Pv"
      },
      "execution_count": 120,
      "outputs": []
    },
    {
      "cell_type": "code",
      "source": [
        "X, y = df.iloc[:,df.columns != 'charges'], df[['charges']]"
      ],
      "metadata": {
        "id": "sqLH7OUi9own"
      },
      "execution_count": 121,
      "outputs": []
    },
    {
      "cell_type": "code",
      "source": [
        "X_train, X_test, y_train, y_test = train_test_split(X, y)"
      ],
      "metadata": {
        "id": "EbEn8upC9y_z"
      },
      "execution_count": 129,
      "outputs": []
    },
    {
      "cell_type": "code",
      "source": [
        "model = tf.keras.Sequential()"
      ],
      "metadata": {
        "id": "ecYzo8Gf96RB"
      },
      "execution_count": 130,
      "outputs": []
    },
    {
      "cell_type": "code",
      "source": [
        "model.add(tf.keras.layers.Dense(20, input_shape = (X.shape[1],), activation = 'relu'))\n",
        "model.add(tf.keras.layers.Dense(50, activation = 'relu'))\n",
        "model.add(tf.keras.layers.Dense(50, activation = 'relu'))\n",
        "model.add(tf.keras.layers.Dense(1))\n"
      ],
      "metadata": {
        "id": "zf57avfe-CsJ"
      },
      "execution_count": 131,
      "outputs": []
    },
    {
      "cell_type": "code",
      "source": [
        "model.summary()"
      ],
      "metadata": {
        "colab": {
          "base_uri": "https://localhost:8080/"
        },
        "id": "8evNqC4q-LgP",
        "outputId": "b837bea8-bcb6-41de-aae2-95510638a818"
      },
      "execution_count": 132,
      "outputs": [
        {
          "output_type": "stream",
          "name": "stdout",
          "text": [
            "Model: \"sequential_12\"\n",
            "_________________________________________________________________\n",
            " Layer (type)                Output Shape              Param #   \n",
            "=================================================================\n",
            " dense_43 (Dense)            (None, 20)                240       \n",
            "                                                                 \n",
            " dense_44 (Dense)            (None, 50)                1050      \n",
            "                                                                 \n",
            " dense_45 (Dense)            (None, 50)                2550      \n",
            "                                                                 \n",
            " dense_46 (Dense)            (None, 1)                 51        \n",
            "                                                                 \n",
            "=================================================================\n",
            "Total params: 3,891\n",
            "Trainable params: 3,891\n",
            "Non-trainable params: 0\n",
            "_________________________________________________________________\n"
          ]
        }
      ]
    },
    {
      "cell_type": "code",
      "source": [
        "plot_model(model)"
      ],
      "metadata": {
        "colab": {
          "base_uri": "https://localhost:8080/",
          "height": 466
        },
        "id": "MdgSglzV-YGc",
        "outputId": "1968018e-a50d-4ce3-bda2-e6b0deff58e7"
      },
      "execution_count": 133,
      "outputs": [
        {
          "output_type": "execute_result",
          "data": {
            "text/plain": [
              "<IPython.core.display.Image object>"
            ],
            "image/png": "[encoded data removed]"
          },
          "metadata": {},
          "execution_count": 133
        }
      ]
    },
    {
      "cell_type": "code",
      "source": [
        "model.compile(loss = 'mae', optimizer='Adam')"
      ],
      "metadata": {
        "id": "P_Z0Yq1b_Q_i"
      },
      "execution_count": 134,
      "outputs": []
    },
    {
      "cell_type": "code",
      "source": [
        "model.fit(X_train, y_train, epochs = 200)"
      ],
      "metadata": {
        "colab": {
          "base_uri": "https://localhost:8080/"
        },
        "id": "Y-PnLAUl_CV0",
        "outputId": "ebcc6b1e-5c9f-496d-c4bf-155a09b92fb3"
      },
      "execution_count": 135,
      "outputs": [
        {
          "output_type": "stream",
          "name": "stdout",
          "text": [
            "Epoch 1/200\n",
            "32/32 [==============================] - 0s 2ms/step - loss: 13225.0693\n",
            "Epoch 2/200\n",
            "32/32 [==============================] - 0s 2ms/step - loss: 13114.5322\n",
            "Epoch 3/200\n",
            "32/32 [==============================] - 0s 2ms/step - loss: 12736.3896\n",
            "Epoch 4/200\n",
            "32/32 [==============================] - 0s 2ms/step - loss: 11651.2041\n",
            "Epoch 5/200\n",
            "32/32 [==============================] - 0s 2ms/step - loss: 9490.4512\n",
            "Epoch 6/200\n",
            "32/32 [==============================] - 0s 2ms/step - loss: 7621.7085\n",
            "Epoch 7/200\n",
            "32/32 [==============================] - 0s 2ms/step - loss: 7368.1904\n",
            "Epoch 8/200\n",
            "32/32 [==============================] - 0s 3ms/step - loss: 7339.5225\n",
            "Epoch 9/200\n",
            "32/32 [==============================] - 0s 2ms/step - loss: 7310.4897\n",
            "Epoch 10/200\n",
            "32/32 [==============================] - 0s 2ms/step - loss: 7283.3799\n",
            "Epoch 11/200\n",
            "32/32 [==============================] - 0s 2ms/step - loss: 7260.6519\n",
            "Epoch 12/200\n",
            "32/32 [==============================] - 0s 2ms/step - loss: 7227.9814\n",
            "Epoch 13/200\n",
            "32/32 [==============================] - 0s 2ms/step - loss: 7201.2832\n",
            "Epoch 14/200\n",
            "32/32 [==============================] - 0s 2ms/step - loss: 7177.0488\n",
            "Epoch 15/200\n",
            "32/32 [==============================] - 0s 2ms/step - loss: 7142.8223\n",
            "Epoch 16/200\n",
            "32/32 [==============================] - 0s 2ms/step - loss: 7116.3462\n",
            "Epoch 17/200\n",
            "32/32 [==============================] - 0s 2ms/step - loss: 7082.0991\n",
            "Epoch 18/200\n",
            "32/32 [==============================] - 0s 2ms/step - loss: 7056.1978\n",
            "Epoch 19/200\n",
            "32/32 [==============================] - 0s 2ms/step - loss: 7021.8057\n",
            "Epoch 20/200\n",
            "32/32 [==============================] - 0s 2ms/step - loss: 6987.7427\n",
            "Epoch 21/200\n",
            "32/32 [==============================] - 0s 2ms/step - loss: 6955.2524\n",
            "Epoch 22/200\n",
            "32/32 [==============================] - 0s 2ms/step - loss: 6917.9038\n",
            "Epoch 23/200\n",
            "32/32 [==============================] - 0s 2ms/step - loss: 6880.9453\n",
            "Epoch 24/200\n",
            "32/32 [==============================] - 0s 2ms/step - loss: 6851.1206\n",
            "Epoch 25/200\n",
            "32/32 [==============================] - 0s 2ms/step - loss: 6803.5684\n",
            "Epoch 26/200\n",
            "32/32 [==============================] - 0s 3ms/step - loss: 6763.5303\n",
            "Epoch 27/200\n",
            "32/32 [==============================] - 0s 2ms/step - loss: 6718.4390\n",
            "Epoch 28/200\n",
            "32/32 [==============================] - 0s 3ms/step - loss: 6678.7920\n",
            "Epoch 29/200\n",
            "32/32 [==============================] - 0s 2ms/step - loss: 6644.4453\n",
            "Epoch 30/200\n",
            "32/32 [==============================] - 0s 2ms/step - loss: 6603.5576\n",
            "Epoch 31/200\n",
            "32/32 [==============================] - 0s 2ms/step - loss: 6563.0112\n",
            "Epoch 32/200\n",
            "32/32 [==============================] - 0s 2ms/step - loss: 6525.0825\n",
            "Epoch 33/200\n",
            "32/32 [==============================] - 0s 2ms/step - loss: 6494.0752\n",
            "Epoch 34/200\n",
            "32/32 [==============================] - 0s 2ms/step - loss: 6466.8862\n",
            "Epoch 35/200\n",
            "32/32 [==============================] - 0s 2ms/step - loss: 6443.8408\n",
            "Epoch 36/200\n",
            "32/32 [==============================] - 0s 2ms/step - loss: 6420.4385\n",
            "Epoch 37/200\n",
            "32/32 [==============================] - 0s 2ms/step - loss: 6396.9736\n",
            "Epoch 38/200\n",
            "32/32 [==============================] - 0s 2ms/step - loss: 6383.1216\n",
            "Epoch 39/200\n",
            "32/32 [==============================] - 0s 2ms/step - loss: 6367.9419\n",
            "Epoch 40/200\n",
            "32/32 [==============================] - 0s 2ms/step - loss: 6350.8438\n",
            "Epoch 41/200\n",
            "32/32 [==============================] - 0s 2ms/step - loss: 6337.8550\n",
            "Epoch 42/200\n",
            "32/32 [==============================] - 0s 2ms/step - loss: 6320.6245\n",
            "Epoch 43/200\n",
            "32/32 [==============================] - 0s 2ms/step - loss: 6307.8809\n",
            "Epoch 44/200\n",
            "32/32 [==============================] - 0s 2ms/step - loss: 6297.1709\n",
            "Epoch 45/200\n",
            "32/32 [==============================] - 0s 2ms/step - loss: 6277.5127\n",
            "Epoch 46/200\n",
            "32/32 [==============================] - 0s 2ms/step - loss: 6271.1392\n",
            "Epoch 47/200\n",
            "32/32 [==============================] - 0s 2ms/step - loss: 6259.0796\n",
            "Epoch 48/200\n",
            "32/32 [==============================] - 0s 2ms/step - loss: 6232.6694\n",
            "Epoch 49/200\n",
            "32/32 [==============================] - 0s 2ms/step - loss: 6221.2905\n",
            "Epoch 50/200\n",
            "32/32 [==============================] - 0s 2ms/step - loss: 6207.2148\n",
            "Epoch 51/200\n",
            "32/32 [==============================] - 0s 3ms/step - loss: 6185.6538\n",
            "Epoch 52/200\n",
            "32/32 [==============================] - 0s 2ms/step - loss: 6168.8281\n",
            "Epoch 53/200\n",
            "32/32 [==============================] - 0s 2ms/step - loss: 6153.1636\n",
            "Epoch 54/200\n",
            "32/32 [==============================] - 0s 2ms/step - loss: 6138.1060\n",
            "Epoch 55/200\n",
            "32/32 [==============================] - 0s 2ms/step - loss: 6110.8442\n",
            "Epoch 56/200\n",
            "32/32 [==============================] - 0s 2ms/step - loss: 6095.9434\n",
            "Epoch 57/200\n",
            "32/32 [==============================] - 0s 2ms/step - loss: 6076.6934\n",
            "Epoch 58/200\n",
            "32/32 [==============================] - 0s 2ms/step - loss: 6058.2627\n",
            "Epoch 59/200\n",
            "32/32 [==============================] - 0s 2ms/step - loss: 6036.4707\n",
            "Epoch 60/200\n",
            "32/32 [==============================] - 0s 2ms/step - loss: 6009.4526\n",
            "Epoch 61/200\n",
            "32/32 [==============================] - 0s 2ms/step - loss: 5990.1147\n",
            "Epoch 62/200\n",
            "32/32 [==============================] - 0s 2ms/step - loss: 5966.9473\n",
            "Epoch 63/200\n",
            "32/32 [==============================] - 0s 2ms/step - loss: 5937.2949\n",
            "Epoch 64/200\n",
            "32/32 [==============================] - 0s 2ms/step - loss: 5912.0693\n",
            "Epoch 65/200\n",
            "32/32 [==============================] - 0s 2ms/step - loss: 5877.0024\n",
            "Epoch 66/200\n",
            "32/32 [==============================] - 0s 2ms/step - loss: 5848.7324\n",
            "Epoch 67/200\n",
            "32/32 [==============================] - 0s 3ms/step - loss: 5819.9595\n",
            "Epoch 68/200\n",
            "32/32 [==============================] - 0s 2ms/step - loss: 5794.0952\n",
            "Epoch 69/200\n",
            "32/32 [==============================] - 0s 2ms/step - loss: 5749.5376\n",
            "Epoch 70/200\n",
            "32/32 [==============================] - 0s 2ms/step - loss: 5711.1426\n",
            "Epoch 71/200\n",
            "32/32 [==============================] - 0s 2ms/step - loss: 5660.6440\n",
            "Epoch 72/200\n",
            "32/32 [==============================] - 0s 2ms/step - loss: 5631.5293\n",
            "Epoch 73/200\n",
            "32/32 [==============================] - 0s 2ms/step - loss: 5580.4727\n",
            "Epoch 74/200\n",
            "32/32 [==============================] - 0s 2ms/step - loss: 5528.1133\n",
            "Epoch 75/200\n",
            "32/32 [==============================] - 0s 2ms/step - loss: 5467.4175\n",
            "Epoch 76/200\n",
            "32/32 [==============================] - 0s 2ms/step - loss: 5410.3511\n",
            "Epoch 77/200\n",
            "32/32 [==============================] - 0s 2ms/step - loss: 5347.0825\n",
            "Epoch 78/200\n",
            "32/32 [==============================] - 0s 3ms/step - loss: 5283.0996\n",
            "Epoch 79/200\n",
            "32/32 [==============================] - 0s 2ms/step - loss: 5210.1084\n",
            "Epoch 80/200\n",
            "32/32 [==============================] - 0s 2ms/step - loss: 5133.3887\n",
            "Epoch 81/200\n",
            "32/32 [==============================] - 0s 2ms/step - loss: 5029.6499\n",
            "Epoch 82/200\n",
            "32/32 [==============================] - 0s 2ms/step - loss: 4932.0811\n",
            "Epoch 83/200\n",
            "32/32 [==============================] - 0s 2ms/step - loss: 4822.6284\n",
            "Epoch 84/200\n",
            "32/32 [==============================] - 0s 2ms/step - loss: 4691.3647\n",
            "Epoch 85/200\n",
            "32/32 [==============================] - 0s 2ms/step - loss: 4546.3950\n",
            "Epoch 86/200\n",
            "32/32 [==============================] - 0s 2ms/step - loss: 4408.5161\n",
            "Epoch 87/200\n",
            "32/32 [==============================] - 0s 2ms/step - loss: 4249.6904\n",
            "Epoch 88/200\n",
            "32/32 [==============================] - 0s 2ms/step - loss: 4093.0049\n",
            "Epoch 89/200\n",
            "32/32 [==============================] - 0s 2ms/step - loss: 3936.2668\n",
            "Epoch 90/200\n",
            "32/32 [==============================] - 0s 2ms/step - loss: 3812.6365\n",
            "Epoch 91/200\n",
            "32/32 [==============================] - 0s 2ms/step - loss: 3695.9958\n",
            "Epoch 92/200\n",
            "32/32 [==============================] - 0s 2ms/step - loss: 3625.9597\n",
            "Epoch 93/200\n",
            "32/32 [==============================] - 0s 2ms/step - loss: 3542.6721\n",
            "Epoch 94/200\n",
            "32/32 [==============================] - 0s 2ms/step - loss: 3497.8701\n",
            "Epoch 95/200\n",
            "32/32 [==============================] - 0s 2ms/step - loss: 3456.3718\n",
            "Epoch 96/200\n",
            "32/32 [==============================] - 0s 2ms/step - loss: 3426.8359\n",
            "Epoch 97/200\n",
            "32/32 [==============================] - 0s 2ms/step - loss: 3388.9038\n",
            "Epoch 98/200\n",
            "32/32 [==============================] - 0s 2ms/step - loss: 3355.7788\n",
            "Epoch 99/200\n",
            "32/32 [==============================] - 0s 2ms/step - loss: 3321.4021\n",
            "Epoch 100/200\n",
            "32/32 [==============================] - 0s 2ms/step - loss: 3305.8186\n",
            "Epoch 101/200\n",
            "32/32 [==============================] - 0s 2ms/step - loss: 3283.9014\n",
            "Epoch 102/200\n",
            "32/32 [==============================] - 0s 2ms/step - loss: 3257.3757\n",
            "Epoch 103/200\n",
            "32/32 [==============================] - 0s 2ms/step - loss: 3244.3652\n",
            "Epoch 104/200\n",
            "32/32 [==============================] - 0s 2ms/step - loss: 3227.4929\n",
            "Epoch 105/200\n",
            "32/32 [==============================] - 0s 2ms/step - loss: 3211.8418\n",
            "Epoch 106/200\n",
            "32/32 [==============================] - 0s 2ms/step - loss: 3199.5979\n",
            "Epoch 107/200\n",
            "32/32 [==============================] - 0s 2ms/step - loss: 3200.3804\n",
            "Epoch 108/200\n",
            "32/32 [==============================] - 0s 2ms/step - loss: 3173.1189\n",
            "Epoch 109/200\n",
            "32/32 [==============================] - 0s 2ms/step - loss: 3150.0015\n",
            "Epoch 110/200\n",
            "32/32 [==============================] - 0s 2ms/step - loss: 3120.6064\n",
            "Epoch 111/200\n",
            "32/32 [==============================] - 0s 2ms/step - loss: 3106.5439\n",
            "Epoch 112/200\n",
            "32/32 [==============================] - 0s 2ms/step - loss: 3088.1672\n",
            "Epoch 113/200\n",
            "32/32 [==============================] - 0s 2ms/step - loss: 3069.1982\n",
            "Epoch 114/200\n",
            "32/32 [==============================] - 0s 2ms/step - loss: 3048.1367\n",
            "Epoch 115/200\n",
            "32/32 [==============================] - 0s 2ms/step - loss: 3046.8826\n",
            "Epoch 116/200\n",
            "32/32 [==============================] - 0s 2ms/step - loss: 3026.8521\n",
            "Epoch 117/200\n",
            "32/32 [==============================] - 0s 2ms/step - loss: 3033.9236\n",
            "Epoch 118/200\n",
            "32/32 [==============================] - 0s 2ms/step - loss: 2991.7090\n",
            "Epoch 119/200\n",
            "32/32 [==============================] - 0s 2ms/step - loss: 2967.0657\n",
            "Epoch 120/200\n",
            "32/32 [==============================] - 0s 2ms/step - loss: 2941.7839\n",
            "Epoch 121/200\n",
            "32/32 [==============================] - 0s 2ms/step - loss: 2939.7859\n",
            "Epoch 122/200\n",
            "32/32 [==============================] - 0s 2ms/step - loss: 2912.1494\n",
            "Epoch 123/200\n",
            "32/32 [==============================] - 0s 2ms/step - loss: 2885.2974\n",
            "Epoch 124/200\n",
            "32/32 [==============================] - 0s 2ms/step - loss: 2855.2856\n",
            "Epoch 125/200\n",
            "32/32 [==============================] - 0s 2ms/step - loss: 2840.8535\n",
            "Epoch 126/200\n",
            "32/32 [==============================] - 0s 2ms/step - loss: 2824.1230\n",
            "Epoch 127/200\n",
            "32/32 [==============================] - 0s 2ms/step - loss: 2809.9570\n",
            "Epoch 128/200\n",
            "32/32 [==============================] - 0s 2ms/step - loss: 2796.6279\n",
            "Epoch 129/200\n",
            "32/32 [==============================] - 0s 2ms/step - loss: 2776.9553\n",
            "Epoch 130/200\n",
            "32/32 [==============================] - 0s 2ms/step - loss: 2768.4927\n",
            "Epoch 131/200\n",
            "32/32 [==============================] - 0s 3ms/step - loss: 2758.1069\n",
            "Epoch 132/200\n",
            "32/32 [==============================] - 0s 2ms/step - loss: 2739.4263\n",
            "Epoch 133/200\n",
            "32/32 [==============================] - 0s 3ms/step - loss: 2731.1345\n",
            "Epoch 134/200\n",
            "32/32 [==============================] - 0s 2ms/step - loss: 2737.4280\n",
            "Epoch 135/200\n",
            "32/32 [==============================] - 0s 2ms/step - loss: 2708.7905\n",
            "Epoch 136/200\n",
            "32/32 [==============================] - 0s 2ms/step - loss: 2706.4780\n",
            "Epoch 137/200\n",
            "32/32 [==============================] - 0s 2ms/step - loss: 2724.8250\n",
            "Epoch 138/200\n",
            "32/32 [==============================] - 0s 2ms/step - loss: 2695.9229\n",
            "Epoch 139/200\n",
            "32/32 [==============================] - 0s 2ms/step - loss: 2677.6509\n",
            "Epoch 140/200\n",
            "32/32 [==============================] - 0s 3ms/step - loss: 2664.8005\n",
            "Epoch 141/200\n",
            "32/32 [==============================] - 0s 2ms/step - loss: 2668.5935\n",
            "Epoch 142/200\n",
            "32/32 [==============================] - 0s 2ms/step - loss: 2655.8206\n",
            "Epoch 143/200\n",
            "32/32 [==============================] - 0s 3ms/step - loss: 2660.5286\n",
            "Epoch 144/200\n",
            "32/32 [==============================] - 0s 2ms/step - loss: 2656.0420\n",
            "Epoch 145/200\n",
            "32/32 [==============================] - 0s 2ms/step - loss: 2642.3237\n",
            "Epoch 146/200\n",
            "32/32 [==============================] - 0s 2ms/step - loss: 2639.7646\n",
            "Epoch 147/200\n",
            "32/32 [==============================] - 0s 2ms/step - loss: 2628.4019\n",
            "Epoch 148/200\n",
            "32/32 [==============================] - 0s 2ms/step - loss: 2627.8816\n",
            "Epoch 149/200\n",
            "32/32 [==============================] - 0s 2ms/step - loss: 2622.6785\n",
            "Epoch 150/200\n",
            "32/32 [==============================] - 0s 2ms/step - loss: 2625.8223\n",
            "Epoch 151/200\n",
            "32/32 [==============================] - 0s 2ms/step - loss: 2618.6458\n",
            "Epoch 152/200\n",
            "32/32 [==============================] - 0s 2ms/step - loss: 2616.0798\n",
            "Epoch 153/200\n",
            "32/32 [==============================] - 0s 2ms/step - loss: 2616.7419\n",
            "Epoch 154/200\n",
            "32/32 [==============================] - 0s 2ms/step - loss: 2618.6404\n",
            "Epoch 155/200\n",
            "32/32 [==============================] - 0s 2ms/step - loss: 2607.8010\n",
            "Epoch 156/200\n",
            "32/32 [==============================] - 0s 2ms/step - loss: 2602.9463\n",
            "Epoch 157/200\n",
            "32/32 [==============================] - 0s 2ms/step - loss: 2615.5273\n",
            "Epoch 158/200\n",
            "32/32 [==============================] - 0s 2ms/step - loss: 2626.0144\n",
            "Epoch 159/200\n",
            "32/32 [==============================] - 0s 2ms/step - loss: 2602.7651\n",
            "Epoch 160/200\n",
            "32/32 [==============================] - 0s 2ms/step - loss: 2599.0869\n",
            "Epoch 161/200\n",
            "32/32 [==============================] - 0s 2ms/step - loss: 2596.4404\n",
            "Epoch 162/200\n",
            "32/32 [==============================] - 0s 2ms/step - loss: 2595.8284\n",
            "Epoch 163/200\n",
            "32/32 [==============================] - 0s 2ms/step - loss: 2600.1003\n",
            "Epoch 164/200\n",
            "32/32 [==============================] - 0s 2ms/step - loss: 2625.2886\n",
            "Epoch 165/200\n",
            "32/32 [==============================] - 0s 2ms/step - loss: 2604.0569\n",
            "Epoch 166/200\n",
            "32/32 [==============================] - 0s 2ms/step - loss: 2595.0869\n",
            "Epoch 167/200\n",
            "32/32 [==============================] - 0s 2ms/step - loss: 2579.2358\n",
            "Epoch 168/200\n",
            "32/32 [==============================] - 0s 2ms/step - loss: 2577.0100\n",
            "Epoch 169/200\n",
            "32/32 [==============================] - 0s 2ms/step - loss: 2576.5312\n",
            "Epoch 170/200\n",
            "32/32 [==============================] - 0s 2ms/step - loss: 2576.4233\n",
            "Epoch 171/200\n",
            "32/32 [==============================] - 0s 2ms/step - loss: 2585.9580\n",
            "Epoch 172/200\n",
            "32/32 [==============================] - 0s 2ms/step - loss: 2572.2336\n",
            "Epoch 173/200\n",
            "32/32 [==============================] - 0s 2ms/step - loss: 2564.9456\n",
            "Epoch 174/200\n",
            "32/32 [==============================] - 0s 2ms/step - loss: 2571.6902\n",
            "Epoch 175/200\n",
            "32/32 [==============================] - 0s 2ms/step - loss: 2564.7739\n",
            "Epoch 176/200\n",
            "32/32 [==============================] - 0s 2ms/step - loss: 2561.4707\n",
            "Epoch 177/200\n",
            "32/32 [==============================] - 0s 2ms/step - loss: 2559.1619\n",
            "Epoch 178/200\n",
            "32/32 [==============================] - 0s 2ms/step - loss: 2564.3149\n",
            "Epoch 179/200\n",
            "32/32 [==============================] - 0s 2ms/step - loss: 2560.8936\n",
            "Epoch 180/200\n",
            "32/32 [==============================] - 0s 2ms/step - loss: 2561.3333\n",
            "Epoch 181/200\n",
            "32/32 [==============================] - 0s 2ms/step - loss: 2547.8987\n",
            "Epoch 182/200\n",
            "32/32 [==============================] - 0s 3ms/step - loss: 2560.8425\n",
            "Epoch 183/200\n",
            "32/32 [==============================] - 0s 2ms/step - loss: 2549.2556\n",
            "Epoch 184/200\n",
            "32/32 [==============================] - 0s 2ms/step - loss: 2545.3467\n",
            "Epoch 185/200\n",
            "32/32 [==============================] - 0s 2ms/step - loss: 2541.3662\n",
            "Epoch 186/200\n",
            "32/32 [==============================] - 0s 2ms/step - loss: 2544.6121\n",
            "Epoch 187/200\n",
            "32/32 [==============================] - 0s 2ms/step - loss: 2543.2161\n",
            "Epoch 188/200\n",
            "32/32 [==============================] - 0s 2ms/step - loss: 2537.2717\n",
            "Epoch 189/200\n",
            "32/32 [==============================] - 0s 2ms/step - loss: 2545.7607\n",
            "Epoch 190/200\n",
            "32/32 [==============================] - 0s 2ms/step - loss: 2542.5054\n",
            "Epoch 191/200\n",
            "32/32 [==============================] - 0s 2ms/step - loss: 2529.1775\n",
            "Epoch 192/200\n",
            "32/32 [==============================] - 0s 2ms/step - loss: 2537.2686\n",
            "Epoch 193/200\n",
            "32/32 [==============================] - 0s 2ms/step - loss: 2539.7224\n",
            "Epoch 194/200\n",
            "32/32 [==============================] - 0s 2ms/step - loss: 2548.8281\n",
            "Epoch 195/200\n",
            "32/32 [==============================] - 0s 2ms/step - loss: 2523.5933\n",
            "Epoch 196/200\n",
            "32/32 [==============================] - 0s 2ms/step - loss: 2529.0190\n",
            "Epoch 197/200\n",
            "32/32 [==============================] - 0s 2ms/step - loss: 2520.5288\n",
            "Epoch 198/200\n",
            "32/32 [==============================] - 0s 2ms/step - loss: 2519.9531\n",
            "Epoch 199/200\n",
            "32/32 [==============================] - 0s 2ms/step - loss: 2521.3616\n",
            "Epoch 200/200\n",
            "32/32 [==============================] - 0s 2ms/step - loss: 2520.1348\n"
          ]
        },
        {
          "output_type": "execute_result",
          "data": {
            "text/plain": [
              "<keras.callbacks.History at 0x7f50dd7f7690>"
            ]
          },
          "metadata": {},
          "execution_count": 135
        }
      ]
    },
    {
      "cell_type": "code",
      "source": [
        "model.evaluate(X_test, y_test)"
      ],
      "metadata": {
        "colab": {
          "base_uri": "https://localhost:8080/"
        },
        "id": "GjeRVF5D_P-E",
        "outputId": "1f83c2e1-c3ba-40ab-fa8c-af786461f1d2"
      },
      "execution_count": 136,
      "outputs": [
        {
          "output_type": "stream",
          "name": "stdout",
          "text": [
            "11/11 [==============================] - 0s 2ms/step - loss: 2819.5486\n"
          ]
        },
        {
          "output_type": "execute_result",
          "data": {
            "text/plain": [
              "2819.548583984375"
            ]
          },
          "metadata": {},
          "execution_count": 136
        }
      ]
    },
    {
      "cell_type": "code",
      "source": [
        "from sklearn.preprocessing import StandardScaler"
      ],
      "metadata": {
        "id": "dDB_RleQDsjo"
      },
      "execution_count": 137,
      "outputs": []
    },
    {
      "cell_type": "code",
      "source": [
        "sc = StandardScaler()"
      ],
      "metadata": {
        "id": "wnb9C1SeFCQt"
      },
      "execution_count": 138,
      "outputs": []
    },
    {
      "cell_type": "code",
      "source": [
        "X_train_scaled = sc.fit_transform(X_train)\n",
        "X_test_scaled = sc.transform(X_test)"
      ],
      "metadata": {
        "id": "lDb8CEFtFGyH"
      },
      "execution_count": 139,
      "outputs": []
    },
    {
      "cell_type": "code",
      "source": [
        "model = tf.keras.Sequential()"
      ],
      "metadata": {
        "id": "CqlIQ_kuFNye"
      },
      "execution_count": 140,
      "outputs": []
    },
    {
      "cell_type": "code",
      "source": [
        "model.add(tf.keras.layers.Dense(20, input_shape = (X.shape[1],), activation = 'relu'))\n",
        "model.add(tf.keras.layers.Dense(50, activation = 'relu'))\n",
        "model.add(tf.keras.layers.Dense(50, activation = 'relu'))\n",
        "model.add(tf.keras.layers.Dense(1))"
      ],
      "metadata": {
        "id": "Y_L24GZjFUw9"
      },
      "execution_count": 141,
      "outputs": []
    },
    {
      "cell_type": "code",
      "source": [
        "model.compile(loss = 'mae', optimizer='Adam')"
      ],
      "metadata": {
        "id": "QGvIoisVFVdK"
      },
      "execution_count": 142,
      "outputs": []
    },
    {
      "cell_type": "code",
      "source": [
        "model.fit(X_train_scaled, y_train, epochs = 400)"
      ],
      "metadata": {
        "colab": {
          "base_uri": "https://localhost:8080/"
        },
        "id": "7Mq7iJgZFbyG",
        "outputId": "372504c9-d586-4fa4-bdb0-779fce9de9f5"
      },
      "execution_count": 145,
      "outputs": [
        {
          "output_type": "stream",
          "name": "stdout",
          "text": [
            "Epoch 1/400\n",
            "32/32 [==============================] - 0s 4ms/step - loss: 2188.9026\n",
            "Epoch 2/400\n",
            "32/32 [==============================] - 0s 3ms/step - loss: 2190.7927\n",
            "Epoch 3/400\n",
            "32/32 [==============================] - 0s 3ms/step - loss: 2190.2192\n",
            "Epoch 4/400\n",
            "32/32 [==============================] - 0s 2ms/step - loss: 2181.0100\n",
            "Epoch 5/400\n",
            "32/32 [==============================] - 0s 4ms/step - loss: 2176.4182\n",
            "Epoch 6/400\n",
            "32/32 [==============================] - 0s 4ms/step - loss: 2176.5168\n",
            "Epoch 7/400\n",
            "32/32 [==============================] - 0s 4ms/step - loss: 2170.6069\n",
            "Epoch 8/400\n",
            "32/32 [==============================] - 0s 4ms/step - loss: 2166.1624\n",
            "Epoch 9/400\n",
            "32/32 [==============================] - 0s 3ms/step - loss: 2167.4766\n",
            "Epoch 10/400\n",
            "32/32 [==============================] - 0s 4ms/step - loss: 2159.6511\n",
            "Epoch 11/400\n",
            "32/32 [==============================] - 0s 4ms/step - loss: 2157.2156\n",
            "Epoch 12/400\n",
            "32/32 [==============================] - 0s 4ms/step - loss: 2152.3074\n",
            "Epoch 13/400\n",
            "32/32 [==============================] - 0s 3ms/step - loss: 2155.3762\n",
            "Epoch 14/400\n",
            "32/32 [==============================] - 0s 4ms/step - loss: 2148.0588\n",
            "Epoch 15/400\n",
            "32/32 [==============================] - 0s 4ms/step - loss: 2144.1284\n",
            "Epoch 16/400\n",
            "32/32 [==============================] - 0s 3ms/step - loss: 2141.6628\n",
            "Epoch 17/400\n",
            "32/32 [==============================] - 0s 3ms/step - loss: 2136.9297\n",
            "Epoch 18/400\n",
            "32/32 [==============================] - 0s 3ms/step - loss: 2134.3262\n",
            "Epoch 19/400\n",
            "32/32 [==============================] - 0s 4ms/step - loss: 2132.3342\n",
            "Epoch 20/400\n",
            "32/32 [==============================] - 0s 4ms/step - loss: 2130.7434\n",
            "Epoch 21/400\n",
            "32/32 [==============================] - 0s 3ms/step - loss: 2127.0859\n",
            "Epoch 22/400\n",
            "32/32 [==============================] - 0s 3ms/step - loss: 2125.3066\n",
            "Epoch 23/400\n",
            "32/32 [==============================] - 0s 4ms/step - loss: 2122.1038\n",
            "Epoch 24/400\n",
            "32/32 [==============================] - 0s 3ms/step - loss: 2124.1301\n",
            "Epoch 25/400\n",
            "32/32 [==============================] - 0s 3ms/step - loss: 2121.0354\n",
            "Epoch 26/400\n",
            "32/32 [==============================] - 0s 3ms/step - loss: 2116.9919\n",
            "Epoch 27/400\n",
            "32/32 [==============================] - 0s 4ms/step - loss: 2110.2788\n",
            "Epoch 28/400\n",
            "32/32 [==============================] - 0s 3ms/step - loss: 2106.2402\n",
            "Epoch 29/400\n",
            "32/32 [==============================] - 0s 4ms/step - loss: 2110.6382\n",
            "Epoch 30/400\n",
            "32/32 [==============================] - 0s 4ms/step - loss: 2105.0623\n",
            "Epoch 31/400\n",
            "32/32 [==============================] - 0s 4ms/step - loss: 2098.9954\n",
            "Epoch 32/400\n",
            "32/32 [==============================] - 0s 4ms/step - loss: 2099.3875\n",
            "Epoch 33/400\n",
            "32/32 [==============================] - 0s 4ms/step - loss: 2096.7896\n",
            "Epoch 34/400\n",
            "32/32 [==============================] - 0s 3ms/step - loss: 2093.8684\n",
            "Epoch 35/400\n",
            "32/32 [==============================] - 0s 3ms/step - loss: 2091.9709\n",
            "Epoch 36/400\n",
            "32/32 [==============================] - 0s 3ms/step - loss: 2097.0920\n",
            "Epoch 37/400\n",
            "32/32 [==============================] - 0s 3ms/step - loss: 2099.8772\n",
            "Epoch 38/400\n",
            "32/32 [==============================] - 0s 3ms/step - loss: 2089.9849\n",
            "Epoch 39/400\n",
            "32/32 [==============================] - 0s 3ms/step - loss: 2090.3337\n",
            "Epoch 40/400\n",
            "32/32 [==============================] - 0s 3ms/step - loss: 2090.1423\n",
            "Epoch 41/400\n",
            "32/32 [==============================] - 0s 4ms/step - loss: 2080.8425\n",
            "Epoch 42/400\n",
            "32/32 [==============================] - 0s 4ms/step - loss: 2089.1655\n",
            "Epoch 43/400\n",
            "32/32 [==============================] - 0s 3ms/step - loss: 2076.5754\n",
            "Epoch 44/400\n",
            "32/32 [==============================] - 0s 3ms/step - loss: 2077.3835\n",
            "Epoch 45/400\n",
            "32/32 [==============================] - 0s 3ms/step - loss: 2074.6724\n",
            "Epoch 46/400\n",
            "32/32 [==============================] - 0s 4ms/step - loss: 2084.5581\n",
            "Epoch 47/400\n",
            "32/32 [==============================] - 0s 4ms/step - loss: 2074.2173\n",
            "Epoch 48/400\n",
            "32/32 [==============================] - 0s 4ms/step - loss: 2071.9526\n",
            "Epoch 49/400\n",
            "32/32 [==============================] - 0s 4ms/step - loss: 2066.3083\n",
            "Epoch 50/400\n",
            "32/32 [==============================] - 0s 4ms/step - loss: 2066.5364\n",
            "Epoch 51/400\n",
            "32/32 [==============================] - 0s 4ms/step - loss: 2067.4307\n",
            "Epoch 52/400\n",
            "32/32 [==============================] - 0s 4ms/step - loss: 2067.7219\n",
            "Epoch 53/400\n",
            "32/32 [==============================] - 0s 4ms/step - loss: 2064.2695\n",
            "Epoch 54/400\n",
            "32/32 [==============================] - 0s 4ms/step - loss: 2059.2891\n",
            "Epoch 55/400\n",
            "32/32 [==============================] - 0s 3ms/step - loss: 2061.2456\n",
            "Epoch 56/400\n",
            "32/32 [==============================] - 0s 3ms/step - loss: 2058.5266\n",
            "Epoch 57/400\n",
            "32/32 [==============================] - 0s 4ms/step - loss: 2063.3345\n",
            "Epoch 58/400\n",
            "32/32 [==============================] - 0s 3ms/step - loss: 2060.3667\n",
            "Epoch 59/400\n",
            "32/32 [==============================] - 0s 3ms/step - loss: 2058.9324\n",
            "Epoch 60/400\n",
            "32/32 [==============================] - 0s 4ms/step - loss: 2050.7656\n",
            "Epoch 61/400\n",
            "32/32 [==============================] - 0s 3ms/step - loss: 2054.8130\n",
            "Epoch 62/400\n",
            "32/32 [==============================] - 0s 3ms/step - loss: 2050.2214\n",
            "Epoch 63/400\n",
            "32/32 [==============================] - 0s 3ms/step - loss: 2051.5364\n",
            "Epoch 64/400\n",
            "32/32 [==============================] - 0s 3ms/step - loss: 2050.1812\n",
            "Epoch 65/400\n",
            "32/32 [==============================] - 0s 3ms/step - loss: 2046.7249\n",
            "Epoch 66/400\n",
            "32/32 [==============================] - 0s 3ms/step - loss: 2045.3022\n",
            "Epoch 67/400\n",
            "32/32 [==============================] - 0s 3ms/step - loss: 2046.1298\n",
            "Epoch 68/400\n",
            "32/32 [==============================] - 0s 3ms/step - loss: 2042.8613\n",
            "Epoch 69/400\n",
            "32/32 [==============================] - 0s 3ms/step - loss: 2044.8280\n",
            "Epoch 70/400\n",
            "32/32 [==============================] - 0s 3ms/step - loss: 2042.3671\n",
            "Epoch 71/400\n",
            "32/32 [==============================] - 0s 5ms/step - loss: 2038.6364\n",
            "Epoch 72/400\n",
            "32/32 [==============================] - 0s 4ms/step - loss: 2039.2302\n",
            "Epoch 73/400\n",
            "32/32 [==============================] - 0s 4ms/step - loss: 2038.4570\n",
            "Epoch 74/400\n",
            "32/32 [==============================] - 0s 4ms/step - loss: 2034.6838\n",
            "Epoch 75/400\n",
            "32/32 [==============================] - 0s 4ms/step - loss: 2035.7250\n",
            "Epoch 76/400\n",
            "32/32 [==============================] - 0s 4ms/step - loss: 2036.4005\n",
            "Epoch 77/400\n",
            "32/32 [==============================] - 0s 4ms/step - loss: 2036.9742\n",
            "Epoch 78/400\n",
            "32/32 [==============================] - 0s 4ms/step - loss: 2033.8663\n",
            "Epoch 79/400\n",
            "32/32 [==============================] - 0s 5ms/step - loss: 2034.2885\n",
            "Epoch 80/400\n",
            "32/32 [==============================] - 0s 4ms/step - loss: 2030.9706\n",
            "Epoch 81/400\n",
            "32/32 [==============================] - 0s 4ms/step - loss: 2031.9271\n",
            "Epoch 82/400\n",
            "32/32 [==============================] - 0s 3ms/step - loss: 2035.9773\n",
            "Epoch 83/400\n",
            "32/32 [==============================] - 0s 3ms/step - loss: 2032.4246\n",
            "Epoch 84/400\n",
            "32/32 [==============================] - 0s 4ms/step - loss: 2034.1654\n",
            "Epoch 85/400\n",
            "32/32 [==============================] - 0s 4ms/step - loss: 2029.6978\n",
            "Epoch 86/400\n",
            "32/32 [==============================] - 0s 3ms/step - loss: 2028.4460\n",
            "Epoch 87/400\n",
            "32/32 [==============================] - 0s 3ms/step - loss: 2026.7001\n",
            "Epoch 88/400\n",
            "32/32 [==============================] - 0s 3ms/step - loss: 2028.3700\n",
            "Epoch 89/400\n",
            "32/32 [==============================] - 0s 3ms/step - loss: 2024.4426\n",
            "Epoch 90/400\n",
            "32/32 [==============================] - 0s 4ms/step - loss: 2026.5334\n",
            "Epoch 91/400\n",
            "32/32 [==============================] - 0s 3ms/step - loss: 2027.4362\n",
            "Epoch 92/400\n",
            "32/32 [==============================] - 0s 4ms/step - loss: 2026.8558\n",
            "Epoch 93/400\n",
            "32/32 [==============================] - 0s 4ms/step - loss: 2022.1566\n",
            "Epoch 94/400\n",
            "32/32 [==============================] - 0s 4ms/step - loss: 2024.6511\n",
            "Epoch 95/400\n",
            "32/32 [==============================] - 0s 4ms/step - loss: 2022.5717\n",
            "Epoch 96/400\n",
            "32/32 [==============================] - 0s 4ms/step - loss: 2021.5618\n",
            "Epoch 97/400\n",
            "32/32 [==============================] - 0s 4ms/step - loss: 2022.9106\n",
            "Epoch 98/400\n",
            "32/32 [==============================] - 0s 4ms/step - loss: 2030.9320\n",
            "Epoch 99/400\n",
            "32/32 [==============================] - 0s 4ms/step - loss: 2032.0044\n",
            "Epoch 100/400\n",
            "32/32 [==============================] - 0s 4ms/step - loss: 2022.5342\n",
            "Epoch 101/400\n",
            "32/32 [==============================] - 0s 4ms/step - loss: 2025.0508\n",
            "Epoch 102/400\n",
            "32/32 [==============================] - 0s 4ms/step - loss: 2020.7990\n",
            "Epoch 103/400\n",
            "32/32 [==============================] - 0s 7ms/step - loss: 2016.3239\n",
            "Epoch 104/400\n",
            "32/32 [==============================] - 0s 9ms/step - loss: 2015.9869\n",
            "Epoch 105/400\n",
            "32/32 [==============================] - 0s 10ms/step - loss: 2023.0051\n",
            "Epoch 106/400\n",
            "32/32 [==============================] - 0s 6ms/step - loss: 2016.5771\n",
            "Epoch 107/400\n",
            "32/32 [==============================] - 0s 5ms/step - loss: 2014.2996\n",
            "Epoch 108/400\n",
            "32/32 [==============================] - 0s 5ms/step - loss: 2018.2711\n",
            "Epoch 109/400\n",
            "32/32 [==============================] - 0s 3ms/step - loss: 2016.0787\n",
            "Epoch 110/400\n",
            "32/32 [==============================] - 0s 4ms/step - loss: 2016.2450\n",
            "Epoch 111/400\n",
            "32/32 [==============================] - 0s 4ms/step - loss: 2014.1682\n",
            "Epoch 112/400\n",
            "32/32 [==============================] - 0s 4ms/step - loss: 2012.4279\n",
            "Epoch 113/400\n",
            "32/32 [==============================] - 0s 4ms/step - loss: 2012.3010\n",
            "Epoch 114/400\n",
            "32/32 [==============================] - 0s 4ms/step - loss: 2016.3945\n",
            "Epoch 115/400\n",
            "32/32 [==============================] - 0s 4ms/step - loss: 2011.0831\n",
            "Epoch 116/400\n",
            "32/32 [==============================] - 0s 3ms/step - loss: 2007.2615\n",
            "Epoch 117/400\n",
            "32/32 [==============================] - 0s 3ms/step - loss: 2005.5150\n",
            "Epoch 118/400\n",
            "32/32 [==============================] - 0s 4ms/step - loss: 2006.9943\n",
            "Epoch 119/400\n",
            "32/32 [==============================] - 0s 4ms/step - loss: 2011.2737\n",
            "Epoch 120/400\n",
            "32/32 [==============================] - 0s 4ms/step - loss: 2009.0100\n",
            "Epoch 121/400\n",
            "32/32 [==============================] - 0s 4ms/step - loss: 2005.6504\n",
            "Epoch 122/400\n",
            "32/32 [==============================] - 0s 4ms/step - loss: 2009.6344\n",
            "Epoch 123/400\n",
            "32/32 [==============================] - 0s 4ms/step - loss: 2005.6597\n",
            "Epoch 124/400\n",
            "32/32 [==============================] - 0s 4ms/step - loss: 2003.0933\n",
            "Epoch 125/400\n",
            "32/32 [==============================] - 0s 4ms/step - loss: 2003.0715\n",
            "Epoch 126/400\n",
            "32/32 [==============================] - 0s 4ms/step - loss: 2002.4038\n",
            "Epoch 127/400\n",
            "32/32 [==============================] - 0s 4ms/step - loss: 2005.5679\n",
            "Epoch 128/400\n",
            "32/32 [==============================] - 0s 4ms/step - loss: 2008.5596\n",
            "Epoch 129/400\n",
            "32/32 [==============================] - 0s 4ms/step - loss: 2004.2064\n",
            "Epoch 130/400\n",
            "32/32 [==============================] - 0s 3ms/step - loss: 2002.4601\n",
            "Epoch 131/400\n",
            "32/32 [==============================] - 0s 4ms/step - loss: 2002.3557\n",
            "Epoch 132/400\n",
            "32/32 [==============================] - 0s 4ms/step - loss: 2005.3564\n",
            "Epoch 133/400\n",
            "32/32 [==============================] - 0s 4ms/step - loss: 2002.3312\n",
            "Epoch 134/400\n",
            "32/32 [==============================] - 0s 4ms/step - loss: 1999.1942\n",
            "Epoch 135/400\n",
            "32/32 [==============================] - 0s 3ms/step - loss: 2001.3337\n",
            "Epoch 136/400\n",
            "32/32 [==============================] - 0s 4ms/step - loss: 2001.9517\n",
            "Epoch 137/400\n",
            "32/32 [==============================] - 0s 3ms/step - loss: 1999.1398\n",
            "Epoch 138/400\n",
            "32/32 [==============================] - 0s 4ms/step - loss: 1998.8301\n",
            "Epoch 139/400\n",
            "32/32 [==============================] - 0s 3ms/step - loss: 1994.9932\n",
            "Epoch 140/400\n",
            "32/32 [==============================] - 0s 3ms/step - loss: 1994.5631\n",
            "Epoch 141/400\n",
            "32/32 [==============================] - 0s 3ms/step - loss: 1994.3566\n",
            "Epoch 142/400\n",
            "32/32 [==============================] - 0s 3ms/step - loss: 1999.8901\n",
            "Epoch 143/400\n",
            "32/32 [==============================] - 0s 4ms/step - loss: 1998.6089\n",
            "Epoch 144/400\n",
            "32/32 [==============================] - 0s 4ms/step - loss: 1994.0471\n",
            "Epoch 145/400\n",
            "32/32 [==============================] - 0s 3ms/step - loss: 1995.1317\n",
            "Epoch 146/400\n",
            "32/32 [==============================] - 0s 3ms/step - loss: 1994.2378\n",
            "Epoch 147/400\n",
            "32/32 [==============================] - 0s 4ms/step - loss: 2001.0585\n",
            "Epoch 148/400\n",
            "32/32 [==============================] - 0s 3ms/step - loss: 1996.9956\n",
            "Epoch 149/400\n",
            "32/32 [==============================] - 0s 4ms/step - loss: 1994.5742\n",
            "Epoch 150/400\n",
            "32/32 [==============================] - 0s 4ms/step - loss: 1992.7148\n",
            "Epoch 151/400\n",
            "32/32 [==============================] - 0s 4ms/step - loss: 1991.1082\n",
            "Epoch 152/400\n",
            "32/32 [==============================] - 0s 4ms/step - loss: 1992.7432\n",
            "Epoch 153/400\n",
            "32/32 [==============================] - 0s 4ms/step - loss: 1991.9858\n",
            "Epoch 154/400\n",
            "32/32 [==============================] - 0s 4ms/step - loss: 1992.7188\n",
            "Epoch 155/400\n",
            "32/32 [==============================] - 0s 4ms/step - loss: 1995.1927\n",
            "Epoch 156/400\n",
            "32/32 [==============================] - 0s 4ms/step - loss: 1992.6068\n",
            "Epoch 157/400\n",
            "32/32 [==============================] - 0s 3ms/step - loss: 1988.8854\n",
            "Epoch 158/400\n",
            "32/32 [==============================] - 0s 4ms/step - loss: 1986.5944\n",
            "Epoch 159/400\n",
            "32/32 [==============================] - 0s 3ms/step - loss: 1986.9695\n",
            "Epoch 160/400\n",
            "32/32 [==============================] - 0s 4ms/step - loss: 1986.7565\n",
            "Epoch 161/400\n",
            "32/32 [==============================] - 0s 3ms/step - loss: 1986.6201\n",
            "Epoch 162/400\n",
            "32/32 [==============================] - 0s 4ms/step - loss: 1985.4807\n",
            "Epoch 163/400\n",
            "32/32 [==============================] - 0s 3ms/step - loss: 1987.4354\n",
            "Epoch 164/400\n",
            "32/32 [==============================] - 0s 3ms/step - loss: 1983.3512\n",
            "Epoch 165/400\n",
            "32/32 [==============================] - 0s 3ms/step - loss: 1985.7434\n",
            "Epoch 166/400\n",
            "32/32 [==============================] - 0s 3ms/step - loss: 1983.1893\n",
            "Epoch 167/400\n",
            "32/32 [==============================] - 0s 4ms/step - loss: 1983.0811\n",
            "Epoch 168/400\n",
            "32/32 [==============================] - 0s 3ms/step - loss: 1988.2997\n",
            "Epoch 169/400\n",
            "32/32 [==============================] - 0s 3ms/step - loss: 1981.6829\n",
            "Epoch 170/400\n",
            "32/32 [==============================] - 0s 3ms/step - loss: 1982.0681\n",
            "Epoch 171/400\n",
            "32/32 [==============================] - 0s 4ms/step - loss: 1984.3151\n",
            "Epoch 172/400\n",
            "32/32 [==============================] - 0s 4ms/step - loss: 1981.0536\n",
            "Epoch 173/400\n",
            "32/32 [==============================] - 0s 4ms/step - loss: 1982.6189\n",
            "Epoch 174/400\n",
            "32/32 [==============================] - 0s 4ms/step - loss: 1986.3281\n",
            "Epoch 175/400\n",
            "32/32 [==============================] - 0s 4ms/step - loss: 1984.3336\n",
            "Epoch 176/400\n",
            "32/32 [==============================] - 0s 3ms/step - loss: 1981.3507\n",
            "Epoch 177/400\n",
            "32/32 [==============================] - 0s 4ms/step - loss: 1979.7717\n",
            "Epoch 178/400\n",
            "32/32 [==============================] - 0s 3ms/step - loss: 1980.2206\n",
            "Epoch 179/400\n",
            "32/32 [==============================] - 0s 4ms/step - loss: 1977.2875\n",
            "Epoch 180/400\n",
            "32/32 [==============================] - 0s 4ms/step - loss: 1978.0586\n",
            "Epoch 181/400\n",
            "32/32 [==============================] - 0s 4ms/step - loss: 1977.8048\n",
            "Epoch 182/400\n",
            "32/32 [==============================] - 0s 4ms/step - loss: 1980.8402\n",
            "Epoch 183/400\n",
            "32/32 [==============================] - 0s 4ms/step - loss: 1974.8936\n",
            "Epoch 184/400\n",
            "32/32 [==============================] - 0s 4ms/step - loss: 1976.8102\n",
            "Epoch 185/400\n",
            "32/32 [==============================] - 0s 4ms/step - loss: 1975.1956\n",
            "Epoch 186/400\n",
            "32/32 [==============================] - 0s 3ms/step - loss: 1973.0701\n",
            "Epoch 187/400\n",
            "32/32 [==============================] - 0s 3ms/step - loss: 1976.7780\n",
            "Epoch 188/400\n",
            "32/32 [==============================] - 0s 4ms/step - loss: 1974.4283\n",
            "Epoch 189/400\n",
            "32/32 [==============================] - 0s 4ms/step - loss: 1978.7954\n",
            "Epoch 190/400\n",
            "32/32 [==============================] - 0s 4ms/step - loss: 1974.7936\n",
            "Epoch 191/400\n",
            "32/32 [==============================] - 0s 4ms/step - loss: 1975.7306\n",
            "Epoch 192/400\n",
            "32/32 [==============================] - 0s 4ms/step - loss: 1973.4713\n",
            "Epoch 193/400\n",
            "32/32 [==============================] - 0s 4ms/step - loss: 1973.4979\n",
            "Epoch 194/400\n",
            "32/32 [==============================] - 0s 4ms/step - loss: 1973.6149\n",
            "Epoch 195/400\n",
            "32/32 [==============================] - 0s 4ms/step - loss: 1973.0929\n",
            "Epoch 196/400\n",
            "32/32 [==============================] - 0s 4ms/step - loss: 1973.1936\n",
            "Epoch 197/400\n",
            "32/32 [==============================] - 0s 3ms/step - loss: 1972.6135\n",
            "Epoch 198/400\n",
            "32/32 [==============================] - 0s 4ms/step - loss: 1976.0005\n",
            "Epoch 199/400\n",
            "32/32 [==============================] - 0s 4ms/step - loss: 1980.7616\n",
            "Epoch 200/400\n",
            "32/32 [==============================] - 0s 4ms/step - loss: 1973.2493\n",
            "Epoch 201/400\n",
            "32/32 [==============================] - 0s 3ms/step - loss: 1968.9672\n",
            "Epoch 202/400\n",
            "32/32 [==============================] - 0s 3ms/step - loss: 1972.5912\n",
            "Epoch 203/400\n",
            "32/32 [==============================] - 0s 3ms/step - loss: 1970.1887\n",
            "Epoch 204/400\n",
            "32/32 [==============================] - 0s 3ms/step - loss: 1970.4238\n",
            "Epoch 205/400\n",
            "32/32 [==============================] - 0s 4ms/step - loss: 1972.8199\n",
            "Epoch 206/400\n",
            "32/32 [==============================] - 0s 4ms/step - loss: 1970.1133\n",
            "Epoch 207/400\n",
            "32/32 [==============================] - 0s 4ms/step - loss: 1969.1786\n",
            "Epoch 208/400\n",
            "32/32 [==============================] - 0s 4ms/step - loss: 1976.9175\n",
            "Epoch 209/400\n",
            "32/32 [==============================] - 0s 4ms/step - loss: 1970.3313\n",
            "Epoch 210/400\n",
            "32/32 [==============================] - 0s 3ms/step - loss: 1968.5925\n",
            "Epoch 211/400\n",
            "32/32 [==============================] - 0s 4ms/step - loss: 1967.8586\n",
            "Epoch 212/400\n",
            "32/32 [==============================] - 0s 5ms/step - loss: 1975.3982\n",
            "Epoch 213/400\n",
            "32/32 [==============================] - 0s 3ms/step - loss: 1974.1426\n",
            "Epoch 214/400\n",
            "32/32 [==============================] - 0s 4ms/step - loss: 1964.8368\n",
            "Epoch 215/400\n",
            "32/32 [==============================] - 0s 4ms/step - loss: 1966.4714\n",
            "Epoch 216/400\n",
            "32/32 [==============================] - 0s 5ms/step - loss: 1965.4420\n",
            "Epoch 217/400\n",
            "32/32 [==============================] - 0s 4ms/step - loss: 1966.8142\n",
            "Epoch 218/400\n",
            "32/32 [==============================] - 0s 4ms/step - loss: 1967.9102\n",
            "Epoch 219/400\n",
            "32/32 [==============================] - 0s 5ms/step - loss: 1965.2466\n",
            "Epoch 220/400\n",
            "32/32 [==============================] - 0s 4ms/step - loss: 1965.6989\n",
            "Epoch 221/400\n",
            "32/32 [==============================] - 0s 3ms/step - loss: 1966.5554\n",
            "Epoch 222/400\n",
            "32/32 [==============================] - 0s 4ms/step - loss: 1965.9515\n",
            "Epoch 223/400\n",
            "32/32 [==============================] - 0s 4ms/step - loss: 1965.3997\n",
            "Epoch 224/400\n",
            "32/32 [==============================] - 0s 3ms/step - loss: 1965.9937\n",
            "Epoch 225/400\n",
            "32/32 [==============================] - 0s 3ms/step - loss: 1962.8871\n",
            "Epoch 226/400\n",
            "32/32 [==============================] - 0s 3ms/step - loss: 1964.6089\n",
            "Epoch 227/400\n",
            "32/32 [==============================] - 0s 4ms/step - loss: 1973.1691\n",
            "Epoch 228/400\n",
            "32/32 [==============================] - 0s 4ms/step - loss: 1960.8322\n",
            "Epoch 229/400\n",
            "32/32 [==============================] - 0s 4ms/step - loss: 1963.5022\n",
            "Epoch 230/400\n",
            "32/32 [==============================] - 0s 6ms/step - loss: 1961.7013\n",
            "Epoch 231/400\n",
            "32/32 [==============================] - 0s 5ms/step - loss: 1960.0137\n",
            "Epoch 232/400\n",
            "32/32 [==============================] - 0s 4ms/step - loss: 1962.1776\n",
            "Epoch 233/400\n",
            "32/32 [==============================] - 0s 4ms/step - loss: 1961.2397\n",
            "Epoch 234/400\n",
            "32/32 [==============================] - 0s 4ms/step - loss: 1961.5049\n",
            "Epoch 235/400\n",
            "32/32 [==============================] - 0s 3ms/step - loss: 1961.3964\n",
            "Epoch 236/400\n",
            "32/32 [==============================] - 0s 4ms/step - loss: 1960.5865\n",
            "Epoch 237/400\n",
            "32/32 [==============================] - 0s 3ms/step - loss: 1961.3384\n",
            "Epoch 238/400\n",
            "32/32 [==============================] - 0s 3ms/step - loss: 1961.2761\n",
            "Epoch 239/400\n",
            "32/32 [==============================] - 0s 4ms/step - loss: 1963.0134\n",
            "Epoch 240/400\n",
            "32/32 [==============================] - 0s 4ms/step - loss: 1967.8530\n",
            "Epoch 241/400\n",
            "32/32 [==============================] - 0s 4ms/step - loss: 1960.5254\n",
            "Epoch 242/400\n",
            "32/32 [==============================] - 0s 4ms/step - loss: 1957.6725\n",
            "Epoch 243/400\n",
            "32/32 [==============================] - 0s 4ms/step - loss: 1957.0789\n",
            "Epoch 244/400\n",
            "32/32 [==============================] - 0s 4ms/step - loss: 1957.0848\n",
            "Epoch 245/400\n",
            "32/32 [==============================] - 0s 3ms/step - loss: 1960.4573\n",
            "Epoch 246/400\n",
            "32/32 [==============================] - 0s 4ms/step - loss: 1956.1971\n",
            "Epoch 247/400\n",
            "32/32 [==============================] - 0s 4ms/step - loss: 1954.1038\n",
            "Epoch 248/400\n",
            "32/32 [==============================] - 0s 4ms/step - loss: 1955.0532\n",
            "Epoch 249/400\n",
            "32/32 [==============================] - 0s 3ms/step - loss: 1957.3805\n",
            "Epoch 250/400\n",
            "32/32 [==============================] - 0s 3ms/step - loss: 1957.3080\n",
            "Epoch 251/400\n",
            "32/32 [==============================] - 0s 3ms/step - loss: 1959.3088\n",
            "Epoch 252/400\n",
            "32/32 [==============================] - 0s 4ms/step - loss: 1956.2688\n",
            "Epoch 253/400\n",
            "32/32 [==============================] - 0s 4ms/step - loss: 1958.1014\n",
            "Epoch 254/400\n",
            "32/32 [==============================] - 0s 4ms/step - loss: 1953.3583\n",
            "Epoch 255/400\n",
            "32/32 [==============================] - 0s 3ms/step - loss: 1958.4456\n",
            "Epoch 256/400\n",
            "32/32 [==============================] - 0s 4ms/step - loss: 1952.7565\n",
            "Epoch 257/400\n",
            "32/32 [==============================] - 0s 3ms/step - loss: 1956.9956\n",
            "Epoch 258/400\n",
            "32/32 [==============================] - 0s 4ms/step - loss: 1953.7332\n",
            "Epoch 259/400\n",
            "32/32 [==============================] - 0s 4ms/step - loss: 1953.8674\n",
            "Epoch 260/400\n",
            "32/32 [==============================] - 0s 4ms/step - loss: 1951.8136\n",
            "Epoch 261/400\n",
            "32/32 [==============================] - 0s 4ms/step - loss: 1954.6831\n",
            "Epoch 262/400\n",
            "32/32 [==============================] - 0s 3ms/step - loss: 1954.6682\n",
            "Epoch 263/400\n",
            "32/32 [==============================] - 0s 3ms/step - loss: 1957.2667\n",
            "Epoch 264/400\n",
            "32/32 [==============================] - 0s 4ms/step - loss: 1955.1812\n",
            "Epoch 265/400\n",
            "32/32 [==============================] - 0s 3ms/step - loss: 1952.2552\n",
            "Epoch 266/400\n",
            "32/32 [==============================] - 0s 4ms/step - loss: 1953.1146\n",
            "Epoch 267/400\n",
            "32/32 [==============================] - 0s 3ms/step - loss: 1950.6146\n",
            "Epoch 268/400\n",
            "32/32 [==============================] - 0s 3ms/step - loss: 1951.7659\n",
            "Epoch 269/400\n",
            "32/32 [==============================] - 0s 4ms/step - loss: 1952.9690\n",
            "Epoch 270/400\n",
            "32/32 [==============================] - 0s 3ms/step - loss: 1949.0181\n",
            "Epoch 271/400\n",
            "32/32 [==============================] - 0s 3ms/step - loss: 1952.9264\n",
            "Epoch 272/400\n",
            "32/32 [==============================] - 0s 4ms/step - loss: 1953.7152\n",
            "Epoch 273/400\n",
            "32/32 [==============================] - 0s 5ms/step - loss: 1948.3326\n",
            "Epoch 274/400\n",
            "32/32 [==============================] - 0s 5ms/step - loss: 1948.9260\n",
            "Epoch 275/400\n",
            "32/32 [==============================] - 0s 4ms/step - loss: 1947.4636\n",
            "Epoch 276/400\n",
            "32/32 [==============================] - 0s 4ms/step - loss: 1948.3756\n",
            "Epoch 277/400\n",
            "32/32 [==============================] - 0s 4ms/step - loss: 1947.1117\n",
            "Epoch 278/400\n",
            "32/32 [==============================] - 0s 4ms/step - loss: 1947.8270\n",
            "Epoch 279/400\n",
            "32/32 [==============================] - 0s 5ms/step - loss: 1951.0170\n",
            "Epoch 280/400\n",
            "32/32 [==============================] - 0s 3ms/step - loss: 1945.3301\n",
            "Epoch 281/400\n",
            "32/32 [==============================] - 0s 3ms/step - loss: 1948.7946\n",
            "Epoch 282/400\n",
            "32/32 [==============================] - 0s 5ms/step - loss: 1946.5206\n",
            "Epoch 283/400\n",
            "32/32 [==============================] - 0s 5ms/step - loss: 1951.1418\n",
            "Epoch 284/400\n",
            "32/32 [==============================] - 0s 4ms/step - loss: 1945.5905\n",
            "Epoch 285/400\n",
            "32/32 [==============================] - 0s 4ms/step - loss: 1947.2766\n",
            "Epoch 286/400\n",
            "32/32 [==============================] - 0s 5ms/step - loss: 1944.5382\n",
            "Epoch 287/400\n",
            "32/32 [==============================] - 0s 4ms/step - loss: 1947.3369\n",
            "Epoch 288/400\n",
            "32/32 [==============================] - 0s 4ms/step - loss: 1945.5287\n",
            "Epoch 289/400\n",
            "32/32 [==============================] - 0s 4ms/step - loss: 1943.9948\n",
            "Epoch 290/400\n",
            "32/32 [==============================] - 0s 5ms/step - loss: 1944.7474\n",
            "Epoch 291/400\n",
            "32/32 [==============================] - 0s 4ms/step - loss: 1945.3859\n",
            "Epoch 292/400\n",
            "32/32 [==============================] - 0s 3ms/step - loss: 1942.7205\n",
            "Epoch 293/400\n",
            "32/32 [==============================] - 0s 4ms/step - loss: 1944.4139\n",
            "Epoch 294/400\n",
            "32/32 [==============================] - 0s 3ms/step - loss: 1942.8210\n",
            "Epoch 295/400\n",
            "32/32 [==============================] - 0s 3ms/step - loss: 1943.3606\n",
            "Epoch 296/400\n",
            "32/32 [==============================] - 0s 4ms/step - loss: 1947.4161\n",
            "Epoch 297/400\n",
            "32/32 [==============================] - 0s 4ms/step - loss: 1945.3052\n",
            "Epoch 298/400\n",
            "32/32 [==============================] - 0s 4ms/step - loss: 1946.8285\n",
            "Epoch 299/400\n",
            "32/32 [==============================] - 0s 4ms/step - loss: 1947.9440\n",
            "Epoch 300/400\n",
            "32/32 [==============================] - 0s 4ms/step - loss: 1946.0143\n",
            "Epoch 301/400\n",
            "32/32 [==============================] - 0s 3ms/step - loss: 1942.6233\n",
            "Epoch 302/400\n",
            "32/32 [==============================] - 0s 4ms/step - loss: 1942.1060\n",
            "Epoch 303/400\n",
            "32/32 [==============================] - 0s 3ms/step - loss: 1945.2104\n",
            "Epoch 304/400\n",
            "32/32 [==============================] - 0s 4ms/step - loss: 1943.6787\n",
            "Epoch 305/400\n",
            "32/32 [==============================] - 0s 4ms/step - loss: 1943.8645\n",
            "Epoch 306/400\n",
            "32/32 [==============================] - 0s 4ms/step - loss: 1940.7825\n",
            "Epoch 307/400\n",
            "32/32 [==============================] - 0s 3ms/step - loss: 1940.9047\n",
            "Epoch 308/400\n",
            "32/32 [==============================] - 0s 4ms/step - loss: 1942.8490\n",
            "Epoch 309/400\n",
            "32/32 [==============================] - 0s 3ms/step - loss: 1941.7256\n",
            "Epoch 310/400\n",
            "32/32 [==============================] - 0s 4ms/step - loss: 1939.8533\n",
            "Epoch 311/400\n",
            "32/32 [==============================] - 0s 4ms/step - loss: 1939.8053\n",
            "Epoch 312/400\n",
            "32/32 [==============================] - 0s 3ms/step - loss: 1939.6825\n",
            "Epoch 313/400\n",
            "32/32 [==============================] - 0s 4ms/step - loss: 1941.8927\n",
            "Epoch 314/400\n",
            "32/32 [==============================] - 0s 4ms/step - loss: 1944.0914\n",
            "Epoch 315/400\n",
            "32/32 [==============================] - 0s 4ms/step - loss: 1938.9503\n",
            "Epoch 316/400\n",
            "32/32 [==============================] - 0s 3ms/step - loss: 1942.3192\n",
            "Epoch 317/400\n",
            "32/32 [==============================] - 0s 4ms/step - loss: 1938.5962\n",
            "Epoch 318/400\n",
            "32/32 [==============================] - 0s 4ms/step - loss: 1941.6382\n",
            "Epoch 319/400\n",
            "32/32 [==============================] - 0s 4ms/step - loss: 1939.5570\n",
            "Epoch 320/400\n",
            "32/32 [==============================] - 0s 4ms/step - loss: 1936.1085\n",
            "Epoch 321/400\n",
            "32/32 [==============================] - 0s 4ms/step - loss: 1938.3666\n",
            "Epoch 322/400\n",
            "32/32 [==============================] - 0s 4ms/step - loss: 1939.0361\n",
            "Epoch 323/400\n",
            "32/32 [==============================] - 0s 4ms/step - loss: 1940.0974\n",
            "Epoch 324/400\n",
            "32/32 [==============================] - 0s 4ms/step - loss: 1940.4957\n",
            "Epoch 325/400\n",
            "32/32 [==============================] - 0s 4ms/step - loss: 1937.5553\n",
            "Epoch 326/400\n",
            "32/32 [==============================] - 0s 3ms/step - loss: 1934.6852\n",
            "Epoch 327/400\n",
            "32/32 [==============================] - 0s 3ms/step - loss: 1936.6638\n",
            "Epoch 328/400\n",
            "32/32 [==============================] - 0s 4ms/step - loss: 1937.7878\n",
            "Epoch 329/400\n",
            "32/32 [==============================] - 0s 4ms/step - loss: 1937.5187\n",
            "Epoch 330/400\n",
            "32/32 [==============================] - 0s 4ms/step - loss: 1940.9526\n",
            "Epoch 331/400\n",
            "32/32 [==============================] - 0s 4ms/step - loss: 1935.7341\n",
            "Epoch 332/400\n",
            "32/32 [==============================] - 0s 3ms/step - loss: 1933.9978\n",
            "Epoch 333/400\n",
            "32/32 [==============================] - 0s 3ms/step - loss: 1936.9994\n",
            "Epoch 334/400\n",
            "32/32 [==============================] - 0s 4ms/step - loss: 1937.9576\n",
            "Epoch 335/400\n",
            "32/32 [==============================] - 0s 4ms/step - loss: 1933.1760\n",
            "Epoch 336/400\n",
            "32/32 [==============================] - 0s 4ms/step - loss: 1933.5997\n",
            "Epoch 337/400\n",
            "32/32 [==============================] - 0s 4ms/step - loss: 1934.5491\n",
            "Epoch 338/400\n",
            "32/32 [==============================] - 0s 4ms/step - loss: 1935.2515\n",
            "Epoch 339/400\n",
            "32/32 [==============================] - 0s 4ms/step - loss: 1945.7404\n",
            "Epoch 340/400\n",
            "32/32 [==============================] - 0s 4ms/step - loss: 1937.2395\n",
            "Epoch 341/400\n",
            "32/32 [==============================] - 0s 3ms/step - loss: 1935.4628\n",
            "Epoch 342/400\n",
            "32/32 [==============================] - 0s 4ms/step - loss: 1936.1572\n",
            "Epoch 343/400\n",
            "32/32 [==============================] - 0s 4ms/step - loss: 1936.5350\n",
            "Epoch 344/400\n",
            "32/32 [==============================] - 0s 4ms/step - loss: 1933.2542\n",
            "Epoch 345/400\n",
            "32/32 [==============================] - 0s 4ms/step - loss: 1933.5493\n",
            "Epoch 346/400\n",
            "32/32 [==============================] - 0s 3ms/step - loss: 1930.2675\n",
            "Epoch 347/400\n",
            "32/32 [==============================] - 0s 4ms/step - loss: 1932.7587\n",
            "Epoch 348/400\n",
            "32/32 [==============================] - 0s 3ms/step - loss: 1934.4113\n",
            "Epoch 349/400\n",
            "32/32 [==============================] - 0s 3ms/step - loss: 1932.1188\n",
            "Epoch 350/400\n",
            "32/32 [==============================] - 0s 4ms/step - loss: 1935.7505\n",
            "Epoch 351/400\n",
            "32/32 [==============================] - 0s 3ms/step - loss: 1928.7960\n",
            "Epoch 352/400\n",
            "32/32 [==============================] - 0s 3ms/step - loss: 1933.5828\n",
            "Epoch 353/400\n",
            "32/32 [==============================] - 0s 3ms/step - loss: 1932.3296\n",
            "Epoch 354/400\n",
            "32/32 [==============================] - 0s 4ms/step - loss: 1933.6085\n",
            "Epoch 355/400\n",
            "32/32 [==============================] - 0s 3ms/step - loss: 1931.8993\n",
            "Epoch 356/400\n",
            "32/32 [==============================] - 0s 3ms/step - loss: 1930.0403\n",
            "Epoch 357/400\n",
            "32/32 [==============================] - 0s 3ms/step - loss: 1932.9033\n",
            "Epoch 358/400\n",
            "32/32 [==============================] - 0s 4ms/step - loss: 1936.1583\n",
            "Epoch 359/400\n",
            "32/32 [==============================] - 0s 5ms/step - loss: 1937.4900\n",
            "Epoch 360/400\n",
            "32/32 [==============================] - 0s 6ms/step - loss: 1931.1527\n",
            "Epoch 361/400\n",
            "32/32 [==============================] - 0s 4ms/step - loss: 1931.2422\n",
            "Epoch 362/400\n",
            "32/32 [==============================] - 0s 3ms/step - loss: 1929.2015\n",
            "Epoch 363/400\n",
            "32/32 [==============================] - 0s 4ms/step - loss: 1930.3438\n",
            "Epoch 364/400\n",
            "32/32 [==============================] - 0s 4ms/step - loss: 1929.3873\n",
            "Epoch 365/400\n",
            "32/32 [==============================] - 0s 4ms/step - loss: 1926.1381\n",
            "Epoch 366/400\n",
            "32/32 [==============================] - 0s 4ms/step - loss: 1930.4799\n",
            "Epoch 367/400\n",
            "32/32 [==============================] - 0s 4ms/step - loss: 1927.7917\n",
            "Epoch 368/400\n",
            "32/32 [==============================] - 0s 4ms/step - loss: 1929.9667\n",
            "Epoch 369/400\n",
            "32/32 [==============================] - 0s 3ms/step - loss: 1932.6479\n",
            "Epoch 370/400\n",
            "32/32 [==============================] - 0s 3ms/step - loss: 1928.8347\n",
            "Epoch 371/400\n",
            "32/32 [==============================] - 0s 3ms/step - loss: 1925.3594\n",
            "Epoch 372/400\n",
            "32/32 [==============================] - 0s 4ms/step - loss: 1927.8604\n",
            "Epoch 373/400\n",
            "32/32 [==============================] - 0s 4ms/step - loss: 1926.1622\n",
            "Epoch 374/400\n",
            "32/32 [==============================] - 0s 4ms/step - loss: 1927.5820\n",
            "Epoch 375/400\n",
            "32/32 [==============================] - 0s 4ms/step - loss: 1927.2301\n",
            "Epoch 376/400\n",
            "32/32 [==============================] - 0s 3ms/step - loss: 1923.7900\n",
            "Epoch 377/400\n",
            "32/32 [==============================] - 0s 3ms/step - loss: 1929.1681\n",
            "Epoch 378/400\n",
            "32/32 [==============================] - 0s 3ms/step - loss: 1929.7435\n",
            "Epoch 379/400\n",
            "32/32 [==============================] - 0s 4ms/step - loss: 1925.6107\n",
            "Epoch 380/400\n",
            "32/32 [==============================] - 0s 3ms/step - loss: 1923.8323\n",
            "Epoch 381/400\n",
            "32/32 [==============================] - 0s 3ms/step - loss: 1927.3783\n",
            "Epoch 382/400\n",
            "32/32 [==============================] - 0s 5ms/step - loss: 1927.9709\n",
            "Epoch 383/400\n",
            "32/32 [==============================] - 0s 3ms/step - loss: 1926.7780\n",
            "Epoch 384/400\n",
            "32/32 [==============================] - 0s 4ms/step - loss: 1926.2928\n",
            "Epoch 385/400\n",
            "32/32 [==============================] - 0s 5ms/step - loss: 1925.3210\n",
            "Epoch 386/400\n",
            "32/32 [==============================] - 0s 3ms/step - loss: 1933.3145\n",
            "Epoch 387/400\n",
            "32/32 [==============================] - 0s 4ms/step - loss: 1925.9344\n",
            "Epoch 388/400\n",
            "32/32 [==============================] - 0s 3ms/step - loss: 1925.0438\n",
            "Epoch 389/400\n",
            "32/32 [==============================] - 0s 4ms/step - loss: 1925.7806\n",
            "Epoch 390/400\n",
            "32/32 [==============================] - 0s 5ms/step - loss: 1924.8538\n",
            "Epoch 391/400\n",
            "32/32 [==============================] - 0s 4ms/step - loss: 1925.8424\n",
            "Epoch 392/400\n",
            "32/32 [==============================] - 0s 4ms/step - loss: 1925.1610\n",
            "Epoch 393/400\n",
            "32/32 [==============================] - 0s 4ms/step - loss: 1926.5477\n",
            "Epoch 394/400\n",
            "32/32 [==============================] - 0s 4ms/step - loss: 1926.2825\n",
            "Epoch 395/400\n",
            "32/32 [==============================] - 0s 4ms/step - loss: 1925.9730\n",
            "Epoch 396/400\n",
            "32/32 [==============================] - 0s 4ms/step - loss: 1932.8347\n",
            "Epoch 397/400\n",
            "32/32 [==============================] - 0s 4ms/step - loss: 1926.1954\n",
            "Epoch 398/400\n",
            "32/32 [==============================] - 0s 4ms/step - loss: 1923.8634\n",
            "Epoch 399/400\n",
            "32/32 [==============================] - 0s 4ms/step - loss: 1921.7910\n",
            "Epoch 400/400\n",
            "32/32 [==============================] - 0s 4ms/step - loss: 1920.9869\n"
          ]
        },
        {
          "output_type": "execute_result",
          "data": {
            "text/plain": [
              "<keras.callbacks.History at 0x7f50dcc35150>"
            ]
          },
          "metadata": {},
          "execution_count": 145
        }
      ]
    },
    {
      "cell_type": "code",
      "source": [
        "model.evaluate(X_test_scaled, y_test)"
      ],
      "metadata": {
        "colab": {
          "base_uri": "https://localhost:8080/"
        },
        "id": "Igsn6wZwFfq7",
        "outputId": "2d3c8f8f-b62b-4630-f744-ebb0f9cefa56"
      },
      "execution_count": 148,
      "outputs": [
        {
          "output_type": "stream",
          "name": "stdout",
          "text": [
            "11/11 [==============================] - 0s 3ms/step - loss: 2010.7327\n"
          ]
        },
        {
          "output_type": "execute_result",
          "data": {
            "text/plain": [
              "2010.732666015625"
            ]
          },
          "metadata": {},
          "execution_count": 148
        }
      ]
    },
    {
      "cell_type": "code",
      "source": [
        ""
      ],
      "metadata": {
        "id": "VyzuEegtGiBE"
      },
      "execution_count": null,
      "outputs": []
    }
  ]
}