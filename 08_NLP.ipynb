{
  "nbformat": 4,
  "nbformat_minor": 0,
  "metadata": {
    "colab": {
      "name": "08_NLP.ipynb",
      "provenance": [],
      "collapsed_sections": [
        "dNL94aeVYScG",
        "AoEOxjUHv-96",
        "zZJ7WFN3z0w0",
        "RMKg33Ec0_E6",
        "ajMCs72cAWxU"
      ]
    },
    "kernelspec": {
      "name": "python3",
      "display_name": "Python 3"
    },
    "language_info": {
      "name": "python"
    },
    "accelerator": "GPU",
    "gpuClass": "standard"
  },
  "cells": [
    {
      "cell_type": "markdown",
      "source": [
        "# NLP Fundamentals in Tensorflow"
      ],
      "metadata": {
        "id": "CNHshTke9t38"
      }
    },
    {
      "cell_type": "code",
      "execution_count": 1,
      "metadata": {
        "colab": {
          "base_uri": "https://localhost:8080/"
        },
        "id": "EJYo2f9YadO1",
        "outputId": "4d0124f4-2a5a-4fd0-829b-ce9c455ce2c4"
      },
      "outputs": [
        {
          "output_type": "stream",
          "name": "stdout",
          "text": [
            "Mon Jun 27 13:20:36 2022       \n",
            "+-----------------------------------------------------------------------------+\n",
            "| NVIDIA-SMI 460.32.03    Driver Version: 460.32.03    CUDA Version: 11.2     |\n",
            "|-------------------------------+----------------------+----------------------+\n",
            "| GPU  Name        Persistence-M| Bus-Id        Disp.A | Volatile Uncorr. ECC |\n",
            "| Fan  Temp  Perf  Pwr:Usage/Cap|         Memory-Usage | GPU-Util  Compute M. |\n",
            "|                               |                      |               MIG M. |\n",
            "|===============================+======================+======================|\n",
            "|   0  Tesla T4            Off  | 00000000:00:04.0 Off |                    0 |\n",
            "| N/A   46C    P8    10W /  70W |      0MiB / 15109MiB |      0%      Default |\n",
            "|                               |                      |                  N/A |\n",
            "+-------------------------------+----------------------+----------------------+\n",
            "                                                                               \n",
            "+-----------------------------------------------------------------------------+\n",
            "| Processes:                                                                  |\n",
            "|  GPU   GI   CI        PID   Type   Process name                  GPU Memory |\n",
            "|        ID   ID                                                   Usage      |\n",
            "|=============================================================================|\n",
            "|  No running processes found                                                 |\n",
            "+-----------------------------------------------------------------------------+\n"
          ]
        }
      ],
      "source": [
        "!nvidia-smi"
      ]
    },
    {
      "cell_type": "markdown",
      "source": [
        "### Get Helper Functions"
      ],
      "metadata": {
        "id": "sXrwwxg3-PUc"
      }
    },
    {
      "cell_type": "code",
      "source": [
        "!wget https://raw.githubusercontent.com/mrdbourke/tensorflow-deep-learning/main/extras/helper_functions.py"
      ],
      "metadata": {
        "colab": {
          "base_uri": "https://localhost:8080/"
        },
        "id": "fZ80i4kK-ENv",
        "outputId": "652b9416-cc5d-4e9a-d35b-5e15d5eb7cf7"
      },
      "execution_count": 2,
      "outputs": [
        {
          "output_type": "stream",
          "name": "stdout",
          "text": [
            "--2022-06-27 13:20:37--  https://raw.githubusercontent.com/mrdbourke/tensorflow-deep-learning/main/extras/helper_functions.py\n",
            "Resolving raw.githubusercontent.com (raw.githubusercontent.com)... 185.199.108.133, 185.199.109.133, 185.199.110.133, ...\n",
            "Connecting to raw.githubusercontent.com (raw.githubusercontent.com)|185.199.108.133|:443... connected.\n",
            "HTTP request sent, awaiting response... 200 OK\n",
            "Length: 10246 (10K) [text/plain]\n",
            "Saving to: ‘helper_functions.py’\n",
            "\n",
            "helper_functions.py 100%[===================>]  10.01K  --.-KB/s    in 0s      \n",
            "\n",
            "2022-06-27 13:20:37 (116 MB/s) - ‘helper_functions.py’ saved [10246/10246]\n",
            "\n"
          ]
        }
      ]
    },
    {
      "cell_type": "code",
      "source": [
        "from helper_functions import *"
      ],
      "metadata": {
        "id": "eG7g2PY--RdP"
      },
      "execution_count": 3,
      "outputs": []
    },
    {
      "cell_type": "markdown",
      "source": [
        "### Dataset\n",
        "\n",
        "Going to use Kaggle intro to NLP dataset"
      ],
      "metadata": {
        "id": "mJ7LMnXA-t4D"
      }
    },
    {
      "cell_type": "code",
      "source": [
        "# Download data (same as from Kaggle)\n",
        "!wget \"https://storage.googleapis.com/ztm_tf_course/nlp_getting_started.zip\"\n",
        "\n",
        "# Unzip data\n",
        "unzip_data(\"nlp_getting_started.zip\")"
      ],
      "metadata": {
        "colab": {
          "base_uri": "https://localhost:8080/"
        },
        "id": "ilzzCbJL-Snk",
        "outputId": "519b4d52-5bbb-43fc-a866-b23c9b4dcc6f"
      },
      "execution_count": 4,
      "outputs": [
        {
          "output_type": "stream",
          "name": "stdout",
          "text": [
            "--2022-06-27 13:20:39--  https://storage.googleapis.com/ztm_tf_course/nlp_getting_started.zip\n",
            "Resolving storage.googleapis.com (storage.googleapis.com)... 74.125.195.128, 173.194.202.128, 173.194.203.128, ...\n",
            "Connecting to storage.googleapis.com (storage.googleapis.com)|74.125.195.128|:443... connected.\n",
            "HTTP request sent, awaiting response... 200 OK\n",
            "Length: 607343 (593K) [application/zip]\n",
            "Saving to: ‘nlp_getting_started.zip’\n",
            "\n",
            "\rnlp_getting_started   0%[                    ]       0  --.-KB/s               \rnlp_getting_started 100%[===================>] 593.11K  --.-KB/s    in 0.004s  \n",
            "\n",
            "2022-06-27 13:20:39 (148 MB/s) - ‘nlp_getting_started.zip’ saved [607343/607343]\n",
            "\n"
          ]
        }
      ]
    },
    {
      "cell_type": "markdown",
      "source": [
        "### Visualising a Text Dataset"
      ],
      "metadata": {
        "id": "RMRWBJBN_bn1"
      }
    },
    {
      "cell_type": "code",
      "source": [
        "import pandas as pd\n",
        "import numpy as np"
      ],
      "metadata": {
        "id": "6EZ3UJoH-0XK"
      },
      "execution_count": 5,
      "outputs": []
    },
    {
      "cell_type": "code",
      "source": [
        "df_train = pd.read_csv('train.csv')\n",
        "df_test = pd.read_csv('test.csv')"
      ],
      "metadata": {
        "id": "u-M0BLij-325"
      },
      "execution_count": 6,
      "outputs": []
    },
    {
      "cell_type": "code",
      "source": [
        "df_train.head()"
      ],
      "metadata": {
        "colab": {
          "base_uri": "https://localhost:8080/",
          "height": 204
        },
        "id": "hA4mxyE4_4pN",
        "outputId": "5984829f-0637-447c-dc05-023d4e7f57f8"
      },
      "execution_count": 7,
      "outputs": [
        {
          "output_type": "execute_result",
          "data": {
            "text/plain": [
              "   id keyword location                                               text  \\\n",
              "0   1     NaN      NaN  Our Deeds are the Reason of this #earthquake M...   \n",
              "1   4     NaN      NaN             Forest fire near La Ronge Sask. Canada   \n",
              "2   5     NaN      NaN  All residents asked to 'shelter in place' are ...   \n",
              "3   6     NaN      NaN  13,000 people receive #wildfires evacuation or...   \n",
              "4   7     NaN      NaN  Just got sent this photo from Ruby #Alaska as ...   \n",
              "\n",
              "   target  \n",
              "0       1  \n",
              "1       1  \n",
              "2       1  \n",
              "3       1  \n",
              "4       1  "
            ],
            "text/html": [
              "\n",
              "  <div id=\"df-643788f8-b8c4-408e-a6df-1edd2013f332\">\n",
              "    <div class=\"colab-df-container\">\n",
              "      <div>\n",
              "<style scoped>\n",
              "    .dataframe tbody tr th:only-of-type {\n",
              "        vertical-align: middle;\n",
              "    }\n",
              "\n",
              "    .dataframe tbody tr th {\n",
              "        vertical-align: top;\n",
              "    }\n",
              "\n",
              "    .dataframe thead th {\n",
              "        text-align: right;\n",
              "    }\n",
              "</style>\n",
              "<table border=\"1\" class=\"dataframe\">\n",
              "  <thead>\n",
              "    <tr style=\"text-align: right;\">\n",
              "      <th></th>\n",
              "      <th>id</th>\n",
              "      <th>keyword</th>\n",
              "      <th>location</th>\n",
              "      <th>text</th>\n",
              "      <th>target</th>\n",
              "    </tr>\n",
              "  </thead>\n",
              "  <tbody>\n",
              "    <tr>\n",
              "      <th>0</th>\n",
              "      <td>1</td>\n",
              "      <td>NaN</td>\n",
              "      <td>NaN</td>\n",
              "      <td>Our Deeds are the Reason of this #earthquake M...</td>\n",
              "      <td>1</td>\n",
              "    </tr>\n",
              "    <tr>\n",
              "      <th>1</th>\n",
              "      <td>4</td>\n",
              "      <td>NaN</td>\n",
              "      <td>NaN</td>\n",
              "      <td>Forest fire near La Ronge Sask. Canada</td>\n",
              "      <td>1</td>\n",
              "    </tr>\n",
              "    <tr>\n",
              "      <th>2</th>\n",
              "      <td>5</td>\n",
              "      <td>NaN</td>\n",
              "      <td>NaN</td>\n",
              "      <td>All residents asked to 'shelter in place' are ...</td>\n",
              "      <td>1</td>\n",
              "    </tr>\n",
              "    <tr>\n",
              "      <th>3</th>\n",
              "      <td>6</td>\n",
              "      <td>NaN</td>\n",
              "      <td>NaN</td>\n",
              "      <td>13,000 people receive #wildfires evacuation or...</td>\n",
              "      <td>1</td>\n",
              "    </tr>\n",
              "    <tr>\n",
              "      <th>4</th>\n",
              "      <td>7</td>\n",
              "      <td>NaN</td>\n",
              "      <td>NaN</td>\n",
              "      <td>Just got sent this photo from Ruby #Alaska as ...</td>\n",
              "      <td>1</td>\n",
              "    </tr>\n",
              "  </tbody>\n",
              "</table>\n",
              "</div>\n",
              "      <button class=\"colab-df-convert\" onclick=\"convertToInteractive('df-643788f8-b8c4-408e-a6df-1edd2013f332')\"\n",
              "              title=\"Convert this dataframe to an interactive table.\"\n",
              "              style=\"display:none;\">\n",
              "        \n",
              "  <svg xmlns=\"http://www.w3.org/2000/svg\" height=\"24px\"viewBox=\"0 0 24 24\"\n",
              "       width=\"24px\">\n",
              "    <path d=\"M0 0h24v24H0V0z\" fill=\"none\"/>\n",
              "    <path d=\"M18.56 5.44l.94 2.06.94-2.06 2.06-.94-2.06-.94-.94-2.06-.94 2.06-2.06.94zm-11 1L8.5 8.5l.94-2.06 2.06-.94-2.06-.94L8.5 2.5l-.94 2.06-2.06.94zm10 10l.94 2.06.94-2.06 2.06-.94-2.06-.94-.94-2.06-.94 2.06-2.06.94z\"/><path d=\"M17.41 7.96l-1.37-1.37c-.4-.4-.92-.59-1.43-.59-.52 0-1.04.2-1.43.59L10.3 9.45l-7.72 7.72c-.78.78-.78 2.05 0 2.83L4 21.41c.39.39.9.59 1.41.59.51 0 1.02-.2 1.41-.59l7.78-7.78 2.81-2.81c.8-.78.8-2.07 0-2.86zM5.41 20L4 18.59l7.72-7.72 1.47 1.35L5.41 20z\"/>\n",
              "  </svg>\n",
              "      </button>\n",
              "      \n",
              "  <style>\n",
              "    .colab-df-container {\n",
              "      display:flex;\n",
              "      flex-wrap:wrap;\n",
              "      gap: 12px;\n",
              "    }\n",
              "\n",
              "    .colab-df-convert {\n",
              "      background-color: #E8F0FE;\n",
              "      border: none;\n",
              "      border-radius: 50%;\n",
              "      cursor: pointer;\n",
              "      display: none;\n",
              "      fill: #1967D2;\n",
              "      height: 32px;\n",
              "      padding: 0 0 0 0;\n",
              "      width: 32px;\n",
              "    }\n",
              "\n",
              "    .colab-df-convert:hover {\n",
              "      background-color: #E2EBFA;\n",
              "      box-shadow: 0px 1px 2px rgba(60, 64, 67, 0.3), 0px 1px 3px 1px rgba(60, 64, 67, 0.15);\n",
              "      fill: #174EA6;\n",
              "    }\n",
              "\n",
              "    [theme=dark] .colab-df-convert {\n",
              "      background-color: #3B4455;\n",
              "      fill: #D2E3FC;\n",
              "    }\n",
              "\n",
              "    [theme=dark] .colab-df-convert:hover {\n",
              "      background-color: #434B5C;\n",
              "      box-shadow: 0px 1px 3px 1px rgba(0, 0, 0, 0.15);\n",
              "      filter: drop-shadow(0px 1px 2px rgba(0, 0, 0, 0.3));\n",
              "      fill: #FFFFFF;\n",
              "    }\n",
              "  </style>\n",
              "\n",
              "      <script>\n",
              "        const buttonEl =\n",
              "          document.querySelector('#df-643788f8-b8c4-408e-a6df-1edd2013f332 button.colab-df-convert');\n",
              "        buttonEl.style.display =\n",
              "          google.colab.kernel.accessAllowed ? 'block' : 'none';\n",
              "\n",
              "        async function convertToInteractive(key) {\n",
              "          const element = document.querySelector('#df-643788f8-b8c4-408e-a6df-1edd2013f332');\n",
              "          const dataTable =\n",
              "            await google.colab.kernel.invokeFunction('convertToInteractive',\n",
              "                                                     [key], {});\n",
              "          if (!dataTable) return;\n",
              "\n",
              "          const docLinkHtml = 'Like what you see? Visit the ' +\n",
              "            '<a target=\"_blank\" href=https://colab.research.google.com/notebooks/data_table.ipynb>data table notebook</a>'\n",
              "            + ' to learn more about interactive tables.';\n",
              "          element.innerHTML = '';\n",
              "          dataTable['output_type'] = 'display_data';\n",
              "          await google.colab.output.renderOutput(dataTable, element);\n",
              "          const docLink = document.createElement('div');\n",
              "          docLink.innerHTML = docLinkHtml;\n",
              "          element.appendChild(docLink);\n",
              "        }\n",
              "      </script>\n",
              "    </div>\n",
              "  </div>\n",
              "  "
            ]
          },
          "metadata": {},
          "execution_count": 7
        }
      ]
    },
    {
      "cell_type": "code",
      "source": [
        "df_train.info()"
      ],
      "metadata": {
        "colab": {
          "base_uri": "https://localhost:8080/"
        },
        "id": "Tf1InIgDAGUA",
        "outputId": "a591a52f-8e3f-4053-9f7b-bdf8bfb52ef8"
      },
      "execution_count": 8,
      "outputs": [
        {
          "output_type": "stream",
          "name": "stdout",
          "text": [
            "<class 'pandas.core.frame.DataFrame'>\n",
            "RangeIndex: 7613 entries, 0 to 7612\n",
            "Data columns (total 5 columns):\n",
            " #   Column    Non-Null Count  Dtype \n",
            "---  ------    --------------  ----- \n",
            " 0   id        7613 non-null   int64 \n",
            " 1   keyword   7552 non-null   object\n",
            " 2   location  5080 non-null   object\n",
            " 3   text      7613 non-null   object\n",
            " 4   target    7613 non-null   int64 \n",
            "dtypes: int64(2), object(3)\n",
            "memory usage: 297.5+ KB\n"
          ]
        }
      ]
    },
    {
      "cell_type": "code",
      "source": [
        "df_train.describe()"
      ],
      "metadata": {
        "colab": {
          "base_uri": "https://localhost:8080/",
          "height": 297
        },
        "id": "rKJQnBfbAIoD",
        "outputId": "cf61d68c-5cd2-469d-86ab-702b483cd630"
      },
      "execution_count": 9,
      "outputs": [
        {
          "output_type": "execute_result",
          "data": {
            "text/plain": [
              "                 id      target\n",
              "count   7613.000000  7613.00000\n",
              "mean    5441.934848     0.42966\n",
              "std     3137.116090     0.49506\n",
              "min        1.000000     0.00000\n",
              "25%     2734.000000     0.00000\n",
              "50%     5408.000000     0.00000\n",
              "75%     8146.000000     1.00000\n",
              "max    10873.000000     1.00000"
            ],
            "text/html": [
              "\n",
              "  <div id=\"df-057b2ee2-17cd-454f-8719-eeeb3baf5c7a\">\n",
              "    <div class=\"colab-df-container\">\n",
              "      <div>\n",
              "<style scoped>\n",
              "    .dataframe tbody tr th:only-of-type {\n",
              "        vertical-align: middle;\n",
              "    }\n",
              "\n",
              "    .dataframe tbody tr th {\n",
              "        vertical-align: top;\n",
              "    }\n",
              "\n",
              "    .dataframe thead th {\n",
              "        text-align: right;\n",
              "    }\n",
              "</style>\n",
              "<table border=\"1\" class=\"dataframe\">\n",
              "  <thead>\n",
              "    <tr style=\"text-align: right;\">\n",
              "      <th></th>\n",
              "      <th>id</th>\n",
              "      <th>target</th>\n",
              "    </tr>\n",
              "  </thead>\n",
              "  <tbody>\n",
              "    <tr>\n",
              "      <th>count</th>\n",
              "      <td>7613.000000</td>\n",
              "      <td>7613.00000</td>\n",
              "    </tr>\n",
              "    <tr>\n",
              "      <th>mean</th>\n",
              "      <td>5441.934848</td>\n",
              "      <td>0.42966</td>\n",
              "    </tr>\n",
              "    <tr>\n",
              "      <th>std</th>\n",
              "      <td>3137.116090</td>\n",
              "      <td>0.49506</td>\n",
              "    </tr>\n",
              "    <tr>\n",
              "      <th>min</th>\n",
              "      <td>1.000000</td>\n",
              "      <td>0.00000</td>\n",
              "    </tr>\n",
              "    <tr>\n",
              "      <th>25%</th>\n",
              "      <td>2734.000000</td>\n",
              "      <td>0.00000</td>\n",
              "    </tr>\n",
              "    <tr>\n",
              "      <th>50%</th>\n",
              "      <td>5408.000000</td>\n",
              "      <td>0.00000</td>\n",
              "    </tr>\n",
              "    <tr>\n",
              "      <th>75%</th>\n",
              "      <td>8146.000000</td>\n",
              "      <td>1.00000</td>\n",
              "    </tr>\n",
              "    <tr>\n",
              "      <th>max</th>\n",
              "      <td>10873.000000</td>\n",
              "      <td>1.00000</td>\n",
              "    </tr>\n",
              "  </tbody>\n",
              "</table>\n",
              "</div>\n",
              "      <button class=\"colab-df-convert\" onclick=\"convertToInteractive('df-057b2ee2-17cd-454f-8719-eeeb3baf5c7a')\"\n",
              "              title=\"Convert this dataframe to an interactive table.\"\n",
              "              style=\"display:none;\">\n",
              "        \n",
              "  <svg xmlns=\"http://www.w3.org/2000/svg\" height=\"24px\"viewBox=\"0 0 24 24\"\n",
              "       width=\"24px\">\n",
              "    <path d=\"M0 0h24v24H0V0z\" fill=\"none\"/>\n",
              "    <path d=\"M18.56 5.44l.94 2.06.94-2.06 2.06-.94-2.06-.94-.94-2.06-.94 2.06-2.06.94zm-11 1L8.5 8.5l.94-2.06 2.06-.94-2.06-.94L8.5 2.5l-.94 2.06-2.06.94zm10 10l.94 2.06.94-2.06 2.06-.94-2.06-.94-.94-2.06-.94 2.06-2.06.94z\"/><path d=\"M17.41 7.96l-1.37-1.37c-.4-.4-.92-.59-1.43-.59-.52 0-1.04.2-1.43.59L10.3 9.45l-7.72 7.72c-.78.78-.78 2.05 0 2.83L4 21.41c.39.39.9.59 1.41.59.51 0 1.02-.2 1.41-.59l7.78-7.78 2.81-2.81c.8-.78.8-2.07 0-2.86zM5.41 20L4 18.59l7.72-7.72 1.47 1.35L5.41 20z\"/>\n",
              "  </svg>\n",
              "      </button>\n",
              "      \n",
              "  <style>\n",
              "    .colab-df-container {\n",
              "      display:flex;\n",
              "      flex-wrap:wrap;\n",
              "      gap: 12px;\n",
              "    }\n",
              "\n",
              "    .colab-df-convert {\n",
              "      background-color: #E8F0FE;\n",
              "      border: none;\n",
              "      border-radius: 50%;\n",
              "      cursor: pointer;\n",
              "      display: none;\n",
              "      fill: #1967D2;\n",
              "      height: 32px;\n",
              "      padding: 0 0 0 0;\n",
              "      width: 32px;\n",
              "    }\n",
              "\n",
              "    .colab-df-convert:hover {\n",
              "      background-color: #E2EBFA;\n",
              "      box-shadow: 0px 1px 2px rgba(60, 64, 67, 0.3), 0px 1px 3px 1px rgba(60, 64, 67, 0.15);\n",
              "      fill: #174EA6;\n",
              "    }\n",
              "\n",
              "    [theme=dark] .colab-df-convert {\n",
              "      background-color: #3B4455;\n",
              "      fill: #D2E3FC;\n",
              "    }\n",
              "\n",
              "    [theme=dark] .colab-df-convert:hover {\n",
              "      background-color: #434B5C;\n",
              "      box-shadow: 0px 1px 3px 1px rgba(0, 0, 0, 0.15);\n",
              "      filter: drop-shadow(0px 1px 2px rgba(0, 0, 0, 0.3));\n",
              "      fill: #FFFFFF;\n",
              "    }\n",
              "  </style>\n",
              "\n",
              "      <script>\n",
              "        const buttonEl =\n",
              "          document.querySelector('#df-057b2ee2-17cd-454f-8719-eeeb3baf5c7a button.colab-df-convert');\n",
              "        buttonEl.style.display =\n",
              "          google.colab.kernel.accessAllowed ? 'block' : 'none';\n",
              "\n",
              "        async function convertToInteractive(key) {\n",
              "          const element = document.querySelector('#df-057b2ee2-17cd-454f-8719-eeeb3baf5c7a');\n",
              "          const dataTable =\n",
              "            await google.colab.kernel.invokeFunction('convertToInteractive',\n",
              "                                                     [key], {});\n",
              "          if (!dataTable) return;\n",
              "\n",
              "          const docLinkHtml = 'Like what you see? Visit the ' +\n",
              "            '<a target=\"_blank\" href=https://colab.research.google.com/notebooks/data_table.ipynb>data table notebook</a>'\n",
              "            + ' to learn more about interactive tables.';\n",
              "          element.innerHTML = '';\n",
              "          dataTable['output_type'] = 'display_data';\n",
              "          await google.colab.output.renderOutput(dataTable, element);\n",
              "          const docLink = document.createElement('div');\n",
              "          docLink.innerHTML = docLinkHtml;\n",
              "          element.appendChild(docLink);\n",
              "        }\n",
              "      </script>\n",
              "    </div>\n",
              "  </div>\n",
              "  "
            ]
          },
          "metadata": {},
          "execution_count": 9
        }
      ]
    },
    {
      "cell_type": "code",
      "source": [
        "df_train_shuffled = df_train.sample(frac = 1)"
      ],
      "metadata": {
        "id": "OwszuO7hAPrU"
      },
      "execution_count": 10,
      "outputs": []
    },
    {
      "cell_type": "code",
      "source": [
        "df_train_shuffled.head()"
      ],
      "metadata": {
        "colab": {
          "base_uri": "https://localhost:8080/",
          "height": 204
        },
        "id": "YNj5Ou0dAKjM",
        "outputId": "dab5e72e-b4c3-4b9b-d9f3-254b64241f44"
      },
      "execution_count": 11,
      "outputs": [
        {
          "output_type": "execute_result",
          "data": {
            "text/plain": [
              "         id     keyword                      location  \\\n",
              "3694   5256    fatality                 Brentwood, NY   \n",
              "3371   4829  evacuation                  Bend, Oregon   \n",
              "7523  10759    wreckage           Southern California   \n",
              "6675   9566     thunder                   Decatur, GA   \n",
              "7159  10258  war%20zone  Downtown Churubusco, Indiana   \n",
              "\n",
              "                                                   text  target  \n",
              "3694  I added a video to a @YouTube playlist http://...       0  \n",
              "3371  Evacuation Advisory for Swayback Ridge Area..v...       1  \n",
              "7523  Malaysian prime minister says Reunion Island w...       1  \n",
              "6675  @KristyLeeMusic brings her Alabama thunder bac...       0  \n",
              "7159  Camping in a war zone with roving raccoons tou...       0  "
            ],
            "text/html": [
              "\n",
              "  <div id=\"df-923c29fa-97d4-442e-9e9a-49306c630c8b\">\n",
              "    <div class=\"colab-df-container\">\n",
              "      <div>\n",
              "<style scoped>\n",
              "    .dataframe tbody tr th:only-of-type {\n",
              "        vertical-align: middle;\n",
              "    }\n",
              "\n",
              "    .dataframe tbody tr th {\n",
              "        vertical-align: top;\n",
              "    }\n",
              "\n",
              "    .dataframe thead th {\n",
              "        text-align: right;\n",
              "    }\n",
              "</style>\n",
              "<table border=\"1\" class=\"dataframe\">\n",
              "  <thead>\n",
              "    <tr style=\"text-align: right;\">\n",
              "      <th></th>\n",
              "      <th>id</th>\n",
              "      <th>keyword</th>\n",
              "      <th>location</th>\n",
              "      <th>text</th>\n",
              "      <th>target</th>\n",
              "    </tr>\n",
              "  </thead>\n",
              "  <tbody>\n",
              "    <tr>\n",
              "      <th>3694</th>\n",
              "      <td>5256</td>\n",
              "      <td>fatality</td>\n",
              "      <td>Brentwood, NY</td>\n",
              "      <td>I added a video to a @YouTube playlist http://...</td>\n",
              "      <td>0</td>\n",
              "    </tr>\n",
              "    <tr>\n",
              "      <th>3371</th>\n",
              "      <td>4829</td>\n",
              "      <td>evacuation</td>\n",
              "      <td>Bend, Oregon</td>\n",
              "      <td>Evacuation Advisory for Swayback Ridge Area..v...</td>\n",
              "      <td>1</td>\n",
              "    </tr>\n",
              "    <tr>\n",
              "      <th>7523</th>\n",
              "      <td>10759</td>\n",
              "      <td>wreckage</td>\n",
              "      <td>Southern California</td>\n",
              "      <td>Malaysian prime minister says Reunion Island w...</td>\n",
              "      <td>1</td>\n",
              "    </tr>\n",
              "    <tr>\n",
              "      <th>6675</th>\n",
              "      <td>9566</td>\n",
              "      <td>thunder</td>\n",
              "      <td>Decatur, GA</td>\n",
              "      <td>@KristyLeeMusic brings her Alabama thunder bac...</td>\n",
              "      <td>0</td>\n",
              "    </tr>\n",
              "    <tr>\n",
              "      <th>7159</th>\n",
              "      <td>10258</td>\n",
              "      <td>war%20zone</td>\n",
              "      <td>Downtown Churubusco, Indiana</td>\n",
              "      <td>Camping in a war zone with roving raccoons tou...</td>\n",
              "      <td>0</td>\n",
              "    </tr>\n",
              "  </tbody>\n",
              "</table>\n",
              "</div>\n",
              "      <button class=\"colab-df-convert\" onclick=\"convertToInteractive('df-923c29fa-97d4-442e-9e9a-49306c630c8b')\"\n",
              "              title=\"Convert this dataframe to an interactive table.\"\n",
              "              style=\"display:none;\">\n",
              "        \n",
              "  <svg xmlns=\"http://www.w3.org/2000/svg\" height=\"24px\"viewBox=\"0 0 24 24\"\n",
              "       width=\"24px\">\n",
              "    <path d=\"M0 0h24v24H0V0z\" fill=\"none\"/>\n",
              "    <path d=\"M18.56 5.44l.94 2.06.94-2.06 2.06-.94-2.06-.94-.94-2.06-.94 2.06-2.06.94zm-11 1L8.5 8.5l.94-2.06 2.06-.94-2.06-.94L8.5 2.5l-.94 2.06-2.06.94zm10 10l.94 2.06.94-2.06 2.06-.94-2.06-.94-.94-2.06-.94 2.06-2.06.94z\"/><path d=\"M17.41 7.96l-1.37-1.37c-.4-.4-.92-.59-1.43-.59-.52 0-1.04.2-1.43.59L10.3 9.45l-7.72 7.72c-.78.78-.78 2.05 0 2.83L4 21.41c.39.39.9.59 1.41.59.51 0 1.02-.2 1.41-.59l7.78-7.78 2.81-2.81c.8-.78.8-2.07 0-2.86zM5.41 20L4 18.59l7.72-7.72 1.47 1.35L5.41 20z\"/>\n",
              "  </svg>\n",
              "      </button>\n",
              "      \n",
              "  <style>\n",
              "    .colab-df-container {\n",
              "      display:flex;\n",
              "      flex-wrap:wrap;\n",
              "      gap: 12px;\n",
              "    }\n",
              "\n",
              "    .colab-df-convert {\n",
              "      background-color: #E8F0FE;\n",
              "      border: none;\n",
              "      border-radius: 50%;\n",
              "      cursor: pointer;\n",
              "      display: none;\n",
              "      fill: #1967D2;\n",
              "      height: 32px;\n",
              "      padding: 0 0 0 0;\n",
              "      width: 32px;\n",
              "    }\n",
              "\n",
              "    .colab-df-convert:hover {\n",
              "      background-color: #E2EBFA;\n",
              "      box-shadow: 0px 1px 2px rgba(60, 64, 67, 0.3), 0px 1px 3px 1px rgba(60, 64, 67, 0.15);\n",
              "      fill: #174EA6;\n",
              "    }\n",
              "\n",
              "    [theme=dark] .colab-df-convert {\n",
              "      background-color: #3B4455;\n",
              "      fill: #D2E3FC;\n",
              "    }\n",
              "\n",
              "    [theme=dark] .colab-df-convert:hover {\n",
              "      background-color: #434B5C;\n",
              "      box-shadow: 0px 1px 3px 1px rgba(0, 0, 0, 0.15);\n",
              "      filter: drop-shadow(0px 1px 2px rgba(0, 0, 0, 0.3));\n",
              "      fill: #FFFFFF;\n",
              "    }\n",
              "  </style>\n",
              "\n",
              "      <script>\n",
              "        const buttonEl =\n",
              "          document.querySelector('#df-923c29fa-97d4-442e-9e9a-49306c630c8b button.colab-df-convert');\n",
              "        buttonEl.style.display =\n",
              "          google.colab.kernel.accessAllowed ? 'block' : 'none';\n",
              "\n",
              "        async function convertToInteractive(key) {\n",
              "          const element = document.querySelector('#df-923c29fa-97d4-442e-9e9a-49306c630c8b');\n",
              "          const dataTable =\n",
              "            await google.colab.kernel.invokeFunction('convertToInteractive',\n",
              "                                                     [key], {});\n",
              "          if (!dataTable) return;\n",
              "\n",
              "          const docLinkHtml = 'Like what you see? Visit the ' +\n",
              "            '<a target=\"_blank\" href=https://colab.research.google.com/notebooks/data_table.ipynb>data table notebook</a>'\n",
              "            + ' to learn more about interactive tables.';\n",
              "          element.innerHTML = '';\n",
              "          dataTable['output_type'] = 'display_data';\n",
              "          await google.colab.output.renderOutput(dataTable, element);\n",
              "          const docLink = document.createElement('div');\n",
              "          docLink.innerHTML = docLinkHtml;\n",
              "          element.appendChild(docLink);\n",
              "        }\n",
              "      </script>\n",
              "    </div>\n",
              "  </div>\n",
              "  "
            ]
          },
          "metadata": {},
          "execution_count": 11
        }
      ]
    },
    {
      "cell_type": "code",
      "source": [
        "df_train.target.value_counts()"
      ],
      "metadata": {
        "colab": {
          "base_uri": "https://localhost:8080/"
        },
        "id": "-siCs-9kAYRN",
        "outputId": "7668f7b8-b96b-496c-abe9-0fc1685d14e7"
      },
      "execution_count": 12,
      "outputs": [
        {
          "output_type": "execute_result",
          "data": {
            "text/plain": [
              "0    4342\n",
              "1    3271\n",
              "Name: target, dtype: int64"
            ]
          },
          "metadata": {},
          "execution_count": 12
        }
      ]
    },
    {
      "cell_type": "code",
      "source": [
        "len(df_test)"
      ],
      "metadata": {
        "colab": {
          "base_uri": "https://localhost:8080/"
        },
        "id": "YwdKQCSHAldX",
        "outputId": "5f293c73-8c76-4233-9a5c-977220119c0f"
      },
      "execution_count": 13,
      "outputs": [
        {
          "output_type": "execute_result",
          "data": {
            "text/plain": [
              "3263"
            ]
          },
          "metadata": {},
          "execution_count": 13
        }
      ]
    },
    {
      "cell_type": "code",
      "source": [
        "import random\n"
      ],
      "metadata": {
        "id": "3y02E6_SBJuN"
      },
      "execution_count": 14,
      "outputs": []
    },
    {
      "cell_type": "code",
      "source": [
        "random_index = random.randint(0, len(df_train) - 5)"
      ],
      "metadata": {
        "id": "PKpdB3gkUFgi"
      },
      "execution_count": 15,
      "outputs": []
    },
    {
      "cell_type": "code",
      "source": [
        "for row in df_train_shuffled[[\"text\", \"target\"]][random_index:random_index+5].itertuples():\n",
        "  _, text, target = row\n",
        "  print(f\"Target: {target}\", \"(real disaster)\" if target > 0 else \"(not real disaster)\")\n",
        "  print(f\"Text:\\n{text}\\n\")\n",
        "  print(\"---\\n\")"
      ],
      "metadata": {
        "colab": {
          "base_uri": "https://localhost:8080/"
        },
        "id": "U_t_oeLiUJa3",
        "outputId": "87adca99-b6d0-4ad0-91e9-bacc8b5aab2b"
      },
      "execution_count": 16,
      "outputs": [
        {
          "output_type": "stream",
          "name": "stdout",
          "text": [
            "Target: 1 (real disaster)\n",
            "Text:\n",
            "#breakingnews Rly tragedy in MP: Some live to recount horror: ÛÏWhen I saw coaches of my train plunging into wa... http://t.co/eYOrBmF3O3\n",
            "\n",
            "---\n",
            "\n",
            "Target: 0 (not real disaster)\n",
            "Text:\n",
            "Zone of the Enders MGS2 God of War. RT @D_PageXXI: Quote this with your favorite PS2 game\n",
            "\n",
            "---\n",
            "\n",
            "Target: 0 (not real disaster)\n",
            "Text:\n",
            "Tennis: Defending champ Svetlana Kuznetsova withdraws from Citi Open cites injury to her lower left leg (ESPN) http://t.co/iM2HdsKlq5\n",
            "\n",
            "---\n",
            "\n",
            "Target: 0 (not real disaster)\n",
            "Text:\n",
            "'Anyway' the old lady went on 'I have something to ask of you - and you alone.' THE COMING TSUNAMI http://t.co/tYeWZf3hqA\n",
            "\n",
            "---\n",
            "\n",
            "Target: 1 (real disaster)\n",
            "Text:\n",
            "1 of those days when ya don't realize till already in transit that a train DERAILED at the Metro St closest to work?? https://t.co/QYX5ThkRbH\n",
            "\n",
            "---\n",
            "\n"
          ]
        }
      ]
    },
    {
      "cell_type": "markdown",
      "source": [
        "Split into training and validation"
      ],
      "metadata": {
        "id": "37rutUc4VKSV"
      }
    },
    {
      "cell_type": "code",
      "source": [
        "from sklearn.model_selection import train_test_split"
      ],
      "metadata": {
        "id": "F_p2-r6IUV84"
      },
      "execution_count": 17,
      "outputs": []
    },
    {
      "cell_type": "code",
      "source": [
        "train_sentences, test_sentences, train_labels, test_labels = train_test_split(df_train_shuffled[\"text\"].to_numpy(),\n",
        "                                                                            df_train_shuffled[\"target\"].to_numpy(),\n",
        "                                                                            test_size = 0.1,\n",
        "                                                                            random_state = 42)"
      ],
      "metadata": {
        "id": "eACpwJP6VSBF"
      },
      "execution_count": 18,
      "outputs": []
    },
    {
      "cell_type": "markdown",
      "source": [
        "### Converting Text to Numbers"
      ],
      "metadata": {
        "id": "dNL94aeVYScG"
      }
    },
    {
      "cell_type": "code",
      "source": [
        "import tensorflow as tf\n",
        "from tensorflow.keras.layers import TextVectorization"
      ],
      "metadata": {
        "id": "SJsGyxY-V0LT"
      },
      "execution_count": 19,
      "outputs": []
    },
    {
      "cell_type": "code",
      "source": [
        "text_vectorizer = TextVectorization(\n",
        "    max_tokens = None,\n",
        "    standardize = 'lower_and_strip_punctuation',\n",
        "    split = 'whitespace',\n",
        "    ngrams = None,\n",
        "    output_mode = 'int',\n",
        "    output_sequence_length = None\n",
        ")"
      ],
      "metadata": {
        "id": "stkqQDKXYu0h"
      },
      "execution_count": 20,
      "outputs": []
    },
    {
      "cell_type": "code",
      "source": [
        "max_vocab_length = 10000 # max number of words to have in our vocabulary\n",
        "max_length = 15 # max length our sequences will be (e.g. how many words from a Tweet does our model see?)\n",
        "\n",
        "text_vectorizer = TextVectorization(max_tokens=max_vocab_length,\n",
        "                                    output_mode=\"int\",\n",
        "                                    output_sequence_length=max_length)"
      ],
      "metadata": {
        "id": "Qu4dMZI2f69P"
      },
      "execution_count": 21,
      "outputs": []
    },
    {
      "cell_type": "markdown",
      "source": [
        "Fit TextVectorizer to training text"
      ],
      "metadata": {
        "id": "BHzwKGUZ0rrF"
      }
    },
    {
      "cell_type": "code",
      "source": [
        "sample_sentence = \"Hello it's raining outside\""
      ],
      "metadata": {
        "id": "yhWjiiFqg4Cp"
      },
      "execution_count": 22,
      "outputs": []
    },
    {
      "cell_type": "code",
      "source": [
        "text_vectorizer.adapt(train_sentences)"
      ],
      "metadata": {
        "id": "sgbDH5-J1cqz"
      },
      "execution_count": 23,
      "outputs": []
    },
    {
      "cell_type": "code",
      "source": [
        "sample_vec = text_vectorizer([sample_sentence])"
      ],
      "metadata": {
        "id": "TAhVm5rA1Q9E"
      },
      "execution_count": 24,
      "outputs": []
    },
    {
      "cell_type": "code",
      "source": [
        "sample_vec"
      ],
      "metadata": {
        "colab": {
          "base_uri": "https://localhost:8080/"
        },
        "id": "xiSMrq4s1UkU",
        "outputId": "af0829c2-958a-4897-ad76-fe3e352a970c"
      },
      "execution_count": 25,
      "outputs": [
        {
          "output_type": "execute_result",
          "data": {
            "text/plain": [
              "<tf.Tensor: shape=(1, 15), dtype=int64, numpy=\n",
              "array([[1513,   37, 2803,  741,    0,    0,    0,    0,    0,    0,    0,\n",
              "           0,    0,    0,    0]])>"
            ]
          },
          "metadata": {},
          "execution_count": 25
        }
      ]
    },
    {
      "cell_type": "markdown",
      "source": [
        "Get unique words in vocab"
      ],
      "metadata": {
        "id": "FFMT4YhZJCmN"
      }
    },
    {
      "cell_type": "code",
      "source": [
        "words_in_vocab = text_vectorizer.get_vocabulary()"
      ],
      "metadata": {
        "id": "jd20KrZT1VgM"
      },
      "execution_count": 26,
      "outputs": []
    },
    {
      "cell_type": "code",
      "source": [
        "most_common_words = words_in_vocab[:5]"
      ],
      "metadata": {
        "id": "L9vVnD_dJLa1"
      },
      "execution_count": 27,
      "outputs": []
    },
    {
      "cell_type": "code",
      "source": [
        "most_common_words"
      ],
      "metadata": {
        "colab": {
          "base_uri": "https://localhost:8080/"
        },
        "id": "Zq_wE7mNKGgD",
        "outputId": "f481c1c5-1301-4a45-abd8-0d8c0042d897"
      },
      "execution_count": 28,
      "outputs": [
        {
          "output_type": "execute_result",
          "data": {
            "text/plain": [
              "['', '[UNK]', 'the', 'a', 'in']"
            ]
          },
          "metadata": {},
          "execution_count": 28
        }
      ]
    },
    {
      "cell_type": "markdown",
      "source": [
        "oov - out of vocabulary"
      ],
      "metadata": {
        "id": "OUA_KYYnvhKr"
      }
    },
    {
      "cell_type": "markdown",
      "source": [
        "#### Creating an Embedding layer"
      ],
      "metadata": {
        "id": "AoEOxjUHv-96"
      }
    },
    {
      "cell_type": "markdown",
      "source": [
        "* input_dim - size of vocab\n",
        "* out_dim - size of embedding\n",
        "* input_length - length of sequence"
      ],
      "metadata": {
        "id": "fZovkHW9wneV"
      }
    },
    {
      "cell_type": "code",
      "source": [
        "from tensorflow.keras import layers"
      ],
      "metadata": {
        "id": "HHwxfnENKIIV"
      },
      "execution_count": 29,
      "outputs": []
    },
    {
      "cell_type": "code",
      "source": [
        "embedding = layers.Embedding(input_dim = max_vocab_length,\n",
        "                             output_dim = 128,\n",
        "                             input_length = max_length)"
      ],
      "metadata": {
        "id": "79I9vasgw4Qr"
      },
      "execution_count": 30,
      "outputs": []
    },
    {
      "cell_type": "code",
      "source": [
        "embedding"
      ],
      "metadata": {
        "colab": {
          "base_uri": "https://localhost:8080/"
        },
        "id": "4lPxjrX5xdy0",
        "outputId": "97c8ba6f-c104-4810-9e6b-2f2f0d393c60"
      },
      "execution_count": 31,
      "outputs": [
        {
          "output_type": "execute_result",
          "data": {
            "text/plain": [
              "<keras.layers.embeddings.Embedding at 0x7f42d00bd610>"
            ]
          },
          "metadata": {},
          "execution_count": 31
        }
      ]
    },
    {
      "cell_type": "code",
      "source": [
        "random_sentence = random.choice(train_sentences)"
      ],
      "metadata": {
        "id": "38gAmWxQxJWl"
      },
      "execution_count": 32,
      "outputs": []
    },
    {
      "cell_type": "code",
      "source": [
        "random_sentence"
      ],
      "metadata": {
        "colab": {
          "base_uri": "https://localhost:8080/",
          "height": 0
        },
        "id": "nfM6AkjkxQSk",
        "outputId": "d6dd25b6-2812-4796-8b99-6e70d184cd13"
      },
      "execution_count": 33,
      "outputs": [
        {
          "output_type": "execute_result",
          "data": {
            "text/plain": [
              "'16 dead in Russia bus accident: At least 16 people were killed and 26 others injured when two buses collided i... http://t.co/jMBVPanXR3'"
            ],
            "application/vnd.google.colaboratory.intrinsic+json": {
              "type": "string"
            }
          },
          "metadata": {},
          "execution_count": 33
        }
      ]
    },
    {
      "cell_type": "code",
      "source": [
        "sample_embed = embedding(text_vectorizer(sample_sentence))"
      ],
      "metadata": {
        "id": "QN5kxrvnxSbf"
      },
      "execution_count": 34,
      "outputs": []
    },
    {
      "cell_type": "code",
      "source": [
        "sample_embed"
      ],
      "metadata": {
        "colab": {
          "base_uri": "https://localhost:8080/"
        },
        "id": "wofZvTDAyrUK",
        "outputId": "e69214bc-2cac-4797-c824-88c9d3e06332"
      },
      "execution_count": 35,
      "outputs": [
        {
          "output_type": "execute_result",
          "data": {
            "text/plain": [
              "<tf.Tensor: shape=(15, 128), dtype=float32, numpy=\n",
              "array([[-0.01457966, -0.01550434,  0.02172172, ...,  0.04288566,\n",
              "         0.04343772,  0.02972878],\n",
              "       [ 0.02896526,  0.01626328,  0.01015458, ...,  0.02544424,\n",
              "        -0.0492795 , -0.03980406],\n",
              "       [ 0.04000446, -0.00126518, -0.00806086, ...,  0.04680798,\n",
              "        -0.0236689 , -0.04775577],\n",
              "       ...,\n",
              "       [ 0.02368391, -0.00340364,  0.04731167, ...,  0.02256925,\n",
              "         0.00645339,  0.00174074],\n",
              "       [ 0.02368391, -0.00340364,  0.04731167, ...,  0.02256925,\n",
              "         0.00645339,  0.00174074],\n",
              "       [ 0.02368391, -0.00340364,  0.04731167, ...,  0.02256925,\n",
              "         0.00645339,  0.00174074]], dtype=float32)>"
            ]
          },
          "metadata": {},
          "execution_count": 35
        }
      ]
    },
    {
      "cell_type": "markdown",
      "source": [
        "### Modelling a Text Dataset"
      ],
      "metadata": {
        "id": "zZJ7WFN3z0w0"
      }
    },
    {
      "cell_type": "markdown",
      "source": [
        "#### Naive Bayes\n",
        "\n",
        "Will act as baseline"
      ],
      "metadata": {
        "id": "RMKg33Ec0_E6"
      }
    },
    {
      "cell_type": "code",
      "source": [
        "from sklearn.feature_extraction.text import TfidfVectorizer\n",
        "from sklearn.naive_bayes import MultinomialNB\n",
        "from sklearn.pipeline import Pipeline"
      ],
      "metadata": {
        "id": "pqXTh822yvsz"
      },
      "execution_count": 36,
      "outputs": []
    },
    {
      "cell_type": "code",
      "source": [
        "model_0 = Pipeline([\n",
        "    ('tfidf',TfidfVectorizer()),\n",
        "    ('clf',MultinomialNB())\n",
        "])"
      ],
      "metadata": {
        "id": "CsQz7VjD1rqp"
      },
      "execution_count": 37,
      "outputs": []
    },
    {
      "cell_type": "code",
      "source": [
        "model_0.fit(train_sentences, train_labels)"
      ],
      "metadata": {
        "colab": {
          "base_uri": "https://localhost:8080/"
        },
        "id": "GgTsubm-2GLW",
        "outputId": "a795668b-81a4-4df3-bf72-2d9c550c35b3"
      },
      "execution_count": 38,
      "outputs": [
        {
          "output_type": "execute_result",
          "data": {
            "text/plain": [
              "Pipeline(steps=[('tfidf', TfidfVectorizer()), ('clf', MultinomialNB())])"
            ]
          },
          "metadata": {},
          "execution_count": 38
        }
      ]
    },
    {
      "cell_type": "code",
      "source": [
        "baseline_performance = model_0.score(test_sentences, test_labels)"
      ],
      "metadata": {
        "id": "ZNqRtmuf2Oas"
      },
      "execution_count": 39,
      "outputs": []
    },
    {
      "cell_type": "code",
      "source": [
        "baseline_performance*100"
      ],
      "metadata": {
        "colab": {
          "base_uri": "https://localhost:8080/"
        },
        "id": "TD1AzWxp2zqU",
        "outputId": "0cb77d85-62b3-4b4e-876e-f71e080096af"
      },
      "execution_count": 40,
      "outputs": [
        {
          "output_type": "execute_result",
          "data": {
            "text/plain": [
              "81.10236220472441"
            ]
          },
          "metadata": {},
          "execution_count": 40
        }
      ]
    },
    {
      "cell_type": "code",
      "source": [
        "baseline_preds = model_0.predict(test_sentences)"
      ],
      "metadata": {
        "id": "O__ycUOj24nB"
      },
      "execution_count": 41,
      "outputs": []
    },
    {
      "cell_type": "code",
      "source": [
        "baseline_preds[:20]"
      ],
      "metadata": {
        "colab": {
          "base_uri": "https://localhost:8080/"
        },
        "id": "rTRSmUsW3KAs",
        "outputId": "c6ed5870-7b41-4d68-8484-fd2007dd13d6"
      },
      "execution_count": 42,
      "outputs": [
        {
          "output_type": "execute_result",
          "data": {
            "text/plain": [
              "array([0, 0, 0, 0, 0, 0, 1, 1, 1, 0, 1, 0, 1, 0, 0, 0, 0, 0, 1, 1])"
            ]
          },
          "metadata": {},
          "execution_count": 42
        }
      ]
    },
    {
      "cell_type": "code",
      "source": [
        "from sklearn.metrics import accuracy_score, precision_recall_fscore_support"
      ],
      "metadata": {
        "id": "JlKutqyi3LSB"
      },
      "execution_count": 43,
      "outputs": []
    },
    {
      "cell_type": "code",
      "source": [
        "def calculate_results(y_true, y_pred):\n",
        "  \"\"\"Calculates model accuracy\"\"\"\n",
        "  model_accuracy = accuracy_score(y_true, y_pred) *100\n",
        "  \n",
        "  model_precision, model_recall, model_f1, _ = precision_recall_fscore_support(y_true, y_pred, average=\"weighted\")\n",
        "  model_results = {\"accuracy\": model_accuracy,\n",
        "                  \"precision\": model_precision,\n",
        "                  \"recall\": model_recall,\n",
        "                  \"f1\": model_f1}\n",
        "\n",
        "  return model_results\n"
      ],
      "metadata": {
        "id": "ipb4vs_Pa4YO"
      },
      "execution_count": 44,
      "outputs": []
    },
    {
      "cell_type": "code",
      "source": [
        "baseline_results = calculate_results(test_labels, baseline_preds)"
      ],
      "metadata": {
        "id": "gY1UdxSWFcYS"
      },
      "execution_count": 45,
      "outputs": []
    },
    {
      "cell_type": "code",
      "source": [
        "baseline_results"
      ],
      "metadata": {
        "colab": {
          "base_uri": "https://localhost:8080/"
        },
        "id": "coqrntu5FudE",
        "outputId": "1a403348-19c7-475a-efe9-62006b6d3d40"
      },
      "execution_count": 46,
      "outputs": [
        {
          "output_type": "execute_result",
          "data": {
            "text/plain": [
              "{'accuracy': 81.10236220472441,\n",
              " 'f1': 0.8056213385366573,\n",
              " 'precision': 0.8229746948861455,\n",
              " 'recall': 0.8110236220472441}"
            ]
          },
          "metadata": {},
          "execution_count": 46
        }
      ]
    },
    {
      "cell_type": "markdown",
      "source": [
        "### Model 1: Simple Dense Model"
      ],
      "metadata": {
        "id": "hRB3JuwGGHVj"
      }
    },
    {
      "cell_type": "code",
      "source": [
        "SAVE_DIR = 'model_logs'"
      ],
      "metadata": {
        "id": "fStTb86uFwc3"
      },
      "execution_count": 47,
      "outputs": []
    },
    {
      "cell_type": "code",
      "source": [
        "inputs = layers.Input(shape=(1,), dtype=\"string\") # inputs are 1-dimensional strings\n",
        "x = text_vectorizer(inputs) # turn the input text into numbers\n",
        "x = embedding(x) # create an embedding of the numerized numbers\n",
        "x = layers.GlobalAveragePooling1D()(x) # lower the dimensionality of the embedding\n",
        "outputs = layers.Dense(1, activation=\"sigmoid\")(x) # create the output layer, want binary outputs so use sigmoid activation\n",
        "model_1 = tf.keras.Model(inputs, outputs, name=\"model_1_dense\")"
      ],
      "metadata": {
        "id": "6Q2SfkEyGncg"
      },
      "execution_count": 48,
      "outputs": []
    },
    {
      "cell_type": "code",
      "source": [
        "model = tf.keras.Model(inputs, outputs, name = 'model_1_dense')"
      ],
      "metadata": {
        "id": "zB9rB8BD7nEu"
      },
      "execution_count": 49,
      "outputs": []
    },
    {
      "cell_type": "code",
      "source": [
        "model.summary()"
      ],
      "metadata": {
        "colab": {
          "base_uri": "https://localhost:8080/"
        },
        "id": "iyCFYVBi7tqQ",
        "outputId": "dbb96b1b-d2b1-4c5d-d8e1-47ffd181b103"
      },
      "execution_count": 50,
      "outputs": [
        {
          "output_type": "stream",
          "name": "stdout",
          "text": [
            "Model: \"model_1_dense\"\n",
            "_________________________________________________________________\n",
            " Layer (type)                Output Shape              Param #   \n",
            "=================================================================\n",
            " input_1 (InputLayer)        [(None, 1)]               0         \n",
            "                                                                 \n",
            " text_vectorization_1 (TextV  (None, 15)               0         \n",
            " ectorization)                                                   \n",
            "                                                                 \n",
            " embedding (Embedding)       (None, 15, 128)           1280000   \n",
            "                                                                 \n",
            " global_average_pooling1d (G  (None, 128)              0         \n",
            " lobalAveragePooling1D)                                          \n",
            "                                                                 \n",
            " dense (Dense)               (None, 1)                 129       \n",
            "                                                                 \n",
            "=================================================================\n",
            "Total params: 1,280,129\n",
            "Trainable params: 1,280,129\n",
            "Non-trainable params: 0\n",
            "_________________________________________________________________\n"
          ]
        }
      ]
    },
    {
      "cell_type": "code",
      "source": [
        "model.compile(loss=tf.keras.losses.BinaryCrossentropy(from_logits=True),\n",
        "                optimizer=tf.keras.optimizers.Adam(),\n",
        "                metrics=[\"accuracy\"])"
      ],
      "metadata": {
        "id": "lPPjACgY7w6u"
      },
      "execution_count": 51,
      "outputs": []
    },
    {
      "cell_type": "code",
      "source": [
        "model.fit(\n",
        "    train_sentences,\n",
        "    train_labels,\n",
        "    epochs = 5,\n",
        "    callbacks = [create_tensorboard_callback(dir_name = SAVE_DIR, experiment_name = 'model_1_dense')]\n",
        ")"
      ],
      "metadata": {
        "colab": {
          "base_uri": "https://localhost:8080/"
        },
        "id": "vKVLHFE88Djz",
        "outputId": "4f0b5c48-392b-47b0-a66f-499990afb1e6"
      },
      "execution_count": 52,
      "outputs": [
        {
          "output_type": "stream",
          "name": "stdout",
          "text": [
            "Saving TensorBoard log files to: model_logs/model_1_dense/20220627-132045\n",
            "Epoch 1/5\n"
          ]
        },
        {
          "output_type": "stream",
          "name": "stderr",
          "text": [
            "/usr/local/lib/python3.7/dist-packages/tensorflow/python/util/dispatch.py:1082: UserWarning: \"`binary_crossentropy` received `from_logits=True`, but the `output` argument was produced by a sigmoid or softmax activation and thus does not represent logits. Was this intended?\"\n",
            "  return dispatch_target(*args, **kwargs)\n"
          ]
        },
        {
          "output_type": "stream",
          "name": "stdout",
          "text": [
            "215/215 [==============================] - 5s 6ms/step - loss: 0.6143 - accuracy: 0.6980\n",
            "Epoch 2/5\n",
            "215/215 [==============================] - 1s 7ms/step - loss: 0.4469 - accuracy: 0.8133\n",
            "Epoch 3/5\n",
            "215/215 [==============================] - 1s 6ms/step - loss: 0.3530 - accuracy: 0.8572\n",
            "Epoch 4/5\n",
            "215/215 [==============================] - 1s 7ms/step - loss: 0.2898 - accuracy: 0.8841\n",
            "Epoch 5/5\n",
            "215/215 [==============================] - 1s 6ms/step - loss: 0.2431 - accuracy: 0.9085\n"
          ]
        },
        {
          "output_type": "execute_result",
          "data": {
            "text/plain": [
              "<keras.callbacks.History at 0x7f424dc14d50>"
            ]
          },
          "metadata": {},
          "execution_count": 52
        }
      ]
    },
    {
      "cell_type": "code",
      "source": [
        "model.evaluate(test_sentences, test_labels)"
      ],
      "metadata": {
        "colab": {
          "base_uri": "https://localhost:8080/"
        },
        "id": "J2MTqzZJ8Qg7",
        "outputId": "16440acf-b856-4f16-88e0-a1828acd0c31"
      },
      "execution_count": 53,
      "outputs": [
        {
          "output_type": "stream",
          "name": "stdout",
          "text": [
            "16/24 [===================>..........] - ETA: 0s - loss: 0.4081 - accuracy: 0.8105"
          ]
        },
        {
          "output_type": "stream",
          "name": "stderr",
          "text": [
            "/usr/local/lib/python3.7/dist-packages/tensorflow/python/util/dispatch.py:1082: UserWarning: \"`binary_crossentropy` received `from_logits=True`, but the `output` argument was produced by a sigmoid or softmax activation and thus does not represent logits. Was this intended?\"\n",
            "  return dispatch_target(*args, **kwargs)\n"
          ]
        },
        {
          "output_type": "stream",
          "name": "stdout",
          "text": [
            "\b\b\b\b\b\b\b\b\b\b\b\b\b\b\b\b\b\b\b\b\b\b\b\b\b\b\b\b\b\b\b\b\b\b\b\b\b\b\b\b\b\b\b\b\b\b\b\b\b\b\b\b\b\b\b\b\b\b\b\b\b\b\b\b\b\b\b\b\b\b\b\b\b\b\b\b\b\b\b\b\b\b\r24/24 [==============================] - 0s 4ms/step - loss: 0.4067 - accuracy: 0.8123\n"
          ]
        },
        {
          "output_type": "execute_result",
          "data": {
            "text/plain": [
              "[0.4066615104675293, 0.8123359680175781]"
            ]
          },
          "metadata": {},
          "execution_count": 53
        }
      ]
    },
    {
      "cell_type": "code",
      "source": [
        "model_preds = model.predict(test_sentences)"
      ],
      "metadata": {
        "id": "kmXgLoVU8bJ3"
      },
      "execution_count": 54,
      "outputs": []
    },
    {
      "cell_type": "code",
      "source": [
        "model_preds.shape"
      ],
      "metadata": {
        "colab": {
          "base_uri": "https://localhost:8080/"
        },
        "id": "VvmY8fSw9rAj",
        "outputId": "d08205d7-c698-48bd-f217-e36c3bb292bc"
      },
      "execution_count": 55,
      "outputs": [
        {
          "output_type": "execute_result",
          "data": {
            "text/plain": [
              "(762, 1)"
            ]
          },
          "metadata": {},
          "execution_count": 55
        }
      ]
    },
    {
      "cell_type": "code",
      "source": [
        "tf.squeeze(np.round(model_preds[:20]))"
      ],
      "metadata": {
        "colab": {
          "base_uri": "https://localhost:8080/"
        },
        "id": "GPIKqlSq9sKC",
        "outputId": "09d93762-d7de-4113-d70f-a02173fbde3c"
      },
      "execution_count": 56,
      "outputs": [
        {
          "output_type": "execute_result",
          "data": {
            "text/plain": [
              "<tf.Tensor: shape=(20,), dtype=float32, numpy=\n",
              "array([0., 0., 0., 0., 0., 0., 1., 1., 1., 0., 1., 0., 1., 0., 1., 0., 0.,\n",
              "       0., 1., 1.], dtype=float32)>"
            ]
          },
          "metadata": {},
          "execution_count": 56
        }
      ]
    },
    {
      "cell_type": "code",
      "source": [
        "model_dense_results = calculate_results(test_labels, np.round(model_preds))"
      ],
      "metadata": {
        "id": "49Lvx1_X_WM9"
      },
      "execution_count": 57,
      "outputs": []
    },
    {
      "cell_type": "code",
      "source": [
        "model_dense_results"
      ],
      "metadata": {
        "colab": {
          "base_uri": "https://localhost:8080/"
        },
        "id": "bijrC1dB_ruT",
        "outputId": "2ecd7229-d9d9-4c1a-d18c-0110aa484877"
      },
      "execution_count": 58,
      "outputs": [
        {
          "output_type": "execute_result",
          "data": {
            "text/plain": [
              "{'accuracy': 81.23359580052494,\n",
              " 'f1': 0.8112338965507089,\n",
              " 'precision': 0.8122247344855887,\n",
              " 'recall': 0.8123359580052494}"
            ]
          },
          "metadata": {},
          "execution_count": 58
        }
      ]
    },
    {
      "cell_type": "markdown",
      "source": [
        "#### Visualising Learned Embeddings"
      ],
      "metadata": {
        "id": "ajMCs72cAWxU"
      }
    },
    {
      "cell_type": "code",
      "source": [
        "len(words_in_vocab)"
      ],
      "metadata": {
        "colab": {
          "base_uri": "https://localhost:8080/"
        },
        "id": "lzgYttSQ_uD8",
        "outputId": "677ed9d1-3f4c-4ec3-f411-6846f14c1cdb"
      },
      "execution_count": 59,
      "outputs": [
        {
          "output_type": "execute_result",
          "data": {
            "text/plain": [
              "10000"
            ]
          },
          "metadata": {},
          "execution_count": 59
        }
      ]
    },
    {
      "cell_type": "code",
      "source": [
        "embed_weights = model.get_layer('embedding').get_weights()"
      ],
      "metadata": {
        "id": "4PZ-FMT2Ad81"
      },
      "execution_count": 60,
      "outputs": []
    },
    {
      "cell_type": "code",
      "source": [
        "embed_weights"
      ],
      "metadata": {
        "colab": {
          "base_uri": "https://localhost:8080/"
        },
        "id": "3IB64Q0hAzk4",
        "outputId": "7205f9a7-95e1-41be-caa9-feeb0c7eb09e"
      },
      "execution_count": 61,
      "outputs": [
        {
          "output_type": "execute_result",
          "data": {
            "text/plain": [
              "[array([[ 0.00602084,  0.01502367,  0.06653024, ...,  0.01200994,\n",
              "          0.0241552 , -0.01470902],\n",
              "        [ 0.0079484 ,  0.02065699,  0.05263615, ...,  0.01587135,\n",
              "          0.00281008,  0.01298044],\n",
              "        [-0.0463568 , -0.02482565, -0.00210201, ...,  0.02781899,\n",
              "          0.00309202, -0.04943291],\n",
              "        ...,\n",
              "        [ 0.05433653, -0.07939593, -0.0684666 , ...,  0.00181025,\n",
              "         -0.06543685,  0.00849576],\n",
              "        [-0.02818294,  0.04721927,  0.08552977, ..., -0.02534232,\n",
              "          0.10756781, -0.05801333],\n",
              "        [ 0.01163502,  0.05872467, -0.0062492 , ..., -0.07411076,\n",
              "          0.00771631,  0.00891813]], dtype=float32)]"
            ]
          },
          "metadata": {},
          "execution_count": 61
        }
      ]
    },
    {
      "cell_type": "code",
      "source": [
        "embed_weights[0].shape"
      ],
      "metadata": {
        "colab": {
          "base_uri": "https://localhost:8080/"
        },
        "id": "QcePostZA1Uy",
        "outputId": "749d70ac-c032-492b-df89-c0af1e5463b1"
      },
      "execution_count": 62,
      "outputs": [
        {
          "output_type": "execute_result",
          "data": {
            "text/plain": [
              "(10000, 128)"
            ]
          },
          "metadata": {},
          "execution_count": 62
        }
      ]
    },
    {
      "cell_type": "code",
      "source": [
        "import io"
      ],
      "metadata": {
        "id": "90s28XnoT6Z0"
      },
      "execution_count": 63,
      "outputs": []
    },
    {
      "cell_type": "code",
      "source": [
        "# Create output writers\n",
        "out_v = io.open(\"embedding_vectors.tsv\", \"w\", encoding=\"utf-8\")\n",
        "out_m = io.open(\"embedding_metadata.tsv\", \"w\", encoding=\"utf-8\")\n",
        "\n",
        "# Write embedding vectors and words to file\n",
        "for num, word in enumerate(words_in_vocab):\n",
        "  if num == 0: \n",
        "     continue # skip padding token\n",
        "  vec = embed_weights[0][num]\n",
        "  out_m.write(word + \"\\n\") # write words to file\n",
        "  out_v.write(\"\\t\".join([str(x) for x in vec]) + \"\\n\") # write corresponding word vector to file\n",
        "out_v.close()\n",
        "out_m.close()"
      ],
      "metadata": {
        "id": "yGpIdEYqA6xS"
      },
      "execution_count": 64,
      "outputs": []
    },
    {
      "cell_type": "code",
      "source": [
        "# # Download files locally to upload to Embedding Projector\n",
        "# try:\n",
        "#   from google.colab import files\n",
        "# except ImportError:\n",
        "#   pass\n",
        "# else:\n",
        "#   files.download(\"embedding_vectors.tsv\")\n",
        "#   files.download(\"embedding_metadata.tsv\")"
      ],
      "metadata": {
        "id": "GHs6Se0iT4nr"
      },
      "execution_count": 65,
      "outputs": []
    },
    {
      "cell_type": "markdown",
      "source": [
        "http://projector.tensorflow.org/"
      ],
      "metadata": {
        "id": "Eod5FMYVUZoz"
      }
    },
    {
      "cell_type": "markdown",
      "source": [
        "## Recurrent Neural Network"
      ],
      "metadata": {
        "id": "SRJfwKwYUTIj"
      }
    },
    {
      "cell_type": "markdown",
      "source": [
        "## LSTM"
      ],
      "metadata": {
        "id": "caLVtg_Vi5wN"
      }
    },
    {
      "cell_type": "code",
      "source": [
        "inputs = layers.Input(shape = (1,), dtype = tf.string)\n",
        "x = text_vectorizer(inputs)\n",
        "x = embedding(x)\n",
        "x = layers.LSTM(64, return_sequences=True)(x)\n",
        "x = layers.LSTM(64)(x)\n",
        "x = layers.Dense(64)(x)\n",
        "outputs = layers.Dense(1, activation = 'sigmoid')(x)\n",
        "\n",
        "model_lstm = tf.keras.Model(inputs, outputs, name = 'model_lstm')"
      ],
      "metadata": {
        "id": "sDCD9soakzsZ"
      },
      "execution_count": 66,
      "outputs": []
    },
    {
      "cell_type": "code",
      "source": [
        "model_lstm.compile(\n",
        "    loss = 'binary_crossentropy',\n",
        "    optimizer = 'Adam',\n",
        "    metrics = ['accuracy']\n",
        ")"
      ],
      "metadata": {
        "id": "r28EIed3lunM"
      },
      "execution_count": 67,
      "outputs": []
    },
    {
      "cell_type": "code",
      "source": [
        "model_lstm.fit(\n",
        "    train_sentences, \n",
        "    train_labels,\n",
        "    epochs = 5,\n",
        "    validation_data = (test_sentences, test_labels),\n",
        "    callbacks = [create_tensorboard_callback(dir_name = SAVE_DIR, experiment_name = 'model_lstm')]\n",
        ")"
      ],
      "metadata": {
        "colab": {
          "base_uri": "https://localhost:8080/"
        },
        "id": "xlwiOeevm5cM",
        "outputId": "817c6655-0810-4916-da62-476779ee2b56"
      },
      "execution_count": 68,
      "outputs": [
        {
          "output_type": "stream",
          "name": "stdout",
          "text": [
            "Saving TensorBoard log files to: model_logs/model_lstm/20220627-132109\n",
            "Epoch 1/5\n",
            "215/215 [==============================] - 8s 11ms/step - loss: 0.2158 - accuracy: 0.9237 - val_loss: 0.5127 - val_accuracy: 0.7966\n",
            "Epoch 2/5\n",
            "215/215 [==============================] - 2s 8ms/step - loss: 0.1619 - accuracy: 0.9391 - val_loss: 0.5809 - val_accuracy: 0.7782\n",
            "Epoch 3/5\n",
            "215/215 [==============================] - 2s 8ms/step - loss: 0.1275 - accuracy: 0.9542 - val_loss: 0.4984 - val_accuracy: 0.7953\n",
            "Epoch 4/5\n",
            "215/215 [==============================] - 2s 8ms/step - loss: 0.1066 - accuracy: 0.9599 - val_loss: 0.5807 - val_accuracy: 0.7861\n",
            "Epoch 5/5\n",
            "215/215 [==============================] - 2s 8ms/step - loss: 0.0862 - accuracy: 0.9676 - val_loss: 1.0047 - val_accuracy: 0.7808\n"
          ]
        },
        {
          "output_type": "execute_result",
          "data": {
            "text/plain": [
              "<keras.callbacks.History at 0x7f424a3686d0>"
            ]
          },
          "metadata": {},
          "execution_count": 68
        }
      ]
    },
    {
      "cell_type": "code",
      "source": [
        "model_lstm_preds = model_lstm.predict(test_sentences)"
      ],
      "metadata": {
        "id": "XWxvlfwdm7Br"
      },
      "execution_count": 69,
      "outputs": []
    },
    {
      "cell_type": "code",
      "source": [
        "np.round(model_lstm_preds[:10])"
      ],
      "metadata": {
        "colab": {
          "base_uri": "https://localhost:8080/"
        },
        "id": "PRYGm6aNnkkq",
        "outputId": "8e9c944a-29cf-44c5-bb2c-c0e4a9050c12"
      },
      "execution_count": 70,
      "outputs": [
        {
          "output_type": "execute_result",
          "data": {
            "text/plain": [
              "array([[0.],\n",
              "       [0.],\n",
              "       [0.],\n",
              "       [0.],\n",
              "       [0.],\n",
              "       [0.],\n",
              "       [1.],\n",
              "       [1.],\n",
              "       [1.],\n",
              "       [0.]], dtype=float32)"
            ]
          },
          "metadata": {},
          "execution_count": 70
        }
      ]
    },
    {
      "cell_type": "code",
      "source": [
        "model_lstm_results = calculate_results(test_labels, np.round(model_lstm_preds))"
      ],
      "metadata": {
        "id": "gDAJg2OJnowd"
      },
      "execution_count": 71,
      "outputs": []
    },
    {
      "cell_type": "code",
      "source": [
        "model_lstm_results"
      ],
      "metadata": {
        "colab": {
          "base_uri": "https://localhost:8080/"
        },
        "id": "mJpOKvFjnwNF",
        "outputId": "7468a2cf-7708-47f3-dd04-877dd8023c56"
      },
      "execution_count": 72,
      "outputs": [
        {
          "output_type": "execute_result",
          "data": {
            "text/plain": [
              "{'accuracy': 78.08398950131233,\n",
              " 'f1': 0.7801978277823353,\n",
              " 'precision': 0.7801698407663346,\n",
              " 'recall': 0.7808398950131233}"
            ]
          },
          "metadata": {},
          "execution_count": 72
        }
      ]
    },
    {
      "cell_type": "markdown",
      "source": [
        "### GRU"
      ],
      "metadata": {
        "id": "V0VDy50ynxYw"
      }
    },
    {
      "cell_type": "code",
      "source": [
        "inputs = layers.Input(shape = (1,), dtype = tf.string)\n",
        "x = text_vectorizer(inputs)\n",
        "x = embedding(x)\n",
        "x = layers.GRU(64, return_sequences=True)(x)\n",
        "x = layers.GRU(64)(x)\n",
        "x = layers.Dense(64, activation = 'relu')(x)\n",
        "outputs = layers.Dense(1, activation = 'sigmoid')(x)\n",
        "\n",
        "model_gru = tf.keras.Model(inputs, outputs)"
      ],
      "metadata": {
        "id": "5mqbHbtdoJNT"
      },
      "execution_count": 73,
      "outputs": []
    },
    {
      "cell_type": "code",
      "source": [
        "model_gru.summary()"
      ],
      "metadata": {
        "colab": {
          "base_uri": "https://localhost:8080/"
        },
        "id": "qAYiopEWpFLX",
        "outputId": "b8dd8055-6a00-4657-8c49-ef32636ec3fa"
      },
      "execution_count": 74,
      "outputs": [
        {
          "output_type": "stream",
          "name": "stdout",
          "text": [
            "Model: \"model\"\n",
            "_________________________________________________________________\n",
            " Layer (type)                Output Shape              Param #   \n",
            "=================================================================\n",
            " input_3 (InputLayer)        [(None, 1)]               0         \n",
            "                                                                 \n",
            " text_vectorization_1 (TextV  (None, 15)               0         \n",
            " ectorization)                                                   \n",
            "                                                                 \n",
            " embedding (Embedding)       (None, 15, 128)           1280000   \n",
            "                                                                 \n",
            " gru (GRU)                   (None, 15, 64)            37248     \n",
            "                                                                 \n",
            " gru_1 (GRU)                 (None, 64)                24960     \n",
            "                                                                 \n",
            " dense_3 (Dense)             (None, 64)                4160      \n",
            "                                                                 \n",
            " dense_4 (Dense)             (None, 1)                 65        \n",
            "                                                                 \n",
            "=================================================================\n",
            "Total params: 1,346,433\n",
            "Trainable params: 1,346,433\n",
            "Non-trainable params: 0\n",
            "_________________________________________________________________\n"
          ]
        }
      ]
    },
    {
      "cell_type": "code",
      "source": [
        "model_gru.compile(\n",
        "    loss = 'binary_crossentropy',\n",
        "    optimizer = 'Adam',\n",
        "    metrics = ['accuracy']\n",
        ")"
      ],
      "metadata": {
        "id": "h18aJ9wtqf9p"
      },
      "execution_count": 75,
      "outputs": []
    },
    {
      "cell_type": "code",
      "source": [
        "history_gru = model_gru.fit(\n",
        "    train_sentences, \n",
        "    train_labels,\n",
        "    epochs = 5,\n",
        "    validation_data = (test_sentences, test_labels),\n",
        "    callbacks = [create_tensorboard_callback(dir_name = SAVE_DIR, experiment_name = 'model_gru')]\n",
        "\n",
        ")"
      ],
      "metadata": {
        "colab": {
          "base_uri": "https://localhost:8080/"
        },
        "id": "XxvMCtjhqA5z",
        "outputId": "7f422156-1815-4167-c8c9-663ddeda31f0"
      },
      "execution_count": 76,
      "outputs": [
        {
          "output_type": "stream",
          "name": "stdout",
          "text": [
            "Saving TensorBoard log files to: model_logs/model_gru/20220627-132134\n",
            "Epoch 1/5\n",
            "215/215 [==============================] - 5s 10ms/step - loss: 0.1449 - accuracy: 0.9495 - val_loss: 0.7678 - val_accuracy: 0.7651\n",
            "Epoch 2/5\n",
            "215/215 [==============================] - 2s 7ms/step - loss: 0.0844 - accuracy: 0.9717 - val_loss: 0.9206 - val_accuracy: 0.7572\n",
            "Epoch 3/5\n",
            "215/215 [==============================] - 2s 7ms/step - loss: 0.0702 - accuracy: 0.9745 - val_loss: 0.9521 - val_accuracy: 0.7690\n",
            "Epoch 4/5\n",
            "215/215 [==============================] - 2s 7ms/step - loss: 0.0604 - accuracy: 0.9715 - val_loss: 1.2465 - val_accuracy: 0.7690\n",
            "Epoch 5/5\n",
            "215/215 [==============================] - 2s 7ms/step - loss: 0.0540 - accuracy: 0.9764 - val_loss: 1.2633 - val_accuracy: 0.7467\n"
          ]
        }
      ]
    },
    {
      "cell_type": "code",
      "source": [
        "model_gru_preds = model_gru.predict(test_sentences)"
      ],
      "metadata": {
        "id": "AoTNzmXqqepc"
      },
      "execution_count": 77,
      "outputs": []
    },
    {
      "cell_type": "code",
      "source": [
        "model_gru_results = calculate_results(test_labels, np.round(model_gru_preds))"
      ],
      "metadata": {
        "id": "IBGRiH8kqs9d"
      },
      "execution_count": 78,
      "outputs": []
    },
    {
      "cell_type": "code",
      "source": [
        "model_gru_results"
      ],
      "metadata": {
        "colab": {
          "base_uri": "https://localhost:8080/"
        },
        "id": "ZAr2tO3Qqx1n",
        "outputId": "eb4bd3ff-cfae-4c65-aa99-5faf2e3673d6"
      },
      "execution_count": 79,
      "outputs": [
        {
          "output_type": "execute_result",
          "data": {
            "text/plain": [
              "{'accuracy': 74.67191601049869,\n",
              " 'f1': 0.7473113508978257,\n",
              " 'precision': 0.748646892439416,\n",
              " 'recall': 0.7467191601049868}"
            ]
          },
          "metadata": {},
          "execution_count": 79
        }
      ]
    },
    {
      "cell_type": "markdown",
      "source": [
        "#### Bi-directional RNN"
      ],
      "metadata": {
        "id": "QJTPKcvQqzNV"
      }
    },
    {
      "cell_type": "code",
      "source": [
        "inputs = layers.Input(shape = (1,), dtype = tf.string)\n",
        "x = text_vectorizer(inputs)\n",
        "x = embedding(x)\n",
        "x = layers.Bidirectional(layers.LSTM(64, return_sequences = True))(x)\n",
        "x = layers.Bidirectional(layers.GRU(64))(x)\n",
        "x = layers.Dense(64, activation = 'relu')(x)\n",
        "outputs = layers.Dense(1, activation = 'sigmoid')(x)\n",
        "\n",
        "model_bidi = tf.keras.Model(inputs, outputs)"
      ],
      "metadata": {
        "id": "HJjwwVNbrPOv"
      },
      "execution_count": 80,
      "outputs": []
    },
    {
      "cell_type": "code",
      "source": [
        "model_bidi.summary()"
      ],
      "metadata": {
        "colab": {
          "base_uri": "https://localhost:8080/"
        },
        "id": "zYXKX7yUsxkC",
        "outputId": "1026b61b-4426-45be-d9a8-51aaeb4ba908"
      },
      "execution_count": 81,
      "outputs": [
        {
          "output_type": "stream",
          "name": "stdout",
          "text": [
            "Model: \"model_1\"\n",
            "_________________________________________________________________\n",
            " Layer (type)                Output Shape              Param #   \n",
            "=================================================================\n",
            " input_4 (InputLayer)        [(None, 1)]               0         \n",
            "                                                                 \n",
            " text_vectorization_1 (TextV  (None, 15)               0         \n",
            " ectorization)                                                   \n",
            "                                                                 \n",
            " embedding (Embedding)       (None, 15, 128)           1280000   \n",
            "                                                                 \n",
            " bidirectional (Bidirectiona  (None, 15, 128)          98816     \n",
            " l)                                                              \n",
            "                                                                 \n",
            " bidirectional_1 (Bidirectio  (None, 128)              74496     \n",
            " nal)                                                            \n",
            "                                                                 \n",
            " dense_5 (Dense)             (None, 64)                8256      \n",
            "                                                                 \n",
            " dense_6 (Dense)             (None, 1)                 65        \n",
            "                                                                 \n",
            "=================================================================\n",
            "Total params: 1,461,633\n",
            "Trainable params: 1,461,633\n",
            "Non-trainable params: 0\n",
            "_________________________________________________________________\n"
          ]
        }
      ]
    },
    {
      "cell_type": "code",
      "source": [
        "model_bidi.compile(\n",
        "    loss = 'binary_crossentropy',\n",
        "    optimizer = 'Adam',\n",
        "    metrics = ['accuracy']\n",
        ")"
      ],
      "metadata": {
        "id": "g7jbokUXs1PH"
      },
      "execution_count": 82,
      "outputs": []
    },
    {
      "cell_type": "code",
      "source": [
        "model_bidi.fit(\n",
        "    train_sentences,\n",
        "    train_labels,\n",
        "    epochs = 5,\n",
        "    validation_data = (test_sentences, test_labels),\n",
        "    callbacks = [create_tensorboard_callback(dir_name = SAVE_DIR, experiment_name = 'model_bidi')]\n",
        ")"
      ],
      "metadata": {
        "colab": {
          "base_uri": "https://localhost:8080/"
        },
        "id": "yrDjh2FPs836",
        "outputId": "f404dd31-5df2-4e0f-a321-a066ce382ac9"
      },
      "execution_count": 83,
      "outputs": [
        {
          "output_type": "stream",
          "name": "stdout",
          "text": [
            "Saving TensorBoard log files to: model_logs/model_bidi/20220627-132148\n",
            "Epoch 1/5\n",
            "215/215 [==============================] - 9s 17ms/step - loss: 0.1017 - accuracy: 0.9685 - val_loss: 0.8873 - val_accuracy: 0.7546\n",
            "Epoch 2/5\n",
            "215/215 [==============================] - 2s 11ms/step - loss: 0.0479 - accuracy: 0.9774 - val_loss: 1.3080 - val_accuracy: 0.7717\n",
            "Epoch 3/5\n",
            "215/215 [==============================] - 2s 11ms/step - loss: 0.0501 - accuracy: 0.9750 - val_loss: 1.5234 - val_accuracy: 0.7441\n",
            "Epoch 4/5\n",
            "215/215 [==============================] - 2s 11ms/step - loss: 0.0436 - accuracy: 0.9794 - val_loss: 1.3478 - val_accuracy: 0.7703\n",
            "Epoch 5/5\n",
            "215/215 [==============================] - 2s 11ms/step - loss: 0.0410 - accuracy: 0.9803 - val_loss: 1.6331 - val_accuracy: 0.7428\n"
          ]
        },
        {
          "output_type": "execute_result",
          "data": {
            "text/plain": [
              "<keras.callbacks.History at 0x7f425c046990>"
            ]
          },
          "metadata": {},
          "execution_count": 83
        }
      ]
    },
    {
      "cell_type": "code",
      "source": [
        "model_bidi_preds = model_bidi.predict(test_sentences)"
      ],
      "metadata": {
        "id": "tKMhUzvAtOvN"
      },
      "execution_count": 84,
      "outputs": []
    },
    {
      "cell_type": "code",
      "source": [
        "model_bidi_results = calculate_results(test_labels, np.round(model_bidi_preds))"
      ],
      "metadata": {
        "id": "ixbQVXWste6X"
      },
      "execution_count": 85,
      "outputs": []
    },
    {
      "cell_type": "code",
      "source": [
        "model_bidi_results"
      ],
      "metadata": {
        "colab": {
          "base_uri": "https://localhost:8080/"
        },
        "id": "-HwMv8MhtizP",
        "outputId": "ba62b2d2-9d9f-4de5-dce0-47f4e2a30327"
      },
      "execution_count": 86,
      "outputs": [
        {
          "output_type": "execute_result",
          "data": {
            "text/plain": [
              "{'accuracy': 74.2782152230971,\n",
              " 'f1': 0.7435545298783226,\n",
              " 'precision': 0.745798768617975,\n",
              " 'recall': 0.7427821522309711}"
            ]
          },
          "metadata": {},
          "execution_count": 86
        }
      ]
    },
    {
      "cell_type": "markdown",
      "source": [
        "#### Conv NNs for Text"
      ],
      "metadata": {
        "id": "9DgYmzPhtj3S"
      }
    },
    {
      "cell_type": "code",
      "source": [
        "embedding_test = embedding(text_vectorizer([\"this is a test sentence\"]))\n",
        "conv_1d = layers.Conv1D(filters=32, kernel_size=5, activation=\"relu\") # convolve over target sequence 5 words at a time\n",
        "conv_1d_output = conv_1d(embedding_test) # pass embedding through 1D convolutional layer\n",
        "max_pool = layers.GlobalMaxPool1D() \n",
        "max_pool_output = max_pool(conv_1d_output) # get the most important features\n",
        "embedding_test.shape, conv_1d_output.shape, max_pool_output.shape"
      ],
      "metadata": {
        "colab": {
          "base_uri": "https://localhost:8080/"
        },
        "id": "HPMNYpyguFiF",
        "outputId": "b23be18e-284a-45c5-9980-2f13cc1c348f"
      },
      "execution_count": 87,
      "outputs": [
        {
          "output_type": "execute_result",
          "data": {
            "text/plain": [
              "(TensorShape([1, 15, 128]), TensorShape([1, 11, 32]), TensorShape([1, 32]))"
            ]
          },
          "metadata": {},
          "execution_count": 87
        }
      ]
    },
    {
      "cell_type": "code",
      "source": [
        "conv_1d_output"
      ],
      "metadata": {
        "colab": {
          "base_uri": "https://localhost:8080/"
        },
        "id": "KQIIuwnr5GwA",
        "outputId": "5f0d1772-f1cf-4bfb-fcc7-2790d094ae48"
      },
      "execution_count": 88,
      "outputs": [
        {
          "output_type": "execute_result",
          "data": {
            "text/plain": [
              "<tf.Tensor: shape=(1, 11, 32), dtype=float32, numpy=\n",
              "array([[[1.09689042e-01, 9.71386395e-03, 5.13539985e-02, 1.91058926e-02,\n",
              "         0.00000000e+00, 0.00000000e+00, 0.00000000e+00, 1.69488937e-02,\n",
              "         1.12089384e-02, 3.41033712e-02, 0.00000000e+00, 0.00000000e+00,\n",
              "         0.00000000e+00, 1.35067552e-02, 0.00000000e+00, 3.47469747e-02,\n",
              "         4.27243933e-02, 1.49877816e-02, 0.00000000e+00, 0.00000000e+00,\n",
              "         9.51345116e-02, 0.00000000e+00, 0.00000000e+00, 5.73656037e-02,\n",
              "         0.00000000e+00, 3.67615186e-02, 0.00000000e+00, 0.00000000e+00,\n",
              "         4.91495132e-02, 0.00000000e+00, 6.54149503e-02, 9.43699479e-02],\n",
              "        [0.00000000e+00, 9.40024666e-03, 0.00000000e+00, 8.15843046e-02,\n",
              "         0.00000000e+00, 0.00000000e+00, 0.00000000e+00, 0.00000000e+00,\n",
              "         0.00000000e+00, 5.04516996e-02, 2.97249351e-02, 4.04739194e-02,\n",
              "         1.28406300e-05, 0.00000000e+00, 0.00000000e+00, 0.00000000e+00,\n",
              "         2.04831865e-02, 1.77491754e-02, 9.78433192e-02, 2.33373549e-02,\n",
              "         2.60176230e-02, 0.00000000e+00, 1.70621369e-02, 0.00000000e+00,\n",
              "         4.74290177e-02, 4.25323397e-02, 0.00000000e+00, 5.24351969e-02,\n",
              "         2.55622584e-02, 2.16652825e-02, 1.18114445e-02, 6.48361817e-02],\n",
              "        [0.00000000e+00, 0.00000000e+00, 9.48499069e-02, 1.78676040e-03,\n",
              "         0.00000000e+00, 0.00000000e+00, 2.89092828e-02, 4.30347025e-02,\n",
              "         0.00000000e+00, 3.67591083e-02, 0.00000000e+00, 3.37901339e-02,\n",
              "         0.00000000e+00, 6.59882799e-02, 1.22661274e-02, 0.00000000e+00,\n",
              "         0.00000000e+00, 0.00000000e+00, 0.00000000e+00, 0.00000000e+00,\n",
              "         0.00000000e+00, 0.00000000e+00, 5.17859384e-02, 0.00000000e+00,\n",
              "         3.56737413e-02, 0.00000000e+00, 3.79320197e-02, 0.00000000e+00,\n",
              "         5.96642196e-02, 0.00000000e+00, 1.98611934e-02, 5.42597584e-02],\n",
              "        [1.56537928e-02, 0.00000000e+00, 3.67671833e-03, 0.00000000e+00,\n",
              "         0.00000000e+00, 0.00000000e+00, 0.00000000e+00, 3.08487341e-02,\n",
              "         0.00000000e+00, 0.00000000e+00, 9.91527922e-03, 0.00000000e+00,\n",
              "         0.00000000e+00, 7.89920986e-02, 1.09098963e-02, 4.06513847e-02,\n",
              "         5.76768890e-02, 1.50421159e-02, 0.00000000e+00, 9.94564965e-04,\n",
              "         2.09778212e-02, 5.17439097e-03, 9.01621208e-03, 0.00000000e+00,\n",
              "         0.00000000e+00, 2.31360272e-02, 0.00000000e+00, 4.77426350e-02,\n",
              "         0.00000000e+00, 0.00000000e+00, 0.00000000e+00, 2.85668224e-02],\n",
              "        [3.88052836e-02, 0.00000000e+00, 0.00000000e+00, 0.00000000e+00,\n",
              "         0.00000000e+00, 0.00000000e+00, 5.89747401e-03, 0.00000000e+00,\n",
              "         0.00000000e+00, 0.00000000e+00, 9.50339064e-03, 0.00000000e+00,\n",
              "         1.73756923e-03, 3.11894380e-02, 3.19219939e-02, 0.00000000e+00,\n",
              "         1.27689550e-02, 0.00000000e+00, 0.00000000e+00, 1.50269708e-02,\n",
              "         0.00000000e+00, 0.00000000e+00, 2.13867202e-02, 0.00000000e+00,\n",
              "         1.15222065e-02, 6.84364978e-03, 0.00000000e+00, 1.25887226e-02,\n",
              "         0.00000000e+00, 0.00000000e+00, 0.00000000e+00, 2.45365873e-02],\n",
              "        [1.54875508e-02, 0.00000000e+00, 2.33015139e-03, 0.00000000e+00,\n",
              "         0.00000000e+00, 2.04103440e-03, 3.35302055e-02, 0.00000000e+00,\n",
              "         0.00000000e+00, 9.20062140e-03, 0.00000000e+00, 0.00000000e+00,\n",
              "         0.00000000e+00, 2.00918503e-02, 0.00000000e+00, 0.00000000e+00,\n",
              "         0.00000000e+00, 8.03967379e-03, 0.00000000e+00, 0.00000000e+00,\n",
              "         8.63110367e-03, 0.00000000e+00, 3.20901424e-02, 0.00000000e+00,\n",
              "         1.43301105e-02, 0.00000000e+00, 2.99202297e-02, 1.68799404e-02,\n",
              "         0.00000000e+00, 0.00000000e+00, 3.63170467e-02, 5.13256341e-02],\n",
              "        [1.54875517e-02, 0.00000000e+00, 2.33014673e-03, 0.00000000e+00,\n",
              "         0.00000000e+00, 2.04103533e-03, 3.35302055e-02, 0.00000000e+00,\n",
              "         0.00000000e+00, 9.20061581e-03, 0.00000000e+00, 0.00000000e+00,\n",
              "         0.00000000e+00, 2.00918503e-02, 0.00000000e+00, 0.00000000e+00,\n",
              "         0.00000000e+00, 8.03967379e-03, 0.00000000e+00, 0.00000000e+00,\n",
              "         8.63109529e-03, 0.00000000e+00, 3.20901424e-02, 0.00000000e+00,\n",
              "         1.43301096e-02, 0.00000000e+00, 2.99202409e-02, 1.68799385e-02,\n",
              "         0.00000000e+00, 0.00000000e+00, 3.63170505e-02, 5.13256378e-02],\n",
              "        [1.54875582e-02, 0.00000000e+00, 2.33014254e-03, 0.00000000e+00,\n",
              "         0.00000000e+00, 2.04103068e-03, 3.35302092e-02, 0.00000000e+00,\n",
              "         0.00000000e+00, 9.20062140e-03, 0.00000000e+00, 0.00000000e+00,\n",
              "         0.00000000e+00, 2.00918484e-02, 0.00000000e+00, 0.00000000e+00,\n",
              "         0.00000000e+00, 8.03967193e-03, 0.00000000e+00, 0.00000000e+00,\n",
              "         8.63110088e-03, 0.00000000e+00, 3.20901349e-02, 0.00000000e+00,\n",
              "         1.43301170e-02, 0.00000000e+00, 2.99202390e-02, 1.68799348e-02,\n",
              "         0.00000000e+00, 0.00000000e+00, 3.63170505e-02, 5.13256341e-02],\n",
              "        [1.54875545e-02, 0.00000000e+00, 2.33014906e-03, 0.00000000e+00,\n",
              "         0.00000000e+00, 2.04103487e-03, 3.35302167e-02, 0.00000000e+00,\n",
              "         0.00000000e+00, 9.20062233e-03, 0.00000000e+00, 0.00000000e+00,\n",
              "         0.00000000e+00, 2.00918466e-02, 0.00000000e+00, 0.00000000e+00,\n",
              "         0.00000000e+00, 8.03967658e-03, 0.00000000e+00, 0.00000000e+00,\n",
              "         8.63110088e-03, 0.00000000e+00, 3.20901349e-02, 0.00000000e+00,\n",
              "         1.43301114e-02, 0.00000000e+00, 2.99202353e-02, 1.68799348e-02,\n",
              "         0.00000000e+00, 0.00000000e+00, 3.63170505e-02, 5.13256416e-02],\n",
              "        [1.54875573e-02, 0.00000000e+00, 2.33014300e-03, 0.00000000e+00,\n",
              "         0.00000000e+00, 2.04103952e-03, 3.35302092e-02, 0.00000000e+00,\n",
              "         0.00000000e+00, 9.20062326e-03, 0.00000000e+00, 0.00000000e+00,\n",
              "         0.00000000e+00, 2.00918447e-02, 0.00000000e+00, 0.00000000e+00,\n",
              "         0.00000000e+00, 8.03967752e-03, 0.00000000e+00, 0.00000000e+00,\n",
              "         8.63109902e-03, 0.00000000e+00, 3.20901349e-02, 0.00000000e+00,\n",
              "         1.43301142e-02, 0.00000000e+00, 2.99202278e-02, 1.68799385e-02,\n",
              "         0.00000000e+00, 0.00000000e+00, 3.63170430e-02, 5.13256341e-02],\n",
              "        [1.54875573e-02, 0.00000000e+00, 2.33015325e-03, 0.00000000e+00,\n",
              "         0.00000000e+00, 2.04103813e-03, 3.35302129e-02, 0.00000000e+00,\n",
              "         0.00000000e+00, 9.20062698e-03, 0.00000000e+00, 0.00000000e+00,\n",
              "         0.00000000e+00, 2.00918466e-02, 0.00000000e+00, 0.00000000e+00,\n",
              "         0.00000000e+00, 8.03967472e-03, 0.00000000e+00, 0.00000000e+00,\n",
              "         8.63110088e-03, 0.00000000e+00, 3.20901461e-02, 0.00000000e+00,\n",
              "         1.43301161e-02, 0.00000000e+00, 2.99202353e-02, 1.68799385e-02,\n",
              "         0.00000000e+00, 0.00000000e+00, 3.63170430e-02, 5.13256341e-02]]],\n",
              "      dtype=float32)>"
            ]
          },
          "metadata": {},
          "execution_count": 88
        }
      ]
    },
    {
      "cell_type": "code",
      "source": [
        "max_pool_output"
      ],
      "metadata": {
        "colab": {
          "base_uri": "https://localhost:8080/"
        },
        "id": "SxJRXx6_X1KX",
        "outputId": "36488b4d-ca7c-416c-d1f3-fc152f3ebf6e"
      },
      "execution_count": 89,
      "outputs": [
        {
          "output_type": "execute_result",
          "data": {
            "text/plain": [
              "<tf.Tensor: shape=(1, 32), dtype=float32, numpy=\n",
              "array([[0.10968904, 0.00971386, 0.09484991, 0.0815843 , 0.        ,\n",
              "        0.00204104, 0.03353022, 0.0430347 , 0.01120894, 0.0504517 ,\n",
              "        0.02972494, 0.04047392, 0.00173757, 0.0789921 , 0.03192199,\n",
              "        0.04065138, 0.05767689, 0.01774918, 0.09784332, 0.02333735,\n",
              "        0.09513451, 0.00517439, 0.05178594, 0.0573656 , 0.04742902,\n",
              "        0.04253234, 0.03793202, 0.0524352 , 0.05966422, 0.02166528,\n",
              "        0.06541495, 0.09436995]], dtype=float32)>"
            ]
          },
          "metadata": {},
          "execution_count": 89
        }
      ]
    },
    {
      "cell_type": "code",
      "source": [
        "model_cnn_embedding = layers.Embedding(input_dim=max_vocab_length,\n",
        "                                     output_dim=128,\n",
        "                                     embeddings_initializer=\"uniform\",\n",
        "                                     input_length=max_length,\n",
        "                                     name=\"embedding_cnn\")\n",
        "\n",
        "# Create 1-dimensional convolutional layer to model sequences\n",
        "\n",
        "inputs = layers.Input(shape=(1,), dtype=\"string\")\n",
        "x = text_vectorizer(inputs)\n",
        "x = model_cnn_embedding(x)\n",
        "x = layers.Conv1D(filters=32, kernel_size=5, activation=\"relu\")(x)\n",
        "x = layers.GlobalMaxPool1D()(x)\n",
        "# x = layers.Dense(64, activation=\"relu\")(x) # optional dense layer\n",
        "outputs = layers.Dense(1, activation=\"sigmoid\")(x)\n",
        "model_cnn = tf.keras.Model(inputs, outputs, name=\"model_cnn_Conv1D\")\n",
        "\n",
        "# Compile Conv1D model\n",
        "model_cnn.compile(loss=\"binary_crossentropy\",\n",
        "                optimizer=tf.keras.optimizers.Adam(),\n",
        "                metrics=[\"accuracy\"])"
      ],
      "metadata": {
        "id": "gWv0kML0YB40"
      },
      "execution_count": 90,
      "outputs": []
    },
    {
      "cell_type": "code",
      "source": [
        "model_cnn.summary()"
      ],
      "metadata": {
        "colab": {
          "base_uri": "https://localhost:8080/"
        },
        "id": "amWOYExVY_pm",
        "outputId": "41d56218-ff9b-4ab8-85a8-3baf83485f30"
      },
      "execution_count": 91,
      "outputs": [
        {
          "output_type": "stream",
          "name": "stdout",
          "text": [
            "Model: \"model_cnn_Conv1D\"\n",
            "_________________________________________________________________\n",
            " Layer (type)                Output Shape              Param #   \n",
            "=================================================================\n",
            " input_5 (InputLayer)        [(None, 1)]               0         \n",
            "                                                                 \n",
            " text_vectorization_1 (TextV  (None, 15)               0         \n",
            " ectorization)                                                   \n",
            "                                                                 \n",
            " embedding_cnn (Embedding)   (None, 15, 128)           1280000   \n",
            "                                                                 \n",
            " conv1d_1 (Conv1D)           (None, 11, 32)            20512     \n",
            "                                                                 \n",
            " global_max_pooling1d_1 (Glo  (None, 32)               0         \n",
            " balMaxPooling1D)                                                \n",
            "                                                                 \n",
            " dense_7 (Dense)             (None, 1)                 33        \n",
            "                                                                 \n",
            "=================================================================\n",
            "Total params: 1,300,545\n",
            "Trainable params: 1,300,545\n",
            "Non-trainable params: 0\n",
            "_________________________________________________________________\n"
          ]
        }
      ]
    },
    {
      "cell_type": "markdown",
      "source": [
        "Fit model"
      ],
      "metadata": {
        "id": "yjEmiUs3ZAeA"
      }
    },
    {
      "cell_type": "code",
      "source": [
        "model_5=cnn_history = model_cnn.fit(train_sentences,\n",
        "                              train_labels,\n",
        "                              epochs=5,\n",
        "                              validation_data=(test_sentences, test_labels),\n",
        "                              callbacks=[create_tensorboard_callback(SAVE_DIR, \n",
        "                                                                     \"Conv1D\")])"
      ],
      "metadata": {
        "colab": {
          "base_uri": "https://localhost:8080/"
        },
        "id": "8vgVEQ4cZjZl",
        "outputId": "f9ca7512-2dc1-4b79-ec58-083269ef780c"
      },
      "execution_count": 92,
      "outputs": [
        {
          "output_type": "stream",
          "name": "stdout",
          "text": [
            "Saving TensorBoard log files to: model_logs/Conv1D/20220627-132222\n",
            "Epoch 1/5\n",
            "215/215 [==============================] - 3s 6ms/step - loss: 0.5741 - accuracy: 0.7062 - val_loss: 0.4187 - val_accuracy: 0.8084\n",
            "Epoch 2/5\n",
            "215/215 [==============================] - 1s 5ms/step - loss: 0.3550 - accuracy: 0.8520 - val_loss: 0.4174 - val_accuracy: 0.8241\n",
            "Epoch 3/5\n",
            "215/215 [==============================] - 1s 5ms/step - loss: 0.2218 - accuracy: 0.9181 - val_loss: 0.4868 - val_accuracy: 0.8005\n",
            "Epoch 4/5\n",
            "215/215 [==============================] - 1s 5ms/step - loss: 0.1433 - accuracy: 0.9534 - val_loss: 0.5531 - val_accuracy: 0.8136\n",
            "Epoch 5/5\n",
            "215/215 [==============================] - 1s 5ms/step - loss: 0.1001 - accuracy: 0.9680 - val_loss: 0.6050 - val_accuracy: 0.7992\n"
          ]
        }
      ]
    },
    {
      "cell_type": "code",
      "source": [
        "model_cnn_preds = model_cnn.predict(test_sentences)"
      ],
      "metadata": {
        "id": "tsxl7_nVZoA-"
      },
      "execution_count": 93,
      "outputs": []
    },
    {
      "cell_type": "code",
      "source": [
        "model_cnn_results = calculate_results(test_labels, np.round(model_cnn_preds))"
      ],
      "metadata": {
        "id": "j2PEpM1qZoYO"
      },
      "execution_count": 94,
      "outputs": []
    },
    {
      "cell_type": "code",
      "source": [
        "model_cnn_results"
      ],
      "metadata": {
        "colab": {
          "base_uri": "https://localhost:8080/"
        },
        "id": "KNXSxVJUZopC",
        "outputId": "93a95890-ce43-48d4-f46f-0c0799c9c4bf"
      },
      "execution_count": 95,
      "outputs": [
        {
          "output_type": "execute_result",
          "data": {
            "text/plain": [
              "{'accuracy': 79.92125984251969,\n",
              " 'f1': 0.7978122813388485,\n",
              " 'precision': 0.7991317724357303,\n",
              " 'recall': 0.7992125984251969}"
            ]
          },
          "metadata": {},
          "execution_count": 95
        }
      ]
    },
    {
      "cell_type": "markdown",
      "source": [
        "### USE Feature Extractor\n",
        "\n",
        "(Universal Sentence Encoder)"
      ],
      "metadata": {
        "id": "KeDRqvh3Z-SA"
      }
    },
    {
      "cell_type": "code",
      "source": [
        "import tensorflow_hub as hub"
      ],
      "metadata": {
        "id": "mRd7sHkRZ8vC"
      },
      "execution_count": 96,
      "outputs": []
    },
    {
      "cell_type": "code",
      "source": [
        "embed = hub.load(\"https://tfhub.dev/google/universal-sentence-encoder/4\") # load Universal Sentence Encoder\n",
        "embed_samples = embed([sample_sentence,\n",
        "                      \"When you call the universal sentence encoder on a sentence, it turns it into numbers.\"])\n",
        "\n",
        "print(embed_samples[0][:50])"
      ],
      "metadata": {
        "colab": {
          "base_uri": "https://localhost:8080/"
        },
        "id": "VSXJbepLb43k",
        "outputId": "6e89a87d-dd68-4c73-ba49-cb620a4149ae"
      },
      "execution_count": 97,
      "outputs": [
        {
          "output_type": "stream",
          "name": "stdout",
          "text": [
            "tf.Tensor(\n",
            "[-0.01330808  0.03169557  0.04467933 -0.02069351  0.07371093  0.06468675\n",
            "  0.04107149 -0.01221242  0.03320409  0.04404332 -0.0268222  -0.00760506\n",
            " -0.05114831  0.05923976  0.04353501 -0.06511343  0.06674623  0.06019811\n",
            "  0.04422092 -0.06039971 -0.00964755 -0.02678055  0.0382744   0.06271211\n",
            " -0.02896257 -0.02786034  0.07290824 -0.04924324 -0.03482293  0.05515445\n",
            "  0.08417306  0.0488302  -0.03276099 -0.02919566  0.02624284 -0.08441564\n",
            "  0.01947596 -0.04942407 -0.04052652 -0.05197329  0.05854463  0.00995231\n",
            " -0.0198656   0.00677592 -0.0951319  -0.00727446 -0.05872137  0.05583625\n",
            "  0.02737363 -0.01740019], shape=(50,), dtype=float32)\n"
          ]
        }
      ]
    },
    {
      "cell_type": "code",
      "source": [
        "sentence_encoder_layer = hub.KerasLayer(\"https://tfhub.dev/google/universal-sentence-encoder/4\",\n",
        "                                       input_shape = [],\n",
        "                                       dtype = tf.string,\n",
        "                                       trainable = False, \n",
        "                                       name = 'USE')"
      ],
      "metadata": {
        "id": "Mg1Vx6PYcCmz"
      },
      "execution_count": 98,
      "outputs": []
    },
    {
      "cell_type": "code",
      "source": [
        "model_use = tf.keras.Sequential([\n",
        "      sentence_encoder_layer,\n",
        "      layers.Dense(64, activation = 'relu'),\n",
        "      layers.Dense(1, activation = 'sigmoid')\n",
        "], name = 'model_use')"
      ],
      "metadata": {
        "id": "E2ZhFRvlc-ZY"
      },
      "execution_count": 99,
      "outputs": []
    },
    {
      "cell_type": "code",
      "source": [
        "model_use.summary()"
      ],
      "metadata": {
        "colab": {
          "base_uri": "https://localhost:8080/"
        },
        "id": "vpGXPooIdn_h",
        "outputId": "a7401d4c-d611-40a8-93de-a069759410e1"
      },
      "execution_count": 100,
      "outputs": [
        {
          "output_type": "stream",
          "name": "stdout",
          "text": [
            "Model: \"model_use\"\n",
            "_________________________________________________________________\n",
            " Layer (type)                Output Shape              Param #   \n",
            "=================================================================\n",
            " USE (KerasLayer)            (None, 512)               256797824 \n",
            "                                                                 \n",
            " dense_8 (Dense)             (None, 64)                32832     \n",
            "                                                                 \n",
            " dense_9 (Dense)             (None, 1)                 65        \n",
            "                                                                 \n",
            "=================================================================\n",
            "Total params: 256,830,721\n",
            "Trainable params: 32,897\n",
            "Non-trainable params: 256,797,824\n",
            "_________________________________________________________________\n"
          ]
        }
      ]
    },
    {
      "cell_type": "code",
      "source": [
        "model_use.compile(\n",
        "    loss = 'binary_crossentropy',\n",
        "    optimizer = 'Adam',\n",
        "    metrics = ['accuracy']\n",
        ")"
      ],
      "metadata": {
        "id": "P1gX5rEcdtny"
      },
      "execution_count": 101,
      "outputs": []
    },
    {
      "cell_type": "code",
      "source": [
        "model_use.fit(\n",
        "    train_sentences,\n",
        "    train_labels,\n",
        "    epochs=5,\n",
        "    validation_data=(test_sentences, test_labels),\n",
        "    callbacks=[create_tensorboard_callback(SAVE_DIR, \"Conv1D\")]\n",
        ")"
      ],
      "metadata": {
        "colab": {
          "base_uri": "https://localhost:8080/"
        },
        "id": "GWdVTRued7p9",
        "outputId": "283e2a92-9e45-4541-ba1a-625cd068895a"
      },
      "execution_count": 102,
      "outputs": [
        {
          "output_type": "stream",
          "name": "stdout",
          "text": [
            "Saving TensorBoard log files to: model_logs/Conv1D/20220627-132248\n",
            "Epoch 1/5\n",
            "215/215 [==============================] - 5s 13ms/step - loss: 0.5158 - accuracy: 0.7761 - val_loss: 0.3801 - val_accuracy: 0.8451\n",
            "Epoch 2/5\n",
            "215/215 [==============================] - 3s 12ms/step - loss: 0.4214 - accuracy: 0.8136 - val_loss: 0.3643 - val_accuracy: 0.8451\n",
            "Epoch 3/5\n",
            "215/215 [==============================] - 2s 11ms/step - loss: 0.4083 - accuracy: 0.8171 - val_loss: 0.3594 - val_accuracy: 0.8360\n",
            "Epoch 4/5\n",
            "215/215 [==============================] - 2s 11ms/step - loss: 0.3993 - accuracy: 0.8248 - val_loss: 0.3604 - val_accuracy: 0.8399\n",
            "Epoch 5/5\n",
            "215/215 [==============================] - 2s 11ms/step - loss: 0.3909 - accuracy: 0.8317 - val_loss: 0.3578 - val_accuracy: 0.8399\n"
          ]
        },
        {
          "output_type": "execute_result",
          "data": {
            "text/plain": [
              "<keras.callbacks.History at 0x7f4185df0550>"
            ]
          },
          "metadata": {},
          "execution_count": 102
        }
      ]
    },
    {
      "cell_type": "code",
      "source": [
        "model_use_preds = model_use.predict(test_sentences)"
      ],
      "metadata": {
        "id": "LlW7lQCmeHy4"
      },
      "execution_count": 103,
      "outputs": []
    },
    {
      "cell_type": "code",
      "source": [
        "model_use_results = calculate_results(test_labels, np.round(model_use_preds))"
      ],
      "metadata": {
        "id": "RsdAzc2weO4d"
      },
      "execution_count": 104,
      "outputs": []
    },
    {
      "cell_type": "code",
      "source": [
        "model_use_results"
      ],
      "metadata": {
        "colab": {
          "base_uri": "https://localhost:8080/"
        },
        "id": "s_sX8YqBeTtB",
        "outputId": "5f1acc84-94db-41a1-eaf8-040505f2c44c"
      },
      "execution_count": 105,
      "outputs": [
        {
          "output_type": "execute_result",
          "data": {
            "text/plain": [
              "{'accuracy': 83.98950131233596,\n",
              " 'f1': 0.839161612950555,\n",
              " 'precision': 0.8398624903280707,\n",
              " 'recall': 0.8398950131233596}"
            ]
          },
          "metadata": {},
          "execution_count": 105
        }
      ]
    },
    {
      "cell_type": "markdown",
      "source": [
        "### TF Hub Model on 10% of Data"
      ],
      "metadata": {
        "id": "hAF9-5S7fQmu"
      }
    },
    {
      "cell_type": "code",
      "source": [
        "train_sentences_90_percent, train_sentences_10_percent, train_labels_90_percent, train_labels_10_percent = train_test_split(np.array(train_sentences),\n",
        "                                                                                                                            train_labels,\n",
        "                                                                                                                            test_size=0.1,\n",
        "                                                                                                                            random_state=42)"
      ],
      "metadata": {
        "id": "HcLAn6SmeVEA"
      },
      "execution_count": 106,
      "outputs": []
    },
    {
      "cell_type": "code",
      "source": [
        "model_10pct = tf.keras.models.clone_model(model_use)"
      ],
      "metadata": {
        "id": "IQLmhdDWfaFF"
      },
      "execution_count": 107,
      "outputs": []
    },
    {
      "cell_type": "code",
      "source": [
        "model_10pct.compile(\n",
        "    loss = 'binary_crossentropy',\n",
        "    optimizer = 'Adam',\n",
        "    metrics = ['accuracy']\n",
        ")"
      ],
      "metadata": {
        "id": "tixqwMytgOvV"
      },
      "execution_count": 108,
      "outputs": []
    },
    {
      "cell_type": "code",
      "source": [
        "model_10pct.fit(\n",
        "    train_sentences_10_percent,\n",
        "    train_labels_10_percent,\n",
        "    epochs=5,\n",
        "    validation_data=(test_sentences, test_labels),\n",
        "    callbacks=[create_tensorboard_callback(SAVE_DIR, \"Conv1D\")]\n",
        ")"
      ],
      "metadata": {
        "colab": {
          "base_uri": "https://localhost:8080/"
        },
        "id": "Wps5IGnggUjt",
        "outputId": "70652b00-529a-4f96-f627-da0130ee23eb"
      },
      "execution_count": 109,
      "outputs": [
        {
          "output_type": "stream",
          "name": "stdout",
          "text": [
            "Saving TensorBoard log files to: model_logs/Conv1D/20220627-132315\n",
            "Epoch 1/5\n",
            "22/22 [==============================] - 3s 43ms/step - loss: 0.6712 - accuracy: 0.6749 - val_loss: 0.6409 - val_accuracy: 0.7664\n",
            "Epoch 2/5\n",
            "22/22 [==============================] - 1s 25ms/step - loss: 0.5991 - accuracy: 0.8149 - val_loss: 0.5704 - val_accuracy: 0.7992\n",
            "Epoch 3/5\n",
            "22/22 [==============================] - 1s 25ms/step - loss: 0.5214 - accuracy: 0.8309 - val_loss: 0.5003 - val_accuracy: 0.8189\n",
            "Epoch 4/5\n",
            "22/22 [==============================] - 1s 25ms/step - loss: 0.4584 - accuracy: 0.8382 - val_loss: 0.4511 - val_accuracy: 0.8189\n",
            "Epoch 5/5\n",
            "22/22 [==============================] - 0s 20ms/step - loss: 0.4142 - accuracy: 0.8426 - val_loss: 0.4259 - val_accuracy: 0.8228\n"
          ]
        },
        {
          "output_type": "execute_result",
          "data": {
            "text/plain": [
              "<keras.callbacks.History at 0x7f41881f9350>"
            ]
          },
          "metadata": {},
          "execution_count": 109
        }
      ]
    },
    {
      "cell_type": "code",
      "source": [
        "model_10pct_preds = model_10pct.predict(test_sentences)"
      ],
      "metadata": {
        "id": "SCucCxGpg2Zc"
      },
      "execution_count": 110,
      "outputs": []
    },
    {
      "cell_type": "code",
      "source": [
        "model_10pct_results = calculate_results(test_labels, np.round(model_10pct_preds))"
      ],
      "metadata": {
        "id": "yPshPjvdhLC7"
      },
      "execution_count": 111,
      "outputs": []
    },
    {
      "cell_type": "code",
      "source": [
        "model_10pct_results"
      ],
      "metadata": {
        "id": "ezeyrblThT9_",
        "outputId": "65fd0020-5b54-4d6d-8d10-10a367a29164",
        "colab": {
          "base_uri": "https://localhost:8080/"
        }
      },
      "execution_count": 112,
      "outputs": [
        {
          "output_type": "execute_result",
          "data": {
            "text/plain": [
              "{'accuracy': 82.28346456692913,\n",
              " 'f1': 0.8215990717695721,\n",
              " 'precision': 0.8231702492342503,\n",
              " 'recall': 0.8228346456692913}"
            ]
          },
          "metadata": {},
          "execution_count": 112
        }
      ]
    },
    {
      "cell_type": "markdown",
      "source": [
        "### Compare Performance of Models"
      ],
      "metadata": {
        "id": "LCxgwLQ5b4K4"
      }
    },
    {
      "cell_type": "markdown",
      "source": [
        "Combine resutls into df"
      ],
      "metadata": {
        "id": "LUlaSx0Ab7iA"
      }
    },
    {
      "cell_type": "code",
      "source": [
        "results = pd.DataFrame({'Baseline': baseline_results,\n",
        "                        'Dense': model_dense_results,\n",
        "                        'LSTM': model_lstm_results,\n",
        "                        'GRU': model_gru_results,\n",
        "                        'Bidirectional': model_bidi_results,\n",
        "                        'Conv NN': model_cnn_results,\n",
        "                        'USE': model_use_results})"
      ],
      "metadata": {
        "id": "jYqmBoZbhVjY"
      },
      "execution_count": 119,
      "outputs": []
    },
    {
      "cell_type": "code",
      "source": [
        "results = results.T\n",
        "results"
      ],
      "metadata": {
        "colab": {
          "base_uri": "https://localhost:8080/",
          "height": 266
        },
        "id": "tUqlzoFBcLyT",
        "outputId": "4d5600b8-9254-4238-e0ff-e383c327ec0c"
      },
      "execution_count": 122,
      "outputs": [
        {
          "output_type": "execute_result",
          "data": {
            "text/plain": [
              "                accuracy  precision    recall        f1\n",
              "Baseline       81.102362   0.822975  0.811024  0.805621\n",
              "Dense          81.233596   0.812225  0.812336  0.811234\n",
              "LSTM           78.083990   0.780170  0.780840  0.780198\n",
              "GRU            74.671916   0.748647  0.746719  0.747311\n",
              "Bidirectional  74.278215   0.745799  0.742782  0.743555\n",
              "Conv NN        79.921260   0.799132  0.799213  0.797812\n",
              "USE            83.989501   0.839862  0.839895  0.839162"
            ],
            "text/html": [
              "\n",
              "  <div id=\"df-d3fb97f9-4df4-4d82-b2e9-a6ce141ed84e\">\n",
              "    <div class=\"colab-df-container\">\n",
              "      <div>\n",
              "<style scoped>\n",
              "    .dataframe tbody tr th:only-of-type {\n",
              "        vertical-align: middle;\n",
              "    }\n",
              "\n",
              "    .dataframe tbody tr th {\n",
              "        vertical-align: top;\n",
              "    }\n",
              "\n",
              "    .dataframe thead th {\n",
              "        text-align: right;\n",
              "    }\n",
              "</style>\n",
              "<table border=\"1\" class=\"dataframe\">\n",
              "  <thead>\n",
              "    <tr style=\"text-align: right;\">\n",
              "      <th></th>\n",
              "      <th>accuracy</th>\n",
              "      <th>precision</th>\n",
              "      <th>recall</th>\n",
              "      <th>f1</th>\n",
              "    </tr>\n",
              "  </thead>\n",
              "  <tbody>\n",
              "    <tr>\n",
              "      <th>Baseline</th>\n",
              "      <td>81.102362</td>\n",
              "      <td>0.822975</td>\n",
              "      <td>0.811024</td>\n",
              "      <td>0.805621</td>\n",
              "    </tr>\n",
              "    <tr>\n",
              "      <th>Dense</th>\n",
              "      <td>81.233596</td>\n",
              "      <td>0.812225</td>\n",
              "      <td>0.812336</td>\n",
              "      <td>0.811234</td>\n",
              "    </tr>\n",
              "    <tr>\n",
              "      <th>LSTM</th>\n",
              "      <td>78.083990</td>\n",
              "      <td>0.780170</td>\n",
              "      <td>0.780840</td>\n",
              "      <td>0.780198</td>\n",
              "    </tr>\n",
              "    <tr>\n",
              "      <th>GRU</th>\n",
              "      <td>74.671916</td>\n",
              "      <td>0.748647</td>\n",
              "      <td>0.746719</td>\n",
              "      <td>0.747311</td>\n",
              "    </tr>\n",
              "    <tr>\n",
              "      <th>Bidirectional</th>\n",
              "      <td>74.278215</td>\n",
              "      <td>0.745799</td>\n",
              "      <td>0.742782</td>\n",
              "      <td>0.743555</td>\n",
              "    </tr>\n",
              "    <tr>\n",
              "      <th>Conv NN</th>\n",
              "      <td>79.921260</td>\n",
              "      <td>0.799132</td>\n",
              "      <td>0.799213</td>\n",
              "      <td>0.797812</td>\n",
              "    </tr>\n",
              "    <tr>\n",
              "      <th>USE</th>\n",
              "      <td>83.989501</td>\n",
              "      <td>0.839862</td>\n",
              "      <td>0.839895</td>\n",
              "      <td>0.839162</td>\n",
              "    </tr>\n",
              "  </tbody>\n",
              "</table>\n",
              "</div>\n",
              "      <button class=\"colab-df-convert\" onclick=\"convertToInteractive('df-d3fb97f9-4df4-4d82-b2e9-a6ce141ed84e')\"\n",
              "              title=\"Convert this dataframe to an interactive table.\"\n",
              "              style=\"display:none;\">\n",
              "        \n",
              "  <svg xmlns=\"http://www.w3.org/2000/svg\" height=\"24px\"viewBox=\"0 0 24 24\"\n",
              "       width=\"24px\">\n",
              "    <path d=\"M0 0h24v24H0V0z\" fill=\"none\"/>\n",
              "    <path d=\"M18.56 5.44l.94 2.06.94-2.06 2.06-.94-2.06-.94-.94-2.06-.94 2.06-2.06.94zm-11 1L8.5 8.5l.94-2.06 2.06-.94-2.06-.94L8.5 2.5l-.94 2.06-2.06.94zm10 10l.94 2.06.94-2.06 2.06-.94-2.06-.94-.94-2.06-.94 2.06-2.06.94z\"/><path d=\"M17.41 7.96l-1.37-1.37c-.4-.4-.92-.59-1.43-.59-.52 0-1.04.2-1.43.59L10.3 9.45l-7.72 7.72c-.78.78-.78 2.05 0 2.83L4 21.41c.39.39.9.59 1.41.59.51 0 1.02-.2 1.41-.59l7.78-7.78 2.81-2.81c.8-.78.8-2.07 0-2.86zM5.41 20L4 18.59l7.72-7.72 1.47 1.35L5.41 20z\"/>\n",
              "  </svg>\n",
              "      </button>\n",
              "      \n",
              "  <style>\n",
              "    .colab-df-container {\n",
              "      display:flex;\n",
              "      flex-wrap:wrap;\n",
              "      gap: 12px;\n",
              "    }\n",
              "\n",
              "    .colab-df-convert {\n",
              "      background-color: #E8F0FE;\n",
              "      border: none;\n",
              "      border-radius: 50%;\n",
              "      cursor: pointer;\n",
              "      display: none;\n",
              "      fill: #1967D2;\n",
              "      height: 32px;\n",
              "      padding: 0 0 0 0;\n",
              "      width: 32px;\n",
              "    }\n",
              "\n",
              "    .colab-df-convert:hover {\n",
              "      background-color: #E2EBFA;\n",
              "      box-shadow: 0px 1px 2px rgba(60, 64, 67, 0.3), 0px 1px 3px 1px rgba(60, 64, 67, 0.15);\n",
              "      fill: #174EA6;\n",
              "    }\n",
              "\n",
              "    [theme=dark] .colab-df-convert {\n",
              "      background-color: #3B4455;\n",
              "      fill: #D2E3FC;\n",
              "    }\n",
              "\n",
              "    [theme=dark] .colab-df-convert:hover {\n",
              "      background-color: #434B5C;\n",
              "      box-shadow: 0px 1px 3px 1px rgba(0, 0, 0, 0.15);\n",
              "      filter: drop-shadow(0px 1px 2px rgba(0, 0, 0, 0.3));\n",
              "      fill: #FFFFFF;\n",
              "    }\n",
              "  </style>\n",
              "\n",
              "      <script>\n",
              "        const buttonEl =\n",
              "          document.querySelector('#df-d3fb97f9-4df4-4d82-b2e9-a6ce141ed84e button.colab-df-convert');\n",
              "        buttonEl.style.display =\n",
              "          google.colab.kernel.accessAllowed ? 'block' : 'none';\n",
              "\n",
              "        async function convertToInteractive(key) {\n",
              "          const element = document.querySelector('#df-d3fb97f9-4df4-4d82-b2e9-a6ce141ed84e');\n",
              "          const dataTable =\n",
              "            await google.colab.kernel.invokeFunction('convertToInteractive',\n",
              "                                                     [key], {});\n",
              "          if (!dataTable) return;\n",
              "\n",
              "          const docLinkHtml = 'Like what you see? Visit the ' +\n",
              "            '<a target=\"_blank\" href=https://colab.research.google.com/notebooks/data_table.ipynb>data table notebook</a>'\n",
              "            + ' to learn more about interactive tables.';\n",
              "          element.innerHTML = '';\n",
              "          dataTable['output_type'] = 'display_data';\n",
              "          await google.colab.output.renderOutput(dataTable, element);\n",
              "          const docLink = document.createElement('div');\n",
              "          docLink.innerHTML = docLinkHtml;\n",
              "          element.appendChild(docLink);\n",
              "        }\n",
              "      </script>\n",
              "    </div>\n",
              "  </div>\n",
              "  "
            ]
          },
          "metadata": {},
          "execution_count": 122
        }
      ]
    },
    {
      "cell_type": "code",
      "source": [
        "results['accuracy'] = results['accuracy']/100"
      ],
      "metadata": {
        "id": "yNCnK1VOdlzw"
      },
      "execution_count": 124,
      "outputs": []
    },
    {
      "cell_type": "code",
      "source": [
        "results.plot(kind = 'bar')"
      ],
      "metadata": {
        "colab": {
          "base_uri": "https://localhost:8080/",
          "height": 335
        },
        "id": "gUz2cMo7cNUY",
        "outputId": "7947a0e5-99ad-45d4-ac0f-aaf6b549e578"
      },
      "execution_count": 125,
      "outputs": [
        {
          "output_type": "execute_result",
          "data": {
            "text/plain": [
              "<matplotlib.axes._subplots.AxesSubplot at 0x7f408f4a7a50>"
            ]
          },
          "metadata": {},
          "execution_count": 125
        },
        {
          "output_type": "display_data",
          "data": {
            "text/plain": [
              "<Figure size 432x288 with 1 Axes>"
            ],
            "image/png": "[encoded data removed]"
          },
          "metadata": {
            "needs_background": "light"
          }
        }
      ]
    },
    {
      "cell_type": "markdown",
      "source": [
        "#### Upload to TensorBoard"
      ],
      "metadata": {
        "id": "_DInJ8fAd9TM"
      }
    },
    {
      "cell_type": "code",
      "source": [
        "# View tensorboard logs of transfer learning modelling experiments (should be 4 models)\n",
        "# Upload TensorBoard dev records\n",
        "!tensorboard dev upload --logdir ./model_logs \\\n",
        "  --name \"NLP modelling experiments\" \\\n",
        "  --description \"A series of different NLP modellings experiments with various models\" \\\n",
        "  --one_shot # exits the uploader when upload has finished"
      ],
      "metadata": {
        "colab": {
          "base_uri": "https://localhost:8080/"
        },
        "id": "9d-yY3Qbdjnn",
        "outputId": "7886842d-24cf-4c35-ee0e-134f8ea68073"
      },
      "execution_count": 126,
      "outputs": [
        {
          "output_type": "stream",
          "name": "stdout",
          "text": [
            "\n",
            "***** TensorBoard Uploader *****\n",
            "\n",
            "This will upload your TensorBoard logs to https://tensorboard.dev/ from\n",
            "the following directory:\n",
            "\n",
            "./model_logs\n",
            "\n",
            "This TensorBoard will be visible to everyone. Do not upload sensitive\n",
            "data.\n",
            "\n",
            "Your use of this service is subject to Google's Terms of Service\n",
            "<https://policies.google.com/terms> and Privacy Policy\n",
            "<https://policies.google.com/privacy>, and TensorBoard.dev's Terms of Service\n",
            "<https://tensorboard.dev/policy/terms/>.\n",
            "\n",
            "This notice will not be shown again while you are logged into the uploader.\n",
            "To log out, run `tensorboard dev auth revoke`.\n",
            "\n",
            "Continue? (yes/NO) yes\n",
            "\n",
            "Please visit this URL to authorize this application: https://accounts.google.com/o/oauth2/auth?response_type=code&client_id=373649185512-8v619h5kft38l4456nm2dj4ubeqsrvh6.apps.googleusercontent.com&redirect_uri=urn%3Aietf%3Awg%3Aoauth%3A2.0%3Aoob&scope=openid+https%3A%2F%2Fwww.googleapis.com%2Fauth%2Fuserinfo.email&state=NWvqz877egORke8Xp6EhD8vY4U8EHl&prompt=consent&access_type=offline\n",
            "Enter the authorization code: 4/1AX4XfWhpNJvSqlhKTK0LdSXTf57Kba3qkQoTVaSyK2Jjr_BApCVecScZERU\n",
            "\n",
            "\n",
            "New experiment created. View your TensorBoard at: https://tensorboard.dev/experiment/VT8Q209cQUO9eqC8zQebQQ/\n",
            "\n",
            "\u001b[1m[2022-06-27T14:06:38]\u001b[0m Started scanning logdir.\n",
            "\u001b[1m[2022-06-27T14:06:45]\u001b[0m Total uploaded: 190 scalars, 0 tensors, 7 binary objects (3.4 MB)\n",
            "\u001b[1m[2022-06-27T14:06:45]\u001b[0m Done scanning logdir.\n",
            "\n",
            "\n",
            "Done. View your TensorBoard at https://tensorboard.dev/experiment/VT8Q209cQUO9eqC8zQebQQ/\n"
          ]
        }
      ]
    },
    {
      "cell_type": "code",
      "source": [
        "# If you need to remove previous experiments, can do so using the following\n",
        "# !tensorboard dev delete --experiment_id EXPERIMENT_ID_TO_DELETE"
      ],
      "metadata": {
        "id": "WgPoXgzBe75W"
      },
      "execution_count": null,
      "outputs": []
    },
    {
      "cell_type": "markdown",
      "source": [
        "#### Finding the Most Wrong Predictions"
      ],
      "metadata": {
        "id": "uLUBHBFdvROx"
      }
    },
    {
      "cell_type": "code",
      "source": [
        "val_df = pd.DataFrame({\"text\": test_sentences,\n",
        "                       \"target\": test_labels,\n",
        "                       \"pred\": model_use_preds,\n",
        "                       \"pred_prob\": tf.squeeze(model_use_preds)})\n",
        "val_df.head()\n"
      ],
      "metadata": {
        "id": "lZq5LV1mvUum"
      },
      "execution_count": null,
      "outputs": []
    },
    {
      "cell_type": "code",
      "source": [
        "most_wrong = val_df[val_df[\"target\"] != val_df[\"pred\"]].sort_values(\"pred_prob\", ascending=False)\n",
        "most_wrong[:10]"
      ],
      "metadata": {
        "id": "jyhT29xA3Vek"
      },
      "execution_count": null,
      "outputs": []
    },
    {
      "cell_type": "code",
      "source": [
        "def pred_timer(model, samples):\n",
        "  \"\"\"\n",
        "  Times how long a model takes to make predictions on samples.\n",
        "  \n",
        "  Args:\n",
        "  ----\n",
        "  model = a trained model\n",
        "  sample = a list of samples\n",
        "\n",
        "  Returns:\n",
        "  ----\n",
        "  total_time = total elapsed time for model to make predictions on samples\n",
        "  time_per_pred = time in seconds per single sample\n",
        "  \"\"\"\n",
        "  start_time = time.perf_counter() # get start time\n",
        "  model.predict(samples) # make predictions\n",
        "  end_time = time.perf_counter() # get finish time\n",
        "  total_time = end_time-start_time # calculate how long predictions took to make\n",
        "  time_per_pred = total_time/len(val_sentences) # find prediction time per sample\n",
        "  \n",
        "  return total_time, time_per_pred"
      ],
      "metadata": {
        "id": "H7SPW6gQTtYo"
      },
      "execution_count": null,
      "outputs": []
    }
  ]
}