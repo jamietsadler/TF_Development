{
  "nbformat": 4,
  "nbformat_minor": 0,
  "metadata": {
    "colab": {
      "name": "10_Timeseries.ipynb",
      "provenance": [],
      "collapsed_sections": [],
      "toc_visible": true
    },
    "kernelspec": {
      "name": "python3",
      "display_name": "Python 3"
    },
    "language_info": {
      "name": "python"
    },
    "accelerator": "GPU",
    "gpuClass": "standard"
  },
  "cells": [
    {
      "cell_type": "markdown",
      "source": [
        "# Timeseries Forecasting w/ Tensorflow"
      ],
      "metadata": {
        "id": "NKNCz3Ao4eWB"
      }
    },
    {
      "cell_type": "code",
      "execution_count": 1,
      "metadata": {
        "id": "soQheI7nWfZV"
      },
      "outputs": [],
      "source": [
        "import numpy as np\n",
        "import pandas as pd\n",
        "import matplotlib.pyplot as plt"
      ]
    },
    {
      "cell_type": "code",
      "source": [
        "# Download Bitcoin historical data from GitHub \n",
        "!wget https://raw.githubusercontent.com/mrdbourke/tensorflow-deep-learning/main/extras/BTC_USD_2013-10-01_2021-05-18-CoinDesk.csv"
      ],
      "metadata": {
        "colab": {
          "base_uri": "https://localhost:8080/"
        },
        "id": "aS0eLjRL4lKI",
        "outputId": "33dc4ac8-85e8-4d10-f57d-f8e695c207fc"
      },
      "execution_count": 2,
      "outputs": [
        {
          "output_type": "stream",
          "name": "stdout",
          "text": [
            "--2022-07-30 11:51:15--  https://raw.githubusercontent.com/mrdbourke/tensorflow-deep-learning/main/extras/BTC_USD_2013-10-01_2021-05-18-CoinDesk.csv\n",
            "Resolving raw.githubusercontent.com (raw.githubusercontent.com)... 185.199.108.133, 185.199.109.133, 185.199.110.133, ...\n",
            "Connecting to raw.githubusercontent.com (raw.githubusercontent.com)|185.199.108.133|:443... connected.\n",
            "HTTP request sent, awaiting response... 200 OK\n",
            "Length: 178509 (174K) [text/plain]\n",
            "Saving to: ‘BTC_USD_2013-10-01_2021-05-18-CoinDesk.csv’\n",
            "\n",
            "\r          BTC_USD_2   0%[                    ]       0  --.-KB/s               \rBTC_USD_2013-10-01_ 100%[===================>] 174.33K  --.-KB/s    in 0.01s   \n",
            "\n",
            "2022-07-30 11:51:15 (14.1 MB/s) - ‘BTC_USD_2013-10-01_2021-05-18-CoinDesk.csv’ saved [178509/178509]\n",
            "\n"
          ]
        }
      ]
    },
    {
      "cell_type": "code",
      "source": [
        "df = pd.read_csv('BTC_USD_2013-10-01_2021-05-18-CoinDesk.csv', parse_dates =['Date'], index_col = ['Date'])"
      ],
      "metadata": {
        "id": "UbQXXxRm499u"
      },
      "execution_count": 3,
      "outputs": []
    },
    {
      "cell_type": "code",
      "source": [
        "df.head()"
      ],
      "metadata": {
        "colab": {
          "base_uri": "https://localhost:8080/",
          "height": 235
        },
        "id": "skT0sm7J5JTs",
        "outputId": "c0935965-fd0f-41e9-a15d-a2b3f998cdfe"
      },
      "execution_count": 4,
      "outputs": [
        {
          "output_type": "execute_result",
          "data": {
            "text/plain": [
              "           Currency  Closing Price (USD)  24h Open (USD)  24h High (USD)  \\\n",
              "Date                                                                       \n",
              "2013-10-01      BTC            123.65499       124.30466       124.75166   \n",
              "2013-10-02      BTC            125.45500       123.65499       125.75850   \n",
              "2013-10-03      BTC            108.58483       125.45500       125.66566   \n",
              "2013-10-04      BTC            118.67466       108.58483       118.67500   \n",
              "2013-10-05      BTC            121.33866       118.67466       121.93633   \n",
              "\n",
              "            24h Low (USD)  \n",
              "Date                       \n",
              "2013-10-01      122.56349  \n",
              "2013-10-02      123.63383  \n",
              "2013-10-03       83.32833  \n",
              "2013-10-04      107.05816  \n",
              "2013-10-05      118.00566  "
            ],
            "text/html": [
              "\n",
              "  <div id=\"df-8e7b1595-2411-4f5d-b1fd-cd8bc9e1b7eb\">\n",
              "    <div class=\"colab-df-container\">\n",
              "      <div>\n",
              "<style scoped>\n",
              "    .dataframe tbody tr th:only-of-type {\n",
              "        vertical-align: middle;\n",
              "    }\n",
              "\n",
              "    .dataframe tbody tr th {\n",
              "        vertical-align: top;\n",
              "    }\n",
              "\n",
              "    .dataframe thead th {\n",
              "        text-align: right;\n",
              "    }\n",
              "</style>\n",
              "<table border=\"1\" class=\"dataframe\">\n",
              "  <thead>\n",
              "    <tr style=\"text-align: right;\">\n",
              "      <th></th>\n",
              "      <th>Currency</th>\n",
              "      <th>Closing Price (USD)</th>\n",
              "      <th>24h Open (USD)</th>\n",
              "      <th>24h High (USD)</th>\n",
              "      <th>24h Low (USD)</th>\n",
              "    </tr>\n",
              "    <tr>\n",
              "      <th>Date</th>\n",
              "      <th></th>\n",
              "      <th></th>\n",
              "      <th></th>\n",
              "      <th></th>\n",
              "      <th></th>\n",
              "    </tr>\n",
              "  </thead>\n",
              "  <tbody>\n",
              "    <tr>\n",
              "      <th>2013-10-01</th>\n",
              "      <td>BTC</td>\n",
              "      <td>123.65499</td>\n",
              "      <td>124.30466</td>\n",
              "      <td>124.75166</td>\n",
              "      <td>122.56349</td>\n",
              "    </tr>\n",
              "    <tr>\n",
              "      <th>2013-10-02</th>\n",
              "      <td>BTC</td>\n",
              "      <td>125.45500</td>\n",
              "      <td>123.65499</td>\n",
              "      <td>125.75850</td>\n",
              "      <td>123.63383</td>\n",
              "    </tr>\n",
              "    <tr>\n",
              "      <th>2013-10-03</th>\n",
              "      <td>BTC</td>\n",
              "      <td>108.58483</td>\n",
              "      <td>125.45500</td>\n",
              "      <td>125.66566</td>\n",
              "      <td>83.32833</td>\n",
              "    </tr>\n",
              "    <tr>\n",
              "      <th>2013-10-04</th>\n",
              "      <td>BTC</td>\n",
              "      <td>118.67466</td>\n",
              "      <td>108.58483</td>\n",
              "      <td>118.67500</td>\n",
              "      <td>107.05816</td>\n",
              "    </tr>\n",
              "    <tr>\n",
              "      <th>2013-10-05</th>\n",
              "      <td>BTC</td>\n",
              "      <td>121.33866</td>\n",
              "      <td>118.67466</td>\n",
              "      <td>121.93633</td>\n",
              "      <td>118.00566</td>\n",
              "    </tr>\n",
              "  </tbody>\n",
              "</table>\n",
              "</div>\n",
              "      <button class=\"colab-df-convert\" onclick=\"convertToInteractive('df-8e7b1595-2411-4f5d-b1fd-cd8bc9e1b7eb')\"\n",
              "              title=\"Convert this dataframe to an interactive table.\"\n",
              "              style=\"display:none;\">\n",
              "        \n",
              "  <svg xmlns=\"http://www.w3.org/2000/svg\" height=\"24px\"viewBox=\"0 0 24 24\"\n",
              "       width=\"24px\">\n",
              "    <path d=\"M0 0h24v24H0V0z\" fill=\"none\"/>\n",
              "    <path d=\"M18.56 5.44l.94 2.06.94-2.06 2.06-.94-2.06-.94-.94-2.06-.94 2.06-2.06.94zm-11 1L8.5 8.5l.94-2.06 2.06-.94-2.06-.94L8.5 2.5l-.94 2.06-2.06.94zm10 10l.94 2.06.94-2.06 2.06-.94-2.06-.94-.94-2.06-.94 2.06-2.06.94z\"/><path d=\"M17.41 7.96l-1.37-1.37c-.4-.4-.92-.59-1.43-.59-.52 0-1.04.2-1.43.59L10.3 9.45l-7.72 7.72c-.78.78-.78 2.05 0 2.83L4 21.41c.39.39.9.59 1.41.59.51 0 1.02-.2 1.41-.59l7.78-7.78 2.81-2.81c.8-.78.8-2.07 0-2.86zM5.41 20L4 18.59l7.72-7.72 1.47 1.35L5.41 20z\"/>\n",
              "  </svg>\n",
              "      </button>\n",
              "      \n",
              "  <style>\n",
              "    .colab-df-container {\n",
              "      display:flex;\n",
              "      flex-wrap:wrap;\n",
              "      gap: 12px;\n",
              "    }\n",
              "\n",
              "    .colab-df-convert {\n",
              "      background-color: #E8F0FE;\n",
              "      border: none;\n",
              "      border-radius: 50%;\n",
              "      cursor: pointer;\n",
              "      display: none;\n",
              "      fill: #1967D2;\n",
              "      height: 32px;\n",
              "      padding: 0 0 0 0;\n",
              "      width: 32px;\n",
              "    }\n",
              "\n",
              "    .colab-df-convert:hover {\n",
              "      background-color: #E2EBFA;\n",
              "      box-shadow: 0px 1px 2px rgba(60, 64, 67, 0.3), 0px 1px 3px 1px rgba(60, 64, 67, 0.15);\n",
              "      fill: #174EA6;\n",
              "    }\n",
              "\n",
              "    [theme=dark] .colab-df-convert {\n",
              "      background-color: #3B4455;\n",
              "      fill: #D2E3FC;\n",
              "    }\n",
              "\n",
              "    [theme=dark] .colab-df-convert:hover {\n",
              "      background-color: #434B5C;\n",
              "      box-shadow: 0px 1px 3px 1px rgba(0, 0, 0, 0.15);\n",
              "      filter: drop-shadow(0px 1px 2px rgba(0, 0, 0, 0.3));\n",
              "      fill: #FFFFFF;\n",
              "    }\n",
              "  </style>\n",
              "\n",
              "      <script>\n",
              "        const buttonEl =\n",
              "          document.querySelector('#df-8e7b1595-2411-4f5d-b1fd-cd8bc9e1b7eb button.colab-df-convert');\n",
              "        buttonEl.style.display =\n",
              "          google.colab.kernel.accessAllowed ? 'block' : 'none';\n",
              "\n",
              "        async function convertToInteractive(key) {\n",
              "          const element = document.querySelector('#df-8e7b1595-2411-4f5d-b1fd-cd8bc9e1b7eb');\n",
              "          const dataTable =\n",
              "            await google.colab.kernel.invokeFunction('convertToInteractive',\n",
              "                                                     [key], {});\n",
              "          if (!dataTable) return;\n",
              "\n",
              "          const docLinkHtml = 'Like what you see? Visit the ' +\n",
              "            '<a target=\"_blank\" href=https://colab.research.google.com/notebooks/data_table.ipynb>data table notebook</a>'\n",
              "            + ' to learn more about interactive tables.';\n",
              "          element.innerHTML = '';\n",
              "          dataTable['output_type'] = 'display_data';\n",
              "          await google.colab.output.renderOutput(dataTable, element);\n",
              "          const docLink = document.createElement('div');\n",
              "          docLink.innerHTML = docLinkHtml;\n",
              "          element.appendChild(docLink);\n",
              "        }\n",
              "      </script>\n",
              "    </div>\n",
              "  </div>\n",
              "  "
            ]
          },
          "metadata": {},
          "execution_count": 4
        }
      ]
    },
    {
      "cell_type": "code",
      "source": [
        "df.info()"
      ],
      "metadata": {
        "colab": {
          "base_uri": "https://localhost:8080/"
        },
        "id": "cdInVFNK5J6X",
        "outputId": "be6c1056-1ccc-4618-ae08-71cb594a153e"
      },
      "execution_count": 5,
      "outputs": [
        {
          "output_type": "stream",
          "name": "stdout",
          "text": [
            "<class 'pandas.core.frame.DataFrame'>\n",
            "DatetimeIndex: 2787 entries, 2013-10-01 to 2021-05-18\n",
            "Data columns (total 5 columns):\n",
            " #   Column               Non-Null Count  Dtype  \n",
            "---  ------               --------------  -----  \n",
            " 0   Currency             2787 non-null   object \n",
            " 1   Closing Price (USD)  2787 non-null   float64\n",
            " 2   24h Open (USD)       2787 non-null   float64\n",
            " 3   24h High (USD)       2787 non-null   float64\n",
            " 4   24h Low (USD)        2787 non-null   float64\n",
            "dtypes: float64(4), object(1)\n",
            "memory usage: 130.6+ KB\n"
          ]
        }
      ]
    },
    {
      "cell_type": "code",
      "source": [
        "df.describe()"
      ],
      "metadata": {
        "colab": {
          "base_uri": "https://localhost:8080/",
          "height": 297
        },
        "id": "vISXHVGT5Nwf",
        "outputId": "e8618e96-7950-4baf-a3ec-ca1cb375d092"
      },
      "execution_count": 6,
      "outputs": [
        {
          "output_type": "execute_result",
          "data": {
            "text/plain": [
              "       Closing Price (USD)  24h Open (USD)  24h High (USD)  24h Low (USD)\n",
              "count          2787.000000     2787.000000     2787.000000    2787.000000\n",
              "mean           6529.845141     6513.579485     6710.061683    6302.417386\n",
              "std           10887.847444    10863.800772    11206.779756   10475.811252\n",
              "min             108.584830      108.584830      118.675000      83.328330\n",
              "25%             460.087500      459.400500      469.720995     450.818830\n",
              "50%            2780.182500     2772.367500     2874.696250    2696.457500\n",
              "75%            8506.923720     8496.887593     8763.291985    8221.060570\n",
              "max           63346.789035    63562.673545    64801.787870   62094.632914"
            ],
            "text/html": [
              "\n",
              "  <div id=\"df-5c05caa4-afda-4fa4-8f58-d76694e07365\">\n",
              "    <div class=\"colab-df-container\">\n",
              "      <div>\n",
              "<style scoped>\n",
              "    .dataframe tbody tr th:only-of-type {\n",
              "        vertical-align: middle;\n",
              "    }\n",
              "\n",
              "    .dataframe tbody tr th {\n",
              "        vertical-align: top;\n",
              "    }\n",
              "\n",
              "    .dataframe thead th {\n",
              "        text-align: right;\n",
              "    }\n",
              "</style>\n",
              "<table border=\"1\" class=\"dataframe\">\n",
              "  <thead>\n",
              "    <tr style=\"text-align: right;\">\n",
              "      <th></th>\n",
              "      <th>Closing Price (USD)</th>\n",
              "      <th>24h Open (USD)</th>\n",
              "      <th>24h High (USD)</th>\n",
              "      <th>24h Low (USD)</th>\n",
              "    </tr>\n",
              "  </thead>\n",
              "  <tbody>\n",
              "    <tr>\n",
              "      <th>count</th>\n",
              "      <td>2787.000000</td>\n",
              "      <td>2787.000000</td>\n",
              "      <td>2787.000000</td>\n",
              "      <td>2787.000000</td>\n",
              "    </tr>\n",
              "    <tr>\n",
              "      <th>mean</th>\n",
              "      <td>6529.845141</td>\n",
              "      <td>6513.579485</td>\n",
              "      <td>6710.061683</td>\n",
              "      <td>6302.417386</td>\n",
              "    </tr>\n",
              "    <tr>\n",
              "      <th>std</th>\n",
              "      <td>10887.847444</td>\n",
              "      <td>10863.800772</td>\n",
              "      <td>11206.779756</td>\n",
              "      <td>10475.811252</td>\n",
              "    </tr>\n",
              "    <tr>\n",
              "      <th>min</th>\n",
              "      <td>108.584830</td>\n",
              "      <td>108.584830</td>\n",
              "      <td>118.675000</td>\n",
              "      <td>83.328330</td>\n",
              "    </tr>\n",
              "    <tr>\n",
              "      <th>25%</th>\n",
              "      <td>460.087500</td>\n",
              "      <td>459.400500</td>\n",
              "      <td>469.720995</td>\n",
              "      <td>450.818830</td>\n",
              "    </tr>\n",
              "    <tr>\n",
              "      <th>50%</th>\n",
              "      <td>2780.182500</td>\n",
              "      <td>2772.367500</td>\n",
              "      <td>2874.696250</td>\n",
              "      <td>2696.457500</td>\n",
              "    </tr>\n",
              "    <tr>\n",
              "      <th>75%</th>\n",
              "      <td>8506.923720</td>\n",
              "      <td>8496.887593</td>\n",
              "      <td>8763.291985</td>\n",
              "      <td>8221.060570</td>\n",
              "    </tr>\n",
              "    <tr>\n",
              "      <th>max</th>\n",
              "      <td>63346.789035</td>\n",
              "      <td>63562.673545</td>\n",
              "      <td>64801.787870</td>\n",
              "      <td>62094.632914</td>\n",
              "    </tr>\n",
              "  </tbody>\n",
              "</table>\n",
              "</div>\n",
              "      <button class=\"colab-df-convert\" onclick=\"convertToInteractive('df-5c05caa4-afda-4fa4-8f58-d76694e07365')\"\n",
              "              title=\"Convert this dataframe to an interactive table.\"\n",
              "              style=\"display:none;\">\n",
              "        \n",
              "  <svg xmlns=\"http://www.w3.org/2000/svg\" height=\"24px\"viewBox=\"0 0 24 24\"\n",
              "       width=\"24px\">\n",
              "    <path d=\"M0 0h24v24H0V0z\" fill=\"none\"/>\n",
              "    <path d=\"M18.56 5.44l.94 2.06.94-2.06 2.06-.94-2.06-.94-.94-2.06-.94 2.06-2.06.94zm-11 1L8.5 8.5l.94-2.06 2.06-.94-2.06-.94L8.5 2.5l-.94 2.06-2.06.94zm10 10l.94 2.06.94-2.06 2.06-.94-2.06-.94-.94-2.06-.94 2.06-2.06.94z\"/><path d=\"M17.41 7.96l-1.37-1.37c-.4-.4-.92-.59-1.43-.59-.52 0-1.04.2-1.43.59L10.3 9.45l-7.72 7.72c-.78.78-.78 2.05 0 2.83L4 21.41c.39.39.9.59 1.41.59.51 0 1.02-.2 1.41-.59l7.78-7.78 2.81-2.81c.8-.78.8-2.07 0-2.86zM5.41 20L4 18.59l7.72-7.72 1.47 1.35L5.41 20z\"/>\n",
              "  </svg>\n",
              "      </button>\n",
              "      \n",
              "  <style>\n",
              "    .colab-df-container {\n",
              "      display:flex;\n",
              "      flex-wrap:wrap;\n",
              "      gap: 12px;\n",
              "    }\n",
              "\n",
              "    .colab-df-convert {\n",
              "      background-color: #E8F0FE;\n",
              "      border: none;\n",
              "      border-radius: 50%;\n",
              "      cursor: pointer;\n",
              "      display: none;\n",
              "      fill: #1967D2;\n",
              "      height: 32px;\n",
              "      padding: 0 0 0 0;\n",
              "      width: 32px;\n",
              "    }\n",
              "\n",
              "    .colab-df-convert:hover {\n",
              "      background-color: #E2EBFA;\n",
              "      box-shadow: 0px 1px 2px rgba(60, 64, 67, 0.3), 0px 1px 3px 1px rgba(60, 64, 67, 0.15);\n",
              "      fill: #174EA6;\n",
              "    }\n",
              "\n",
              "    [theme=dark] .colab-df-convert {\n",
              "      background-color: #3B4455;\n",
              "      fill: #D2E3FC;\n",
              "    }\n",
              "\n",
              "    [theme=dark] .colab-df-convert:hover {\n",
              "      background-color: #434B5C;\n",
              "      box-shadow: 0px 1px 3px 1px rgba(0, 0, 0, 0.15);\n",
              "      filter: drop-shadow(0px 1px 2px rgba(0, 0, 0, 0.3));\n",
              "      fill: #FFFFFF;\n",
              "    }\n",
              "  </style>\n",
              "\n",
              "      <script>\n",
              "        const buttonEl =\n",
              "          document.querySelector('#df-5c05caa4-afda-4fa4-8f58-d76694e07365 button.colab-df-convert');\n",
              "        buttonEl.style.display =\n",
              "          google.colab.kernel.accessAllowed ? 'block' : 'none';\n",
              "\n",
              "        async function convertToInteractive(key) {\n",
              "          const element = document.querySelector('#df-5c05caa4-afda-4fa4-8f58-d76694e07365');\n",
              "          const dataTable =\n",
              "            await google.colab.kernel.invokeFunction('convertToInteractive',\n",
              "                                                     [key], {});\n",
              "          if (!dataTable) return;\n",
              "\n",
              "          const docLinkHtml = 'Like what you see? Visit the ' +\n",
              "            '<a target=\"_blank\" href=https://colab.research.google.com/notebooks/data_table.ipynb>data table notebook</a>'\n",
              "            + ' to learn more about interactive tables.';\n",
              "          element.innerHTML = '';\n",
              "          dataTable['output_type'] = 'display_data';\n",
              "          await google.colab.output.renderOutput(dataTable, element);\n",
              "          const docLink = document.createElement('div');\n",
              "          docLink.innerHTML = docLinkHtml;\n",
              "          element.appendChild(docLink);\n",
              "        }\n",
              "      </script>\n",
              "    </div>\n",
              "  </div>\n",
              "  "
            ]
          },
          "metadata": {},
          "execution_count": 6
        }
      ]
    },
    {
      "cell_type": "code",
      "source": [
        "df.shape"
      ],
      "metadata": {
        "colab": {
          "base_uri": "https://localhost:8080/"
        },
        "id": "PGbspQHh53i0",
        "outputId": "f24e02f1-5d1d-4d08-ecd2-32179d552549"
      },
      "execution_count": 7,
      "outputs": [
        {
          "output_type": "execute_result",
          "data": {
            "text/plain": [
              "(2787, 5)"
            ]
          },
          "metadata": {},
          "execution_count": 7
        }
      ]
    },
    {
      "cell_type": "code",
      "source": [
        "df = df[['Closing Price (USD)']]"
      ],
      "metadata": {
        "id": "MU7tUtym5PTD"
      },
      "execution_count": 8,
      "outputs": []
    },
    {
      "cell_type": "code",
      "source": [
        "df.plot()"
      ],
      "metadata": {
        "colab": {
          "base_uri": "https://localhost:8080/",
          "height": 296
        },
        "id": "S9wfq2VO9mwx",
        "outputId": "4bfb9f20-460a-447d-f7e8-657e73a455cd"
      },
      "execution_count": 9,
      "outputs": [
        {
          "output_type": "execute_result",
          "data": {
            "text/plain": [
              "<matplotlib.axes._subplots.AxesSubplot at 0x7ff8bfdebfd0>"
            ]
          },
          "metadata": {},
          "execution_count": 9
        },
        {
          "output_type": "display_data",
          "data": {
            "text/plain": [
              "<Figure size 432x288 with 1 Axes>"
            ],
            "image/png": "[encoded data removed]"
          },
          "metadata": {
            "needs_background": "light"
          }
        }
      ]
    },
    {
      "cell_type": "code",
      "source": [
        "timesteps = df.index.to_numpy()\n",
        "prices = df['Closing Price (USD)'].to_numpy()\n",
        "\n",
        "timesteps[:10], prices[:10]"
      ],
      "metadata": {
        "colab": {
          "base_uri": "https://localhost:8080/"
        },
        "id": "wNWr9h69cVDK",
        "outputId": "d472f185-72c7-4006-d07a-e6889c9168c5"
      },
      "execution_count": 10,
      "outputs": [
        {
          "output_type": "execute_result",
          "data": {
            "text/plain": [
              "(array(['2013-10-01T00:00:00.000000000', '2013-10-02T00:00:00.000000000',\n",
              "        '2013-10-03T00:00:00.000000000', '2013-10-04T00:00:00.000000000',\n",
              "        '2013-10-05T00:00:00.000000000', '2013-10-06T00:00:00.000000000',\n",
              "        '2013-10-07T00:00:00.000000000', '2013-10-08T00:00:00.000000000',\n",
              "        '2013-10-09T00:00:00.000000000', '2013-10-10T00:00:00.000000000'],\n",
              "       dtype='datetime64[ns]'),\n",
              " array([123.65499, 125.455  , 108.58483, 118.67466, 121.33866, 120.65533,\n",
              "        121.795  , 123.033  , 124.049  , 125.96116]))"
            ]
          },
          "metadata": {},
          "execution_count": 10
        }
      ]
    },
    {
      "cell_type": "markdown",
      "source": [
        "#### Split into Train/Test"
      ],
      "metadata": {
        "id": "KVVg_mMlb12f"
      }
    },
    {
      "cell_type": "code",
      "source": [
        "train_size = int(0.8*len(df))"
      ],
      "metadata": {
        "id": "ZINcLx9T9oDB"
      },
      "execution_count": 11,
      "outputs": []
    },
    {
      "cell_type": "code",
      "source": [
        "X_train, y_train = timesteps[:train_size], prices[:train_size]\n",
        "X_test, y_test = timesteps[train_size:], prices[train_size:]"
      ],
      "metadata": {
        "id": "2eZ8tBvRb7dT"
      },
      "execution_count": 12,
      "outputs": []
    },
    {
      "cell_type": "markdown",
      "source": [
        "## Modelling Experiments"
      ],
      "metadata": {
        "id": "fkZzggTTeddM"
      }
    },
    {
      "cell_type": "markdown",
      "source": [
        "* horizon = number of timesteps to predict into future\n",
        "* window = number of timesteps from past used to predict horizon"
      ],
      "metadata": {
        "id": "WooO7JPbcDcE"
      }
    },
    {
      "cell_type": "markdown",
      "source": [
        "Naive forecast just used previous value to find next value in series"
      ],
      "metadata": {
        "id": "nsyv9WlTTa9J"
      }
    },
    {
      "cell_type": "code",
      "source": [
        "# Create a naïve forecast\n",
        "naive_forecast = y_test[:-1] # Naïve forecast equals every value excluding the last value\n",
        "naive_forecast[:10], naive_forecast[-10:] # View frist 10 and last 10"
      ],
      "metadata": {
        "colab": {
          "base_uri": "https://localhost:8080/"
        },
        "id": "yK6SkawZ_NJt",
        "outputId": "079ba904-d4d0-4546-de84-07e1f3256d37"
      },
      "execution_count": 13,
      "outputs": [
        {
          "output_type": "execute_result",
          "data": {
            "text/plain": [
              "(array([9226.48582088, 8794.35864452, 8798.04205463, 9081.18687849,\n",
              "        8711.53433917, 8760.89271814, 8749.52059102, 8656.97092235,\n",
              "        8500.64355816, 8469.2608989 ]),\n",
              " array([57107.12067189, 58788.20967893, 58102.19142623, 55715.54665129,\n",
              "        56573.5554719 , 52147.82118698, 49764.1320816 , 50032.69313676,\n",
              "        47885.62525472, 45604.61575361]))"
            ]
          },
          "metadata": {},
          "execution_count": 13
        }
      ]
    },
    {
      "cell_type": "code",
      "source": [
        "import tensorflow as tf"
      ],
      "metadata": {
        "id": "DWjyDBW1QDAA"
      },
      "execution_count": 14,
      "outputs": []
    },
    {
      "cell_type": "code",
      "source": [
        "def mean_absolute_scaled_error(y_true, y_pred):\n",
        "  \"\"\"\"\"\"\n",
        "  # Find MAE\n",
        "  mae = np.mean(np.abs(y_true - y_pred))\n",
        "  \n",
        "  # Find MAE of Naive forecast\n",
        "  mae_naive = np.mean(np.abs(y_true[1:] - y_pred[:-1]))\n",
        "\n",
        "  return mae / mae_naive"
      ],
      "metadata": {
        "id": "RzGy7ZUbRtEM"
      },
      "execution_count": 15,
      "outputs": []
    },
    {
      "cell_type": "code",
      "source": [
        "def evaluate_preds(y_true, y_preds):\n",
        "  \"\"\"Return evaluation metrics\"\"\"\n",
        "  #TF sometimes gives errors if data not in float32 type\n",
        "  y_true = tf.cast(y_true, dtype = tf.float32)\n",
        "  y_pred = tf.cast(y_preds, dtype = tf.float32)\n",
        "\n",
        "  # Calculate various metrics\n",
        "  mae = tf.keras.metrics.mean_absolute_error(y_true, y_pred)\n",
        "  mse = tf.keras.metrics.mean_squared_error(y_true, y_pred) # puts and emphasis on outliers (all errors get squared)\n",
        "  rmse = tf.sqrt(mse)\n",
        "  mape = tf.keras.metrics.mean_absolute_percentage_error(y_true, y_pred)\n",
        "  mase = mean_absolute_scaled_error(y_true, y_pred)\n",
        "  \n",
        "  return {\"mae\": mae.numpy(),\n",
        "          \"mse\": mse.numpy(),\n",
        "          \"rmse\": rmse.numpy(),\n",
        "          \"mape\": mape.numpy(),\n",
        "          \"mase\": mase}"
      ],
      "metadata": {
        "id": "udlf9-M6TpCj"
      },
      "execution_count": 16,
      "outputs": []
    },
    {
      "cell_type": "code",
      "source": [
        "naive_results = evaluate_preds(y_true=y_test[1:],\n",
        "                               y_preds=naive_forecast)\n",
        "naive_results"
      ],
      "metadata": {
        "colab": {
          "base_uri": "https://localhost:8080/"
        },
        "id": "0SdsLSuu-4vz",
        "outputId": "379645bb-d550-4e1f-da80-d2c2d54234e9"
      },
      "execution_count": 17,
      "outputs": [
        {
          "output_type": "execute_result",
          "data": {
            "text/plain": [
              "{'mae': 567.9802,\n",
              " 'mape': 2.516525,\n",
              " 'mase': 0.69212395,\n",
              " 'mse': 1147547.0,\n",
              " 'rmse': 1071.2362}"
            ]
          },
          "metadata": {},
          "execution_count": 17
        }
      ]
    },
    {
      "cell_type": "markdown",
      "source": [
        "### Create a Windowing Function"
      ],
      "metadata": {
        "id": "wMVsewRYaFO1"
      }
    },
    {
      "cell_type": "code",
      "source": [
        "# Global Variables for Window and Horizon Size\n",
        "HORIZON = 1\n",
        "WINDOW = 7\n"
      ],
      "metadata": {
        "id": "Uf6gSor_Ve09"
      },
      "execution_count": 18,
      "outputs": []
    },
    {
      "cell_type": "code",
      "source": [
        "def get_labelled_windows(x, horizon = HORIZON):\n",
        "  \"\"\"\n",
        "  Creates labels for windowed dataset.\n",
        "\n",
        "  E.g. if horizon=1 (default)\n",
        "  Input: [1, 2, 3, 4, 5, 6] -> Output: ([1, 2, 3, 4, 5], [6])\n",
        "  \"\"\"\n",
        "  return x[:, :-horizon], x[:, -horizon:]"
      ],
      "metadata": {
        "id": "qV6d7qcPbJL9"
      },
      "execution_count": 19,
      "outputs": []
    },
    {
      "cell_type": "markdown",
      "source": [
        "Create function to view numpy arrays as windows"
      ],
      "metadata": {
        "id": "MpzCMRHOha6B"
      }
    },
    {
      "cell_type": "code",
      "source": [
        "def make_windows(x, window_size = WINDOW, horizon_size = HORIZON):\n",
        "  \"\"\"Turns 1d array into sequential windowed labels.\"\"\"\n",
        "  # 1. Create a window of specific window_size (add the horizon on the end for later labelling)\n",
        "  window_step = np.expand_dims(np.arange(window_size+horizon_size), axis=0)\n",
        "\n",
        "  # 2. Create a 2D array of multiple window steps (minus 1 to account for 0 indexing)\n",
        "  window_indexes = window_step + np.expand_dims(np.arange(len(x)-(window_size+horizon_size-1)), axis=0).T # create 2D array of windows of size window_size\n",
        "\n",
        "  # 3. Index on the target array (time series) with 2D array of multiple window steps\n",
        "  windowed_array = x[window_indexes]\n",
        "\n",
        "  # 4. Get the labelled windows\n",
        "  windows, labels = get_labelled_windows(windowed_array, horizon=horizon_size)\n",
        "\n",
        "  return windows, labels\n"
      ],
      "metadata": {
        "id": "FQrvjYgEblQU"
      },
      "execution_count": 20,
      "outputs": []
    },
    {
      "cell_type": "code",
      "source": [
        "full_windows, full_labels = make_windows(prices, window_size=WINDOW, horizon_size=HORIZON)\n",
        "len(full_windows), len(full_labels)"
      ],
      "metadata": {
        "colab": {
          "base_uri": "https://localhost:8080/"
        },
        "id": "VUfci0emou1b",
        "outputId": "8d122232-1158-417e-e6bd-69531737174f"
      },
      "execution_count": 21,
      "outputs": [
        {
          "output_type": "execute_result",
          "data": {
            "text/plain": [
              "(2780, 2780)"
            ]
          },
          "metadata": {},
          "execution_count": 21
        }
      ]
    },
    {
      "cell_type": "code",
      "source": [
        "full_windows.shape, full_labels.shape"
      ],
      "metadata": {
        "colab": {
          "base_uri": "https://localhost:8080/"
        },
        "id": "NvRzA9CB0FxT",
        "outputId": "e90152f4-55e5-419e-eac4-2131eeacb2c6"
      },
      "execution_count": 22,
      "outputs": [
        {
          "output_type": "execute_result",
          "data": {
            "text/plain": [
              "((2780, 7), (2780, 1))"
            ]
          },
          "metadata": {},
          "execution_count": 22
        }
      ]
    },
    {
      "cell_type": "markdown",
      "source": [
        "#### Turn Windows Into Train & Test Splits"
      ],
      "metadata": {
        "id": "VC7oLx4P0hbd"
      }
    },
    {
      "cell_type": "code",
      "source": [
        "def make_train_test_splits(windows, labels, test_split = 0.2):\n",
        "  \"\"\"\"\"\"\n",
        "  split_size = int(len(windows) * (1-test_split)) # this will default to 80% train/20% test\n",
        "  train_windows = windows[:split_size]\n",
        "  train_labels = labels[:split_size]\n",
        "  test_windows = windows[split_size:]\n",
        "  test_labels = labels[split_size:]\n",
        "\n",
        "  return train_windows, test_windows, train_labels, test_labels"
      ],
      "metadata": {
        "id": "CI-wcygX0LsY"
      },
      "execution_count": 23,
      "outputs": []
    },
    {
      "cell_type": "code",
      "source": [
        "train_windows, test_windows, train_labels, test_labels = make_train_test_splits(full_windows, full_labels)"
      ],
      "metadata": {
        "id": "dGkENAGz8xVO"
      },
      "execution_count": 24,
      "outputs": []
    },
    {
      "cell_type": "code",
      "source": [
        "train_windows"
      ],
      "metadata": {
        "colab": {
          "base_uri": "https://localhost:8080/"
        },
        "id": "e-35vKgb8_ZO",
        "outputId": "8f62d3bc-d60b-49a8-f9e1-a4c6d8f5abdd"
      },
      "execution_count": 25,
      "outputs": [
        {
          "output_type": "execute_result",
          "data": {
            "text/plain": [
              "array([[ 123.65499   ,  125.455     ,  108.58483   , ...,  121.33866   ,\n",
              "         120.65533   ,  121.795     ],\n",
              "       [ 125.455     ,  108.58483   ,  118.67466   , ...,  120.65533   ,\n",
              "         121.795     ,  123.033     ],\n",
              "       [ 108.58483   ,  118.67466   ,  121.33866   , ...,  121.795     ,\n",
              "         123.033     ,  124.049     ],\n",
              "       ...,\n",
              "       [9225.99547934, 9131.41063031, 9197.63234462, ..., 9202.41545055,\n",
              "        9369.62808116, 9326.59962378],\n",
              "       [9131.41063031, 9197.63234462, 9290.89660239, ..., 9369.62808116,\n",
              "        9326.59962378, 9335.75240233],\n",
              "       [9197.63234462, 9290.89660239, 9202.41545055, ..., 9326.59962378,\n",
              "        9335.75240233, 9226.48582088]])"
            ]
          },
          "metadata": {},
          "execution_count": 25
        }
      ]
    },
    {
      "cell_type": "markdown",
      "source": [
        "#### Create Modelling Checkpoint Callback"
      ],
      "metadata": {
        "id": "uzcQSnnk20Wt"
      }
    },
    {
      "cell_type": "code",
      "source": [
        "import os"
      ],
      "metadata": {
        "id": "nKjFWtmk1LSn"
      },
      "execution_count": 26,
      "outputs": []
    },
    {
      "cell_type": "code",
      "source": [
        "def create_model_checkpoint(model_name, save_path=\"model_experiments\"):\n",
        "  return tf.keras.callbacks.ModelCheckpoint(filepath=os.path.join(save_path, model_name), # create filepath to save model\n",
        "                                            verbose=0, # only output a limited amount of text\n",
        "                                            save_best_only=True) # save only the best model to file"
      ],
      "metadata": {
        "id": "0Ph6V6Wb23eg"
      },
      "execution_count": 27,
      "outputs": []
    },
    {
      "cell_type": "markdown",
      "source": [
        "### Model 1: Dense Model"
      ],
      "metadata": {
        "id": "i93cR_mp3vVe"
      }
    },
    {
      "cell_type": "code",
      "source": [
        "from tensorflow.keras import layers"
      ],
      "metadata": {
        "id": "EhStO9ji8teq"
      },
      "execution_count": 28,
      "outputs": []
    },
    {
      "cell_type": "code",
      "source": [
        "train_windows.shape[1]"
      ],
      "metadata": {
        "colab": {
          "base_uri": "https://localhost:8080/"
        },
        "id": "5FPvBSsP95QG",
        "outputId": "e1d108e3-7d89-4297-8859-26c0e9a3edde"
      },
      "execution_count": 29,
      "outputs": [
        {
          "output_type": "execute_result",
          "data": {
            "text/plain": [
              "7"
            ]
          },
          "metadata": {},
          "execution_count": 29
        }
      ]
    },
    {
      "cell_type": "code",
      "source": [
        "inputs = layers.Input(shape = (train_windows.shape[1],))\n",
        "x = layers.Dense(128, activation= 'relu')(inputs)\n",
        "outputs = layers.Dense(HORIZON, activation = 'linear')(x)\n",
        "\n",
        "model_1 = tf.keras.Model(inputs, outputs, name = 'model_1_dense')"
      ],
      "metadata": {
        "id": "BJP6lfHr8t0S"
      },
      "execution_count": 30,
      "outputs": []
    },
    {
      "cell_type": "code",
      "source": [
        "# Compile model\n",
        "model_1.compile(loss=\"mae\",\n",
        "                optimizer=tf.keras.optimizers.Adam(),\n",
        "                metrics=[\"mae\"]) # we don't necessarily need this when the loss function is already MAE}"
      ],
      "metadata": {
        "id": "JaLZgf6T-L8D"
      },
      "execution_count": 31,
      "outputs": []
    },
    {
      "cell_type": "code",
      "source": [
        "model_1.fit(\n",
        "    train_windows, \n",
        "    train_labels,\n",
        "    epochs = 100,\n",
        "    verbose = 1,\n",
        "    batch_size = 128,\n",
        "    validation_data = (test_windows, test_labels),\n",
        "    callbacks = [create_model_checkpoint(model_1.name)]\n",
        ")"
      ],
      "metadata": {
        "colab": {
          "base_uri": "https://localhost:8080/"
        },
        "id": "xlnLRAwu-UUg",
        "outputId": "b768d025-bb56-498d-d08d-1a99116222ab"
      },
      "execution_count": 32,
      "outputs": [
        {
          "output_type": "stream",
          "name": "stdout",
          "text": [
            "Epoch 1/100\n",
            " 8/18 [============>.................] - ETA: 0s - loss: 4117.7119 - mae: 4117.7119  INFO:tensorflow:Assets written to: model_experiments/model_1_dense/assets\n",
            "18/18 [==============================] - 6s 107ms/step - loss: 3155.5549 - mae: 3155.5549 - val_loss: 7330.6582 - val_mae: 7330.6582\n",
            "Epoch 2/100\n",
            "17/18 [===========================>..] - ETA: 0s - loss: 525.2749 - mae: 525.2749INFO:tensorflow:Assets written to: model_experiments/model_1_dense/assets\n",
            "18/18 [==============================] - 1s 67ms/step - loss: 519.6269 - mae: 519.6269 - val_loss: 1499.1045 - val_mae: 1499.1045\n",
            "Epoch 3/100\n",
            "13/18 [====================>.........] - ETA: 0s - loss: 241.2172 - mae: 241.2172INFO:tensorflow:Assets written to: model_experiments/model_1_dense/assets\n",
            "18/18 [==============================] - 1s 72ms/step - loss: 239.8375 - mae: 239.8375 - val_loss: 1245.1929 - val_mae: 1245.1929\n",
            "Epoch 4/100\n",
            "14/18 [======================>.......] - ETA: 0s - loss: 212.7733 - mae: 212.7733INFO:tensorflow:Assets written to: model_experiments/model_1_dense/assets\n",
            "18/18 [==============================] - 1s 44ms/step - loss: 212.0697 - mae: 212.0697 - val_loss: 1127.3594 - val_mae: 1127.3594\n",
            "Epoch 5/100\n",
            "18/18 [==============================] - ETA: 0s - loss: 198.9420 - mae: 198.9420INFO:tensorflow:Assets written to: model_experiments/model_1_dense/assets\n",
            "18/18 [==============================] - 1s 62ms/step - loss: 198.9420 - mae: 198.9420 - val_loss: 1085.6436 - val_mae: 1085.6436\n",
            "Epoch 6/100\n",
            "14/18 [======================>.......] - ETA: 0s - loss: 188.4591 - mae: 188.4591INFO:tensorflow:Assets written to: model_experiments/model_1_dense/assets\n",
            "18/18 [==============================] - 1s 75ms/step - loss: 191.2193 - mae: 191.2193 - val_loss: 1068.5688 - val_mae: 1068.5688\n",
            "Epoch 7/100\n",
            "17/18 [===========================>..] - ETA: 0s - loss: 190.9753 - mae: 190.9753INFO:tensorflow:Assets written to: model_experiments/model_1_dense/assets\n",
            "18/18 [==============================] - 1s 75ms/step - loss: 189.8263 - mae: 189.8263 - val_loss: 1048.8416 - val_mae: 1048.8416\n",
            "Epoch 8/100\n",
            "18/18 [==============================] - 0s 11ms/step - loss: 184.5376 - mae: 184.5376 - val_loss: 1141.2762 - val_mae: 1141.2762\n",
            "Epoch 9/100\n",
            "17/18 [===========================>..] - ETA: 0s - loss: 182.7678 - mae: 182.7678INFO:tensorflow:Assets written to: model_experiments/model_1_dense/assets\n",
            "18/18 [==============================] - 1s 60ms/step - loss: 182.8223 - mae: 182.8223 - val_loss: 1044.8038 - val_mae: 1044.8038\n",
            "Epoch 10/100\n",
            "14/18 [======================>.......] - ETA: 0s - loss: 172.2531 - mae: 172.2531INFO:tensorflow:Assets written to: model_experiments/model_1_dense/assets\n",
            "18/18 [==============================] - 1s 62ms/step - loss: 176.3419 - mae: 176.3419 - val_loss: 981.6632 - val_mae: 981.6632\n",
            "Epoch 11/100\n",
            "18/18 [==============================] - 0s 15ms/step - loss: 171.0346 - mae: 171.0346 - val_loss: 1105.0775 - val_mae: 1105.0775\n",
            "Epoch 12/100\n",
            " 9/18 [==============>...............] - ETA: 0s - loss: 188.1489 - mae: 188.1489INFO:tensorflow:Assets written to: model_experiments/model_1_dense/assets\n",
            "18/18 [==============================] - 1s 60ms/step - loss: 169.7549 - mae: 169.7549 - val_loss: 916.2294 - val_mae: 916.2294\n",
            "Epoch 13/100\n",
            "18/18 [==============================] - 0s 6ms/step - loss: 165.1095 - mae: 165.1095 - val_loss: 1025.5712 - val_mae: 1025.5712\n",
            "Epoch 14/100\n",
            " 9/18 [==============>...............] - ETA: 0s - loss: 179.4033 - mae: 179.4033INFO:tensorflow:Assets written to: model_experiments/model_1_dense/assets\n",
            "18/18 [==============================] - 1s 51ms/step - loss: 164.4300 - mae: 164.4300 - val_loss: 876.3411 - val_mae: 876.3411\n",
            "Epoch 15/100\n",
            "12/18 [===================>..........] - ETA: 0s - loss: 143.3129 - mae: 143.3129INFO:tensorflow:Assets written to: model_experiments/model_1_dense/assets\n",
            "18/18 [==============================] - 1s 48ms/step - loss: 156.8473 - mae: 156.8473 - val_loss: 862.9410 - val_mae: 862.9410\n",
            "Epoch 16/100\n",
            "14/18 [======================>.......] - ETA: 0s - loss: 152.8645 - mae: 152.8645INFO:tensorflow:Assets written to: model_experiments/model_1_dense/assets\n",
            "18/18 [==============================] - 1s 49ms/step - loss: 152.2455 - mae: 152.2455 - val_loss: 842.9978 - val_mae: 842.9978\n",
            "Epoch 17/100\n",
            "11/18 [=================>............] - ETA: 0s - loss: 151.7084 - mae: 151.7084INFO:tensorflow:Assets written to: model_experiments/model_1_dense/assets\n",
            "18/18 [==============================] - 1s 63ms/step - loss: 149.5268 - mae: 149.5268 - val_loss: 822.1254 - val_mae: 822.1254\n",
            "Epoch 18/100\n",
            "18/18 [==============================] - 0s 7ms/step - loss: 149.6402 - mae: 149.6402 - val_loss: 881.0313 - val_mae: 881.0314\n",
            "Epoch 19/100\n",
            "15/18 [========================>.....] - ETA: 0s - loss: 154.5038 - mae: 154.5038INFO:tensorflow:Assets written to: model_experiments/model_1_dense/assets\n",
            "18/18 [==============================] - 1s 51ms/step - loss: 152.2716 - mae: 152.2716 - val_loss: 816.5199 - val_mae: 816.5199\n",
            "Epoch 20/100\n",
            "10/18 [===============>..............] - ETA: 0s - loss: 142.1407 - mae: 142.1407INFO:tensorflow:Assets written to: model_experiments/model_1_dense/assets\n",
            "18/18 [==============================] - 1s 55ms/step - loss: 143.6666 - mae: 143.6666 - val_loss: 781.1057 - val_mae: 781.1057\n",
            "Epoch 21/100\n",
            "18/18 [==============================] - 0s 7ms/step - loss: 145.8920 - mae: 145.8920 - val_loss: 783.7149 - val_mae: 783.7149\n",
            "Epoch 22/100\n",
            "15/18 [========================>.....] - ETA: 0s - loss: 143.5818 - mae: 143.5818INFO:tensorflow:Assets written to: model_experiments/model_1_dense/assets\n",
            "18/18 [==============================] - 1s 46ms/step - loss: 141.0027 - mae: 141.0027 - val_loss: 757.3578 - val_mae: 757.3578\n",
            "Epoch 23/100\n",
            "18/18 [==============================] - 0s 10ms/step - loss: 143.3891 - mae: 143.3891 - val_loss: 810.8042 - val_mae: 810.8042\n",
            "Epoch 24/100\n",
            "15/18 [========================>.....] - ETA: 0s - loss: 139.8862 - mae: 139.8862INFO:tensorflow:Assets written to: model_experiments/model_1_dense/assets\n",
            "18/18 [==============================] - 1s 55ms/step - loss: 138.8754 - mae: 138.8754 - val_loss: 739.2996 - val_mae: 739.2996\n",
            "Epoch 25/100\n",
            "13/18 [====================>.........] - ETA: 0s - loss: 139.1188 - mae: 139.1188INFO:tensorflow:Assets written to: model_experiments/model_1_dense/assets\n",
            "18/18 [==============================] - 0s 29ms/step - loss: 134.1126 - mae: 134.1126 - val_loss: 730.6924 - val_mae: 730.6924\n",
            "Epoch 26/100\n",
            "18/18 [==============================] - 0s 4ms/step - loss: 133.0756 - mae: 133.0756 - val_loss: 734.4958 - val_mae: 734.4958\n",
            "Epoch 27/100\n",
            "18/18 [==============================] - 0s 4ms/step - loss: 131.7759 - mae: 131.7759 - val_loss: 745.1703 - val_mae: 745.1703\n",
            "Epoch 28/100\n",
            "18/18 [==============================] - 0s 4ms/step - loss: 130.6980 - mae: 130.6980 - val_loss: 738.7300 - val_mae: 738.7300\n",
            "Epoch 29/100\n",
            " 1/18 [>.............................] - ETA: 0s - loss: 122.4273 - mae: 122.4273INFO:tensorflow:Assets written to: model_experiments/model_1_dense/assets\n",
            "18/18 [==============================] - 1s 37ms/step - loss: 129.8271 - mae: 129.8271 - val_loss: 713.0359 - val_mae: 713.0359\n",
            "Epoch 30/100\n",
            " 1/18 [>.............................] - ETA: 0s - loss: 79.3703 - mae: 79.3703INFO:tensorflow:Assets written to: model_experiments/model_1_dense/assets\n",
            "18/18 [==============================] - 0s 26ms/step - loss: 131.3433 - mae: 131.3433 - val_loss: 697.1368 - val_mae: 697.1368\n",
            "Epoch 31/100\n",
            "18/18 [==============================] - 0s 4ms/step - loss: 130.8862 - mae: 130.8862 - val_loss: 713.2098 - val_mae: 713.2098\n",
            "Epoch 32/100\n",
            " 1/18 [>.............................] - ETA: 0s - loss: 126.9128 - mae: 126.9128INFO:tensorflow:Assets written to: model_experiments/model_1_dense/assets\n",
            "18/18 [==============================] - 0s 25ms/step - loss: 128.4333 - mae: 128.4333 - val_loss: 676.5343 - val_mae: 676.5343\n",
            "Epoch 33/100\n",
            " 1/18 [>.............................] - ETA: 0s - loss: 186.2008 - mae: 186.2008INFO:tensorflow:Assets written to: model_experiments/model_1_dense/assets\n",
            "18/18 [==============================] - 0s 25ms/step - loss: 125.4932 - mae: 125.4932 - val_loss: 674.3839 - val_mae: 674.3839\n",
            "Epoch 34/100\n",
            "18/18 [==============================] - 0s 4ms/step - loss: 126.9703 - mae: 126.9703 - val_loss: 696.4542 - val_mae: 696.4542\n",
            "Epoch 35/100\n",
            " 1/18 [>.............................] - ETA: 0s - loss: 114.3257 - mae: 114.3257INFO:tensorflow:Assets written to: model_experiments/model_1_dense/assets\n",
            "18/18 [==============================] - 0s 26ms/step - loss: 128.4028 - mae: 128.4028 - val_loss: 657.7364 - val_mae: 657.7364\n",
            "Epoch 36/100\n",
            "18/18 [==============================] - 0s 4ms/step - loss: 125.1163 - mae: 125.1163 - val_loss: 665.1794 - val_mae: 665.1794\n",
            "Epoch 37/100\n",
            " 1/18 [>.............................] - ETA: 0s - loss: 143.0796 - mae: 143.0796INFO:tensorflow:Assets written to: model_experiments/model_1_dense/assets\n",
            "18/18 [==============================] - 0s 25ms/step - loss: 124.7658 - mae: 124.7658 - val_loss: 646.9413 - val_mae: 646.9413\n",
            "Epoch 38/100\n",
            "18/18 [==============================] - 0s 4ms/step - loss: 126.6537 - mae: 126.6537 - val_loss: 839.6880 - val_mae: 839.6880\n",
            "Epoch 39/100\n",
            " 1/18 [>.............................] - ETA: 0s - loss: 107.2707 - mae: 107.2707INFO:tensorflow:Assets written to: model_experiments/model_1_dense/assets\n",
            "18/18 [==============================] - 0s 25ms/step - loss: 129.6541 - mae: 129.6541 - val_loss: 645.6692 - val_mae: 645.6692\n",
            "Epoch 40/100\n",
            "18/18 [==============================] - 0s 4ms/step - loss: 121.3856 - mae: 121.3856 - val_loss: 649.1216 - val_mae: 649.1216\n",
            "Epoch 41/100\n",
            " 1/18 [>.............................] - ETA: 0s - loss: 157.9282 - mae: 157.9282INFO:tensorflow:Assets written to: model_experiments/model_1_dense/assets\n",
            "18/18 [==============================] - 0s 26ms/step - loss: 120.2059 - mae: 120.2059 - val_loss: 635.1844 - val_mae: 635.1844\n",
            "Epoch 42/100\n",
            " 1/18 [>.............................] - ETA: 0s - loss: 100.2582 - mae: 100.2582INFO:tensorflow:Assets written to: model_experiments/model_1_dense/assets\n",
            "18/18 [==============================] - 0s 25ms/step - loss: 119.4824 - mae: 119.4824 - val_loss: 628.1738 - val_mae: 628.1738\n",
            "Epoch 43/100\n",
            "18/18 [==============================] - 0s 4ms/step - loss: 118.7362 - mae: 118.7362 - val_loss: 637.4500 - val_mae: 637.4500\n",
            "Epoch 44/100\n",
            "18/18 [==============================] - 0s 4ms/step - loss: 120.5734 - mae: 120.5734 - val_loss: 640.3107 - val_mae: 640.3107\n",
            "Epoch 45/100\n",
            " 1/18 [>.............................] - ETA: 0s - loss: 109.8120 - mae: 109.8120INFO:tensorflow:Assets written to: model_experiments/model_1_dense/assets\n",
            "18/18 [==============================] - 0s 26ms/step - loss: 118.8475 - mae: 118.8475 - val_loss: 620.9652 - val_mae: 620.9652\n",
            "Epoch 46/100\n",
            "18/18 [==============================] - 0s 4ms/step - loss: 115.8417 - mae: 115.8417 - val_loss: 635.6140 - val_mae: 635.6140\n",
            "Epoch 47/100\n",
            "18/18 [==============================] - 0s 5ms/step - loss: 117.4976 - mae: 117.4976 - val_loss: 696.8699 - val_mae: 696.8699\n",
            "Epoch 48/100\n",
            "18/18 [==============================] - 0s 5ms/step - loss: 120.0944 - mae: 120.0944 - val_loss: 635.4116 - val_mae: 635.4116\n",
            "Epoch 49/100\n",
            "18/18 [==============================] - 0s 4ms/step - loss: 123.2215 - mae: 123.2215 - val_loss: 622.8312 - val_mae: 622.8312\n",
            "Epoch 50/100\n",
            " 1/18 [>.............................] - ETA: 0s - loss: 92.6193 - mae: 92.6193INFO:tensorflow:Assets written to: model_experiments/model_1_dense/assets\n",
            "18/18 [==============================] - 0s 26ms/step - loss: 115.5705 - mae: 115.5705 - val_loss: 609.7191 - val_mae: 609.7191\n",
            "Epoch 51/100\n",
            "17/18 [===========================>..] - ETA: 0s - loss: 113.1822 - mae: 113.1822INFO:tensorflow:Assets written to: model_experiments/model_1_dense/assets\n",
            "18/18 [==============================] - 0s 27ms/step - loss: 114.5913 - mae: 114.5913 - val_loss: 606.9034 - val_mae: 606.9034\n",
            "Epoch 52/100\n",
            "18/18 [==============================] - 0s 4ms/step - loss: 114.4343 - mae: 114.4343 - val_loss: 610.4431 - val_mae: 610.4431\n",
            "Epoch 53/100\n",
            "18/18 [==============================] - 0s 5ms/step - loss: 117.9782 - mae: 117.9782 - val_loss: 645.1688 - val_mae: 645.1688\n",
            "Epoch 54/100\n",
            "18/18 [==============================] - 0s 4ms/step - loss: 123.1128 - mae: 123.1128 - val_loss: 638.1948 - val_mae: 638.1948\n",
            "Epoch 55/100\n",
            " 1/18 [>.............................] - ETA: 0s - loss: 130.9278 - mae: 130.9278INFO:tensorflow:Assets written to: model_experiments/model_1_dense/assets\n",
            "18/18 [==============================] - 0s 26ms/step - loss: 113.2106 - mae: 113.2106 - val_loss: 600.3714 - val_mae: 600.3714\n",
            "Epoch 56/100\n",
            " 1/18 [>.............................] - ETA: 0s - loss: 155.2173 - mae: 155.2173INFO:tensorflow:Assets written to: model_experiments/model_1_dense/assets\n",
            "18/18 [==============================] - 0s 25ms/step - loss: 114.2306 - mae: 114.2306 - val_loss: 598.9970 - val_mae: 598.9970\n",
            "Epoch 57/100\n",
            "18/18 [==============================] - 0s 4ms/step - loss: 114.4792 - mae: 114.4792 - val_loss: 609.5090 - val_mae: 609.5090\n",
            "Epoch 58/100\n",
            "18/18 [==============================] - 0s 4ms/step - loss: 115.4389 - mae: 115.4389 - val_loss: 602.3278 - val_mae: 602.3278\n",
            "Epoch 59/100\n",
            "18/18 [==============================] - 0s 4ms/step - loss: 115.6299 - mae: 115.6299 - val_loss: 616.3485 - val_mae: 616.3485\n",
            "Epoch 60/100\n",
            " 1/18 [>.............................] - ETA: 0s - loss: 104.7492 - mae: 104.7492INFO:tensorflow:Assets written to: model_experiments/model_1_dense/assets\n",
            "18/18 [==============================] - 1s 38ms/step - loss: 112.4752 - mae: 112.4752 - val_loss: 592.7110 - val_mae: 592.7110\n",
            "Epoch 61/100\n",
            "18/18 [==============================] - 0s 5ms/step - loss: 114.7369 - mae: 114.7369 - val_loss: 645.6151 - val_mae: 645.6151\n",
            "Epoch 62/100\n",
            "18/18 [==============================] - 0s 5ms/step - loss: 121.3333 - mae: 121.3333 - val_loss: 600.5757 - val_mae: 600.5757\n",
            "Epoch 63/100\n",
            "18/18 [==============================] - 0s 4ms/step - loss: 118.7437 - mae: 118.7437 - val_loss: 598.9713 - val_mae: 598.9713\n",
            "Epoch 64/100\n",
            " 1/18 [>.............................] - ETA: 0s - loss: 94.4818 - mae: 94.4818INFO:tensorflow:Assets written to: model_experiments/model_1_dense/assets\n",
            "18/18 [==============================] - 0s 27ms/step - loss: 113.2533 - mae: 113.2533 - val_loss: 589.8807 - val_mae: 589.8807\n",
            "Epoch 65/100\n",
            "18/18 [==============================] - 0s 5ms/step - loss: 112.4816 - mae: 112.4816 - val_loss: 686.9943 - val_mae: 686.9943\n",
            "Epoch 66/100\n",
            "18/18 [==============================] - 0s 4ms/step - loss: 118.2856 - mae: 118.2856 - val_loss: 596.2720 - val_mae: 596.2720\n",
            "Epoch 67/100\n",
            " 1/18 [>.............................] - ETA: 0s - loss: 117.1184 - mae: 117.1184INFO:tensorflow:Assets written to: model_experiments/model_1_dense/assets\n",
            "18/18 [==============================] - 0s 25ms/step - loss: 110.5948 - mae: 110.5948 - val_loss: 584.9619 - val_mae: 584.9619\n",
            "Epoch 68/100\n",
            "18/18 [==============================] - 0s 5ms/step - loss: 114.5888 - mae: 114.5888 - val_loss: 672.2178 - val_mae: 672.2178\n",
            "Epoch 69/100\n",
            "18/18 [==============================] - 0s 4ms/step - loss: 115.2668 - mae: 115.2668 - val_loss: 592.6621 - val_mae: 592.6621\n",
            "Epoch 70/100\n",
            "18/18 [==============================] - 0s 4ms/step - loss: 119.3357 - mae: 119.3357 - val_loss: 630.4999 - val_mae: 630.4999\n",
            "Epoch 71/100\n",
            "18/18 [==============================] - 0s 4ms/step - loss: 110.8142 - mae: 110.8142 - val_loss: 688.6815 - val_mae: 688.6815\n",
            "Epoch 72/100\n",
            " 1/18 [>.............................] - ETA: 0s - loss: 110.8827 - mae: 110.8827INFO:tensorflow:Assets written to: model_experiments/model_1_dense/assets\n",
            "18/18 [==============================] - 0s 27ms/step - loss: 115.9146 - mae: 115.9146 - val_loss: 584.4109 - val_mae: 584.4109\n",
            "Epoch 73/100\n",
            " 1/18 [>.............................] - ETA: 0s - loss: 136.6983 - mae: 136.6983INFO:tensorflow:Assets written to: model_experiments/model_1_dense/assets\n",
            "18/18 [==============================] - 0s 24ms/step - loss: 112.8706 - mae: 112.8706 - val_loss: 579.5687 - val_mae: 579.5687\n",
            "Epoch 74/100\n",
            "18/18 [==============================] - 0s 4ms/step - loss: 109.3062 - mae: 109.3062 - val_loss: 582.1916 - val_mae: 582.1916\n",
            "Epoch 75/100\n",
            "18/18 [==============================] - 0s 5ms/step - loss: 112.0981 - mae: 112.0981 - val_loss: 619.9956 - val_mae: 619.9956\n",
            "Epoch 76/100\n",
            "18/18 [==============================] - 0s 5ms/step - loss: 118.6240 - mae: 118.6240 - val_loss: 637.8681 - val_mae: 637.8681\n",
            "Epoch 77/100\n",
            "18/18 [==============================] - 0s 4ms/step - loss: 112.3821 - mae: 112.3821 - val_loss: 593.2527 - val_mae: 593.2527\n",
            "Epoch 78/100\n",
            "18/18 [==============================] - 0s 4ms/step - loss: 109.3538 - mae: 109.3538 - val_loss: 607.8834 - val_mae: 607.8834\n",
            "Epoch 79/100\n",
            "18/18 [==============================] - 0s 4ms/step - loss: 111.7566 - mae: 111.7566 - val_loss: 588.9434 - val_mae: 588.9434\n",
            "Epoch 80/100\n",
            "18/18 [==============================] - 0s 4ms/step - loss: 109.8177 - mae: 109.8177 - val_loss: 585.3521 - val_mae: 585.3521\n",
            "Epoch 81/100\n",
            "18/18 [==============================] - 0s 4ms/step - loss: 112.2044 - mae: 112.2044 - val_loss: 663.5740 - val_mae: 663.5740\n",
            "Epoch 82/100\n",
            "18/18 [==============================] - 0s 4ms/step - loss: 113.7965 - mae: 113.7965 - val_loss: 597.0593 - val_mae: 597.0593\n",
            "Epoch 83/100\n",
            " 1/18 [>.............................] - ETA: 0s - loss: 90.8318 - mae: 90.8318INFO:tensorflow:Assets written to: model_experiments/model_1_dense/assets\n",
            "18/18 [==============================] - 0s 27ms/step - loss: 109.5595 - mae: 109.5595 - val_loss: 573.8362 - val_mae: 573.8362\n",
            "Epoch 84/100\n",
            "18/18 [==============================] - 0s 5ms/step - loss: 108.8040 - mae: 108.8040 - val_loss: 625.6463 - val_mae: 625.6463\n",
            "Epoch 85/100\n",
            "18/18 [==============================] - 0s 4ms/step - loss: 111.6800 - mae: 111.6800 - val_loss: 578.8885 - val_mae: 578.8885\n",
            "Epoch 86/100\n",
            "18/18 [==============================] - 0s 4ms/step - loss: 109.5210 - mae: 109.5210 - val_loss: 574.7051 - val_mae: 574.7051\n",
            "Epoch 87/100\n",
            "18/18 [==============================] - 0s 4ms/step - loss: 110.6487 - mae: 110.6487 - val_loss: 589.2728 - val_mae: 589.2728\n",
            "Epoch 88/100\n",
            "18/18 [==============================] - 0s 4ms/step - loss: 111.4824 - mae: 111.4824 - val_loss: 581.4153 - val_mae: 581.4153\n",
            "Epoch 89/100\n",
            "18/18 [==============================] - 0s 4ms/step - loss: 110.7453 - mae: 110.7453 - val_loss: 577.5492 - val_mae: 577.5492\n",
            "Epoch 90/100\n",
            " 1/18 [>.............................] - ETA: 0s - loss: 120.4911 - mae: 120.4911INFO:tensorflow:Assets written to: model_experiments/model_1_dense/assets\n",
            "18/18 [==============================] - 0s 25ms/step - loss: 108.5440 - mae: 108.5440 - val_loss: 569.5088 - val_mae: 569.5088\n",
            "Epoch 91/100\n",
            "18/18 [==============================] - 0s 5ms/step - loss: 109.4108 - mae: 109.4108 - val_loss: 580.7847 - val_mae: 580.7847\n",
            "Epoch 92/100\n",
            "18/18 [==============================] - 0s 4ms/step - loss: 111.1111 - mae: 111.1111 - val_loss: 570.2712 - val_mae: 570.2712\n",
            "Epoch 93/100\n",
            " 1/18 [>.............................] - ETA: 0s - loss: 84.5518 - mae: 84.5518INFO:tensorflow:Assets written to: model_experiments/model_1_dense/assets\n",
            "18/18 [==============================] - 0s 25ms/step - loss: 108.1425 - mae: 108.1425 - val_loss: 568.3267 - val_mae: 568.3267\n",
            "Epoch 94/100\n",
            "18/18 [==============================] - 0s 4ms/step - loss: 110.2078 - mae: 110.2078 - val_loss: 568.6325 - val_mae: 568.6325\n",
            "Epoch 95/100\n",
            "18/18 [==============================] - 0s 4ms/step - loss: 108.3846 - mae: 108.3846 - val_loss: 595.3480 - val_mae: 595.3480\n",
            "Epoch 96/100\n",
            "18/18 [==============================] - 0s 4ms/step - loss: 107.4332 - mae: 107.4332 - val_loss: 621.0452 - val_mae: 621.0452\n",
            "Epoch 97/100\n",
            "18/18 [==============================] - 0s 5ms/step - loss: 111.0154 - mae: 111.0154 - val_loss: 598.3497 - val_mae: 598.3497\n",
            "Epoch 98/100\n",
            "18/18 [==============================] - 0s 5ms/step - loss: 110.8145 - mae: 110.8145 - val_loss: 578.5662 - val_mae: 578.5662\n",
            "Epoch 99/100\n",
            "18/18 [==============================] - 0s 4ms/step - loss: 108.7930 - mae: 108.7930 - val_loss: 631.6812 - val_mae: 631.6812\n",
            "Epoch 100/100\n",
            "18/18 [==============================] - 0s 4ms/step - loss: 112.1343 - mae: 112.1343 - val_loss: 569.7031 - val_mae: 569.7031\n"
          ]
        },
        {
          "output_type": "execute_result",
          "data": {
            "text/plain": [
              "<keras.callbacks.History at 0x7ff840020310>"
            ]
          },
          "metadata": {},
          "execution_count": 32
        }
      ]
    },
    {
      "cell_type": "markdown",
      "source": [
        "What did naive model get?"
      ],
      "metadata": {
        "id": "4W7ZbCgc-y-K"
      }
    },
    {
      "cell_type": "code",
      "source": [
        "naive_results"
      ],
      "metadata": {
        "colab": {
          "base_uri": "https://localhost:8080/"
        },
        "id": "Bz7Cavag-rMu",
        "outputId": "e9d6e72d-ae55-4f3d-b3c2-e34b3b966bce"
      },
      "execution_count": 33,
      "outputs": [
        {
          "output_type": "execute_result",
          "data": {
            "text/plain": [
              "{'mae': 567.9802,\n",
              " 'mape': 2.516525,\n",
              " 'mase': 0.69212395,\n",
              " 'mse': 1147547.0,\n",
              " 'rmse': 1071.2362}"
            ]
          },
          "metadata": {},
          "execution_count": 33
        }
      ]
    },
    {
      "cell_type": "code",
      "source": [
        "# Load best performing model\n",
        "\n",
        "model_1 = tf.keras.models.load_model(\"model_experiments/model_1_dense\")"
      ],
      "metadata": {
        "id": "lhoXWrimA4de"
      },
      "execution_count": 34,
      "outputs": []
    },
    {
      "cell_type": "code",
      "source": [
        "model_1.evaluate(test_windows, test_labels)"
      ],
      "metadata": {
        "colab": {
          "base_uri": "https://localhost:8080/"
        },
        "id": "Ddgyg7Q7-yl3",
        "outputId": "7f310ee5-1533-46eb-9513-5a1ba8cdf846"
      },
      "execution_count": 35,
      "outputs": [
        {
          "output_type": "stream",
          "name": "stdout",
          "text": [
            "18/18 [==============================] - 0s 2ms/step - loss: 568.3267 - mae: 568.3267\n"
          ]
        },
        {
          "output_type": "execute_result",
          "data": {
            "text/plain": [
              "[568.32666015625, 568.32666015625]"
            ]
          },
          "metadata": {},
          "execution_count": 35
        }
      ]
    },
    {
      "cell_type": "markdown",
      "source": [
        "#### Make Forecasts with a Model"
      ],
      "metadata": {
        "id": "JIxd1YZMAsnu"
      }
    },
    {
      "cell_type": "code",
      "source": [
        "def make_preds(model, input_data):\n",
        "  \"\"\"\n",
        "  Uses model to make predictions on input_data.\n",
        "\n",
        "  Parameters\n",
        "  ----------\n",
        "  model: trained model \n",
        "  input_data: windowed input data (same kind of data model was trained on)\n",
        "\n",
        "  Returns model predictions on input_data.\n",
        "  \"\"\"\n",
        "  forecast = model.predict(input_data)\n",
        "  return tf.squeeze(forecast) # return 1D array of predictions"
      ],
      "metadata": {
        "id": "GXK2Plr__ieq"
      },
      "execution_count": 36,
      "outputs": []
    },
    {
      "cell_type": "code",
      "source": [
        "model_1_preds = make_preds(model_1, test_windows)\n",
        "len(model_1_preds), model_1_preds[:10]"
      ],
      "metadata": {
        "colab": {
          "base_uri": "https://localhost:8080/"
        },
        "id": "kc90EDGhFpcH",
        "outputId": "a9984e2a-8272-4af9-8d8c-a39a1f045320"
      },
      "execution_count": 37,
      "outputs": [
        {
          "output_type": "execute_result",
          "data": {
            "text/plain": [
              "(556, <tf.Tensor: shape=(10,), dtype=float32, numpy=\n",
              " array([8896.028, 8817.538, 9008.146, 8810.954, 8805.625, 8735.955,\n",
              "        8681.329, 8590.785, 8467.357, 8536.297], dtype=float32)>)"
            ]
          },
          "metadata": {},
          "execution_count": 37
        }
      ]
    },
    {
      "cell_type": "code",
      "source": [
        "model_1_results = evaluate_preds(y_true=tf.squeeze(test_labels), # reduce to right shape\n",
        "                                 y_preds=model_1_preds)\n",
        "model_1_results"
      ],
      "metadata": {
        "colab": {
          "base_uri": "https://localhost:8080/"
        },
        "id": "T3IhjCUfFvE9",
        "outputId": "7098d6d9-91b4-4136-e2ba-9026ced1c160"
      },
      "execution_count": 38,
      "outputs": [
        {
          "output_type": "execute_result",
          "data": {
            "text/plain": [
              "{'mae': 568.3268,\n",
              " 'mape': 2.5580752,\n",
              " 'mase': 0.6816023,\n",
              " 'mse': 1172915.2,\n",
              " 'rmse': 1083.0121}"
            ]
          },
          "metadata": {},
          "execution_count": 38
        }
      ]
    },
    {
      "cell_type": "markdown",
      "source": [
        "### Model 2: Using a Larger Window"
      ],
      "metadata": {
        "id": "u9PX4VH4EZjX"
      }
    },
    {
      "cell_type": "code",
      "source": [
        "WINDOW = 30"
      ],
      "metadata": {
        "id": "u97XWtpbA3YK"
      },
      "execution_count": 39,
      "outputs": []
    },
    {
      "cell_type": "code",
      "source": [
        "full_windows, full_labels = make_windows(prices, window_size=WINDOW, horizon_size=HORIZON)"
      ],
      "metadata": {
        "id": "WSdYyZX4EY9L"
      },
      "execution_count": 40,
      "outputs": []
    },
    {
      "cell_type": "code",
      "source": [
        "full_windows.shape"
      ],
      "metadata": {
        "colab": {
          "base_uri": "https://localhost:8080/"
        },
        "id": "FQeaBXjcEh2D",
        "outputId": "4ebadcb9-1b69-4c02-c338-793c3139bfed"
      },
      "execution_count": 41,
      "outputs": [
        {
          "output_type": "execute_result",
          "data": {
            "text/plain": [
              "(2757, 30)"
            ]
          },
          "metadata": {},
          "execution_count": 41
        }
      ]
    },
    {
      "cell_type": "code",
      "source": [
        "inputs = layers.Input(shape = (train_windows.shape[1],))\n",
        "x = layers.Dense(128, activation= 'relu')(inputs)\n",
        "outputs = layers.Dense(HORIZON, activation = 'linear')(x)\n",
        "\n",
        "model_2 = tf.keras.Model(inputs, outputs, name = 'model_2_dense')"
      ],
      "metadata": {
        "id": "JkAmWB8mEkLn"
      },
      "execution_count": 42,
      "outputs": []
    },
    {
      "cell_type": "code",
      "source": [
        "model_2.compile(loss=\"mae\",\n",
        "                optimizer=tf.keras.optimizers.Adam(),\n",
        "                metrics=[\"mae\"]) "
      ],
      "metadata": {
        "id": "hffT-6GKFIEE"
      },
      "execution_count": 43,
      "outputs": []
    },
    {
      "cell_type": "code",
      "source": [
        "model_2.fit(\n",
        "    train_windows, \n",
        "    train_labels,\n",
        "    epochs = 100,\n",
        "    verbose = 1,\n",
        "    batch_size = 128,\n",
        "    validation_data = (test_windows, test_labels),\n",
        "    callbacks = [create_model_checkpoint(model_2.name)]\n",
        ")"
      ],
      "metadata": {
        "colab": {
          "base_uri": "https://localhost:8080/"
        },
        "id": "QMBzm-sPFOIY",
        "outputId": "3d6dd86b-7841-4da6-8440-459376ed102e"
      },
      "execution_count": 44,
      "outputs": [
        {
          "output_type": "stream",
          "name": "stdout",
          "text": [
            "Epoch 1/100\n",
            "17/18 [===========================>..] - ETA: 0s - loss: 1171.9209 - mae: 1171.9209INFO:tensorflow:Assets written to: model_experiments/model_2_dense/assets\n",
            "18/18 [==============================] - 1s 31ms/step - loss: 1159.5413 - mae: 1159.5413 - val_loss: 3652.2996 - val_mae: 3652.2996\n",
            "Epoch 2/100\n",
            " 1/18 [>.............................] - ETA: 0s - loss: 532.9445 - mae: 532.9445INFO:tensorflow:Assets written to: model_experiments/model_2_dense/assets\n",
            "18/18 [==============================] - 0s 26ms/step - loss: 307.0287 - mae: 307.0287 - val_loss: 993.6460 - val_mae: 993.6460\n",
            "Epoch 3/100\n",
            "17/18 [===========================>..] - ETA: 0s - loss: 194.6886 - mae: 194.6886INFO:tensorflow:Assets written to: model_experiments/model_2_dense/assets\n",
            "18/18 [==============================] - 1s 39ms/step - loss: 193.2657 - mae: 193.2657 - val_loss: 975.9026 - val_mae: 975.9026\n",
            "Epoch 4/100\n",
            " 1/18 [>.............................] - ETA: 0s - loss: 130.9997 - mae: 130.9997INFO:tensorflow:Assets written to: model_experiments/model_2_dense/assets\n",
            "18/18 [==============================] - 0s 26ms/step - loss: 169.1034 - mae: 169.1034 - val_loss: 905.6389 - val_mae: 905.6389\n",
            "Epoch 5/100\n",
            " 1/18 [>.............................] - ETA: 0s - loss: 162.4823 - mae: 162.4823INFO:tensorflow:Assets written to: model_experiments/model_2_dense/assets\n",
            "18/18 [==============================] - 0s 27ms/step - loss: 160.4337 - mae: 160.4337 - val_loss: 891.2010 - val_mae: 891.2010\n",
            "Epoch 6/100\n",
            " 1/18 [>.............................] - ETA: 0s - loss: 123.9827 - mae: 123.9827INFO:tensorflow:Assets written to: model_experiments/model_2_dense/assets\n",
            "18/18 [==============================] - 0s 25ms/step - loss: 158.7278 - mae: 158.7278 - val_loss: 887.3503 - val_mae: 887.3503\n",
            "Epoch 7/100\n",
            "18/18 [==============================] - 0s 4ms/step - loss: 154.2783 - mae: 154.2783 - val_loss: 893.8588 - val_mae: 893.8588\n",
            "Epoch 8/100\n",
            " 1/18 [>.............................] - ETA: 0s - loss: 132.7840 - mae: 132.7840INFO:tensorflow:Assets written to: model_experiments/model_2_dense/assets\n",
            "18/18 [==============================] - 0s 25ms/step - loss: 153.9889 - mae: 153.9889 - val_loss: 837.1483 - val_mae: 837.1483\n",
            "Epoch 9/100\n",
            " 1/18 [>.............................] - ETA: 0s - loss: 160.6085 - mae: 160.6085INFO:tensorflow:Assets written to: model_experiments/model_2_dense/assets\n",
            "18/18 [==============================] - 0s 27ms/step - loss: 148.0200 - mae: 148.0200 - val_loss: 806.2932 - val_mae: 806.2932\n",
            "Epoch 10/100\n",
            "18/18 [==============================] - 0s 5ms/step - loss: 144.7473 - mae: 144.7473 - val_loss: 836.8795 - val_mae: 836.8795\n",
            "Epoch 11/100\n",
            "18/18 [==============================] - 0s 5ms/step - loss: 139.9178 - mae: 139.9178 - val_loss: 808.8895 - val_mae: 808.8895\n",
            "Epoch 12/100\n",
            " 1/18 [>.............................] - ETA: 0s - loss: 160.7823 - mae: 160.7823INFO:tensorflow:Assets written to: model_experiments/model_2_dense/assets\n",
            "18/18 [==============================] - 0s 25ms/step - loss: 138.9838 - mae: 138.9838 - val_loss: 783.3436 - val_mae: 783.3436\n",
            "Epoch 13/100\n",
            " 1/18 [>.............................] - ETA: 0s - loss: 104.2943 - mae: 104.2943INFO:tensorflow:Assets written to: model_experiments/model_2_dense/assets\n",
            "18/18 [==============================] - 0s 27ms/step - loss: 136.1005 - mae: 136.1005 - val_loss: 740.8259 - val_mae: 740.8259\n",
            "Epoch 14/100\n",
            "18/18 [==============================] - 0s 5ms/step - loss: 133.7469 - mae: 133.7469 - val_loss: 747.0271 - val_mae: 747.0271\n",
            "Epoch 15/100\n",
            "18/18 [==============================] - 0s 4ms/step - loss: 131.1539 - mae: 131.1539 - val_loss: 761.2433 - val_mae: 761.2433\n",
            "Epoch 16/100\n",
            " 1/18 [>.............................] - ETA: 0s - loss: 126.2819 - mae: 126.2819INFO:tensorflow:Assets written to: model_experiments/model_2_dense/assets\n",
            "18/18 [==============================] - 0s 25ms/step - loss: 133.4589 - mae: 133.4589 - val_loss: 716.4619 - val_mae: 716.4619\n",
            "Epoch 17/100\n",
            "18/18 [==============================] - 0s 4ms/step - loss: 131.8054 - mae: 131.8054 - val_loss: 738.4134 - val_mae: 738.4134\n",
            "Epoch 18/100\n",
            " 1/18 [>.............................] - ETA: 0s - loss: 145.9910 - mae: 145.9910INFO:tensorflow:Assets written to: model_experiments/model_2_dense/assets\n",
            "18/18 [==============================] - 0s 26ms/step - loss: 133.4450 - mae: 133.4450 - val_loss: 708.1920 - val_mae: 708.1920\n",
            "Epoch 19/100\n",
            " 1/18 [>.............................] - ETA: 0s - loss: 114.7976 - mae: 114.7976INFO:tensorflow:Assets written to: model_experiments/model_2_dense/assets\n",
            "18/18 [==============================] - 0s 26ms/step - loss: 130.4978 - mae: 130.4978 - val_loss: 685.7714 - val_mae: 685.7714\n",
            "Epoch 20/100\n",
            "18/18 [==============================] - 0s 5ms/step - loss: 127.2798 - mae: 127.2798 - val_loss: 710.8718 - val_mae: 710.8718\n",
            "Epoch 21/100\n",
            " 1/18 [>.............................] - ETA: 0s - loss: 108.6852 - mae: 108.6852INFO:tensorflow:Assets written to: model_experiments/model_2_dense/assets\n",
            "18/18 [==============================] - 0s 25ms/step - loss: 124.3252 - mae: 124.3252 - val_loss: 685.7657 - val_mae: 685.7657\n",
            "Epoch 22/100\n",
            " 1/18 [>.............................] - ETA: 0s - loss: 101.3237 - mae: 101.3237INFO:tensorflow:Assets written to: model_experiments/model_2_dense/assets\n",
            "18/18 [==============================] - 0s 25ms/step - loss: 127.6727 - mae: 127.6727 - val_loss: 663.1678 - val_mae: 663.1678\n",
            "Epoch 23/100\n",
            "18/18 [==============================] - 0s 4ms/step - loss: 122.1028 - mae: 122.1028 - val_loss: 735.5072 - val_mae: 735.5072\n",
            "Epoch 24/100\n",
            " 1/18 [>.............................] - ETA: 0s - loss: 123.3358 - mae: 123.3358INFO:tensorflow:Assets written to: model_experiments/model_2_dense/assets\n",
            "18/18 [==============================] - 0s 26ms/step - loss: 123.1403 - mae: 123.1403 - val_loss: 658.4783 - val_mae: 658.4783\n",
            "Epoch 25/100\n",
            "18/18 [==============================] - 0s 5ms/step - loss: 121.9689 - mae: 121.9689 - val_loss: 772.9985 - val_mae: 772.9985\n",
            "Epoch 26/100\n",
            " 1/18 [>.............................] - ETA: 0s - loss: 122.7731 - mae: 122.7731INFO:tensorflow:Assets written to: model_experiments/model_2_dense/assets\n",
            "18/18 [==============================] - 0s 26ms/step - loss: 125.0482 - mae: 125.0482 - val_loss: 654.4968 - val_mae: 654.4968\n",
            "Epoch 27/100\n",
            "18/18 [==============================] - 0s 4ms/step - loss: 122.1740 - mae: 122.1740 - val_loss: 710.7281 - val_mae: 710.7281\n",
            "Epoch 28/100\n",
            "18/18 [==============================] - 0s 5ms/step - loss: 129.1599 - mae: 129.1599 - val_loss: 702.6580 - val_mae: 702.6580\n",
            "Epoch 29/100\n",
            "18/18 [==============================] - 0s 5ms/step - loss: 126.0574 - mae: 126.0574 - val_loss: 735.3533 - val_mae: 735.3533\n",
            "Epoch 30/100\n",
            " 1/18 [>.............................] - ETA: 0s - loss: 107.9728 - mae: 107.9728INFO:tensorflow:Assets written to: model_experiments/model_2_dense/assets\n",
            "18/18 [==============================] - 1s 38ms/step - loss: 122.2670 - mae: 122.2670 - val_loss: 624.2817 - val_mae: 624.2817\n",
            "Epoch 31/100\n",
            "18/18 [==============================] - 0s 4ms/step - loss: 118.0352 - mae: 118.0352 - val_loss: 715.4452 - val_mae: 715.4452\n",
            "Epoch 32/100\n",
            "18/18 [==============================] - 0s 5ms/step - loss: 121.6375 - mae: 121.6375 - val_loss: 628.1768 - val_mae: 628.1768\n",
            "Epoch 33/100\n",
            " 1/18 [>.............................] - ETA: 0s - loss: 119.0660 - mae: 119.0660INFO:tensorflow:Assets written to: model_experiments/model_2_dense/assets\n",
            "18/18 [==============================] - 0s 25ms/step - loss: 115.3626 - mae: 115.3626 - val_loss: 620.2835 - val_mae: 620.2835\n",
            "Epoch 34/100\n",
            " 1/18 [>.............................] - ETA: 0s - loss: 100.0876 - mae: 100.0876INFO:tensorflow:Assets written to: model_experiments/model_2_dense/assets\n",
            "18/18 [==============================] - 0s 27ms/step - loss: 119.8023 - mae: 119.8023 - val_loss: 611.7695 - val_mae: 611.7695\n",
            "Epoch 35/100\n",
            " 1/18 [>.............................] - ETA: 0s - loss: 113.9593 - mae: 113.9593INFO:tensorflow:Assets written to: model_experiments/model_2_dense/assets\n",
            "18/18 [==============================] - 0s 26ms/step - loss: 114.9753 - mae: 114.9753 - val_loss: 608.7216 - val_mae: 608.7216\n",
            "Epoch 36/100\n",
            " 1/18 [>.............................] - ETA: 0s - loss: 105.8378 - mae: 105.8378INFO:tensorflow:Assets written to: model_experiments/model_2_dense/assets\n",
            "18/18 [==============================] - 0s 26ms/step - loss: 115.6819 - mae: 115.6819 - val_loss: 605.6375 - val_mae: 605.6375\n",
            "Epoch 37/100\n",
            "18/18 [==============================] - 0s 4ms/step - loss: 114.0694 - mae: 114.0694 - val_loss: 650.0991 - val_mae: 650.0991\n",
            "Epoch 38/100\n",
            "18/18 [==============================] - 0s 4ms/step - loss: 126.4159 - mae: 126.4159 - val_loss: 836.8538 - val_mae: 836.8538\n",
            "Epoch 39/100\n",
            "18/18 [==============================] - 0s 5ms/step - loss: 125.2624 - mae: 125.2624 - val_loss: 681.1111 - val_mae: 681.1111\n",
            "Epoch 40/100\n",
            " 1/18 [>.............................] - ETA: 0s - loss: 112.8523 - mae: 112.8523INFO:tensorflow:Assets written to: model_experiments/model_2_dense/assets\n",
            "18/18 [==============================] - 0s 26ms/step - loss: 116.6111 - mae: 116.6111 - val_loss: 597.0557 - val_mae: 597.0557\n",
            "Epoch 41/100\n",
            "18/18 [==============================] - 0s 4ms/step - loss: 111.8964 - mae: 111.8964 - val_loss: 618.4647 - val_mae: 618.4647\n",
            "Epoch 42/100\n",
            "18/18 [==============================] - 0s 4ms/step - loss: 112.1632 - mae: 112.1632 - val_loss: 629.8340 - val_mae: 629.8340\n",
            "Epoch 43/100\n",
            " 1/18 [>.............................] - ETA: 0s - loss: 106.3310 - mae: 106.3310INFO:tensorflow:Assets written to: model_experiments/model_2_dense/assets\n",
            "18/18 [==============================] - 0s 26ms/step - loss: 113.3484 - mae: 113.3484 - val_loss: 596.6124 - val_mae: 596.6124\n",
            "Epoch 44/100\n",
            " 1/18 [>.............................] - ETA: 0s - loss: 119.1215 - mae: 119.1215INFO:tensorflow:Assets written to: model_experiments/model_2_dense/assets\n",
            "18/18 [==============================] - 0s 26ms/step - loss: 112.4140 - mae: 112.4140 - val_loss: 596.1547 - val_mae: 596.1547\n",
            "Epoch 45/100\n",
            " 1/18 [>.............................] - ETA: 0s - loss: 104.8369 - mae: 104.8369INFO:tensorflow:Assets written to: model_experiments/model_2_dense/assets\n",
            "18/18 [==============================] - 0s 26ms/step - loss: 116.1697 - mae: 116.1697 - val_loss: 595.5550 - val_mae: 595.5550\n",
            "Epoch 46/100\n",
            "18/18 [==============================] - 0s 5ms/step - loss: 119.1796 - mae: 119.1796 - val_loss: 637.8185 - val_mae: 637.8185\n",
            "Epoch 47/100\n",
            " 1/18 [>.............................] - ETA: 0s - loss: 73.0421 - mae: 73.0421INFO:tensorflow:Assets written to: model_experiments/model_2_dense/assets\n",
            "18/18 [==============================] - 0s 26ms/step - loss: 119.8789 - mae: 119.8789 - val_loss: 587.0339 - val_mae: 587.0339\n",
            "Epoch 48/100\n",
            "18/18 [==============================] - 0s 4ms/step - loss: 110.8921 - mae: 110.8921 - val_loss: 659.5894 - val_mae: 659.5894\n",
            "Epoch 49/100\n",
            "18/18 [==============================] - 0s 4ms/step - loss: 110.7977 - mae: 110.7977 - val_loss: 598.4321 - val_mae: 598.4321\n",
            "Epoch 50/100\n",
            "18/18 [==============================] - 0s 4ms/step - loss: 109.3512 - mae: 109.3512 - val_loss: 611.3466 - val_mae: 611.3466\n",
            "Epoch 51/100\n",
            " 1/18 [>.............................] - ETA: 0s - loss: 96.0262 - mae: 96.0262INFO:tensorflow:Assets written to: model_experiments/model_2_dense/assets\n",
            "18/18 [==============================] - 0s 26ms/step - loss: 111.9712 - mae: 111.9712 - val_loss: 586.4229 - val_mae: 586.4229\n",
            "Epoch 52/100\n",
            " 1/18 [>.............................] - ETA: 0s - loss: 102.0321 - mae: 102.0321INFO:tensorflow:Assets written to: model_experiments/model_2_dense/assets\n",
            "18/18 [==============================] - 0s 26ms/step - loss: 114.5465 - mae: 114.5465 - val_loss: 581.8550 - val_mae: 581.8550\n",
            "Epoch 53/100\n",
            " 1/18 [>.............................] - ETA: 0s - loss: 149.0048 - mae: 149.0048INFO:tensorflow:Assets written to: model_experiments/model_2_dense/assets\n",
            "18/18 [==============================] - 0s 26ms/step - loss: 108.1927 - mae: 108.1927 - val_loss: 577.2817 - val_mae: 577.2817\n",
            "Epoch 54/100\n",
            "18/18 [==============================] - 0s 4ms/step - loss: 113.2648 - mae: 113.2648 - val_loss: 577.8822 - val_mae: 577.8822\n",
            "Epoch 55/100\n",
            "18/18 [==============================] - 0s 4ms/step - loss: 110.1260 - mae: 110.1260 - val_loss: 577.6655 - val_mae: 577.6655\n",
            "Epoch 56/100\n",
            "18/18 [==============================] - 0s 4ms/step - loss: 109.7092 - mae: 109.7092 - val_loss: 591.7170 - val_mae: 591.7170\n",
            "Epoch 57/100\n",
            "18/18 [==============================] - 0s 4ms/step - loss: 112.5555 - mae: 112.5555 - val_loss: 764.3796 - val_mae: 764.3796\n",
            "Epoch 58/100\n",
            "18/18 [==============================] - 0s 4ms/step - loss: 139.5979 - mae: 139.5979 - val_loss: 689.9164 - val_mae: 689.9164\n",
            "Epoch 59/100\n",
            "18/18 [==============================] - 0s 5ms/step - loss: 114.0684 - mae: 114.0684 - val_loss: 674.9286 - val_mae: 674.9286\n",
            "Epoch 60/100\n",
            "18/18 [==============================] - 0s 4ms/step - loss: 115.9101 - mae: 115.9101 - val_loss: 715.5225 - val_mae: 715.5225\n",
            "Epoch 61/100\n",
            "18/18 [==============================] - 0s 4ms/step - loss: 121.9565 - mae: 121.9565 - val_loss: 597.7375 - val_mae: 597.7375\n",
            "Epoch 62/100\n",
            "18/18 [==============================] - 0s 4ms/step - loss: 108.1208 - mae: 108.1208 - val_loss: 611.2416 - val_mae: 611.2416\n",
            "Epoch 63/100\n",
            " 1/18 [>.............................] - ETA: 0s - loss: 91.9205 - mae: 91.9205INFO:tensorflow:Assets written to: model_experiments/model_2_dense/assets\n",
            "18/18 [==============================] - 1s 39ms/step - loss: 107.4120 - mae: 107.4120 - val_loss: 575.5392 - val_mae: 575.5392\n",
            "Epoch 64/100\n",
            "18/18 [==============================] - 0s 4ms/step - loss: 109.9836 - mae: 109.9836 - val_loss: 580.3796 - val_mae: 580.3796\n",
            "Epoch 65/100\n",
            " 1/18 [>.............................] - ETA: 0s - loss: 100.6869 - mae: 100.6869INFO:tensorflow:Assets written to: model_experiments/model_2_dense/assets\n",
            "18/18 [==============================] - 0s 26ms/step - loss: 107.3367 - mae: 107.3367 - val_loss: 571.8822 - val_mae: 571.8822\n",
            "Epoch 66/100\n",
            "18/18 [==============================] - 0s 5ms/step - loss: 107.0532 - mae: 107.0532 - val_loss: 614.8021 - val_mae: 614.8021\n",
            "Epoch 67/100\n",
            "18/18 [==============================] - 0s 4ms/step - loss: 107.4155 - mae: 107.4155 - val_loss: 596.7880 - val_mae: 596.7880\n",
            "Epoch 68/100\n",
            "18/18 [==============================] - 0s 5ms/step - loss: 107.7308 - mae: 107.7308 - val_loss: 575.7639 - val_mae: 575.7639\n",
            "Epoch 69/100\n",
            "18/18 [==============================] - 0s 4ms/step - loss: 108.2054 - mae: 108.2054 - val_loss: 572.5956 - val_mae: 572.5956\n",
            "Epoch 70/100\n",
            "18/18 [==============================] - 0s 5ms/step - loss: 108.8834 - mae: 108.8834 - val_loss: 613.0427 - val_mae: 613.0427\n",
            "Epoch 71/100\n",
            "18/18 [==============================] - 0s 5ms/step - loss: 115.8853 - mae: 115.8853 - val_loss: 732.3720 - val_mae: 732.3720\n",
            "Epoch 72/100\n",
            "18/18 [==============================] - 0s 4ms/step - loss: 120.7049 - mae: 120.7049 - val_loss: 590.2040 - val_mae: 590.2040\n",
            "Epoch 73/100\n",
            "18/18 [==============================] - 0s 4ms/step - loss: 109.5743 - mae: 109.5743 - val_loss: 591.1470 - val_mae: 591.1470\n",
            "Epoch 74/100\n",
            "18/18 [==============================] - 0s 4ms/step - loss: 106.3932 - mae: 106.3932 - val_loss: 595.9380 - val_mae: 595.9380\n",
            "Epoch 75/100\n",
            "18/18 [==============================] - 0s 6ms/step - loss: 105.9648 - mae: 105.9648 - val_loss: 585.9889 - val_mae: 585.9889\n",
            "Epoch 76/100\n",
            "18/18 [==============================] - 0s 4ms/step - loss: 115.0297 - mae: 115.0297 - val_loss: 595.2333 - val_mae: 595.2333\n",
            "Epoch 77/100\n",
            "18/18 [==============================] - 0s 5ms/step - loss: 105.8279 - mae: 105.8279 - val_loss: 629.7507 - val_mae: 629.7507\n",
            "Epoch 78/100\n",
            "17/18 [===========================>..] - ETA: 0s - loss: 109.3929 - mae: 109.3929INFO:tensorflow:Assets written to: model_experiments/model_2_dense/assets\n",
            "18/18 [==============================] - 0s 28ms/step - loss: 109.3175 - mae: 109.3175 - val_loss: 569.3893 - val_mae: 569.3893\n",
            "Epoch 79/100\n",
            "18/18 [==============================] - 0s 4ms/step - loss: 106.9456 - mae: 106.9456 - val_loss: 619.4235 - val_mae: 619.4235\n",
            "Epoch 80/100\n",
            "18/18 [==============================] - 0s 5ms/step - loss: 110.9018 - mae: 110.9018 - val_loss: 706.1099 - val_mae: 706.1099\n",
            "Epoch 81/100\n",
            "18/18 [==============================] - 0s 4ms/step - loss: 109.3222 - mae: 109.3222 - val_loss: 586.1439 - val_mae: 586.1439\n",
            "Epoch 82/100\n",
            "18/18 [==============================] - 0s 5ms/step - loss: 107.5647 - mae: 107.5647 - val_loss: 589.2843 - val_mae: 589.2843\n",
            "Epoch 83/100\n",
            "18/18 [==============================] - 0s 4ms/step - loss: 109.9857 - mae: 109.9857 - val_loss: 691.6680 - val_mae: 691.6680\n",
            "Epoch 84/100\n",
            "18/18 [==============================] - 0s 4ms/step - loss: 116.9689 - mae: 116.9689 - val_loss: 612.4728 - val_mae: 612.4728\n",
            "Epoch 85/100\n",
            " 1/18 [>.............................] - ETA: 0s - loss: 86.1826 - mae: 86.1826INFO:tensorflow:Assets written to: model_experiments/model_2_dense/assets\n",
            "18/18 [==============================] - 0s 26ms/step - loss: 113.5947 - mae: 113.5947 - val_loss: 568.8900 - val_mae: 568.8900\n",
            "Epoch 86/100\n",
            "18/18 [==============================] - 0s 5ms/step - loss: 108.1063 - mae: 108.1063 - val_loss: 569.3633 - val_mae: 569.3633\n",
            "Epoch 87/100\n",
            " 1/18 [>.............................] - ETA: 0s - loss: 107.0448 - mae: 107.0448INFO:tensorflow:Assets written to: model_experiments/model_2_dense/assets\n",
            "18/18 [==============================] - 0s 27ms/step - loss: 105.3791 - mae: 105.3791 - val_loss: 568.1653 - val_mae: 568.1653\n",
            "Epoch 88/100\n",
            "18/18 [==============================] - 0s 4ms/step - loss: 107.1623 - mae: 107.1623 - val_loss: 569.3864 - val_mae: 569.3864\n",
            "Epoch 89/100\n",
            "18/18 [==============================] - 0s 4ms/step - loss: 116.7353 - mae: 116.7353 - val_loss: 680.2530 - val_mae: 680.2530\n",
            "Epoch 90/100\n",
            "18/18 [==============================] - 0s 4ms/step - loss: 114.1449 - mae: 114.1449 - val_loss: 691.9132 - val_mae: 691.9132\n",
            "Epoch 91/100\n",
            "18/18 [==============================] - 0s 4ms/step - loss: 110.4598 - mae: 110.4598 - val_loss: 580.2835 - val_mae: 580.2835\n",
            "Epoch 92/100\n",
            "18/18 [==============================] - 0s 4ms/step - loss: 110.7633 - mae: 110.7633 - val_loss: 574.5753 - val_mae: 574.5753\n",
            "Epoch 93/100\n",
            "18/18 [==============================] - 0s 4ms/step - loss: 109.8837 - mae: 109.8837 - val_loss: 634.6968 - val_mae: 634.6968\n",
            "Epoch 94/100\n",
            "18/18 [==============================] - 0s 4ms/step - loss: 116.1793 - mae: 116.1793 - val_loss: 598.7576 - val_mae: 598.7576\n",
            "Epoch 95/100\n",
            "18/18 [==============================] - 0s 4ms/step - loss: 112.9868 - mae: 112.9868 - val_loss: 581.8763 - val_mae: 581.8763\n",
            "Epoch 96/100\n",
            "18/18 [==============================] - 0s 5ms/step - loss: 108.2085 - mae: 108.2085 - val_loss: 657.7102 - val_mae: 657.7102\n",
            "Epoch 97/100\n",
            "18/18 [==============================] - 0s 4ms/step - loss: 106.5096 - mae: 106.5096 - val_loss: 575.8607 - val_mae: 575.8607\n",
            "Epoch 98/100\n",
            "18/18 [==============================] - 0s 4ms/step - loss: 112.9277 - mae: 112.9277 - val_loss: 568.2928 - val_mae: 568.2928\n",
            "Epoch 99/100\n",
            "18/18 [==============================] - 0s 4ms/step - loss: 105.4554 - mae: 105.4554 - val_loss: 627.6165 - val_mae: 627.6165\n",
            "Epoch 100/100\n",
            "18/18 [==============================] - 0s 4ms/step - loss: 108.6996 - mae: 108.6996 - val_loss: 629.8961 - val_mae: 629.8961\n"
          ]
        },
        {
          "output_type": "execute_result",
          "data": {
            "text/plain": [
              "<keras.callbacks.History at 0x7ff7bf23bf10>"
            ]
          },
          "metadata": {},
          "execution_count": 44
        }
      ]
    },
    {
      "cell_type": "code",
      "source": [
        "model_2 = tf.keras.models.load_model(\"model_experiments/model_2_dense\")"
      ],
      "metadata": {
        "id": "rFS0ccoJFamM"
      },
      "execution_count": 45,
      "outputs": []
    },
    {
      "cell_type": "code",
      "source": [
        "model_2.evaluate(test_windows, test_labels)"
      ],
      "metadata": {
        "colab": {
          "base_uri": "https://localhost:8080/"
        },
        "id": "edSH5m0AFni_",
        "outputId": "91545b32-5171-4825-e396-ace7089b3028"
      },
      "execution_count": 46,
      "outputs": [
        {
          "output_type": "stream",
          "name": "stdout",
          "text": [
            "18/18 [==============================] - 0s 2ms/step - loss: 568.1652 - mae: 568.1652\n"
          ]
        },
        {
          "output_type": "execute_result",
          "data": {
            "text/plain": [
              "[568.1652221679688, 568.1652221679688]"
            ]
          },
          "metadata": {},
          "execution_count": 46
        }
      ]
    },
    {
      "cell_type": "code",
      "source": [
        "model_2_preds = make_preds(model_2, test_windows)"
      ],
      "metadata": {
        "id": "ci3tdSWVF7-M"
      },
      "execution_count": 47,
      "outputs": []
    },
    {
      "cell_type": "code",
      "source": [
        "model_2_results = evaluate_preds(y_true=tf.squeeze(test_labels), # remove 1 dimension of test labels\n",
        "                                 y_preds=model_2_preds)\n",
        "model_2_results"
      ],
      "metadata": {
        "colab": {
          "base_uri": "https://localhost:8080/"
        },
        "id": "bE_JF30CGBe1",
        "outputId": "9a13ac87-91fa-4b01-9f6a-0f9dab4f1a0e"
      },
      "execution_count": 48,
      "outputs": [
        {
          "output_type": "execute_result",
          "data": {
            "text/plain": [
              "{'mae': 568.1652,\n",
              " 'mape': 2.533061,\n",
              " 'mase': 0.68756735,\n",
              " 'mse': 1173656.9,\n",
              " 'rmse': 1083.3545}"
            ]
          },
          "metadata": {},
          "execution_count": 48
        }
      ]
    },
    {
      "cell_type": "code",
      "source": [
        "def plot_time_series(timesteps, values, format='.', start=0, end=None, label=None):\n",
        "  \"\"\"\n",
        "  Plots a timesteps (a series of points in time) against values (a series of values across timesteps).\n",
        "  \n",
        "  Parameters\n",
        "  ---------\n",
        "  timesteps : array of timesteps\n",
        "  values : array of values across time\n",
        "  format : style of plot, default \".\"\n",
        "  start : where to start the plot (setting a value will index from start of timesteps & values)\n",
        "  end : where to end the plot (setting a value will index from end of timesteps & values)\n",
        "  label : label to show on plot of values\n",
        "  \"\"\"\n",
        "  # Plot the series\n",
        "  plt.plot(timesteps[start:end], values[start:end], format, label=label)\n",
        "  plt.xlabel(\"Time\")\n",
        "  plt.ylabel(\"BTC Price\")\n",
        "  if label:\n",
        "    plt.legend(fontsize=14) # make label bigger\n",
        "  plt.grid(True)"
      ],
      "metadata": {
        "id": "EG2NDC3OGQtJ"
      },
      "execution_count": 49,
      "outputs": []
    },
    {
      "cell_type": "code",
      "source": [
        "offset = 300\n",
        "plt.figure(figsize=(10, 7))\n",
        "# Account for the test_window offset\n",
        "plot_time_series(timesteps=X_test[-len(test_windows):], values=test_labels[:, 0], start=offset, label=\"test_data\")\n",
        "plot_time_series(timesteps=X_test[-len(test_windows):], values=model_2_preds, start=offset, format=\"-\", label=\"model_2_preds\")"
      ],
      "metadata": {
        "colab": {
          "base_uri": "https://localhost:8080/",
          "height": 442
        },
        "id": "AV4RbtCLGE8h",
        "outputId": "da48d2b1-4173-4d67-d8b8-9f023004bfbb"
      },
      "execution_count": 50,
      "outputs": [
        {
          "output_type": "display_data",
          "data": {
            "text/plain": [
              "<Figure size 720x504 with 1 Axes>"
            ],
            "image/png": "[encoded data removed]"
          },
          "metadata": {
            "needs_background": "light"
          }
        }
      ]
    },
    {
      "cell_type": "markdown",
      "source": [
        "### Model 3: Increased Horizon Size"
      ],
      "metadata": {
        "id": "0tXEu2K1kNan"
      }
    },
    {
      "cell_type": "code",
      "source": [
        "HORIZON = 7\n",
        "WINDOW = 30\n",
        "\n",
        "full_windows, full_labels = make_windows(prices, window_size=WINDOW,  horizon_size=HORIZON)\n",
        "len(full_windows), len(full_labels)"
      ],
      "metadata": {
        "colab": {
          "base_uri": "https://localhost:8080/"
        },
        "id": "wJ7cS39JemZ0",
        "outputId": "7f32f0c7-520c-4f41-a67b-b93889c6cf6e"
      },
      "execution_count": 51,
      "outputs": [
        {
          "output_type": "execute_result",
          "data": {
            "text/plain": [
              "(2751, 2751)"
            ]
          },
          "metadata": {},
          "execution_count": 51
        }
      ]
    },
    {
      "cell_type": "code",
      "source": [
        "inputs = layers.Input(shape = (train_windows.shape[1],))\n",
        "x = layers.Dense(128, activation= 'relu')(inputs)\n",
        "outputs = layers.Dense(HORIZON, activation = 'linear')(x)\n",
        "\n",
        "model_3 = tf.keras.Model(inputs, outputs, name = 'model_3_dense')"
      ],
      "metadata": {
        "id": "Y7wgJM3ikQ0p"
      },
      "execution_count": 52,
      "outputs": []
    },
    {
      "cell_type": "code",
      "source": [
        "model_3.compile(loss=\"mae\",\n",
        "                optimizer=tf.keras.optimizers.Adam(),\n",
        "                metrics=[\"mae\"]) "
      ],
      "metadata": {
        "id": "lpfYo-lokY6p"
      },
      "execution_count": 53,
      "outputs": []
    },
    {
      "cell_type": "code",
      "source": [
        "model_3.fit(\n",
        "    train_windows, \n",
        "    train_labels,\n",
        "    epochs = 100,\n",
        "    verbose = 1,\n",
        "    batch_size = 128,\n",
        "    validation_data = (test_windows, test_labels),\n",
        "    callbacks = [create_model_checkpoint(model_3.name)]\n",
        ")"
      ],
      "metadata": {
        "colab": {
          "base_uri": "https://localhost:8080/"
        },
        "id": "3K6JtDjWkbI8",
        "outputId": "7d0a7c81-7f41-431c-dd41-de13b578194a"
      },
      "execution_count": 54,
      "outputs": [
        {
          "output_type": "stream",
          "name": "stdout",
          "text": [
            "Epoch 1/100\n",
            " 1/18 [>.............................] - ETA: 6s - loss: 2419.6553 - mae: 2419.6553INFO:tensorflow:Assets written to: model_experiments/model_3_dense/assets\n",
            "18/18 [==============================] - 1s 33ms/step - loss: 2274.2659 - mae: 2274.2659 - val_loss: 7520.4233 - val_mae: 7520.4233\n",
            "Epoch 2/100\n",
            " 1/18 [>.............................] - ETA: 0s - loss: 954.8053 - mae: 954.8053INFO:tensorflow:Assets written to: model_experiments/model_3_dense/assets\n",
            "18/18 [==============================] - 0s 27ms/step - loss: 627.1879 - mae: 627.1879 - val_loss: 1565.9396 - val_mae: 1565.9396\n",
            "Epoch 3/100\n",
            " 1/18 [>.............................] - ETA: 0s - loss: 275.0949 - mae: 275.0949INFO:tensorflow:Assets written to: model_experiments/model_3_dense/assets\n",
            "18/18 [==============================] - 0s 27ms/step - loss: 257.7080 - mae: 257.7080 - val_loss: 1194.7596 - val_mae: 1194.7596\n",
            "Epoch 4/100\n",
            " 1/18 [>.............................] - ETA: 0s - loss: 170.4287 - mae: 170.4287INFO:tensorflow:Assets written to: model_experiments/model_3_dense/assets\n",
            "18/18 [==============================] - 0s 26ms/step - loss: 206.1125 - mae: 206.1125 - val_loss: 1169.4364 - val_mae: 1169.4364\n",
            "Epoch 5/100\n",
            " 1/18 [>.............................] - ETA: 0s - loss: 201.6035 - mae: 201.6035INFO:tensorflow:Assets written to: model_experiments/model_3_dense/assets\n",
            "18/18 [==============================] - 0s 25ms/step - loss: 195.5492 - mae: 195.5492 - val_loss: 1106.5520 - val_mae: 1106.5520\n",
            "Epoch 6/100\n",
            "18/18 [==============================] - 0s 4ms/step - loss: 189.9339 - mae: 189.9339 - val_loss: 1111.3431 - val_mae: 1111.3431\n",
            "Epoch 7/100\n",
            " 1/18 [>.............................] - ETA: 0s - loss: 183.6362 - mae: 183.6362INFO:tensorflow:Assets written to: model_experiments/model_3_dense/assets\n",
            "18/18 [==============================] - 0s 26ms/step - loss: 183.7824 - mae: 183.7824 - val_loss: 1013.1608 - val_mae: 1013.1608\n",
            "Epoch 8/100\n",
            " 1/18 [>.............................] - ETA: 0s - loss: 182.9370 - mae: 182.9370INFO:tensorflow:Assets written to: model_experiments/model_3_dense/assets\n",
            "18/18 [==============================] - 0s 27ms/step - loss: 178.8553 - mae: 178.8553 - val_loss: 988.8022 - val_mae: 988.8022\n",
            "Epoch 9/100\n",
            " 1/18 [>.............................] - ETA: 0s - loss: 152.5748 - mae: 152.5748INFO:tensorflow:Assets written to: model_experiments/model_3_dense/assets\n",
            "18/18 [==============================] - 1s 38ms/step - loss: 174.1837 - mae: 174.1837 - val_loss: 952.8542 - val_mae: 952.8542\n",
            "Epoch 10/100\n",
            "18/18 [==============================] - 0s 5ms/step - loss: 170.3714 - mae: 170.3714 - val_loss: 976.4982 - val_mae: 976.4982\n",
            "Epoch 11/100\n",
            " 1/18 [>.............................] - ETA: 0s - loss: 152.9923 - mae: 152.9923INFO:tensorflow:Assets written to: model_experiments/model_3_dense/assets\n",
            "18/18 [==============================] - 0s 27ms/step - loss: 166.3884 - mae: 166.3884 - val_loss: 929.0605 - val_mae: 929.0605\n",
            "Epoch 12/100\n",
            " 1/18 [>.............................] - ETA: 0s - loss: 123.2216 - mae: 123.2216INFO:tensorflow:Assets written to: model_experiments/model_3_dense/assets\n",
            "18/18 [==============================] - 0s 26ms/step - loss: 160.0313 - mae: 160.0313 - val_loss: 877.2816 - val_mae: 877.2816\n",
            "Epoch 13/100\n",
            " 1/18 [>.............................] - ETA: 0s - loss: 183.8163 - mae: 183.8163INFO:tensorflow:Assets written to: model_experiments/model_3_dense/assets\n",
            "18/18 [==============================] - 0s 26ms/step - loss: 156.1013 - mae: 156.1013 - val_loss: 858.5840 - val_mae: 858.5840\n",
            "Epoch 14/100\n",
            "18/18 [==============================] - 0s 4ms/step - loss: 151.2379 - mae: 151.2379 - val_loss: 923.0635 - val_mae: 923.0635\n",
            "Epoch 15/100\n",
            " 1/18 [>.............................] - ETA: 0s - loss: 139.3394 - mae: 139.3394INFO:tensorflow:Assets written to: model_experiments/model_3_dense/assets\n",
            "18/18 [==============================] - 0s 26ms/step - loss: 145.4086 - mae: 145.4086 - val_loss: 791.4350 - val_mae: 791.4350\n",
            "Epoch 16/100\n",
            " 1/18 [>.............................] - ETA: 0s - loss: 182.4422 - mae: 182.4422INFO:tensorflow:Assets written to: model_experiments/model_3_dense/assets\n",
            "18/18 [==============================] - 0s 26ms/step - loss: 139.2070 - mae: 139.2070 - val_loss: 763.7816 - val_mae: 763.7816\n",
            "Epoch 17/100\n",
            " 1/18 [>.............................] - ETA: 0s - loss: 110.4190 - mae: 110.4190INFO:tensorflow:Assets written to: model_experiments/model_3_dense/assets\n",
            "18/18 [==============================] - 0s 27ms/step - loss: 135.0067 - mae: 135.0067 - val_loss: 743.3736 - val_mae: 743.3736\n",
            "Epoch 18/100\n",
            " 1/18 [>.............................] - ETA: 0s - loss: 150.3184 - mae: 150.3184INFO:tensorflow:Assets written to: model_experiments/model_3_dense/assets\n",
            "18/18 [==============================] - 0s 26ms/step - loss: 134.5615 - mae: 134.5615 - val_loss: 722.3765 - val_mae: 722.3765\n",
            "Epoch 19/100\n",
            " 1/18 [>.............................] - ETA: 0s - loss: 127.1115 - mae: 127.1115INFO:tensorflow:Assets written to: model_experiments/model_3_dense/assets\n",
            "18/18 [==============================] - 0s 26ms/step - loss: 130.0006 - mae: 130.0006 - val_loss: 710.5046 - val_mae: 710.5046\n",
            "Epoch 20/100\n",
            "18/18 [==============================] - 0s 5ms/step - loss: 128.2895 - mae: 128.2895 - val_loss: 719.9450 - val_mae: 719.9450\n",
            "Epoch 21/100\n",
            " 1/18 [>.............................] - ETA: 0s - loss: 130.6445 - mae: 130.6445INFO:tensorflow:Assets written to: model_experiments/model_3_dense/assets\n",
            "18/18 [==============================] - 0s 27ms/step - loss: 126.3384 - mae: 126.3384 - val_loss: 692.7151 - val_mae: 692.7151\n",
            "Epoch 22/100\n",
            " 1/18 [>.............................] - ETA: 0s - loss: 113.8179 - mae: 113.8179INFO:tensorflow:Assets written to: model_experiments/model_3_dense/assets\n",
            "18/18 [==============================] - 0s 25ms/step - loss: 126.6976 - mae: 126.6976 - val_loss: 682.9954 - val_mae: 682.9954\n",
            "Epoch 23/100\n",
            "18/18 [==============================] - 0s 5ms/step - loss: 126.0039 - mae: 126.0039 - val_loss: 691.3835 - val_mae: 691.3835\n",
            "Epoch 24/100\n",
            " 1/18 [>.............................] - ETA: 0s - loss: 109.4417 - mae: 109.4417INFO:tensorflow:Assets written to: model_experiments/model_3_dense/assets\n",
            "18/18 [==============================] - 0s 26ms/step - loss: 124.8956 - mae: 124.8956 - val_loss: 657.6172 - val_mae: 657.6172\n",
            "Epoch 25/100\n",
            " 1/18 [>.............................] - ETA: 0s - loss: 153.4498 - mae: 153.4498INFO:tensorflow:Assets written to: model_experiments/model_3_dense/assets\n",
            "18/18 [==============================] - 0s 25ms/step - loss: 120.3735 - mae: 120.3735 - val_loss: 653.2293 - val_mae: 653.2293\n",
            "Epoch 26/100\n",
            " 1/18 [>.............................] - ETA: 0s - loss: 74.7079 - mae: 74.7079INFO:tensorflow:Assets written to: model_experiments/model_3_dense/assets\n",
            "18/18 [==============================] - 0s 25ms/step - loss: 120.3843 - mae: 120.3843 - val_loss: 651.0422 - val_mae: 651.0422\n",
            "Epoch 27/100\n",
            "18/18 [==============================] - 0s 4ms/step - loss: 123.5359 - mae: 123.5359 - val_loss: 710.4346 - val_mae: 710.4346\n",
            "Epoch 28/100\n",
            "18/18 [==============================] - 0s 4ms/step - loss: 125.2242 - mae: 125.2242 - val_loss: 658.4863 - val_mae: 658.4863\n",
            "Epoch 29/100\n",
            " 1/18 [>.............................] - ETA: 0s - loss: 137.1282 - mae: 137.1282INFO:tensorflow:Assets written to: model_experiments/model_3_dense/assets\n",
            "18/18 [==============================] - 1s 38ms/step - loss: 121.1205 - mae: 121.1205 - val_loss: 641.1050 - val_mae: 641.1050\n",
            "Epoch 30/100\n",
            "18/18 [==============================] - 0s 5ms/step - loss: 121.0981 - mae: 121.0981 - val_loss: 730.2768 - val_mae: 730.2768\n",
            "Epoch 31/100\n",
            "18/18 [==============================] - 0s 4ms/step - loss: 126.5492 - mae: 126.5492 - val_loss: 738.6180 - val_mae: 738.6180\n",
            "Epoch 32/100\n",
            "18/18 [==============================] - 0s 5ms/step - loss: 121.2719 - mae: 121.2719 - val_loss: 669.3285 - val_mae: 669.3285\n",
            "Epoch 33/100\n",
            "18/18 [==============================] - 0s 4ms/step - loss: 118.3966 - mae: 118.3966 - val_loss: 658.7170 - val_mae: 658.7170\n",
            "Epoch 34/100\n",
            "18/18 [==============================] - 0s 4ms/step - loss: 120.1031 - mae: 120.1031 - val_loss: 697.3129 - val_mae: 697.3129\n",
            "Epoch 35/100\n",
            "18/18 [==============================] - 0s 4ms/step - loss: 124.9461 - mae: 124.9461 - val_loss: 671.4266 - val_mae: 671.4266\n",
            "Epoch 36/100\n",
            "18/18 [==============================] - 0s 5ms/step - loss: 119.7248 - mae: 119.7248 - val_loss: 653.7089 - val_mae: 653.7089\n",
            "Epoch 37/100\n",
            " 1/18 [>.............................] - ETA: 0s - loss: 100.9226 - mae: 100.9226INFO:tensorflow:Assets written to: model_experiments/model_3_dense/assets\n",
            "18/18 [==============================] - 0s 26ms/step - loss: 123.7302 - mae: 123.7302 - val_loss: 638.9241 - val_mae: 638.9241\n",
            "Epoch 38/100\n",
            " 1/18 [>.............................] - ETA: 0s - loss: 142.5375 - mae: 142.5375INFO:tensorflow:Assets written to: model_experiments/model_3_dense/assets\n",
            "18/18 [==============================] - 0s 26ms/step - loss: 120.0334 - mae: 120.0334 - val_loss: 634.6702 - val_mae: 634.6702\n",
            "Epoch 39/100\n",
            "18/18 [==============================] - 0s 4ms/step - loss: 118.6789 - mae: 118.6789 - val_loss: 711.0826 - val_mae: 711.0826\n",
            "Epoch 40/100\n",
            "18/18 [==============================] - 0s 5ms/step - loss: 120.4323 - mae: 120.4323 - val_loss: 643.3015 - val_mae: 643.3015\n",
            "Epoch 41/100\n",
            " 1/18 [>.............................] - ETA: 0s - loss: 104.7636 - mae: 104.7636INFO:tensorflow:Assets written to: model_experiments/model_3_dense/assets\n",
            "18/18 [==============================] - 0s 27ms/step - loss: 118.5854 - mae: 118.5854 - val_loss: 623.3951 - val_mae: 623.3951\n",
            "Epoch 42/100\n",
            " 1/18 [>.............................] - ETA: 0s - loss: 120.9163 - mae: 120.9163INFO:tensorflow:Assets written to: model_experiments/model_3_dense/assets\n",
            "18/18 [==============================] - 0s 26ms/step - loss: 117.0738 - mae: 117.0738 - val_loss: 613.4680 - val_mae: 613.4680\n",
            "Epoch 43/100\n",
            "18/18 [==============================] - 0s 4ms/step - loss: 117.7756 - mae: 117.7756 - val_loss: 654.5096 - val_mae: 654.5096\n",
            "Epoch 44/100\n",
            "18/18 [==============================] - 0s 5ms/step - loss: 115.4972 - mae: 115.4972 - val_loss: 643.5104 - val_mae: 643.5104\n",
            "Epoch 45/100\n",
            "18/18 [==============================] - 0s 5ms/step - loss: 117.1678 - mae: 117.1678 - val_loss: 639.3433 - val_mae: 639.3433\n",
            "Epoch 46/100\n",
            "18/18 [==============================] - 0s 4ms/step - loss: 115.6637 - mae: 115.6637 - val_loss: 663.3104 - val_mae: 663.3104\n",
            "Epoch 47/100\n",
            "18/18 [==============================] - 0s 4ms/step - loss: 115.8410 - mae: 115.8410 - val_loss: 650.1754 - val_mae: 650.1754\n",
            "Epoch 48/100\n",
            "18/18 [==============================] - 0s 4ms/step - loss: 116.0733 - mae: 116.0733 - val_loss: 614.9208 - val_mae: 614.9208\n",
            "Epoch 49/100\n",
            " 1/18 [>.............................] - ETA: 0s - loss: 96.0160 - mae: 96.0160INFO:tensorflow:Assets written to: model_experiments/model_3_dense/assets\n",
            "18/18 [==============================] - 0s 26ms/step - loss: 123.1174 - mae: 123.1174 - val_loss: 607.7510 - val_mae: 607.7510\n",
            "Epoch 50/100\n",
            "18/18 [==============================] - 0s 4ms/step - loss: 116.4560 - mae: 116.4560 - val_loss: 621.3398 - val_mae: 621.3398\n",
            "Epoch 51/100\n",
            "18/18 [==============================] - 0s 4ms/step - loss: 114.2101 - mae: 114.2101 - val_loss: 630.6837 - val_mae: 630.6837\n",
            "Epoch 52/100\n",
            "18/18 [==============================] - 0s 5ms/step - loss: 113.7217 - mae: 113.7217 - val_loss: 610.3391 - val_mae: 610.3391\n",
            "Epoch 53/100\n",
            " 1/18 [>.............................] - ETA: 0s - loss: 90.0206 - mae: 90.0206INFO:tensorflow:Assets written to: model_experiments/model_3_dense/assets\n",
            "18/18 [==============================] - 0s 26ms/step - loss: 113.8273 - mae: 113.8273 - val_loss: 604.8477 - val_mae: 604.8477\n",
            "Epoch 54/100\n",
            " 1/18 [>.............................] - ETA: 0s - loss: 135.3402 - mae: 135.3402INFO:tensorflow:Assets written to: model_experiments/model_3_dense/assets\n",
            "18/18 [==============================] - 0s 26ms/step - loss: 112.6753 - mae: 112.6753 - val_loss: 600.5508 - val_mae: 600.5508\n",
            "Epoch 55/100\n",
            "18/18 [==============================] - 0s 4ms/step - loss: 113.0386 - mae: 113.0386 - val_loss: 604.6275 - val_mae: 604.6275\n",
            "Epoch 56/100\n",
            "18/18 [==============================] - 0s 4ms/step - loss: 114.8775 - mae: 114.8775 - val_loss: 622.1584 - val_mae: 622.1584\n",
            "Epoch 57/100\n",
            "18/18 [==============================] - 0s 6ms/step - loss: 113.2439 - mae: 113.2439 - val_loss: 606.0103 - val_mae: 606.0103\n",
            "Epoch 58/100\n",
            " 1/18 [>.............................] - ETA: 0s - loss: 100.0441 - mae: 100.0441INFO:tensorflow:Assets written to: model_experiments/model_3_dense/assets\n",
            "18/18 [==============================] - 0s 26ms/step - loss: 114.4827 - mae: 114.4827 - val_loss: 599.3551 - val_mae: 599.3551\n",
            "Epoch 59/100\n",
            "18/18 [==============================] - 0s 4ms/step - loss: 111.6783 - mae: 111.6783 - val_loss: 603.0142 - val_mae: 603.0142\n",
            "Epoch 60/100\n",
            " 1/18 [>.............................] - ETA: 0s - loss: 104.2927 - mae: 104.2927INFO:tensorflow:Assets written to: model_experiments/model_3_dense/assets\n",
            "18/18 [==============================] - 0s 26ms/step - loss: 115.6807 - mae: 115.6807 - val_loss: 595.2618 - val_mae: 595.2618\n",
            "Epoch 61/100\n",
            "18/18 [==============================] - 0s 4ms/step - loss: 113.4822 - mae: 113.4822 - val_loss: 595.3083 - val_mae: 595.3083\n",
            "Epoch 62/100\n",
            "18/18 [==============================] - 0s 4ms/step - loss: 113.6748 - mae: 113.6748 - val_loss: 649.1958 - val_mae: 649.1958\n",
            "Epoch 63/100\n",
            "18/18 [==============================] - 0s 5ms/step - loss: 112.4057 - mae: 112.4057 - val_loss: 599.3077 - val_mae: 599.3077\n",
            "Epoch 64/100\n",
            "18/18 [==============================] - 0s 4ms/step - loss: 111.1828 - mae: 111.1828 - val_loss: 640.5701 - val_mae: 640.5701\n",
            "Epoch 65/100\n",
            "18/18 [==============================] - 0s 4ms/step - loss: 114.1749 - mae: 114.1749 - val_loss: 600.1801 - val_mae: 600.1801\n",
            "Epoch 66/100\n",
            "18/18 [==============================] - 0s 4ms/step - loss: 111.6079 - mae: 111.6079 - val_loss: 599.7874 - val_mae: 599.7874\n",
            "Epoch 67/100\n",
            "18/18 [==============================] - 0s 4ms/step - loss: 112.2334 - mae: 112.2334 - val_loss: 600.2150 - val_mae: 600.2150\n",
            "Epoch 68/100\n",
            "18/18 [==============================] - 0s 4ms/step - loss: 111.9511 - mae: 111.9511 - val_loss: 597.2617 - val_mae: 597.2617\n",
            "Epoch 69/100\n",
            "18/18 [==============================] - 0s 5ms/step - loss: 113.7109 - mae: 113.7109 - val_loss: 673.9120 - val_mae: 673.9120\n",
            "Epoch 70/100\n",
            "18/18 [==============================] - 0s 5ms/step - loss: 115.5167 - mae: 115.5167 - val_loss: 637.9526 - val_mae: 637.9526\n",
            "Epoch 71/100\n",
            "18/18 [==============================] - 0s 4ms/step - loss: 110.7263 - mae: 110.7263 - val_loss: 597.9462 - val_mae: 597.9462\n",
            "Epoch 72/100\n",
            "18/18 [==============================] - ETA: 0s - loss: 111.6209 - mae: 111.6209INFO:tensorflow:Assets written to: model_experiments/model_3_dense/assets\n",
            "18/18 [==============================] - 0s 27ms/step - loss: 111.6209 - mae: 111.6209 - val_loss: 586.3701 - val_mae: 586.3701\n",
            "Epoch 73/100\n",
            "18/18 [==============================] - 0s 4ms/step - loss: 111.2228 - mae: 111.2228 - val_loss: 629.9910 - val_mae: 629.9910\n",
            "Epoch 74/100\n",
            "18/18 [==============================] - 0s 4ms/step - loss: 110.1914 - mae: 110.1914 - val_loss: 606.3276 - val_mae: 606.3276\n",
            "Epoch 75/100\n",
            "18/18 [==============================] - 0s 5ms/step - loss: 109.9283 - mae: 109.9283 - val_loss: 590.3181 - val_mae: 590.3181\n",
            "Epoch 76/100\n",
            "18/18 [==============================] - 0s 4ms/step - loss: 109.2667 - mae: 109.2667 - val_loss: 597.8412 - val_mae: 597.8412\n",
            "Epoch 77/100\n",
            "18/18 [==============================] - 0s 4ms/step - loss: 110.9977 - mae: 110.9977 - val_loss: 608.8327 - val_mae: 608.8327\n",
            "Epoch 78/100\n",
            "18/18 [==============================] - 0s 4ms/step - loss: 109.5842 - mae: 109.5842 - val_loss: 621.4019 - val_mae: 621.4019\n",
            "Epoch 79/100\n",
            "18/18 [==============================] - 0s 4ms/step - loss: 109.2859 - mae: 109.2859 - val_loss: 619.4592 - val_mae: 619.4592\n",
            "Epoch 80/100\n",
            " 1/18 [>.............................] - ETA: 0s - loss: 114.2740 - mae: 114.2740INFO:tensorflow:Assets written to: model_experiments/model_3_dense/assets\n",
            "18/18 [==============================] - 0s 27ms/step - loss: 114.6969 - mae: 114.6969 - val_loss: 579.7921 - val_mae: 579.7921\n",
            "Epoch 81/100\n",
            "18/18 [==============================] - 0s 5ms/step - loss: 108.5391 - mae: 108.5391 - val_loss: 669.3415 - val_mae: 669.3415\n",
            "Epoch 82/100\n",
            " 1/18 [>.............................] - ETA: 0s - loss: 123.0793 - mae: 123.0793INFO:tensorflow:Assets written to: model_experiments/model_3_dense/assets\n",
            "18/18 [==============================] - 0s 26ms/step - loss: 111.4075 - mae: 111.4075 - val_loss: 579.2271 - val_mae: 579.2271\n",
            "Epoch 83/100\n",
            "18/18 [==============================] - 0s 4ms/step - loss: 110.1169 - mae: 110.1169 - val_loss: 583.0196 - val_mae: 583.0196\n",
            "Epoch 84/100\n",
            "18/18 [==============================] - 0s 4ms/step - loss: 108.7208 - mae: 108.7208 - val_loss: 617.6581 - val_mae: 617.6581\n",
            "Epoch 85/100\n",
            "18/18 [==============================] - 0s 4ms/step - loss: 111.6980 - mae: 111.6980 - val_loss: 581.2922 - val_mae: 581.2922\n",
            "Epoch 86/100\n",
            "18/18 [==============================] - 0s 5ms/step - loss: 108.1918 - mae: 108.1918 - val_loss: 622.2042 - val_mae: 622.2042\n",
            "Epoch 87/100\n",
            "18/18 [==============================] - 0s 4ms/step - loss: 114.0203 - mae: 114.0203 - val_loss: 608.5865 - val_mae: 608.5865\n",
            "Epoch 88/100\n",
            "18/18 [==============================] - 0s 4ms/step - loss: 111.6169 - mae: 111.6169 - val_loss: 609.3502 - val_mae: 609.3502\n",
            "Epoch 89/100\n",
            " 1/18 [>.............................] - ETA: 0s - loss: 123.9966 - mae: 123.9966INFO:tensorflow:Assets written to: model_experiments/model_3_dense/assets\n",
            "18/18 [==============================] - 0s 26ms/step - loss: 109.7257 - mae: 109.7257 - val_loss: 576.8349 - val_mae: 576.8349\n",
            "Epoch 90/100\n",
            "18/18 [==============================] - 0s 5ms/step - loss: 110.8478 - mae: 110.8478 - val_loss: 635.0724 - val_mae: 635.0724\n",
            "Epoch 91/100\n",
            "18/18 [==============================] - 0s 4ms/step - loss: 110.9502 - mae: 110.9502 - val_loss: 595.3276 - val_mae: 595.3276\n",
            "Epoch 92/100\n",
            " 1/18 [>.............................] - ETA: 0s - loss: 94.8640 - mae: 94.8640INFO:tensorflow:Assets written to: model_experiments/model_3_dense/assets\n",
            "18/18 [==============================] - 0s 26ms/step - loss: 108.2630 - mae: 108.2630 - val_loss: 574.9240 - val_mae: 574.9240\n",
            "Epoch 93/100\n",
            "18/18 [==============================] - 0s 5ms/step - loss: 113.4917 - mae: 113.4917 - val_loss: 599.7731 - val_mae: 599.7731\n",
            "Epoch 94/100\n",
            "18/18 [==============================] - 0s 4ms/step - loss: 109.1516 - mae: 109.1516 - val_loss: 587.1646 - val_mae: 587.1646\n",
            "Epoch 95/100\n",
            "18/18 [==============================] - 0s 4ms/step - loss: 107.1446 - mae: 107.1446 - val_loss: 597.2133 - val_mae: 597.2133\n",
            "Epoch 96/100\n",
            "18/18 [==============================] - 0s 5ms/step - loss: 110.6795 - mae: 110.6795 - val_loss: 577.6870 - val_mae: 577.6870\n",
            "Epoch 97/100\n",
            "18/18 [==============================] - 0s 4ms/step - loss: 107.2197 - mae: 107.2197 - val_loss: 579.6420 - val_mae: 579.6420\n",
            "Epoch 98/100\n",
            "18/18 [==============================] - 0s 4ms/step - loss: 107.1156 - mae: 107.1156 - val_loss: 588.6983 - val_mae: 588.6983\n",
            "Epoch 99/100\n",
            "18/18 [==============================] - 0s 4ms/step - loss: 110.3728 - mae: 110.3728 - val_loss: 594.9008 - val_mae: 594.9008\n",
            "Epoch 100/100\n",
            "18/18 [==============================] - 0s 4ms/step - loss: 112.4470 - mae: 112.4470 - val_loss: 589.4684 - val_mae: 589.4684\n"
          ]
        },
        {
          "output_type": "execute_result",
          "data": {
            "text/plain": [
              "<keras.callbacks.History at 0x7ff7bef8efd0>"
            ]
          },
          "metadata": {},
          "execution_count": 54
        }
      ]
    },
    {
      "cell_type": "code",
      "source": [
        "# How did our model with a larger window size and horizon go?\n",
        "model_3.evaluate(test_windows, test_labels)"
      ],
      "metadata": {
        "colab": {
          "base_uri": "https://localhost:8080/"
        },
        "id": "cadOVD4Mkc4z",
        "outputId": "5848c092-08eb-4290-bf44-e9d8c791c676"
      },
      "execution_count": 55,
      "outputs": [
        {
          "output_type": "stream",
          "name": "stdout",
          "text": [
            "18/18 [==============================] - 0s 2ms/step - loss: 589.4684 - mae: 589.4684\n"
          ]
        },
        {
          "output_type": "execute_result",
          "data": {
            "text/plain": [
              "[589.4684448242188, 589.4684448242188]"
            ]
          },
          "metadata": {},
          "execution_count": 55
        }
      ]
    },
    {
      "cell_type": "code",
      "source": [
        "# Load in best version of model_3 and evaluate\n",
        "model_3 = tf.keras.models.load_model(\"model_experiments/model_3_dense/\")\n",
        "model_3.evaluate(test_windows, test_labels)"
      ],
      "metadata": {
        "colab": {
          "base_uri": "https://localhost:8080/"
        },
        "id": "xTjJHSgLk8rv",
        "outputId": "7cc85869-c352-4997-d7e7-36c28b5f94c6"
      },
      "execution_count": 56,
      "outputs": [
        {
          "output_type": "stream",
          "name": "stdout",
          "text": [
            "18/18 [==============================] - 0s 2ms/step - loss: 574.9241 - mae: 574.9241\n"
          ]
        },
        {
          "output_type": "execute_result",
          "data": {
            "text/plain": [
              "[574.924072265625, 574.924072265625]"
            ]
          },
          "metadata": {},
          "execution_count": 56
        }
      ]
    },
    {
      "cell_type": "code",
      "source": [
        "model_3_preds = make_preds(model_3,\n",
        "                           input_data=test_windows)\n",
        "model_3_preds.shape"
      ],
      "metadata": {
        "colab": {
          "base_uri": "https://localhost:8080/"
        },
        "id": "ZQ_g-00nk_tx",
        "outputId": "866a9abe-5693-412c-f1b9-187bc9ad0931"
      },
      "execution_count": 57,
      "outputs": [
        {
          "output_type": "execute_result",
          "data": {
            "text/plain": [
              "TensorShape([556, 7])"
            ]
          },
          "metadata": {},
          "execution_count": 57
        }
      ]
    },
    {
      "cell_type": "code",
      "source": [
        "def evaluate_preds(y_true, y_preds):\n",
        "  # Make sure float32 (for metric calculations)\n",
        "  y_true = tf.cast(y_true, dtype=tf.float32)\n",
        "  y_pred = tf.cast(y_preds, dtype=tf.float32)\n",
        "\n",
        "  # Calculate various metrics\n",
        "  mae = tf.keras.metrics.mean_absolute_error(y_true, y_pred)\n",
        "  mse = tf.keras.metrics.mean_squared_error(y_true, y_pred)\n",
        "  rmse = tf.sqrt(mse)\n",
        "  mape = tf.keras.metrics.mean_absolute_percentage_error(y_true, y_pred)\n",
        "  mase = mean_absolute_scaled_error(y_true, y_pred)\n",
        "\n",
        "  # Account for different sized metrics (for longer horizons, reduce to single number)\n",
        "  if mae.ndim > 0: # if mae isn't already a scalar, reduce it to one by aggregating tensors to mean\n",
        "    mae = tf.reduce_mean(mae)\n",
        "    mse = tf.reduce_mean(mse)\n",
        "    rmse = tf.reduce_mean(rmse)\n",
        "    mape = tf.reduce_mean(mape)\n",
        "    mase = tf.reduce_mean(mase)\n",
        "\n",
        "  return {\"mae\": mae.numpy(),\n",
        "          \"mse\": mse.numpy(),\n",
        "          \"rmse\": rmse.numpy(),\n",
        "          \"mape\": mape.numpy(),\n",
        "          \"mase\": np.array(mase).item()}"
      ],
      "metadata": {
        "id": "BNvbn7TZq-s4"
      },
      "execution_count": 58,
      "outputs": []
    },
    {
      "cell_type": "code",
      "source": [
        "model_3_results = evaluate_preds(y_true=test_labels, # remove 1 dimension of test labels\n",
        "                                 y_preds=model_3_preds)\n",
        "model_3_results"
      ],
      "metadata": {
        "colab": {
          "base_uri": "https://localhost:8080/"
        },
        "id": "h1AEDKFwf79o",
        "outputId": "3d311e62-d455-41ee-dda4-db1629f7c8f7"
      },
      "execution_count": 59,
      "outputs": [
        {
          "output_type": "execute_result",
          "data": {
            "text/plain": [
              "{'mae': 574.924,\n",
              " 'mape': 2.5957053,\n",
              " 'mase': 0.685148298740387,\n",
              " 'mse': 1193501.4,\n",
              " 'rmse': 580.59}"
            ]
          },
          "metadata": {},
          "execution_count": 59
        }
      ]
    },
    {
      "cell_type": "code",
      "source": [
        "tf.squeeze(model_3_preds)"
      ],
      "metadata": {
        "colab": {
          "base_uri": "https://localhost:8080/"
        },
        "id": "ycXFWmC7cbD2",
        "outputId": "b86ace03-5077-4eef-dbd1-29c4c110c822"
      },
      "execution_count": 60,
      "outputs": [
        {
          "output_type": "execute_result",
          "data": {
            "text/plain": [
              "<tf.Tensor: shape=(556, 7), dtype=float32, numpy=\n",
              "array([[ 8870.474,  8892.036,  8854.31 , ...,  8873.277,  8888.992,\n",
              "         8897.356],\n",
              "       [ 8763.009,  8781.861,  8782.54 , ...,  8788.133,  8761.131,\n",
              "         8743.785],\n",
              "       [ 8981.473,  9027.664,  9001.376, ...,  8995.853,  8995.079,\n",
              "         8980.26 ],\n",
              "       ...,\n",
              "       [49823.797, 49915.516, 50035.758, ..., 50018.312, 50051.547,\n",
              "        49730.945],\n",
              "       [48195.05 , 48532.266, 47888.133, ..., 48112.8  , 48310.633,\n",
              "        48566.027],\n",
              "       [45994.062, 45908.117, 45852.03 , ..., 46200.21 , 45954.164,\n",
              "        45942.1  ]], dtype=float32)>"
            ]
          },
          "metadata": {},
          "execution_count": 60
        }
      ]
    },
    {
      "cell_type": "code",
      "source": [
        "offset = 300\n",
        "plt.figure(figsize=(10, 7))\n",
        "plot_time_series(timesteps=X_test[-len(test_windows):], values=test_labels[:, 0], start=offset, label=\"Test_data\")\n",
        "# Checking the shape of model_3_preds results in [n_test_samples, HORIZON] (this will screw up the plot)\n",
        "plot_time_series(timesteps=X_test[-len(test_windows):], values=model_3_preds, start=offset, label=\"model_3_preds\")"
      ],
      "metadata": {
        "colab": {
          "base_uri": "https://localhost:8080/",
          "height": 442
        },
        "id": "nghM2rpglFYB",
        "outputId": "103e365d-7e0d-40a3-99ab-a6b2da9f55b0"
      },
      "execution_count": 61,
      "outputs": [
        {
          "output_type": "display_data",
          "data": {
            "text/plain": [
              "<Figure size 720x504 with 1 Axes>"
            ],
            "image/png": "[encoded data removed]"
          },
          "metadata": {
            "needs_background": "light"
          }
        }
      ]
    },
    {
      "cell_type": "code",
      "source": [
        "pd.DataFrame({\"naive\": naive_results[\"mae\"], \n",
        "              \"horizon_1_window_7\": model_1_results[\"mae\"], \n",
        "              \"horizon_1_window_30\": model_2_results[\"mae\"], \n",
        "              \"horizon_7_window_30\": model_3_results[\"mae\"]}, index=[\"mae\"]).plot(figsize=(10, 7), kind=\"bar\");"
      ],
      "metadata": {
        "id": "RC_zL8Gbc2cf",
        "colab": {
          "base_uri": "https://localhost:8080/",
          "height": 442
        },
        "outputId": "069c30ed-5666-4e84-e030-91cf7b2a306b"
      },
      "execution_count": 62,
      "outputs": [
        {
          "output_type": "display_data",
          "data": {
            "text/plain": [
              "<Figure size 720x504 with 1 Axes>"
            ],
            "image/png": "[encoded data removed]"
          },
          "metadata": {
            "needs_background": "light"
          }
        }
      ]
    },
    {
      "cell_type": "markdown",
      "source": [
        "### Model 4: Conv1D"
      ],
      "metadata": {
        "id": "U1bwVpKyBvWI"
      }
    },
    {
      "cell_type": "code",
      "source": [
        "WINDOW = 7\n",
        "HORIZON = 1"
      ],
      "metadata": {
        "id": "Iw7dk-SeCY4A"
      },
      "execution_count": 63,
      "outputs": []
    },
    {
      "cell_type": "code",
      "source": [
        "# Create windowed dataset\n",
        "full_windows, full_labels = make_windows(prices, window_size=WINDOW,  horizon_size=HORIZON)\n",
        "len(full_windows), len(full_labels)"
      ],
      "metadata": {
        "colab": {
          "base_uri": "https://localhost:8080/"
        },
        "id": "AZayyNDX-drP",
        "outputId": "c15f953c-6202-4dfd-cac8-cd2d4662e561"
      },
      "execution_count": 64,
      "outputs": [
        {
          "output_type": "execute_result",
          "data": {
            "text/plain": [
              "(2780, 2780)"
            ]
          },
          "metadata": {},
          "execution_count": 64
        }
      ]
    },
    {
      "cell_type": "code",
      "source": [
        "train_windows, test_windows, train_labels, test_labels = make_train_test_splits(full_windows, full_labels)\n",
        "len(train_windows), len(test_windows), len(train_labels), len(test_labels)"
      ],
      "metadata": {
        "colab": {
          "base_uri": "https://localhost:8080/"
        },
        "id": "y8obQPBV-3i9",
        "outputId": "9fe2a010-27a1-474d-b851-57b56c0adfe8"
      },
      "execution_count": 65,
      "outputs": [
        {
          "output_type": "execute_result",
          "data": {
            "text/plain": [
              "(2224, 556, 2224, 556)"
            ]
          },
          "metadata": {},
          "execution_count": 65
        }
      ]
    },
    {
      "cell_type": "code",
      "source": [
        "train_windows[0].shape"
      ],
      "metadata": {
        "colab": {
          "base_uri": "https://localhost:8080/"
        },
        "id": "6FedOk0gB9Ls",
        "outputId": "7283b360-6904-4e94-f472-eabbee651c61"
      },
      "execution_count": 66,
      "outputs": [
        {
          "output_type": "execute_result",
          "data": {
            "text/plain": [
              "(7,)"
            ]
          },
          "metadata": {},
          "execution_count": 66
        }
      ]
    },
    {
      "cell_type": "code",
      "source": [
        "x = tf.constant(train_windows[0])\n",
        "expand_dims_layer = layers.Lambda(lambda x: tf.expand_dims(x, axis=1)) # add an extra dimension for timesteps\n",
        "print(f\"Original shape: {x.shape}\") # (WINDOW_SIZE)\n",
        "print(f\"Expanded shape: {expand_dims_layer(x).shape}\") # (WINDOW_SIZE, input_dim) \n",
        "print(f\"Original values with expanded shape:\\n {expand_dims_layer(x)}\")"
      ],
      "metadata": {
        "colab": {
          "base_uri": "https://localhost:8080/"
        },
        "id": "tg-pwJROCVzz",
        "outputId": "3e90a5ad-c794-4d08-ad7b-5a07b93fb611"
      },
      "execution_count": 67,
      "outputs": [
        {
          "output_type": "stream",
          "name": "stdout",
          "text": [
            "Original shape: (7,)\n",
            "Expanded shape: (7, 1)\n",
            "Original values with expanded shape:\n",
            " [[123.65499]\n",
            " [125.455  ]\n",
            " [108.58483]\n",
            " [118.67466]\n",
            " [121.33866]\n",
            " [120.65533]\n",
            " [121.795  ]]\n"
          ]
        }
      ]
    },
    {
      "cell_type": "code",
      "source": [
        "inputs = layers.Input(shape = (train_windows.shape[1],))\n",
        "x = layers.Lambda(lambda x: tf.expand_dims(x, axis=1))(inputs)\n",
        "x = layers.Conv1D(filters = 128, kernel_size = 5, padding = 'causal', activation = 'relu')(x)\n",
        "x = layers.Dense(64, activation = 'relu')(x)\n",
        "outputs = layers.Dense(HORIZON)(x)\n",
        "\n",
        "model_4 = tf.keras.Model(inputs, outputs, name = \"model_4_conv1D\")"
      ],
      "metadata": {
        "id": "_iIlpw-fC5EF"
      },
      "execution_count": 68,
      "outputs": []
    },
    {
      "cell_type": "code",
      "source": [
        "model_4.summary()"
      ],
      "metadata": {
        "colab": {
          "base_uri": "https://localhost:8080/"
        },
        "id": "BTHUjtqWyZHq",
        "outputId": "88b2f95c-a97e-4d8e-bb6c-75bd47b5040a"
      },
      "execution_count": 69,
      "outputs": [
        {
          "output_type": "stream",
          "name": "stdout",
          "text": [
            "Model: \"model_4_conv1D\"\n",
            "_________________________________________________________________\n",
            " Layer (type)                Output Shape              Param #   \n",
            "=================================================================\n",
            " input_4 (InputLayer)        [(None, 7)]               0         \n",
            "                                                                 \n",
            " lambda_1 (Lambda)           (None, 1, 7)              0         \n",
            "                                                                 \n",
            " conv1d (Conv1D)             (None, 1, 128)            4608      \n",
            "                                                                 \n",
            " dense_6 (Dense)             (None, 1, 64)             8256      \n",
            "                                                                 \n",
            " dense_7 (Dense)             (None, 1, 1)              65        \n",
            "                                                                 \n",
            "=================================================================\n",
            "Total params: 12,929\n",
            "Trainable params: 12,929\n",
            "Non-trainable params: 0\n",
            "_________________________________________________________________\n"
          ]
        }
      ]
    },
    {
      "cell_type": "code",
      "source": [
        "HORIZON"
      ],
      "metadata": {
        "colab": {
          "base_uri": "https://localhost:8080/"
        },
        "id": "1cfnJY3N0Os7",
        "outputId": "ca399682-c0b6-41ce-b779-366347c3f952"
      },
      "execution_count": 70,
      "outputs": [
        {
          "output_type": "execute_result",
          "data": {
            "text/plain": [
              "1"
            ]
          },
          "metadata": {},
          "execution_count": 70
        }
      ]
    },
    {
      "cell_type": "code",
      "source": [
        "model_4.compile(\n",
        "    loss = 'mae',\n",
        "    optimizer = 'Adam'\n",
        ")"
      ],
      "metadata": {
        "id": "Vm_M8rPfzNOV"
      },
      "execution_count": 71,
      "outputs": []
    },
    {
      "cell_type": "code",
      "source": [
        "model_4.fit(\n",
        "    train_windows,\n",
        "    train_labels,\n",
        "    batch_size=128, \n",
        "    epochs=100,\n",
        "    verbose=1,\n",
        "    validation_data=(test_windows, test_labels),\n",
        "    callbacks=[create_model_checkpoint(model_name=model_4.name)])"
      ],
      "metadata": {
        "colab": {
          "base_uri": "https://localhost:8080/"
        },
        "id": "hiT8wfdBzxPV",
        "outputId": "9ccc3a59-8e14-4d35-8cbb-3daa534a3c7e"
      },
      "execution_count": 72,
      "outputs": [
        {
          "output_type": "stream",
          "name": "stdout",
          "text": [
            "Epoch 1/100\n",
            "15/18 [========================>.....] - ETA: 0s - loss: 2411.0032  INFO:tensorflow:Assets written to: model_experiments/model_4_conv1D/assets\n",
            "18/18 [==============================] - 11s 95ms/step - loss: 2173.4680 - val_loss: 1692.5255\n",
            "Epoch 2/100\n",
            "18/18 [==============================] - 0s 5ms/step - loss: 342.9774 - val_loss: 1912.7188\n",
            "Epoch 3/100\n",
            "14/18 [======================>.......] - ETA: 0s - loss: 227.4341INFO:tensorflow:Assets written to: model_experiments/model_4_conv1D/assets\n",
            "18/18 [==============================] - 1s 46ms/step - loss: 225.7666 - val_loss: 1340.1877\n",
            "Epoch 4/100\n",
            "16/18 [=========================>....] - ETA: 0s - loss: 195.6546INFO:tensorflow:Assets written to: model_experiments/model_4_conv1D/assets\n",
            "18/18 [==============================] - 1s 47ms/step - loss: 196.5154 - val_loss: 1126.0089\n",
            "Epoch 5/100\n",
            "16/18 [=========================>....] - ETA: 0s - loss: 186.4420INFO:tensorflow:Assets written to: model_experiments/model_4_conv1D/assets\n",
            "18/18 [==============================] - 1s 48ms/step - loss: 189.4192 - val_loss: 1051.5731\n",
            "Epoch 6/100\n",
            "18/18 [==============================] - 0s 6ms/step - loss: 188.6091 - val_loss: 1106.5981\n",
            "Epoch 7/100\n",
            "18/18 [==============================] - 0s 5ms/step - loss: 182.5564 - val_loss: 1051.7003\n",
            "Epoch 8/100\n",
            "17/18 [===========================>..] - ETA: 0s - loss: 178.0177INFO:tensorflow:Assets written to: model_experiments/model_4_conv1D/assets\n",
            "18/18 [==============================] - 1s 48ms/step - loss: 179.6440 - val_loss: 995.6262\n",
            "Epoch 9/100\n",
            "18/18 [==============================] - 0s 5ms/step - loss: 176.2017 - val_loss: 1005.8715\n",
            "Epoch 10/100\n",
            "16/18 [=========================>....] - ETA: 0s - loss: 166.8869INFO:tensorflow:Assets written to: model_experiments/model_4_conv1D/assets\n",
            "18/18 [==============================] - 1s 48ms/step - loss: 171.2953 - val_loss: 987.4261\n",
            "Epoch 11/100\n",
            "16/18 [=========================>....] - ETA: 0s - loss: 167.0661INFO:tensorflow:Assets written to: model_experiments/model_4_conv1D/assets\n",
            "18/18 [==============================] - 1s 49ms/step - loss: 171.5521 - val_loss: 928.6266\n",
            "Epoch 12/100\n",
            "15/18 [========================>.....] - ETA: 0s - loss: 169.4685INFO:tensorflow:Assets written to: model_experiments/model_4_conv1D/assets\n",
            "18/18 [==============================] - 1s 64ms/step - loss: 165.1131 - val_loss: 877.7418\n",
            "Epoch 13/100\n",
            "16/18 [=========================>....] - ETA: 0s - loss: 153.1756INFO:tensorflow:Assets written to: model_experiments/model_4_conv1D/assets\n",
            "18/18 [==============================] - 1s 48ms/step - loss: 154.2304 - val_loss: 850.8922\n",
            "Epoch 14/100\n",
            "15/18 [========================>.....] - ETA: 0s - loss: 152.8279INFO:tensorflow:Assets written to: model_experiments/model_4_conv1D/assets\n",
            "18/18 [==============================] - 1s 48ms/step - loss: 151.4441 - val_loss: 819.5085\n",
            "Epoch 15/100\n",
            "14/18 [======================>.......] - ETA: 0s - loss: 149.2709INFO:tensorflow:Assets written to: model_experiments/model_4_conv1D/assets\n",
            "18/18 [==============================] - 1s 49ms/step - loss: 146.4710 - val_loss: 812.5491\n",
            "Epoch 16/100\n",
            "18/18 [==============================] - 0s 5ms/step - loss: 139.4260 - val_loss: 844.0082\n",
            "Epoch 17/100\n",
            "18/18 [==============================] - 0s 5ms/step - loss: 137.5230 - val_loss: 815.3497\n",
            "Epoch 18/100\n",
            "17/18 [===========================>..] - ETA: 0s - loss: 132.7092INFO:tensorflow:Assets written to: model_experiments/model_4_conv1D/assets\n",
            "18/18 [==============================] - 1s 48ms/step - loss: 131.7773 - val_loss: 718.3630\n",
            "Epoch 19/100\n",
            "16/18 [=========================>....] - ETA: 0s - loss: 129.1930INFO:tensorflow:Assets written to: model_experiments/model_4_conv1D/assets\n",
            "18/18 [==============================] - 1s 48ms/step - loss: 128.0942 - val_loss: 703.8604\n",
            "Epoch 20/100\n",
            "17/18 [===========================>..] - ETA: 0s - loss: 127.6360INFO:tensorflow:Assets written to: model_experiments/model_4_conv1D/assets\n",
            "18/18 [==============================] - 1s 47ms/step - loss: 128.2958 - val_loss: 693.2865\n",
            "Epoch 21/100\n",
            "15/18 [========================>.....] - ETA: 0s - loss: 121.1905INFO:tensorflow:Assets written to: model_experiments/model_4_conv1D/assets\n",
            "18/18 [==============================] - 1s 62ms/step - loss: 122.3728 - val_loss: 669.9039\n",
            "Epoch 22/100\n",
            "18/18 [==============================] - 0s 5ms/step - loss: 125.4087 - val_loss: 676.5460\n",
            "Epoch 23/100\n",
            "17/18 [===========================>..] - ETA: 0s - loss: 128.0887INFO:tensorflow:Assets written to: model_experiments/model_4_conv1D/assets\n",
            "18/18 [==============================] - 1s 49ms/step - loss: 126.6543 - val_loss: 639.8726\n",
            "Epoch 24/100\n",
            "16/18 [=========================>....] - ETA: 0s - loss: 119.5610INFO:tensorflow:Assets written to: model_experiments/model_4_conv1D/assets\n",
            "18/18 [==============================] - 1s 49ms/step - loss: 120.8938 - val_loss: 637.6028\n",
            "Epoch 25/100\n",
            "18/18 [==============================] - 0s 6ms/step - loss: 121.2006 - val_loss: 654.2584\n",
            "Epoch 26/100\n",
            "16/18 [=========================>....] - ETA: 0s - loss: 119.7295INFO:tensorflow:Assets written to: model_experiments/model_4_conv1D/assets\n",
            "18/18 [==============================] - 1s 48ms/step - loss: 118.0188 - val_loss: 620.2234\n",
            "Epoch 27/100\n",
            "13/18 [====================>.........] - ETA: 0s - loss: 118.7275INFO:tensorflow:Assets written to: model_experiments/model_4_conv1D/assets\n",
            "18/18 [==============================] - 0s 8ms/step - loss: 125.9591 - val_loss: 634.4506\n",
            "Epoch 30/100\n",
            "18/18 [==============================] - 0s 5ms/step - loss: 115.4285 - val_loss: 619.2420\n",
            "Epoch 31/100\n",
            "18/18 [==============================] - 0s 5ms/step - loss: 113.1253 - val_loss: 620.2195\n",
            "Epoch 32/100\n",
            "17/18 [===========================>..] - ETA: 0s - loss: 112.0921INFO:tensorflow:Assets written to: model_experiments/model_4_conv1D/assets\n",
            "18/18 [==============================] - 1s 47ms/step - loss: 112.1266 - val_loss: 595.5225\n",
            "Epoch 33/100\n",
            "18/18 [==============================] - 0s 5ms/step - loss: 112.9559 - val_loss: 630.9682\n",
            "Epoch 34/100\n",
            "18/18 [==============================] - 0s 5ms/step - loss: 113.1334 - val_loss: 629.8985\n",
            "Epoch 35/100\n",
            "18/18 [==============================] - 0s 5ms/step - loss: 113.1088 - val_loss: 599.5964\n",
            "Epoch 36/100\n",
            "18/18 [==============================] - 0s 6ms/step - loss: 112.9743 - val_loss: 644.4653\n",
            "Epoch 37/100\n",
            "18/18 [==============================] - 0s 6ms/step - loss: 117.5162 - val_loss: 676.3312\n",
            "Epoch 38/100\n",
            "18/18 [==============================] - 0s 5ms/step - loss: 114.0522 - val_loss: 598.2894\n",
            "Epoch 39/100\n",
            "18/18 [==============================] - 0s 5ms/step - loss: 118.0735 - val_loss: 606.7801\n",
            "Epoch 40/100\n",
            "16/18 [=========================>....] - ETA: 0s - loss: 110.0581INFO:tensorflow:Assets written to: model_experiments/model_4_conv1D/assets\n",
            "18/18 [==============================] - 1s 47ms/step - loss: 109.6974 - val_loss: 579.0209\n",
            "Epoch 41/100\n",
            "18/18 [==============================] - 0s 6ms/step - loss: 110.1105 - val_loss: 589.2484\n",
            "Epoch 42/100\n",
            "18/18 [==============================] - 0s 5ms/step - loss: 109.4299 - val_loss: 654.6346\n",
            "Epoch 43/100\n",
            "18/18 [==============================] - 0s 5ms/step - loss: 111.8520 - val_loss: 591.7989\n",
            "Epoch 44/100\n",
            "18/18 [==============================] - 0s 6ms/step - loss: 111.9385 - val_loss: 616.0508\n",
            "Epoch 45/100\n",
            "18/18 [==============================] - 0s 6ms/step - loss: 110.3850 - val_loss: 611.8141\n",
            "Epoch 46/100\n",
            "16/18 [=========================>....] - ETA: 0s - loss: 107.1645INFO:tensorflow:Assets written to: model_experiments/model_4_conv1D/assets\n",
            "18/18 [==============================] - 1s 47ms/step - loss: 109.1326 - val_loss: 571.9645\n",
            "Epoch 47/100\n",
            "18/18 [==============================] - 0s 6ms/step - loss: 108.4236 - val_loss: 575.9202\n",
            "Epoch 48/100\n",
            "18/18 [==============================] - 0s 6ms/step - loss: 109.1957 - val_loss: 574.1318\n",
            "Epoch 49/100\n",
            "18/18 [==============================] - 0s 5ms/step - loss: 110.3326 - val_loss: 573.9046\n",
            "Epoch 50/100\n",
            "18/18 [==============================] - 0s 5ms/step - loss: 117.3395 - val_loss: 975.5668\n",
            "Epoch 51/100\n",
            "18/18 [==============================] - 0s 6ms/step - loss: 122.8134 - val_loss: 681.2872\n",
            "Epoch 52/100\n",
            "18/18 [==============================] - 0s 5ms/step - loss: 112.3830 - val_loss: 656.0062\n",
            "Epoch 53/100\n",
            "18/18 [==============================] - 0s 6ms/step - loss: 114.4685 - val_loss: 698.1188\n",
            "Epoch 54/100\n",
            "16/18 [=========================>....] - ETA: 0s - loss: 117.6763INFO:tensorflow:Assets written to: model_experiments/model_4_conv1D/assets\n",
            "18/18 [==============================] - 1s 62ms/step - loss: 115.8856 - val_loss: 570.9807\n",
            "Epoch 55/100\n",
            "18/18 [==============================] - 0s 5ms/step - loss: 110.4956 - val_loss: 638.8615\n",
            "Epoch 56/100\n",
            "18/18 [==============================] - 0s 5ms/step - loss: 118.9007 - val_loss: 571.3755\n",
            "Epoch 57/100\n",
            "18/18 [==============================] - 0s 6ms/step - loss: 110.9240 - val_loss: 595.0353\n",
            "Epoch 58/100\n",
            "18/18 [==============================] - 0s 6ms/step - loss: 112.3582 - val_loss: 616.2375\n",
            "Epoch 59/100\n",
            "18/18 [==============================] - 0s 6ms/step - loss: 107.5678 - val_loss: 687.3118\n",
            "Epoch 60/100\n",
            "18/18 [==============================] - 0s 5ms/step - loss: 116.3093 - val_loss: 574.3567\n",
            "Epoch 61/100\n",
            "18/18 [==============================] - 0s 5ms/step - loss: 135.5181 - val_loss: 698.1194\n",
            "Epoch 62/100\n",
            "18/18 [==============================] - 0s 5ms/step - loss: 116.8906 - val_loss: 629.8235\n",
            "Epoch 63/100\n",
            "18/18 [==============================] - 0s 5ms/step - loss: 111.1791 - val_loss: 590.7413\n",
            "Epoch 64/100\n",
            "18/18 [==============================] - 0s 5ms/step - loss: 106.5719 - val_loss: 610.6124\n",
            "Epoch 65/100\n",
            "18/18 [==============================] - 0s 5ms/step - loss: 111.3482 - val_loss: 602.7368\n",
            "Epoch 66/100\n",
            "18/18 [==============================] - 0s 6ms/step - loss: 109.2807 - val_loss: 603.7717\n",
            "Epoch 67/100\n",
            "18/18 [==============================] - 0s 5ms/step - loss: 109.6860 - val_loss: 596.8827\n",
            "Epoch 68/100\n",
            "14/18 [======================>.......] - ETA: 0s - loss: 105.2145INFO:tensorflow:Assets written to: model_experiments/model_4_conv1D/assets\n",
            "18/18 [==============================] - 1s 47ms/step - loss: 106.2603 - val_loss: 568.3334\n",
            "Epoch 69/100\n",
            "18/18 [==============================] - 0s 6ms/step - loss: 109.4087 - val_loss: 587.3880\n",
            "Epoch 70/100\n",
            "18/18 [==============================] - 0s 6ms/step - loss: 109.5705 - val_loss: 620.1136\n",
            "Epoch 71/100\n",
            "18/18 [==============================] - 0s 6ms/step - loss: 114.4834 - val_loss: 581.9856\n",
            "Epoch 72/100\n",
            "17/18 [===========================>..] - ETA: 0s - loss: 110.1679INFO:tensorflow:Assets written to: model_experiments/model_4_conv1D/assets\n",
            "18/18 [==============================] - 1s 45ms/step - loss: 109.5774 - val_loss: 567.2814\n",
            "Epoch 73/100\n",
            "18/18 [==============================] - 0s 5ms/step - loss: 107.4673 - val_loss: 632.3463\n",
            "Epoch 74/100\n",
            "18/18 [==============================] - 0s 6ms/step - loss: 112.3921 - val_loss: 608.8539\n",
            "Epoch 75/100\n",
            "18/18 [==============================] - 0s 5ms/step - loss: 108.9092 - val_loss: 584.6691\n",
            "Epoch 76/100\n",
            "18/18 [==============================] - 0s 5ms/step - loss: 111.9014 - val_loss: 632.7909\n",
            "Epoch 77/100\n",
            "18/18 [==============================] - 0s 5ms/step - loss: 111.2823 - val_loss: 567.5586\n",
            "Epoch 78/100\n",
            "18/18 [==============================] - 0s 5ms/step - loss: 107.5794 - val_loss: 567.6211\n",
            "Epoch 79/100\n",
            "18/18 [==============================] - 0s 5ms/step - loss: 105.7632 - val_loss: 590.4896\n",
            "Epoch 80/100\n",
            "18/18 [==============================] - 0s 5ms/step - loss: 106.8205 - val_loss: 571.8372\n",
            "Epoch 81/100\n",
            "18/18 [==============================] - 0s 6ms/step - loss: 108.1129 - val_loss: 589.2902\n",
            "Epoch 82/100\n",
            "18/18 [==============================] - 0s 6ms/step - loss: 110.1151 - val_loss: 591.6541\n",
            "Epoch 83/100\n",
            "18/18 [==============================] - 0s 5ms/step - loss: 106.3972 - val_loss: 580.6693\n",
            "Epoch 84/100\n",
            "18/18 [==============================] - 0s 5ms/step - loss: 109.6639 - val_loss: 695.6195\n",
            "Epoch 85/100\n",
            "18/18 [==============================] - 0s 6ms/step - loss: 119.1799 - val_loss: 716.4388\n",
            "Epoch 86/100\n",
            "18/18 [==============================] - 0s 5ms/step - loss: 115.1533 - val_loss: 583.3052\n",
            "Epoch 87/100\n",
            "18/18 [==============================] - 0s 5ms/step - loss: 105.0076 - val_loss: 586.4376\n",
            "Epoch 88/100\n",
            "18/18 [==============================] - 0s 5ms/step - loss: 111.5282 - val_loss: 594.1891\n",
            "Epoch 89/100\n",
            "16/18 [=========================>....] - ETA: 0s - loss: 109.0920INFO:tensorflow:Assets written to: model_experiments/model_4_conv1D/assets\n",
            "18/18 [==============================] - 1s 47ms/step - loss: 107.2142 - val_loss: 566.8350\n",
            "Epoch 90/100\n",
            "18/18 [==============================] - 0s 5ms/step - loss: 109.5262 - val_loss: 583.1157\n",
            "Epoch 91/100\n",
            "18/18 [==============================] - 0s 5ms/step - loss: 107.7965 - val_loss: 584.9542\n",
            "Epoch 92/100\n",
            "18/18 [==============================] - 0s 5ms/step - loss: 107.7349 - val_loss: 620.3496\n",
            "Epoch 93/100\n",
            "18/18 [==============================] - 0s 5ms/step - loss: 109.1931 - val_loss: 568.0322\n",
            "Epoch 94/100\n",
            "18/18 [==============================] - 0s 5ms/step - loss: 106.3876 - val_loss: 581.0328\n",
            "Epoch 95/100\n",
            "18/18 [==============================] - 0s 5ms/step - loss: 106.2432 - val_loss: 621.8790\n",
            "Epoch 96/100\n",
            "18/18 [==============================] - 0s 5ms/step - loss: 107.9599 - val_loss: 590.9176\n",
            "Epoch 97/100\n",
            "18/18 [==============================] - 0s 6ms/step - loss: 107.1758 - val_loss: 585.7039\n",
            "Epoch 98/100\n",
            "18/18 [==============================] - 0s 6ms/step - loss: 106.2774 - val_loss: 568.7035\n",
            "Epoch 99/100\n",
            "18/18 [==============================] - 0s 5ms/step - loss: 107.0363 - val_loss: 571.5998\n",
            "Epoch 100/100\n",
            "18/18 [==============================] - 0s 5ms/step - loss: 114.0812 - val_loss: 619.2609\n"
          ]
        },
        {
          "output_type": "execute_result",
          "data": {
            "text/plain": [
              "<keras.callbacks.History at 0x7ff7ae7f52d0>"
            ]
          },
          "metadata": {},
          "execution_count": 72
        }
      ]
    },
    {
      "cell_type": "code",
      "source": [
        "model_4 = tf.keras.models.load_model(\"model_experiments/model_4_conv1D\")\n",
        "model_4.evaluate(test_windows, test_labels)"
      ],
      "metadata": {
        "colab": {
          "base_uri": "https://localhost:8080/"
        },
        "id": "FXFekTinz-GL",
        "outputId": "54b73fc2-7b81-4d44-b668-c527e95d40ab"
      },
      "execution_count": 73,
      "outputs": [
        {
          "output_type": "stream",
          "name": "stdout",
          "text": [
            "18/18 [==============================] - 0s 4ms/step - loss: 566.8350\n"
          ]
        },
        {
          "output_type": "execute_result",
          "data": {
            "text/plain": [
              "566.8349609375"
            ]
          },
          "metadata": {},
          "execution_count": 73
        }
      ]
    },
    {
      "cell_type": "code",
      "source": [
        "model_4_preds = make_preds(model_4, test_windows)\n",
        "model_4_preds[:10]"
      ],
      "metadata": {
        "colab": {
          "base_uri": "https://localhost:8080/"
        },
        "id": "ZLUvuLv80F-y",
        "outputId": "c944b911-6674-4054-cb50-41c33ff4dfb4"
      },
      "execution_count": 74,
      "outputs": [
        {
          "output_type": "execute_result",
          "data": {
            "text/plain": [
              "<tf.Tensor: shape=(10,), dtype=float32, numpy=\n",
              "array([8804.624 , 8736.129 , 8996.263 , 8720.945 , 8708.02  , 8717.727 ,\n",
              "       8628.466 , 8495.6045, 8418.811 , 8494.518 ], dtype=float32)>"
            ]
          },
          "metadata": {},
          "execution_count": 74
        }
      ]
    },
    {
      "cell_type": "code",
      "source": [
        "model_4_results = evaluate_preds(y_true=tf.squeeze(test_labels),\n",
        "                                 y_preds=model_4_preds)\n",
        "model_4_results"
      ],
      "metadata": {
        "colab": {
          "base_uri": "https://localhost:8080/"
        },
        "id": "ZpPaKEkR0kH3",
        "outputId": "8b3b2c2e-6125-42b6-f769-0f9f01666834"
      },
      "execution_count": 75,
      "outputs": [
        {
          "output_type": "execute_result",
          "data": {
            "text/plain": [
              "{'mae': 566.83496,\n",
              " 'mape': 2.5552204,\n",
              " 'mase': 0.6815395951271057,\n",
              " 'mse': 1158784.6,\n",
              " 'rmse': 1076.4686}"
            ]
          },
          "metadata": {},
          "execution_count": 75
        }
      ]
    },
    {
      "cell_type": "markdown",
      "source": [
        "### Model 5: RNN (LSTM)"
      ],
      "metadata": {
        "id": "dkWvIavW1QrW"
      }
    },
    {
      "cell_type": "code",
      "source": [
        "inputs = layers.Input(shape = WINDOW)\n",
        "x = layers.Lambda(lambda x: tf.expand_dims(x, axis = 0))(inputs)\n",
        "#x = layers.LSTM(128, return_sequences = True, activation = 'relu')(x)\n",
        "x = layers.LSTM(128, activation = 'relu')(x)\n",
        "outputs = layers.Dense(HORIZON)(x)\n",
        "\n",
        "model_5 = tf.keras.Model(inputs, outputs, name = 'model_5_lstm')"
      ],
      "metadata": {
        "colab": {
          "base_uri": "https://localhost:8080/"
        },
        "id": "yuv9O9c60wxo",
        "outputId": "6a522f44-8aae-4386-f9e5-b4d0d48b14eb"
      },
      "execution_count": 76,
      "outputs": [
        {
          "output_type": "stream",
          "name": "stdout",
          "text": [
            "WARNING:tensorflow:Layer lstm will not use cuDNN kernels since it doesn't meet the criteria. It will use a generic GPU kernel as fallback when running on GPU.\n"
          ]
        }
      ]
    },
    {
      "cell_type": "code",
      "source": [
        "model_5.compile(\n",
        "    loss = 'mae',\n",
        "    optimizer = 'Adam'\n",
        ")"
      ],
      "metadata": {
        "id": "iPXOjcN_2RlY"
      },
      "execution_count": 77,
      "outputs": []
    },
    {
      "cell_type": "code",
      "source": [
        "model_5.fit(\n",
        "    train_windows,\n",
        "    train_labels,\n",
        "    batch_size=128, \n",
        "    epochs=100,\n",
        "    verbose=1,\n",
        "    validation_data=(test_windows, test_labels),\n",
        "    callbacks=[create_model_checkpoint(model_name=model_4.name)])"
      ],
      "metadata": {
        "colab": {
          "base_uri": "https://localhost:8080/"
        },
        "id": "T4RBEMnB2WiU",
        "outputId": "1472f229-9ddc-43d9-ae45-8c06ce73a0aa"
      },
      "execution_count": 78,
      "outputs": [
        {
          "output_type": "stream",
          "name": "stdout",
          "text": [
            "Epoch 1/100\n",
            "17/18 [===========================>..] - ETA: 0s - loss: 2801854.2500INFO:tensorflow:Assets written to: model_experiments/model_4_conv1D/assets\n"
          ]
        },
        {
          "output_type": "stream",
          "name": "stderr",
          "text": [
            "WARNING:absl:<keras.layers.recurrent.LSTMCell object at 0x7ff7d6348a10> has the same name 'LSTMCell' as a built-in Keras object. Consider renaming <class 'keras.layers.recurrent.LSTMCell'> to avoid naming conflicts when loading with `tf.keras.models.load_model`. If renaming is not possible, pass the object in the `custom_objects` parameter of the load function.\n"
          ]
        },
        {
          "output_type": "stream",
          "name": "stdout",
          "text": [
            "\b\b\b\b\b\b\b\b\b\b\b\b\b\b\b\b\b\b\b\b\b\b\b\b\b\b\b\b\b\b\b\b\b\b\b\b\b\b\b\b\b\b\b\b\b\b\b\b\b\b\b\b\b\b\b\b\b\b\b\b\b\b\b\b\b\b\b\b\b\r18/18 [==============================] - 5s 209ms/step - loss: 2741448.0000 - val_loss: 30195514.0000\n",
            "Epoch 2/100\n",
            "18/18 [==============================] - 2s 97ms/step - loss: 2296969.7500 - val_loss: 61459200.0000\n",
            "Epoch 3/100\n",
            "17/18 [===========================>..] - ETA: 0s - loss: 8274372.5000INFO:tensorflow:Assets written to: model_experiments/model_4_conv1D/assets\n"
          ]
        },
        {
          "output_type": "stream",
          "name": "stderr",
          "text": [
            "INFO:tensorflow:Assets written to: model_experiments/model_4_conv1D/assets\n",
            "WARNING:absl:<keras.layers.recurrent.LSTMCell object at 0x7ff7d6348a10> has the same name 'LSTMCell' as a built-in Keras object. Consider renaming <class 'keras.layers.recurrent.LSTMCell'> to avoid naming conflicts when loading with `tf.keras.models.load_model`. If renaming is not possible, pass the object in the `custom_objects` parameter of the load function.\n"
          ]
        },
        {
          "output_type": "stream",
          "name": "stdout",
          "text": [
            "\b\b\b\b\b\b\b\b\b\b\b\b\b\b\b\b\b\b\b\b\b\b\b\b\b\b\b\b\b\b\b\b\b\b\b\b\b\b\b\b\b\b\b\b\b\b\b\b\b\b\b\b\b\b\b\b\b\b\b\b\b\b\b\b\b\b\b\b\b\r18/18 [==============================] - 3s 192ms/step - loss: 8095889.5000 - val_loss: 10154040.0000\n",
            "Epoch 4/100\n",
            "17/18 [===========================>..] - ETA: 0s - loss: 1819494.1250INFO:tensorflow:Assets written to: model_experiments/model_4_conv1D/assets\n"
          ]
        },
        {
          "output_type": "stream",
          "name": "stderr",
          "text": [
            "INFO:tensorflow:Assets written to: model_experiments/model_4_conv1D/assets\n",
            "WARNING:absl:<keras.layers.recurrent.LSTMCell object at 0x7ff7d6348a10> has the same name 'LSTMCell' as a built-in Keras object. Consider renaming <class 'keras.layers.recurrent.LSTMCell'> to avoid naming conflicts when loading with `tf.keras.models.load_model`. If renaming is not possible, pass the object in the `custom_objects` parameter of the load function.\n"
          ]
        },
        {
          "output_type": "stream",
          "name": "stdout",
          "text": [
            "\b\b\b\b\b\b\b\b\b\b\b\b\b\b\b\b\b\b\b\b\b\b\b\b\b\b\b\b\b\b\b\b\b\b\b\b\b\b\b\b\b\b\b\b\b\b\b\b\b\b\b\b\b\b\b\b\b\b\b\b\b\b\b\b\b\b\b\b\b\r18/18 [==============================] - 3s 187ms/step - loss: 1780458.2500 - val_loss: 116102.9453\n",
            "Epoch 5/100\n",
            "17/18 [===========================>..] - ETA: 0s - loss: 98629.8203 INFO:tensorflow:Assets written to: model_experiments/model_4_conv1D/assets\n"
          ]
        },
        {
          "output_type": "stream",
          "name": "stderr",
          "text": [
            "INFO:tensorflow:Assets written to: model_experiments/model_4_conv1D/assets\n",
            "WARNING:absl:<keras.layers.recurrent.LSTMCell object at 0x7ff7d6348a10> has the same name 'LSTMCell' as a built-in Keras object. Consider renaming <class 'keras.layers.recurrent.LSTMCell'> to avoid naming conflicts when loading with `tf.keras.models.load_model`. If renaming is not possible, pass the object in the `custom_objects` parameter of the load function.\n"
          ]
        },
        {
          "output_type": "stream",
          "name": "stdout",
          "text": [
            "\b\b\b\b\b\b\b\b\b\b\b\b\b\b\b\b\b\b\b\b\b\b\b\b\b\b\b\b\b\b\b\b\b\b\b\b\b\b\b\b\b\b\b\b\b\b\b\b\b\b\b\b\b\b\b\b\b\b\b\b\b\b\b\b\b\b\b\r18/18 [==============================] - 3s 186ms/step - loss: 96623.1094 - val_loss: 49427.3984\n",
            "Epoch 6/100\n",
            "18/18 [==============================] - 2s 98ms/step - loss: 62684.5039 - val_loss: 60872.2031\n",
            "Epoch 7/100\n",
            "17/18 [===========================>..] - ETA: 0s - loss: 19927.8164INFO:tensorflow:Assets written to: model_experiments/model_4_conv1D/assets\n"
          ]
        },
        {
          "output_type": "stream",
          "name": "stderr",
          "text": [
            "INFO:tensorflow:Assets written to: model_experiments/model_4_conv1D/assets\n",
            "WARNING:absl:<keras.layers.recurrent.LSTMCell object at 0x7ff7d6348a10> has the same name 'LSTMCell' as a built-in Keras object. Consider renaming <class 'keras.layers.recurrent.LSTMCell'> to avoid naming conflicts when loading with `tf.keras.models.load_model`. If renaming is not possible, pass the object in the `custom_objects` parameter of the load function.\n"
          ]
        },
        {
          "output_type": "stream",
          "name": "stdout",
          "text": [
            "\b\b\b\b\b\b\b\b\b\b\b\b\b\b\b\b\b\b\b\b\b\b\b\b\b\b\b\b\b\b\b\b\b\b\b\b\b\b\b\b\b\b\b\b\b\b\b\b\b\b\b\b\b\b\b\b\b\b\b\b\b\b\b\b\b\b\b\r18/18 [==============================] - 4s 208ms/step - loss: 19773.4941 - val_loss: 39784.5742\n",
            "Epoch 8/100\n",
            "18/18 [==============================] - 2s 97ms/step - loss: 254641.2656 - val_loss: 376627.6250\n",
            "Epoch 9/100\n",
            "18/18 [==============================] - 2s 100ms/step - loss: 91348.1562 - val_loss: 50654.1875\n",
            "Epoch 10/100\n",
            "18/18 [==============================] - 2s 98ms/step - loss: 35037.2383 - val_loss: 152257.5938\n",
            "Epoch 11/100\n",
            "18/18 [==============================] - 2s 97ms/step - loss: 8648.7695 - val_loss: 59754.2227\n",
            "Epoch 12/100\n",
            "18/18 [==============================] - 2s 97ms/step - loss: 8225.0498 - val_loss: 142721.8281\n",
            "Epoch 13/100\n",
            "18/18 [==============================] - 2s 100ms/step - loss: 13080.0859 - val_loss: 155432.6562\n",
            "Epoch 14/100\n",
            "18/18 [==============================] - 2s 103ms/step - loss: 21605.1875 - val_loss: 58004.2578\n",
            "Epoch 15/100\n",
            "18/18 [==============================] - 2s 100ms/step - loss: 8588.8018 - val_loss: 53766.0859\n",
            "Epoch 16/100\n",
            "18/18 [==============================] - 2s 100ms/step - loss: 9688.4258 - val_loss: 49656.4375\n",
            "Epoch 17/100\n",
            "18/18 [==============================] - 2s 99ms/step - loss: 14677.7646 - val_loss: 51358.7305\n",
            "Epoch 18/100\n",
            "18/18 [==============================] - 2s 103ms/step - loss: 14013.5195 - val_loss: 89723.9141\n",
            "Epoch 19/100\n",
            "18/18 [==============================] - 2s 101ms/step - loss: 12288.2832 - val_loss: 95070.6797\n",
            "Epoch 20/100\n",
            "18/18 [==============================] - 2s 104ms/step - loss: 8737.8848 - val_loss: 100208.5469\n",
            "Epoch 21/100\n",
            "18/18 [==============================] - 2s 101ms/step - loss: 16155.8809 - val_loss: 72905.2266\n",
            "Epoch 22/100\n",
            "18/18 [==============================] - 2s 114ms/step - loss: 19370.6895 - val_loss: 124282.9375\n",
            "Epoch 23/100\n",
            "18/18 [==============================] - 2s 116ms/step - loss: 12522.1875 - val_loss: 75754.8203\n",
            "Epoch 24/100\n",
            "18/18 [==============================] - 2s 98ms/step - loss: 8576.6846 - val_loss: 48692.1289\n",
            "Epoch 25/100\n",
            "17/18 [===========================>..] - ETA: 0s - loss: 6017.6846INFO:tensorflow:Assets written to: model_experiments/model_4_conv1D/assets\n"
          ]
        },
        {
          "output_type": "stream",
          "name": "stderr",
          "text": [
            "INFO:tensorflow:Assets written to: model_experiments/model_4_conv1D/assets\n",
            "WARNING:absl:<keras.layers.recurrent.LSTMCell object at 0x7ff7d6348a10> has the same name 'LSTMCell' as a built-in Keras object. Consider renaming <class 'keras.layers.recurrent.LSTMCell'> to avoid naming conflicts when loading with `tf.keras.models.load_model`. If renaming is not possible, pass the object in the `custom_objects` parameter of the load function.\n"
          ]
        },
        {
          "output_type": "stream",
          "name": "stdout",
          "text": [
            "\b\b\b\b\b\b\b\b\b\b\b\b\b\b\b\b\b\b\b\b\b\b\b\b\b\b\b\b\b\b\b\b\b\b\b\b\b\b\b\b\b\b\b\b\b\b\b\b\b\b\b\b\b\b\b\b\b\b\b\b\b\b\b\b\b\b\r18/18 [==============================] - 3s 188ms/step - loss: 6047.1519 - val_loss: 32347.1289\n",
            "Epoch 26/100\n",
            "17/18 [===========================>..] - ETA: 0s - loss: 8507.7510INFO:tensorflow:Assets written to: model_experiments/model_4_conv1D/assets\n"
          ]
        },
        {
          "output_type": "stream",
          "name": "stderr",
          "text": [
            "INFO:tensorflow:Assets written to: model_experiments/model_4_conv1D/assets\n",
            "WARNING:absl:<keras.layers.recurrent.LSTMCell object at 0x7ff7d6348a10> has the same name 'LSTMCell' as a built-in Keras object. Consider renaming <class 'keras.layers.recurrent.LSTMCell'> to avoid naming conflicts when loading with `tf.keras.models.load_model`. If renaming is not possible, pass the object in the `custom_objects` parameter of the load function.\n"
          ]
        },
        {
          "output_type": "stream",
          "name": "stdout",
          "text": [
            "\b\b\b\b\b\b\b\b\b\b\b\b\b\b\b\b\b\b\b\b\b\b\b\b\b\b\b\b\b\b\b\b\b\b\b\b\b\b\b\b\b\b\b\b\b\b\b\b\b\b\b\b\b\b\b\b\b\b\b\b\b\b\b\b\b\b\r18/18 [==============================] - 3s 187ms/step - loss: 8487.7529 - val_loss: 14650.0742\n",
            "Epoch 27/100\n",
            "18/18 [==============================] - 2s 97ms/step - loss: 6158.2139 - val_loss: 31672.0566\n",
            "Epoch 28/100\n",
            "17/18 [===========================>..] - ETA: 0s - loss: 6514.8320INFO:tensorflow:Assets written to: model_experiments/model_4_conv1D/assets\n"
          ]
        },
        {
          "output_type": "stream",
          "name": "stderr",
          "text": [
            "INFO:tensorflow:Assets written to: model_experiments/model_4_conv1D/assets\n",
            "WARNING:absl:<keras.layers.recurrent.LSTMCell object at 0x7ff7d6348a10> has the same name 'LSTMCell' as a built-in Keras object. Consider renaming <class 'keras.layers.recurrent.LSTMCell'> to avoid naming conflicts when loading with `tf.keras.models.load_model`. If renaming is not possible, pass the object in the `custom_objects` parameter of the load function.\n"
          ]
        },
        {
          "output_type": "stream",
          "name": "stdout",
          "text": [
            "\b\b\b\b\b\b\b\b\b\b\b\b\b\b\b\b\b\b\b\b\b\b\b\b\b\b\b\b\b\b\b\b\b\b\b\b\b\b\b\b\b\b\b\b\b\b\b\b\b\b\b\b\b\b\b\b\b\b\b\b\b\b\b\b\b\b\r18/18 [==============================] - 3s 191ms/step - loss: 6442.7578 - val_loss: 12579.4658\n",
            "Epoch 29/100\n",
            "18/18 [==============================] - 2s 99ms/step - loss: 9316.9033 - val_loss: 85316.3516\n",
            "Epoch 30/100\n",
            "18/18 [==============================] - 2s 102ms/step - loss: 48452.2656 - val_loss: 196987.5156\n",
            "Epoch 31/100\n",
            "18/18 [==============================] - 2s 101ms/step - loss: 28417.1641 - val_loss: 86063.1094\n",
            "Epoch 32/100\n",
            "18/18 [==============================] - 2s 98ms/step - loss: 22924.7227 - val_loss: 83175.4062\n",
            "Epoch 33/100\n",
            "18/18 [==============================] - 2s 98ms/step - loss: 16492.9238 - val_loss: 191287.4688\n",
            "Epoch 34/100\n",
            "18/18 [==============================] - 2s 98ms/step - loss: 18123.8672 - val_loss: 93356.0156\n",
            "Epoch 35/100\n",
            "18/18 [==============================] - 2s 99ms/step - loss: 17430.5371 - val_loss: 57171.7188\n",
            "Epoch 36/100\n",
            "18/18 [==============================] - 2s 97ms/step - loss: 14255.3008 - val_loss: 116736.7734\n",
            "Epoch 37/100\n",
            "18/18 [==============================] - 2s 97ms/step - loss: 11736.7900 - val_loss: 48112.8203\n",
            "Epoch 38/100\n",
            "18/18 [==============================] - 2s 98ms/step - loss: 13395.8691 - val_loss: 598206.9375\n",
            "Epoch 39/100\n",
            "18/18 [==============================] - 2s 99ms/step - loss: 88744.2188 - val_loss: 104517.5547\n",
            "Epoch 40/100\n",
            "18/18 [==============================] - 2s 98ms/step - loss: 100728.0156 - val_loss: 315887.7500\n",
            "Epoch 41/100\n",
            "18/18 [==============================] - 2s 101ms/step - loss: 114245.6328 - val_loss: 428804.6562\n",
            "Epoch 42/100\n",
            "18/18 [==============================] - 2s 98ms/step - loss: 50112.2969 - val_loss: 204388.0625\n",
            "Epoch 43/100\n",
            "18/18 [==============================] - 2s 97ms/step - loss: 122351.7266 - val_loss: 533786.1250\n",
            "Epoch 44/100\n",
            "18/18 [==============================] - 2s 98ms/step - loss: 798309.1875 - val_loss: 77267464.0000\n",
            "Epoch 45/100\n",
            "18/18 [==============================] - 2s 99ms/step - loss: 7959299.0000 - val_loss: 46762772.0000\n",
            "Epoch 46/100\n",
            "18/18 [==============================] - 2s 101ms/step - loss: 4754396.0000 - val_loss: 3807766.2500\n",
            "Epoch 47/100\n",
            "18/18 [==============================] - 2s 102ms/step - loss: 14063417.0000 - val_loss: 67048088.0000\n",
            "Epoch 48/100\n",
            "18/18 [==============================] - 2s 99ms/step - loss: 18294512.0000 - val_loss: 26178042.0000\n",
            "Epoch 49/100\n",
            "18/18 [==============================] - 2s 100ms/step - loss: 1993356.2500 - val_loss: 25993600.0000\n",
            "Epoch 50/100\n",
            "18/18 [==============================] - 2s 103ms/step - loss: 5640370.0000 - val_loss: 11579954.0000\n",
            "Epoch 51/100\n",
            "18/18 [==============================] - 2s 100ms/step - loss: 277369.1562 - val_loss: 376538.1562\n",
            "Epoch 52/100\n",
            "18/18 [==============================] - 2s 105ms/step - loss: 333503.3750 - val_loss: 212091.0156\n",
            "Epoch 53/100\n",
            "18/18 [==============================] - 2s 102ms/step - loss: 694006.8750 - val_loss: 737157.8750\n",
            "Epoch 54/100\n",
            "18/18 [==============================] - 2s 100ms/step - loss: 97675.5781 - val_loss: 596815.5000\n",
            "Epoch 55/100\n",
            "18/18 [==============================] - 2s 100ms/step - loss: 99298.2188 - val_loss: 370110.3750\n",
            "Epoch 56/100\n",
            "18/18 [==============================] - 2s 99ms/step - loss: 40219.2852 - val_loss: 54670.7031\n",
            "Epoch 57/100\n",
            "18/18 [==============================] - 2s 102ms/step - loss: 32482.3984 - val_loss: 550248.7500\n",
            "Epoch 58/100\n",
            "18/18 [==============================] - 2s 104ms/step - loss: 108309.8516 - val_loss: 1548625.3750\n",
            "Epoch 59/100\n",
            "18/18 [==============================] - 2s 101ms/step - loss: 659313.1875 - val_loss: 1121028.6250\n",
            "Epoch 60/100\n",
            "18/18 [==============================] - 2s 102ms/step - loss: 605203.0625 - val_loss: 1867966.1250\n",
            "Epoch 61/100\n",
            "18/18 [==============================] - 2s 100ms/step - loss: 511457.6562 - val_loss: 1626168.3750\n",
            "Epoch 62/100\n",
            "18/18 [==============================] - 2s 99ms/step - loss: 398291.0938 - val_loss: 594252.5000\n",
            "Epoch 63/100\n",
            "18/18 [==============================] - 2s 100ms/step - loss: 199762.0312 - val_loss: 427982.2188\n",
            "Epoch 64/100\n",
            "18/18 [==============================] - 2s 100ms/step - loss: 87327.3359 - val_loss: 318500.2812\n",
            "Epoch 65/100\n",
            "18/18 [==============================] - 2s 99ms/step - loss: 119632.4062 - val_loss: 307875.2500\n",
            "Epoch 66/100\n",
            "18/18 [==============================] - 2s 101ms/step - loss: 164475.0156 - val_loss: 689376.0000\n",
            "Epoch 67/100\n",
            "18/18 [==============================] - 2s 138ms/step - loss: 125304.5625 - val_loss: 307247.0312\n",
            "Epoch 68/100\n",
            "18/18 [==============================] - 2s 104ms/step - loss: 147259.0469 - val_loss: 1807546.1250\n",
            "Epoch 69/100\n",
            "18/18 [==============================] - 2s 98ms/step - loss: 188802.9688 - val_loss: 1175314.8750\n",
            "Epoch 70/100\n",
            "18/18 [==============================] - 2s 98ms/step - loss: 140416.3125 - val_loss: 956127.8750\n",
            "Epoch 71/100\n",
            "18/18 [==============================] - 2s 99ms/step - loss: 415832.7812 - val_loss: 633594.5000\n",
            "Epoch 72/100\n",
            "18/18 [==============================] - 2s 99ms/step - loss: 248666.1562 - val_loss: 453771.0938\n",
            "Epoch 73/100\n",
            "18/18 [==============================] - 2s 102ms/step - loss: 175706.7188 - val_loss: 512579.2188\n",
            "Epoch 74/100\n",
            "18/18 [==============================] - 2s 104ms/step - loss: 98795.8047 - val_loss: 604599.0000\n",
            "Epoch 75/100\n",
            "18/18 [==============================] - 2s 100ms/step - loss: 85642.3594 - val_loss: 280246.0000\n",
            "Epoch 76/100\n",
            "18/18 [==============================] - 2s 100ms/step - loss: 150671.3906 - val_loss: 176744.5938\n",
            "Epoch 77/100\n",
            "18/18 [==============================] - 2s 102ms/step - loss: 76486.6016 - val_loss: 523560.2812\n",
            "Epoch 78/100\n",
            "18/18 [==============================] - 2s 100ms/step - loss: 87143.9375 - val_loss: 562207.5000\n",
            "Epoch 79/100\n",
            "18/18 [==============================] - 2s 101ms/step - loss: 63965.7266 - val_loss: 1110974.1250\n",
            "Epoch 80/100\n",
            "18/18 [==============================] - 2s 104ms/step - loss: 48937.1719 - val_loss: 268919.2500\n",
            "Epoch 81/100\n",
            "18/18 [==============================] - 2s 100ms/step - loss: 88485.0000 - val_loss: 386504.3750\n",
            "Epoch 82/100\n",
            "18/18 [==============================] - 2s 100ms/step - loss: 101217.9844 - val_loss: 396867.9062\n",
            "Epoch 83/100\n",
            "18/18 [==============================] - 2s 99ms/step - loss: 42353.4766 - val_loss: 554004.6875\n",
            "Epoch 84/100\n",
            "18/18 [==============================] - 2s 100ms/step - loss: 36733.1406 - val_loss: 113729.5234\n",
            "Epoch 85/100\n",
            "18/18 [==============================] - 2s 101ms/step - loss: 26553.5371 - val_loss: 187138.8125\n",
            "Epoch 86/100\n",
            "18/18 [==============================] - 2s 103ms/step - loss: 28654.8184 - val_loss: 169376.8594\n",
            "Epoch 87/100\n",
            "18/18 [==============================] - 2s 100ms/step - loss: 18398.0391 - val_loss: 107703.8438\n",
            "Epoch 88/100\n",
            "18/18 [==============================] - 2s 100ms/step - loss: 30285.1875 - val_loss: 129740.4297\n",
            "Epoch 89/100\n",
            "18/18 [==============================] - 2s 100ms/step - loss: 17558.8125 - val_loss: 166182.0000\n",
            "Epoch 90/100\n",
            "18/18 [==============================] - 2s 100ms/step - loss: 37244.4180 - val_loss: 206925.2969\n",
            "Epoch 91/100\n",
            "18/18 [==============================] - 2s 103ms/step - loss: 33630.1211 - val_loss: 146203.2500\n",
            "Epoch 92/100\n",
            "18/18 [==============================] - 2s 102ms/step - loss: 34070.2969 - val_loss: 127955.4688\n",
            "Epoch 93/100\n",
            "18/18 [==============================] - 2s 100ms/step - loss: 31025.5039 - val_loss: 133016.7031\n",
            "Epoch 94/100\n",
            "18/18 [==============================] - 2s 99ms/step - loss: 30365.1836 - val_loss: 189894.6719\n",
            "Epoch 95/100\n",
            "18/18 [==============================] - 2s 99ms/step - loss: 48508.0664 - val_loss: 182286.5781\n",
            "Epoch 96/100\n",
            "18/18 [==============================] - 2s 99ms/step - loss: 20546.3320 - val_loss: 162916.0938\n",
            "Epoch 97/100\n",
            "18/18 [==============================] - 2s 102ms/step - loss: 38933.8594 - val_loss: 192068.7500\n",
            "Epoch 98/100\n",
            "18/18 [==============================] - 2s 99ms/step - loss: 29811.9473 - val_loss: 322335.2812\n",
            "Epoch 99/100\n",
            "18/18 [==============================] - 2s 102ms/step - loss: 32730.5762 - val_loss: 186638.4688\n",
            "Epoch 100/100\n",
            "18/18 [==============================] - 2s 100ms/step - loss: 34037.7930 - val_loss: 118314.8906\n"
          ]
        },
        {
          "output_type": "execute_result",
          "data": {
            "text/plain": [
              "<keras.callbacks.History at 0x7ff7be5ada10>"
            ]
          },
          "metadata": {},
          "execution_count": 78
        }
      ]
    },
    {
      "cell_type": "markdown",
      "source": [
        "## Multivariate Dataset"
      ],
      "metadata": {
        "id": "jXuQDdXQfd3K"
      }
    },
    {
      "cell_type": "markdown",
      "source": [
        "Add bitcoin halving events to dataset"
      ],
      "metadata": {
        "id": "f4MsR8V3fgjl"
      }
    },
    {
      "cell_type": "code",
      "source": [
        "# Block reward values\n",
        "block_reward_1 = 50 # 3 January 2009 (2009-01-03) - this block reward isn't in our dataset (it starts from 01 October 2013)\n",
        "block_reward_2 = 25 # 28 November 2012 \n",
        "block_reward_3 = 12.5 # 9 July 2016\n",
        "block_reward_4 = 6.25 # 11 May 2020\n",
        "\n",
        "# Block reward dates (datetime form of the above date stamps)\n",
        "block_reward_2_datetime = np.datetime64(\"2012-11-28\")\n",
        "block_reward_3_datetime = np.datetime64(\"2016-07-09\")\n",
        "block_reward_4_datetime = np.datetime64(\"2020-05-11\")"
      ],
      "metadata": {
        "id": "UtdCx2QD2Zkn"
      },
      "execution_count": 79,
      "outputs": []
    },
    {
      "cell_type": "code",
      "source": [
        "# Get date indexes for when to add in different block dates\n",
        "block_reward_2_days = (block_reward_3_datetime - df.index[0]).days\n",
        "block_reward_3_days = (block_reward_4_datetime - df.index[0]).days\n",
        "block_reward_2_days, block_reward_3_days"
      ],
      "metadata": {
        "colab": {
          "base_uri": "https://localhost:8080/"
        },
        "id": "MAO-OLf3hIDu",
        "outputId": "06c46013-9581-4874-a0fd-fe7b7d0d39cb"
      },
      "execution_count": 80,
      "outputs": [
        {
          "output_type": "execute_result",
          "data": {
            "text/plain": [
              "(1012, 2414)"
            ]
          },
          "metadata": {},
          "execution_count": 80
        }
      ]
    },
    {
      "cell_type": "code",
      "source": [
        "# Add block_reward column\n",
        "bitcoin_prices_block = df.copy()\n",
        "bitcoin_prices_block[\"block_reward\"] = None\n",
        "\n",
        "# Set values of block_reward column (it's the last column hence -1 indexing on iloc)\n",
        "bitcoin_prices_block.iloc[:block_reward_2_days, -1] = block_reward_2\n",
        "bitcoin_prices_block.iloc[block_reward_2_days:block_reward_3_days, -1] = block_reward_3\n",
        "bitcoin_prices_block.iloc[block_reward_3_days:, -1] = block_reward_4\n",
        "bitcoin_prices_block.head()"
      ],
      "metadata": {
        "colab": {
          "base_uri": "https://localhost:8080/",
          "height": 235
        },
        "id": "ZMJIthLJjkvy",
        "outputId": "8b5eb099-709c-41a5-b588-522fa7c21988"
      },
      "execution_count": 81,
      "outputs": [
        {
          "output_type": "execute_result",
          "data": {
            "text/plain": [
              "            Closing Price (USD) block_reward\n",
              "Date                                        \n",
              "2013-10-01            123.65499           25\n",
              "2013-10-02            125.45500           25\n",
              "2013-10-03            108.58483           25\n",
              "2013-10-04            118.67466           25\n",
              "2013-10-05            121.33866           25"
            ],
            "text/html": [
              "\n",
              "  <div id=\"df-151e66f2-54eb-4fe7-a165-d70de3a7055b\">\n",
              "    <div class=\"colab-df-container\">\n",
              "      <div>\n",
              "<style scoped>\n",
              "    .dataframe tbody tr th:only-of-type {\n",
              "        vertical-align: middle;\n",
              "    }\n",
              "\n",
              "    .dataframe tbody tr th {\n",
              "        vertical-align: top;\n",
              "    }\n",
              "\n",
              "    .dataframe thead th {\n",
              "        text-align: right;\n",
              "    }\n",
              "</style>\n",
              "<table border=\"1\" class=\"dataframe\">\n",
              "  <thead>\n",
              "    <tr style=\"text-align: right;\">\n",
              "      <th></th>\n",
              "      <th>Closing Price (USD)</th>\n",
              "      <th>block_reward</th>\n",
              "    </tr>\n",
              "    <tr>\n",
              "      <th>Date</th>\n",
              "      <th></th>\n",
              "      <th></th>\n",
              "    </tr>\n",
              "  </thead>\n",
              "  <tbody>\n",
              "    <tr>\n",
              "      <th>2013-10-01</th>\n",
              "      <td>123.65499</td>\n",
              "      <td>25</td>\n",
              "    </tr>\n",
              "    <tr>\n",
              "      <th>2013-10-02</th>\n",
              "      <td>125.45500</td>\n",
              "      <td>25</td>\n",
              "    </tr>\n",
              "    <tr>\n",
              "      <th>2013-10-03</th>\n",
              "      <td>108.58483</td>\n",
              "      <td>25</td>\n",
              "    </tr>\n",
              "    <tr>\n",
              "      <th>2013-10-04</th>\n",
              "      <td>118.67466</td>\n",
              "      <td>25</td>\n",
              "    </tr>\n",
              "    <tr>\n",
              "      <th>2013-10-05</th>\n",
              "      <td>121.33866</td>\n",
              "      <td>25</td>\n",
              "    </tr>\n",
              "  </tbody>\n",
              "</table>\n",
              "</div>\n",
              "      <button class=\"colab-df-convert\" onclick=\"convertToInteractive('df-151e66f2-54eb-4fe7-a165-d70de3a7055b')\"\n",
              "              title=\"Convert this dataframe to an interactive table.\"\n",
              "              style=\"display:none;\">\n",
              "        \n",
              "  <svg xmlns=\"http://www.w3.org/2000/svg\" height=\"24px\"viewBox=\"0 0 24 24\"\n",
              "       width=\"24px\">\n",
              "    <path d=\"M0 0h24v24H0V0z\" fill=\"none\"/>\n",
              "    <path d=\"M18.56 5.44l.94 2.06.94-2.06 2.06-.94-2.06-.94-.94-2.06-.94 2.06-2.06.94zm-11 1L8.5 8.5l.94-2.06 2.06-.94-2.06-.94L8.5 2.5l-.94 2.06-2.06.94zm10 10l.94 2.06.94-2.06 2.06-.94-2.06-.94-.94-2.06-.94 2.06-2.06.94z\"/><path d=\"M17.41 7.96l-1.37-1.37c-.4-.4-.92-.59-1.43-.59-.52 0-1.04.2-1.43.59L10.3 9.45l-7.72 7.72c-.78.78-.78 2.05 0 2.83L4 21.41c.39.39.9.59 1.41.59.51 0 1.02-.2 1.41-.59l7.78-7.78 2.81-2.81c.8-.78.8-2.07 0-2.86zM5.41 20L4 18.59l7.72-7.72 1.47 1.35L5.41 20z\"/>\n",
              "  </svg>\n",
              "      </button>\n",
              "      \n",
              "  <style>\n",
              "    .colab-df-container {\n",
              "      display:flex;\n",
              "      flex-wrap:wrap;\n",
              "      gap: 12px;\n",
              "    }\n",
              "\n",
              "    .colab-df-convert {\n",
              "      background-color: #E8F0FE;\n",
              "      border: none;\n",
              "      border-radius: 50%;\n",
              "      cursor: pointer;\n",
              "      display: none;\n",
              "      fill: #1967D2;\n",
              "      height: 32px;\n",
              "      padding: 0 0 0 0;\n",
              "      width: 32px;\n",
              "    }\n",
              "\n",
              "    .colab-df-convert:hover {\n",
              "      background-color: #E2EBFA;\n",
              "      box-shadow: 0px 1px 2px rgba(60, 64, 67, 0.3), 0px 1px 3px 1px rgba(60, 64, 67, 0.15);\n",
              "      fill: #174EA6;\n",
              "    }\n",
              "\n",
              "    [theme=dark] .colab-df-convert {\n",
              "      background-color: #3B4455;\n",
              "      fill: #D2E3FC;\n",
              "    }\n",
              "\n",
              "    [theme=dark] .colab-df-convert:hover {\n",
              "      background-color: #434B5C;\n",
              "      box-shadow: 0px 1px 3px 1px rgba(0, 0, 0, 0.15);\n",
              "      filter: drop-shadow(0px 1px 2px rgba(0, 0, 0, 0.3));\n",
              "      fill: #FFFFFF;\n",
              "    }\n",
              "  </style>\n",
              "\n",
              "      <script>\n",
              "        const buttonEl =\n",
              "          document.querySelector('#df-151e66f2-54eb-4fe7-a165-d70de3a7055b button.colab-df-convert');\n",
              "        buttonEl.style.display =\n",
              "          google.colab.kernel.accessAllowed ? 'block' : 'none';\n",
              "\n",
              "        async function convertToInteractive(key) {\n",
              "          const element = document.querySelector('#df-151e66f2-54eb-4fe7-a165-d70de3a7055b');\n",
              "          const dataTable =\n",
              "            await google.colab.kernel.invokeFunction('convertToInteractive',\n",
              "                                                     [key], {});\n",
              "          if (!dataTable) return;\n",
              "\n",
              "          const docLinkHtml = 'Like what you see? Visit the ' +\n",
              "            '<a target=\"_blank\" href=https://colab.research.google.com/notebooks/data_table.ipynb>data table notebook</a>'\n",
              "            + ' to learn more about interactive tables.';\n",
              "          element.innerHTML = '';\n",
              "          dataTable['output_type'] = 'display_data';\n",
              "          await google.colab.output.renderOutput(dataTable, element);\n",
              "          const docLink = document.createElement('div');\n",
              "          docLink.innerHTML = docLinkHtml;\n",
              "          element.appendChild(docLink);\n",
              "        }\n",
              "      </script>\n",
              "    </div>\n",
              "  </div>\n",
              "  "
            ]
          },
          "metadata": {},
          "execution_count": 81
        }
      ]
    },
    {
      "cell_type": "code",
      "source": [
        "from sklearn.preprocessing import minmax_scale\n",
        "scaled_price_block_df = pd.DataFrame(minmax_scale(bitcoin_prices_block[[\"Closing Price (USD)\", \"block_reward\"]]), # we need to scale the data first\n",
        "                                     columns=bitcoin_prices_block.columns,\n",
        "                                     index=bitcoin_prices_block.index)\n",
        "scaled_price_block_df.plot(figsize=(10, 7));\n"
      ],
      "metadata": {
        "colab": {
          "base_uri": "https://localhost:8080/",
          "height": 442
        },
        "id": "DJZtcEVAjwk_",
        "outputId": "8ac76877-02fb-40d8-b71f-0f8ae51803f9"
      },
      "execution_count": 82,
      "outputs": [
        {
          "output_type": "display_data",
          "data": {
            "text/plain": [
              "<Figure size 720x504 with 1 Axes>"
            ],
            "image/png": "[encoded data removed]"
          },
          "metadata": {
            "needs_background": "light"
          }
        }
      ]
    },
    {
      "cell_type": "code",
      "source": [
        "bitcoin_prices_windowed = bitcoin_prices_block.copy()\n",
        "\n",
        "# Add windowed columns\n",
        "for i in range(WINDOW): # Shift values for each step in WINDOW_SIZE\n",
        "  bitcoin_prices_windowed[f\"Closing Price (USD)+{i+1}\"] = bitcoin_prices_windowed[\"Closing Price (USD)\"].shift(periods=i+1)\n",
        "bitcoin_prices_windowed.head(10)"
      ],
      "metadata": {
        "colab": {
          "base_uri": "https://localhost:8080/",
          "height": 638
        },
        "id": "KkCqXIB52QAd",
        "outputId": "51f316fb-0005-400e-8264-8be1f88f6889"
      },
      "execution_count": 83,
      "outputs": [
        {
          "output_type": "execute_result",
          "data": {
            "text/plain": [
              "            Closing Price (USD) block_reward  Closing Price (USD)+1  \\\n",
              "Date                                                                  \n",
              "2013-10-01            123.65499           25                    NaN   \n",
              "2013-10-02            125.45500           25              123.65499   \n",
              "2013-10-03            108.58483           25              125.45500   \n",
              "2013-10-04            118.67466           25              108.58483   \n",
              "2013-10-05            121.33866           25              118.67466   \n",
              "2013-10-06            120.65533           25              121.33866   \n",
              "2013-10-07            121.79500           25              120.65533   \n",
              "2013-10-08            123.03300           25              121.79500   \n",
              "2013-10-09            124.04900           25              123.03300   \n",
              "2013-10-10            125.96116           25              124.04900   \n",
              "\n",
              "            Closing Price (USD)+2  Closing Price (USD)+3  \\\n",
              "Date                                                       \n",
              "2013-10-01                    NaN                    NaN   \n",
              "2013-10-02                    NaN                    NaN   \n",
              "2013-10-03              123.65499                    NaN   \n",
              "2013-10-04              125.45500              123.65499   \n",
              "2013-10-05              108.58483              125.45500   \n",
              "2013-10-06              118.67466              108.58483   \n",
              "2013-10-07              121.33866              118.67466   \n",
              "2013-10-08              120.65533              121.33866   \n",
              "2013-10-09              121.79500              120.65533   \n",
              "2013-10-10              123.03300              121.79500   \n",
              "\n",
              "            Closing Price (USD)+4  Closing Price (USD)+5  \\\n",
              "Date                                                       \n",
              "2013-10-01                    NaN                    NaN   \n",
              "2013-10-02                    NaN                    NaN   \n",
              "2013-10-03                    NaN                    NaN   \n",
              "2013-10-04                    NaN                    NaN   \n",
              "2013-10-05              123.65499                    NaN   \n",
              "2013-10-06              125.45500              123.65499   \n",
              "2013-10-07              108.58483              125.45500   \n",
              "2013-10-08              118.67466              108.58483   \n",
              "2013-10-09              121.33866              118.67466   \n",
              "2013-10-10              120.65533              121.33866   \n",
              "\n",
              "            Closing Price (USD)+6  Closing Price (USD)+7  \n",
              "Date                                                      \n",
              "2013-10-01                    NaN                    NaN  \n",
              "2013-10-02                    NaN                    NaN  \n",
              "2013-10-03                    NaN                    NaN  \n",
              "2013-10-04                    NaN                    NaN  \n",
              "2013-10-05                    NaN                    NaN  \n",
              "2013-10-06                    NaN                    NaN  \n",
              "2013-10-07              123.65499                    NaN  \n",
              "2013-10-08              125.45500              123.65499  \n",
              "2013-10-09              108.58483              125.45500  \n",
              "2013-10-10              118.67466              108.58483  "
            ],
            "text/html": [
              "\n",
              "  <div id=\"df-8df7882c-3fe6-46ad-8e47-9268897f0fc2\">\n",
              "    <div class=\"colab-df-container\">\n",
              "      <div>\n",
              "<style scoped>\n",
              "    .dataframe tbody tr th:only-of-type {\n",
              "        vertical-align: middle;\n",
              "    }\n",
              "\n",
              "    .dataframe tbody tr th {\n",
              "        vertical-align: top;\n",
              "    }\n",
              "\n",
              "    .dataframe thead th {\n",
              "        text-align: right;\n",
              "    }\n",
              "</style>\n",
              "<table border=\"1\" class=\"dataframe\">\n",
              "  <thead>\n",
              "    <tr style=\"text-align: right;\">\n",
              "      <th></th>\n",
              "      <th>Closing Price (USD)</th>\n",
              "      <th>block_reward</th>\n",
              "      <th>Closing Price (USD)+1</th>\n",
              "      <th>Closing Price (USD)+2</th>\n",
              "      <th>Closing Price (USD)+3</th>\n",
              "      <th>Closing Price (USD)+4</th>\n",
              "      <th>Closing Price (USD)+5</th>\n",
              "      <th>Closing Price (USD)+6</th>\n",
              "      <th>Closing Price (USD)+7</th>\n",
              "    </tr>\n",
              "    <tr>\n",
              "      <th>Date</th>\n",
              "      <th></th>\n",
              "      <th></th>\n",
              "      <th></th>\n",
              "      <th></th>\n",
              "      <th></th>\n",
              "      <th></th>\n",
              "      <th></th>\n",
              "      <th></th>\n",
              "      <th></th>\n",
              "    </tr>\n",
              "  </thead>\n",
              "  <tbody>\n",
              "    <tr>\n",
              "      <th>2013-10-01</th>\n",
              "      <td>123.65499</td>\n",
              "      <td>25</td>\n",
              "      <td>NaN</td>\n",
              "      <td>NaN</td>\n",
              "      <td>NaN</td>\n",
              "      <td>NaN</td>\n",
              "      <td>NaN</td>\n",
              "      <td>NaN</td>\n",
              "      <td>NaN</td>\n",
              "    </tr>\n",
              "    <tr>\n",
              "      <th>2013-10-02</th>\n",
              "      <td>125.45500</td>\n",
              "      <td>25</td>\n",
              "      <td>123.65499</td>\n",
              "      <td>NaN</td>\n",
              "      <td>NaN</td>\n",
              "      <td>NaN</td>\n",
              "      <td>NaN</td>\n",
              "      <td>NaN</td>\n",
              "      <td>NaN</td>\n",
              "    </tr>\n",
              "    <tr>\n",
              "      <th>2013-10-03</th>\n",
              "      <td>108.58483</td>\n",
              "      <td>25</td>\n",
              "      <td>125.45500</td>\n",
              "      <td>123.65499</td>\n",
              "      <td>NaN</td>\n",
              "      <td>NaN</td>\n",
              "      <td>NaN</td>\n",
              "      <td>NaN</td>\n",
              "      <td>NaN</td>\n",
              "    </tr>\n",
              "    <tr>\n",
              "      <th>2013-10-04</th>\n",
              "      <td>118.67466</td>\n",
              "      <td>25</td>\n",
              "      <td>108.58483</td>\n",
              "      <td>125.45500</td>\n",
              "      <td>123.65499</td>\n",
              "      <td>NaN</td>\n",
              "      <td>NaN</td>\n",
              "      <td>NaN</td>\n",
              "      <td>NaN</td>\n",
              "    </tr>\n",
              "    <tr>\n",
              "      <th>2013-10-05</th>\n",
              "      <td>121.33866</td>\n",
              "      <td>25</td>\n",
              "      <td>118.67466</td>\n",
              "      <td>108.58483</td>\n",
              "      <td>125.45500</td>\n",
              "      <td>123.65499</td>\n",
              "      <td>NaN</td>\n",
              "      <td>NaN</td>\n",
              "      <td>NaN</td>\n",
              "    </tr>\n",
              "    <tr>\n",
              "      <th>2013-10-06</th>\n",
              "      <td>120.65533</td>\n",
              "      <td>25</td>\n",
              "      <td>121.33866</td>\n",
              "      <td>118.67466</td>\n",
              "      <td>108.58483</td>\n",
              "      <td>125.45500</td>\n",
              "      <td>123.65499</td>\n",
              "      <td>NaN</td>\n",
              "      <td>NaN</td>\n",
              "    </tr>\n",
              "    <tr>\n",
              "      <th>2013-10-07</th>\n",
              "      <td>121.79500</td>\n",
              "      <td>25</td>\n",
              "      <td>120.65533</td>\n",
              "      <td>121.33866</td>\n",
              "      <td>118.67466</td>\n",
              "      <td>108.58483</td>\n",
              "      <td>125.45500</td>\n",
              "      <td>123.65499</td>\n",
              "      <td>NaN</td>\n",
              "    </tr>\n",
              "    <tr>\n",
              "      <th>2013-10-08</th>\n",
              "      <td>123.03300</td>\n",
              "      <td>25</td>\n",
              "      <td>121.79500</td>\n",
              "      <td>120.65533</td>\n",
              "      <td>121.33866</td>\n",
              "      <td>118.67466</td>\n",
              "      <td>108.58483</td>\n",
              "      <td>125.45500</td>\n",
              "      <td>123.65499</td>\n",
              "    </tr>\n",
              "    <tr>\n",
              "      <th>2013-10-09</th>\n",
              "      <td>124.04900</td>\n",
              "      <td>25</td>\n",
              "      <td>123.03300</td>\n",
              "      <td>121.79500</td>\n",
              "      <td>120.65533</td>\n",
              "      <td>121.33866</td>\n",
              "      <td>118.67466</td>\n",
              "      <td>108.58483</td>\n",
              "      <td>125.45500</td>\n",
              "    </tr>\n",
              "    <tr>\n",
              "      <th>2013-10-10</th>\n",
              "      <td>125.96116</td>\n",
              "      <td>25</td>\n",
              "      <td>124.04900</td>\n",
              "      <td>123.03300</td>\n",
              "      <td>121.79500</td>\n",
              "      <td>120.65533</td>\n",
              "      <td>121.33866</td>\n",
              "      <td>118.67466</td>\n",
              "      <td>108.58483</td>\n",
              "    </tr>\n",
              "  </tbody>\n",
              "</table>\n",
              "</div>\n",
              "      <button class=\"colab-df-convert\" onclick=\"convertToInteractive('df-8df7882c-3fe6-46ad-8e47-9268897f0fc2')\"\n",
              "              title=\"Convert this dataframe to an interactive table.\"\n",
              "              style=\"display:none;\">\n",
              "        \n",
              "  <svg xmlns=\"http://www.w3.org/2000/svg\" height=\"24px\"viewBox=\"0 0 24 24\"\n",
              "       width=\"24px\">\n",
              "    <path d=\"M0 0h24v24H0V0z\" fill=\"none\"/>\n",
              "    <path d=\"M18.56 5.44l.94 2.06.94-2.06 2.06-.94-2.06-.94-.94-2.06-.94 2.06-2.06.94zm-11 1L8.5 8.5l.94-2.06 2.06-.94-2.06-.94L8.5 2.5l-.94 2.06-2.06.94zm10 10l.94 2.06.94-2.06 2.06-.94-2.06-.94-.94-2.06-.94 2.06-2.06.94z\"/><path d=\"M17.41 7.96l-1.37-1.37c-.4-.4-.92-.59-1.43-.59-.52 0-1.04.2-1.43.59L10.3 9.45l-7.72 7.72c-.78.78-.78 2.05 0 2.83L4 21.41c.39.39.9.59 1.41.59.51 0 1.02-.2 1.41-.59l7.78-7.78 2.81-2.81c.8-.78.8-2.07 0-2.86zM5.41 20L4 18.59l7.72-7.72 1.47 1.35L5.41 20z\"/>\n",
              "  </svg>\n",
              "      </button>\n",
              "      \n",
              "  <style>\n",
              "    .colab-df-container {\n",
              "      display:flex;\n",
              "      flex-wrap:wrap;\n",
              "      gap: 12px;\n",
              "    }\n",
              "\n",
              "    .colab-df-convert {\n",
              "      background-color: #E8F0FE;\n",
              "      border: none;\n",
              "      border-radius: 50%;\n",
              "      cursor: pointer;\n",
              "      display: none;\n",
              "      fill: #1967D2;\n",
              "      height: 32px;\n",
              "      padding: 0 0 0 0;\n",
              "      width: 32px;\n",
              "    }\n",
              "\n",
              "    .colab-df-convert:hover {\n",
              "      background-color: #E2EBFA;\n",
              "      box-shadow: 0px 1px 2px rgba(60, 64, 67, 0.3), 0px 1px 3px 1px rgba(60, 64, 67, 0.15);\n",
              "      fill: #174EA6;\n",
              "    }\n",
              "\n",
              "    [theme=dark] .colab-df-convert {\n",
              "      background-color: #3B4455;\n",
              "      fill: #D2E3FC;\n",
              "    }\n",
              "\n",
              "    [theme=dark] .colab-df-convert:hover {\n",
              "      background-color: #434B5C;\n",
              "      box-shadow: 0px 1px 3px 1px rgba(0, 0, 0, 0.15);\n",
              "      filter: drop-shadow(0px 1px 2px rgba(0, 0, 0, 0.3));\n",
              "      fill: #FFFFFF;\n",
              "    }\n",
              "  </style>\n",
              "\n",
              "      <script>\n",
              "        const buttonEl =\n",
              "          document.querySelector('#df-8df7882c-3fe6-46ad-8e47-9268897f0fc2 button.colab-df-convert');\n",
              "        buttonEl.style.display =\n",
              "          google.colab.kernel.accessAllowed ? 'block' : 'none';\n",
              "\n",
              "        async function convertToInteractive(key) {\n",
              "          const element = document.querySelector('#df-8df7882c-3fe6-46ad-8e47-9268897f0fc2');\n",
              "          const dataTable =\n",
              "            await google.colab.kernel.invokeFunction('convertToInteractive',\n",
              "                                                     [key], {});\n",
              "          if (!dataTable) return;\n",
              "\n",
              "          const docLinkHtml = 'Like what you see? Visit the ' +\n",
              "            '<a target=\"_blank\" href=https://colab.research.google.com/notebooks/data_table.ipynb>data table notebook</a>'\n",
              "            + ' to learn more about interactive tables.';\n",
              "          element.innerHTML = '';\n",
              "          dataTable['output_type'] = 'display_data';\n",
              "          await google.colab.output.renderOutput(dataTable, element);\n",
              "          const docLink = document.createElement('div');\n",
              "          docLink.innerHTML = docLinkHtml;\n",
              "          element.appendChild(docLink);\n",
              "        }\n",
              "      </script>\n",
              "    </div>\n",
              "  </div>\n",
              "  "
            ]
          },
          "metadata": {},
          "execution_count": 83
        }
      ]
    },
    {
      "cell_type": "code",
      "source": [
        "X = bitcoin_prices_windowed.dropna().drop(\"Closing Price (USD)\", axis=1).astype(np.float32) \n",
        "y = bitcoin_prices_windowed.dropna()[\"Closing Price (USD)\"].astype(np.float32)\n",
        "X.head()"
      ],
      "metadata": {
        "colab": {
          "base_uri": "https://localhost:8080/",
          "height": 398
        },
        "id": "IbvCg_rP2ekG",
        "outputId": "12ba4993-03bb-4502-bb76-9637e7b1d9eb"
      },
      "execution_count": 84,
      "outputs": [
        {
          "output_type": "execute_result",
          "data": {
            "text/plain": [
              "            block_reward  Closing Price (USD)+1  Closing Price (USD)+2  \\\n",
              "Date                                                                     \n",
              "2013-10-08          25.0             121.794998             120.655327   \n",
              "2013-10-09          25.0             123.032997             121.794998   \n",
              "2013-10-10          25.0             124.049004             123.032997   \n",
              "2013-10-11          25.0             125.961159             124.049004   \n",
              "2013-10-12          25.0             125.279663             125.961159   \n",
              "\n",
              "            Closing Price (USD)+3  Closing Price (USD)+4  \\\n",
              "Date                                                       \n",
              "2013-10-08             121.338661             118.674660   \n",
              "2013-10-09             120.655327             121.338661   \n",
              "2013-10-10             121.794998             120.655327   \n",
              "2013-10-11             123.032997             121.794998   \n",
              "2013-10-12             124.049004             123.032997   \n",
              "\n",
              "            Closing Price (USD)+5  Closing Price (USD)+6  \\\n",
              "Date                                                       \n",
              "2013-10-08             108.584831             125.455002   \n",
              "2013-10-09             118.674660             108.584831   \n",
              "2013-10-10             121.338661             118.674660   \n",
              "2013-10-11             120.655327             121.338661   \n",
              "2013-10-12             121.794998             120.655327   \n",
              "\n",
              "            Closing Price (USD)+7  \n",
              "Date                               \n",
              "2013-10-08             123.654991  \n",
              "2013-10-09             125.455002  \n",
              "2013-10-10             108.584831  \n",
              "2013-10-11             118.674660  \n",
              "2013-10-12             121.338661  "
            ],
            "text/html": [
              "\n",
              "  <div id=\"df-09acedac-e430-4681-a6cb-4d0811df316d\">\n",
              "    <div class=\"colab-df-container\">\n",
              "      <div>\n",
              "<style scoped>\n",
              "    .dataframe tbody tr th:only-of-type {\n",
              "        vertical-align: middle;\n",
              "    }\n",
              "\n",
              "    .dataframe tbody tr th {\n",
              "        vertical-align: top;\n",
              "    }\n",
              "\n",
              "    .dataframe thead th {\n",
              "        text-align: right;\n",
              "    }\n",
              "</style>\n",
              "<table border=\"1\" class=\"dataframe\">\n",
              "  <thead>\n",
              "    <tr style=\"text-align: right;\">\n",
              "      <th></th>\n",
              "      <th>block_reward</th>\n",
              "      <th>Closing Price (USD)+1</th>\n",
              "      <th>Closing Price (USD)+2</th>\n",
              "      <th>Closing Price (USD)+3</th>\n",
              "      <th>Closing Price (USD)+4</th>\n",
              "      <th>Closing Price (USD)+5</th>\n",
              "      <th>Closing Price (USD)+6</th>\n",
              "      <th>Closing Price (USD)+7</th>\n",
              "    </tr>\n",
              "    <tr>\n",
              "      <th>Date</th>\n",
              "      <th></th>\n",
              "      <th></th>\n",
              "      <th></th>\n",
              "      <th></th>\n",
              "      <th></th>\n",
              "      <th></th>\n",
              "      <th></th>\n",
              "      <th></th>\n",
              "    </tr>\n",
              "  </thead>\n",
              "  <tbody>\n",
              "    <tr>\n",
              "      <th>2013-10-08</th>\n",
              "      <td>25.0</td>\n",
              "      <td>121.794998</td>\n",
              "      <td>120.655327</td>\n",
              "      <td>121.338661</td>\n",
              "      <td>118.674660</td>\n",
              "      <td>108.584831</td>\n",
              "      <td>125.455002</td>\n",
              "      <td>123.654991</td>\n",
              "    </tr>\n",
              "    <tr>\n",
              "      <th>2013-10-09</th>\n",
              "      <td>25.0</td>\n",
              "      <td>123.032997</td>\n",
              "      <td>121.794998</td>\n",
              "      <td>120.655327</td>\n",
              "      <td>121.338661</td>\n",
              "      <td>118.674660</td>\n",
              "      <td>108.584831</td>\n",
              "      <td>125.455002</td>\n",
              "    </tr>\n",
              "    <tr>\n",
              "      <th>2013-10-10</th>\n",
              "      <td>25.0</td>\n",
              "      <td>124.049004</td>\n",
              "      <td>123.032997</td>\n",
              "      <td>121.794998</td>\n",
              "      <td>120.655327</td>\n",
              "      <td>121.338661</td>\n",
              "      <td>118.674660</td>\n",
              "      <td>108.584831</td>\n",
              "    </tr>\n",
              "    <tr>\n",
              "      <th>2013-10-11</th>\n",
              "      <td>25.0</td>\n",
              "      <td>125.961159</td>\n",
              "      <td>124.049004</td>\n",
              "      <td>123.032997</td>\n",
              "      <td>121.794998</td>\n",
              "      <td>120.655327</td>\n",
              "      <td>121.338661</td>\n",
              "      <td>118.674660</td>\n",
              "    </tr>\n",
              "    <tr>\n",
              "      <th>2013-10-12</th>\n",
              "      <td>25.0</td>\n",
              "      <td>125.279663</td>\n",
              "      <td>125.961159</td>\n",
              "      <td>124.049004</td>\n",
              "      <td>123.032997</td>\n",
              "      <td>121.794998</td>\n",
              "      <td>120.655327</td>\n",
              "      <td>121.338661</td>\n",
              "    </tr>\n",
              "  </tbody>\n",
              "</table>\n",
              "</div>\n",
              "      <button class=\"colab-df-convert\" onclick=\"convertToInteractive('df-09acedac-e430-4681-a6cb-4d0811df316d')\"\n",
              "              title=\"Convert this dataframe to an interactive table.\"\n",
              "              style=\"display:none;\">\n",
              "        \n",
              "  <svg xmlns=\"http://www.w3.org/2000/svg\" height=\"24px\"viewBox=\"0 0 24 24\"\n",
              "       width=\"24px\">\n",
              "    <path d=\"M0 0h24v24H0V0z\" fill=\"none\"/>\n",
              "    <path d=\"M18.56 5.44l.94 2.06.94-2.06 2.06-.94-2.06-.94-.94-2.06-.94 2.06-2.06.94zm-11 1L8.5 8.5l.94-2.06 2.06-.94-2.06-.94L8.5 2.5l-.94 2.06-2.06.94zm10 10l.94 2.06.94-2.06 2.06-.94-2.06-.94-.94-2.06-.94 2.06-2.06.94z\"/><path d=\"M17.41 7.96l-1.37-1.37c-.4-.4-.92-.59-1.43-.59-.52 0-1.04.2-1.43.59L10.3 9.45l-7.72 7.72c-.78.78-.78 2.05 0 2.83L4 21.41c.39.39.9.59 1.41.59.51 0 1.02-.2 1.41-.59l7.78-7.78 2.81-2.81c.8-.78.8-2.07 0-2.86zM5.41 20L4 18.59l7.72-7.72 1.47 1.35L5.41 20z\"/>\n",
              "  </svg>\n",
              "      </button>\n",
              "      \n",
              "  <style>\n",
              "    .colab-df-container {\n",
              "      display:flex;\n",
              "      flex-wrap:wrap;\n",
              "      gap: 12px;\n",
              "    }\n",
              "\n",
              "    .colab-df-convert {\n",
              "      background-color: #E8F0FE;\n",
              "      border: none;\n",
              "      border-radius: 50%;\n",
              "      cursor: pointer;\n",
              "      display: none;\n",
              "      fill: #1967D2;\n",
              "      height: 32px;\n",
              "      padding: 0 0 0 0;\n",
              "      width: 32px;\n",
              "    }\n",
              "\n",
              "    .colab-df-convert:hover {\n",
              "      background-color: #E2EBFA;\n",
              "      box-shadow: 0px 1px 2px rgba(60, 64, 67, 0.3), 0px 1px 3px 1px rgba(60, 64, 67, 0.15);\n",
              "      fill: #174EA6;\n",
              "    }\n",
              "\n",
              "    [theme=dark] .colab-df-convert {\n",
              "      background-color: #3B4455;\n",
              "      fill: #D2E3FC;\n",
              "    }\n",
              "\n",
              "    [theme=dark] .colab-df-convert:hover {\n",
              "      background-color: #434B5C;\n",
              "      box-shadow: 0px 1px 3px 1px rgba(0, 0, 0, 0.15);\n",
              "      filter: drop-shadow(0px 1px 2px rgba(0, 0, 0, 0.3));\n",
              "      fill: #FFFFFF;\n",
              "    }\n",
              "  </style>\n",
              "\n",
              "      <script>\n",
              "        const buttonEl =\n",
              "          document.querySelector('#df-09acedac-e430-4681-a6cb-4d0811df316d button.colab-df-convert');\n",
              "        buttonEl.style.display =\n",
              "          google.colab.kernel.accessAllowed ? 'block' : 'none';\n",
              "\n",
              "        async function convertToInteractive(key) {\n",
              "          const element = document.querySelector('#df-09acedac-e430-4681-a6cb-4d0811df316d');\n",
              "          const dataTable =\n",
              "            await google.colab.kernel.invokeFunction('convertToInteractive',\n",
              "                                                     [key], {});\n",
              "          if (!dataTable) return;\n",
              "\n",
              "          const docLinkHtml = 'Like what you see? Visit the ' +\n",
              "            '<a target=\"_blank\" href=https://colab.research.google.com/notebooks/data_table.ipynb>data table notebook</a>'\n",
              "            + ' to learn more about interactive tables.';\n",
              "          element.innerHTML = '';\n",
              "          dataTable['output_type'] = 'display_data';\n",
              "          await google.colab.output.renderOutput(dataTable, element);\n",
              "          const docLink = document.createElement('div');\n",
              "          docLink.innerHTML = docLinkHtml;\n",
              "          element.appendChild(docLink);\n",
              "        }\n",
              "      </script>\n",
              "    </div>\n",
              "  </div>\n",
              "  "
            ]
          },
          "metadata": {},
          "execution_count": 84
        }
      ]
    },
    {
      "cell_type": "code",
      "source": [
        "split_size = int(len(X) * 0.8)\n",
        "X_train, y_train = X[:split_size], y[:split_size]\n",
        "X_test, y_test = X[split_size:], y[split_size:]\n",
        "len(X_train), len(y_train), len(X_test), len(y_test)"
      ],
      "metadata": {
        "colab": {
          "base_uri": "https://localhost:8080/"
        },
        "id": "nBUOhYXR3afn",
        "outputId": "b8162691-3a6b-44e1-848f-152adce6b6b9"
      },
      "execution_count": 85,
      "outputs": [
        {
          "output_type": "execute_result",
          "data": {
            "text/plain": [
              "(2224, 2224, 556, 556)"
            ]
          },
          "metadata": {},
          "execution_count": 85
        }
      ]
    },
    {
      "cell_type": "markdown",
      "source": [
        "### Model 6: Dense MV"
      ],
      "metadata": {
        "id": "wXfyQ--t2x_M"
      }
    },
    {
      "cell_type": "code",
      "source": [
        "inputs = layers.Input(shape = X_train.shape[1])\n",
        "x = layers.Dense(128, activation = 'relu')(inputs)\n",
        "x = layers.Dense(64, activation = 'relu')(x)\n",
        "\n",
        "outputs = layers.Dense(HORIZON)(x)\n",
        "model_6 = tf.keras.Model(inputs, outputs, name = 'model_6_D_MV')"
      ],
      "metadata": {
        "id": "KsLxr5N93Tj2"
      },
      "execution_count": 86,
      "outputs": []
    },
    {
      "cell_type": "code",
      "source": [
        "model_6.compile(loss=\"mae\",\n",
        "                optimizer=tf.keras.optimizers.Adam())"
      ],
      "metadata": {
        "id": "kCSW6j7U3Uwm"
      },
      "execution_count": 87,
      "outputs": []
    },
    {
      "cell_type": "code",
      "source": [
        "model_6.fit(X_train, y_train,\n",
        "            epochs=100,\n",
        "            batch_size=128,\n",
        "            verbose=0, # only print 1 line per epoch\n",
        "            validation_data=(X_test, y_test),\n",
        "            callbacks=[create_model_checkpoint(model_name=model_6.name)])"
      ],
      "metadata": {
        "colab": {
          "base_uri": "https://localhost:8080/"
        },
        "id": "rJINDNUl3VHd",
        "outputId": "68e45f91-36db-4081-df0a-0c98465bbfc3"
      },
      "execution_count": 88,
      "outputs": [
        {
          "output_type": "stream",
          "name": "stdout",
          "text": [
            "INFO:tensorflow:Assets written to: model_experiments/model_6_D_MV/assets\n"
          ]
        },
        {
          "output_type": "stream",
          "name": "stderr",
          "text": [
            "INFO:tensorflow:Assets written to: model_experiments/model_6_D_MV/assets\n"
          ]
        },
        {
          "output_type": "stream",
          "name": "stdout",
          "text": [
            "INFO:tensorflow:Assets written to: model_experiments/model_6_D_MV/assets\n"
          ]
        },
        {
          "output_type": "stream",
          "name": "stderr",
          "text": [
            "INFO:tensorflow:Assets written to: model_experiments/model_6_D_MV/assets\n"
          ]
        },
        {
          "output_type": "stream",
          "name": "stdout",
          "text": [
            "INFO:tensorflow:Assets written to: model_experiments/model_6_D_MV/assets\n"
          ]
        },
        {
          "output_type": "stream",
          "name": "stderr",
          "text": [
            "INFO:tensorflow:Assets written to: model_experiments/model_6_D_MV/assets\n"
          ]
        },
        {
          "output_type": "stream",
          "name": "stdout",
          "text": [
            "INFO:tensorflow:Assets written to: model_experiments/model_6_D_MV/assets\n"
          ]
        },
        {
          "output_type": "stream",
          "name": "stderr",
          "text": [
            "INFO:tensorflow:Assets written to: model_experiments/model_6_D_MV/assets\n"
          ]
        },
        {
          "output_type": "stream",
          "name": "stdout",
          "text": [
            "INFO:tensorflow:Assets written to: model_experiments/model_6_D_MV/assets\n"
          ]
        },
        {
          "output_type": "stream",
          "name": "stderr",
          "text": [
            "INFO:tensorflow:Assets written to: model_experiments/model_6_D_MV/assets\n"
          ]
        },
        {
          "output_type": "stream",
          "name": "stdout",
          "text": [
            "INFO:tensorflow:Assets written to: model_experiments/model_6_D_MV/assets\n"
          ]
        },
        {
          "output_type": "stream",
          "name": "stderr",
          "text": [
            "INFO:tensorflow:Assets written to: model_experiments/model_6_D_MV/assets\n"
          ]
        },
        {
          "output_type": "stream",
          "name": "stdout",
          "text": [
            "INFO:tensorflow:Assets written to: model_experiments/model_6_D_MV/assets\n"
          ]
        },
        {
          "output_type": "stream",
          "name": "stderr",
          "text": [
            "INFO:tensorflow:Assets written to: model_experiments/model_6_D_MV/assets\n"
          ]
        },
        {
          "output_type": "stream",
          "name": "stdout",
          "text": [
            "INFO:tensorflow:Assets written to: model_experiments/model_6_D_MV/assets\n"
          ]
        },
        {
          "output_type": "stream",
          "name": "stderr",
          "text": [
            "INFO:tensorflow:Assets written to: model_experiments/model_6_D_MV/assets\n"
          ]
        },
        {
          "output_type": "stream",
          "name": "stdout",
          "text": [
            "INFO:tensorflow:Assets written to: model_experiments/model_6_D_MV/assets\n"
          ]
        },
        {
          "output_type": "stream",
          "name": "stderr",
          "text": [
            "INFO:tensorflow:Assets written to: model_experiments/model_6_D_MV/assets\n"
          ]
        },
        {
          "output_type": "stream",
          "name": "stdout",
          "text": [
            "INFO:tensorflow:Assets written to: model_experiments/model_6_D_MV/assets\n"
          ]
        },
        {
          "output_type": "stream",
          "name": "stderr",
          "text": [
            "INFO:tensorflow:Assets written to: model_experiments/model_6_D_MV/assets\n"
          ]
        },
        {
          "output_type": "stream",
          "name": "stdout",
          "text": [
            "INFO:tensorflow:Assets written to: model_experiments/model_6_D_MV/assets\n"
          ]
        },
        {
          "output_type": "stream",
          "name": "stderr",
          "text": [
            "INFO:tensorflow:Assets written to: model_experiments/model_6_D_MV/assets\n"
          ]
        },
        {
          "output_type": "stream",
          "name": "stdout",
          "text": [
            "INFO:tensorflow:Assets written to: model_experiments/model_6_D_MV/assets\n"
          ]
        },
        {
          "output_type": "stream",
          "name": "stderr",
          "text": [
            "INFO:tensorflow:Assets written to: model_experiments/model_6_D_MV/assets\n"
          ]
        },
        {
          "output_type": "stream",
          "name": "stdout",
          "text": [
            "INFO:tensorflow:Assets written to: model_experiments/model_6_D_MV/assets\n"
          ]
        },
        {
          "output_type": "stream",
          "name": "stderr",
          "text": [
            "INFO:tensorflow:Assets written to: model_experiments/model_6_D_MV/assets\n"
          ]
        },
        {
          "output_type": "stream",
          "name": "stdout",
          "text": [
            "INFO:tensorflow:Assets written to: model_experiments/model_6_D_MV/assets\n"
          ]
        },
        {
          "output_type": "stream",
          "name": "stderr",
          "text": [
            "INFO:tensorflow:Assets written to: model_experiments/model_6_D_MV/assets\n"
          ]
        },
        {
          "output_type": "stream",
          "name": "stdout",
          "text": [
            "INFO:tensorflow:Assets written to: model_experiments/model_6_D_MV/assets\n"
          ]
        },
        {
          "output_type": "stream",
          "name": "stderr",
          "text": [
            "INFO:tensorflow:Assets written to: model_experiments/model_6_D_MV/assets\n"
          ]
        },
        {
          "output_type": "stream",
          "name": "stdout",
          "text": [
            "INFO:tensorflow:Assets written to: model_experiments/model_6_D_MV/assets\n"
          ]
        },
        {
          "output_type": "stream",
          "name": "stderr",
          "text": [
            "INFO:tensorflow:Assets written to: model_experiments/model_6_D_MV/assets\n"
          ]
        },
        {
          "output_type": "stream",
          "name": "stdout",
          "text": [
            "INFO:tensorflow:Assets written to: model_experiments/model_6_D_MV/assets\n"
          ]
        },
        {
          "output_type": "stream",
          "name": "stderr",
          "text": [
            "INFO:tensorflow:Assets written to: model_experiments/model_6_D_MV/assets\n"
          ]
        },
        {
          "output_type": "stream",
          "name": "stdout",
          "text": [
            "INFO:tensorflow:Assets written to: model_experiments/model_6_D_MV/assets\n"
          ]
        },
        {
          "output_type": "stream",
          "name": "stderr",
          "text": [
            "INFO:tensorflow:Assets written to: model_experiments/model_6_D_MV/assets\n"
          ]
        },
        {
          "output_type": "stream",
          "name": "stdout",
          "text": [
            "INFO:tensorflow:Assets written to: model_experiments/model_6_D_MV/assets\n"
          ]
        },
        {
          "output_type": "stream",
          "name": "stderr",
          "text": [
            "INFO:tensorflow:Assets written to: model_experiments/model_6_D_MV/assets\n"
          ]
        },
        {
          "output_type": "stream",
          "name": "stdout",
          "text": [
            "INFO:tensorflow:Assets written to: model_experiments/model_6_D_MV/assets\n"
          ]
        },
        {
          "output_type": "stream",
          "name": "stderr",
          "text": [
            "INFO:tensorflow:Assets written to: model_experiments/model_6_D_MV/assets\n"
          ]
        },
        {
          "output_type": "stream",
          "name": "stdout",
          "text": [
            "INFO:tensorflow:Assets written to: model_experiments/model_6_D_MV/assets\n"
          ]
        },
        {
          "output_type": "stream",
          "name": "stderr",
          "text": [
            "INFO:tensorflow:Assets written to: model_experiments/model_6_D_MV/assets\n"
          ]
        },
        {
          "output_type": "stream",
          "name": "stdout",
          "text": [
            "INFO:tensorflow:Assets written to: model_experiments/model_6_D_MV/assets\n"
          ]
        },
        {
          "output_type": "stream",
          "name": "stderr",
          "text": [
            "INFO:tensorflow:Assets written to: model_experiments/model_6_D_MV/assets\n"
          ]
        },
        {
          "output_type": "stream",
          "name": "stdout",
          "text": [
            "INFO:tensorflow:Assets written to: model_experiments/model_6_D_MV/assets\n"
          ]
        },
        {
          "output_type": "stream",
          "name": "stderr",
          "text": [
            "INFO:tensorflow:Assets written to: model_experiments/model_6_D_MV/assets\n"
          ]
        },
        {
          "output_type": "stream",
          "name": "stdout",
          "text": [
            "INFO:tensorflow:Assets written to: model_experiments/model_6_D_MV/assets\n"
          ]
        },
        {
          "output_type": "stream",
          "name": "stderr",
          "text": [
            "INFO:tensorflow:Assets written to: model_experiments/model_6_D_MV/assets\n"
          ]
        },
        {
          "output_type": "stream",
          "name": "stdout",
          "text": [
            "INFO:tensorflow:Assets written to: model_experiments/model_6_D_MV/assets\n"
          ]
        },
        {
          "output_type": "stream",
          "name": "stderr",
          "text": [
            "INFO:tensorflow:Assets written to: model_experiments/model_6_D_MV/assets\n"
          ]
        },
        {
          "output_type": "stream",
          "name": "stdout",
          "text": [
            "INFO:tensorflow:Assets written to: model_experiments/model_6_D_MV/assets\n"
          ]
        },
        {
          "output_type": "stream",
          "name": "stderr",
          "text": [
            "INFO:tensorflow:Assets written to: model_experiments/model_6_D_MV/assets\n"
          ]
        },
        {
          "output_type": "execute_result",
          "data": {
            "text/plain": [
              "<keras.callbacks.History at 0x7ff7aa716b10>"
            ]
          },
          "metadata": {},
          "execution_count": 88
        }
      ]
    },
    {
      "cell_type": "code",
      "source": [
        "model_6 = tf.keras.models.load_model(\"model_experiments/model_6_D_MV\")\n",
        "model_6.evaluate(X_test, y_test)"
      ],
      "metadata": {
        "colab": {
          "base_uri": "https://localhost:8080/"
        },
        "id": "9BGkF6Nd3VUb",
        "outputId": "b8ffe214-2818-40eb-d181-d3e0aa16e68d"
      },
      "execution_count": 89,
      "outputs": [
        {
          "output_type": "stream",
          "name": "stdout",
          "text": [
            "18/18 [==============================] - 0s 2ms/step - loss: 573.5144\n"
          ]
        },
        {
          "output_type": "execute_result",
          "data": {
            "text/plain": [
              "573.514404296875"
            ]
          },
          "metadata": {},
          "execution_count": 89
        }
      ]
    },
    {
      "cell_type": "code",
      "source": [
        "# Make predictions on multivariate data\n",
        "model_6_preds = tf.squeeze(model_6.predict(X_test))\n",
        "model_6_preds[:10]"
      ],
      "metadata": {
        "colab": {
          "base_uri": "https://localhost:8080/"
        },
        "id": "7hG1muBr3S9W",
        "outputId": "08bf0730-d894-411f-8a01-e62d5e198a01"
      },
      "execution_count": 90,
      "outputs": [
        {
          "output_type": "execute_result",
          "data": {
            "text/plain": [
              "<tf.Tensor: shape=(10,), dtype=float32, numpy=\n",
              "array([8806.057, 8741.835, 9019.647, 8713.089, 8694.655, 8732.156,\n",
              "       8644.237, 8475.2  , 8433.643, 8503.071], dtype=float32)>"
            ]
          },
          "metadata": {},
          "execution_count": 90
        }
      ]
    },
    {
      "cell_type": "code",
      "source": [
        "model_6_results = evaluate_preds(y_true=y_test,\n",
        "                                 y_preds=model_6_preds)\n",
        "model_6_results"
      ],
      "metadata": {
        "colab": {
          "base_uri": "https://localhost:8080/"
        },
        "id": "0ZKD_AG-3_9u",
        "outputId": "0fa01528-742c-4c1d-d680-9294c945ea36"
      },
      "execution_count": 91,
      "outputs": [
        {
          "output_type": "execute_result",
          "data": {
            "text/plain": [
              "{'mae': 573.5144,\n",
              " 'mape': 2.5923,\n",
              " 'mase': 0.6915621161460876,\n",
              " 'mse': 1174112.0,\n",
              " 'rmse': 1083.5645}"
            ]
          },
          "metadata": {},
          "execution_count": 91
        }
      ]
    },
    {
      "cell_type": "markdown",
      "source": [
        "### Model 7: N-BEATS"
      ],
      "metadata": {
        "id": "mTAUHZhU4nZi"
      }
    },
    {
      "cell_type": "markdown",
      "source": [
        "https://arxiv.org/pdf/1905.10437.pdf"
      ],
      "metadata": {
        "id": "3wzdHghm4wyl"
      }
    },
    {
      "cell_type": "markdown",
      "source": [
        "##### Building the N_BEATS Block Layer"
      ],
      "metadata": {
        "id": "CWy0LXG4iHLm"
      }
    },
    {
      "cell_type": "markdown",
      "source": [
        "Have to build layer as doesnt exist in TF"
      ],
      "metadata": {
        "id": "xgo_aEBpiO8X"
      }
    },
    {
      "cell_type": "code",
      "source": [
        "class NBeatsBlock(tf.keras.layers.Layer):\n",
        "  def __init__(self, \n",
        "               input_size: int,\n",
        "               theta_size: int,\n",
        "               horizon: int,\n",
        "               n_neurons: int,\n",
        "               n_layers: int,\n",
        "               **kwargs):\n",
        "    super().__init__(**kwargs)\n",
        "    self.input_size = input_size\n",
        "    self.theta_size = theta_size\n",
        "    self.horizon = horizon\n",
        "    self.n_neurons = n_neurons\n",
        "    self.n_layers = n_layers\n",
        "\n",
        "    self.hidden = [tf.keras.layers.Dense(self.n_neurons, activation = 'relu') for _ in range(n_layers)]\n",
        "\n",
        "    self.theta_layer = tf.keras.layers.Dense(theta_size, activation = 'linear')\n",
        "\n",
        "  def call(self, inputs):\n",
        "    x = inputs\n",
        "    for layer in self.hidden:\n",
        "      x = layer(x)\n",
        "    theta = self.theta_layer(x)\n",
        "\n",
        "    # Output the backcast and forecast from theta\n",
        "    backcast, forecast = theta[:, :self.input_size], theta[:, -self.horizon:]\n",
        "    \n",
        "    return backcast, forecast"
      ],
      "metadata": {
        "id": "Xk0j3E1-6gmE"
      },
      "execution_count": 92,
      "outputs": []
    },
    {
      "cell_type": "code",
      "source": [
        "dummy_nbeats_block_layer = NBeatsBlock(\n",
        "    input_size=WINDOW, \n",
        "    theta_size=WINDOW+HORIZON, # backcast + forecast \n",
        "    horizon=HORIZON,\n",
        "    n_neurons=128,\n",
        "    n_layers=4\n",
        ")"
      ],
      "metadata": {
        "id": "1q6dILjjoeLn"
      },
      "execution_count": 93,
      "outputs": []
    },
    {
      "cell_type": "code",
      "source": [
        "dummy_inputs = tf.expand_dims(tf.range(WINDOW)+1, axis = 0)\n",
        "dummy_inputs"
      ],
      "metadata": {
        "colab": {
          "base_uri": "https://localhost:8080/"
        },
        "id": "IeDQAju6o0Kh",
        "outputId": "37045ad8-d594-4244-acaf-0edf83e0fdcc"
      },
      "execution_count": 94,
      "outputs": [
        {
          "output_type": "execute_result",
          "data": {
            "text/plain": [
              "<tf.Tensor: shape=(1, 7), dtype=int32, numpy=array([[1, 2, 3, 4, 5, 6, 7]], dtype=int32)>"
            ]
          },
          "metadata": {},
          "execution_count": 94
        }
      ]
    },
    {
      "cell_type": "code",
      "source": [
        "backcast, forecast = dummy_nbeats_block_layer(dummy_inputs)"
      ],
      "metadata": {
        "id": "Gm5U0SdPb7e2"
      },
      "execution_count": 95,
      "outputs": []
    },
    {
      "cell_type": "code",
      "source": [
        "backcast, forecast"
      ],
      "metadata": {
        "colab": {
          "base_uri": "https://localhost:8080/"
        },
        "id": "G0A6uv97cdmg",
        "outputId": "b2f22b93-d193-4b85-a931-b3c820641dbd"
      },
      "execution_count": 96,
      "outputs": [
        {
          "output_type": "execute_result",
          "data": {
            "text/plain": [
              "(<tf.Tensor: shape=(1, 7), dtype=float32, numpy=\n",
              " array([[ 0.00726092, -0.1497536 , -0.573451  , -0.13121086, -0.2619954 ,\n",
              "         -0.2739389 ,  0.6048526 ]], dtype=float32)>,\n",
              " <tf.Tensor: shape=(1, 1), dtype=float32, numpy=array([[0.23921908]], dtype=float32)>)"
            ]
          },
          "metadata": {},
          "execution_count": 96
        }
      ]
    },
    {
      "cell_type": "markdown",
      "source": [
        "### Preparing Data W/ tf.data"
      ],
      "metadata": {
        "id": "keC1cfm_cj1F"
      }
    },
    {
      "cell_type": "code",
      "source": [
        "df.head()"
      ],
      "metadata": {
        "colab": {
          "base_uri": "https://localhost:8080/",
          "height": 235
        },
        "id": "OCWg-7yQgXHh",
        "outputId": "2bc9316c-ee5f-4a0c-afbc-55901ed2a2c3"
      },
      "execution_count": 97,
      "outputs": [
        {
          "output_type": "execute_result",
          "data": {
            "text/plain": [
              "            Closing Price (USD)\n",
              "Date                           \n",
              "2013-10-01            123.65499\n",
              "2013-10-02            125.45500\n",
              "2013-10-03            108.58483\n",
              "2013-10-04            118.67466\n",
              "2013-10-05            121.33866"
            ],
            "text/html": [
              "\n",
              "  <div id=\"df-fbbe1835-1e71-4674-8eae-877b506ad362\">\n",
              "    <div class=\"colab-df-container\">\n",
              "      <div>\n",
              "<style scoped>\n",
              "    .dataframe tbody tr th:only-of-type {\n",
              "        vertical-align: middle;\n",
              "    }\n",
              "\n",
              "    .dataframe tbody tr th {\n",
              "        vertical-align: top;\n",
              "    }\n",
              "\n",
              "    .dataframe thead th {\n",
              "        text-align: right;\n",
              "    }\n",
              "</style>\n",
              "<table border=\"1\" class=\"dataframe\">\n",
              "  <thead>\n",
              "    <tr style=\"text-align: right;\">\n",
              "      <th></th>\n",
              "      <th>Closing Price (USD)</th>\n",
              "    </tr>\n",
              "    <tr>\n",
              "      <th>Date</th>\n",
              "      <th></th>\n",
              "    </tr>\n",
              "  </thead>\n",
              "  <tbody>\n",
              "    <tr>\n",
              "      <th>2013-10-01</th>\n",
              "      <td>123.65499</td>\n",
              "    </tr>\n",
              "    <tr>\n",
              "      <th>2013-10-02</th>\n",
              "      <td>125.45500</td>\n",
              "    </tr>\n",
              "    <tr>\n",
              "      <th>2013-10-03</th>\n",
              "      <td>108.58483</td>\n",
              "    </tr>\n",
              "    <tr>\n",
              "      <th>2013-10-04</th>\n",
              "      <td>118.67466</td>\n",
              "    </tr>\n",
              "    <tr>\n",
              "      <th>2013-10-05</th>\n",
              "      <td>121.33866</td>\n",
              "    </tr>\n",
              "  </tbody>\n",
              "</table>\n",
              "</div>\n",
              "      <button class=\"colab-df-convert\" onclick=\"convertToInteractive('df-fbbe1835-1e71-4674-8eae-877b506ad362')\"\n",
              "              title=\"Convert this dataframe to an interactive table.\"\n",
              "              style=\"display:none;\">\n",
              "        \n",
              "  <svg xmlns=\"http://www.w3.org/2000/svg\" height=\"24px\"viewBox=\"0 0 24 24\"\n",
              "       width=\"24px\">\n",
              "    <path d=\"M0 0h24v24H0V0z\" fill=\"none\"/>\n",
              "    <path d=\"M18.56 5.44l.94 2.06.94-2.06 2.06-.94-2.06-.94-.94-2.06-.94 2.06-2.06.94zm-11 1L8.5 8.5l.94-2.06 2.06-.94-2.06-.94L8.5 2.5l-.94 2.06-2.06.94zm10 10l.94 2.06.94-2.06 2.06-.94-2.06-.94-.94-2.06-.94 2.06-2.06.94z\"/><path d=\"M17.41 7.96l-1.37-1.37c-.4-.4-.92-.59-1.43-.59-.52 0-1.04.2-1.43.59L10.3 9.45l-7.72 7.72c-.78.78-.78 2.05 0 2.83L4 21.41c.39.39.9.59 1.41.59.51 0 1.02-.2 1.41-.59l7.78-7.78 2.81-2.81c.8-.78.8-2.07 0-2.86zM5.41 20L4 18.59l7.72-7.72 1.47 1.35L5.41 20z\"/>\n",
              "  </svg>\n",
              "      </button>\n",
              "      \n",
              "  <style>\n",
              "    .colab-df-container {\n",
              "      display:flex;\n",
              "      flex-wrap:wrap;\n",
              "      gap: 12px;\n",
              "    }\n",
              "\n",
              "    .colab-df-convert {\n",
              "      background-color: #E8F0FE;\n",
              "      border: none;\n",
              "      border-radius: 50%;\n",
              "      cursor: pointer;\n",
              "      display: none;\n",
              "      fill: #1967D2;\n",
              "      height: 32px;\n",
              "      padding: 0 0 0 0;\n",
              "      width: 32px;\n",
              "    }\n",
              "\n",
              "    .colab-df-convert:hover {\n",
              "      background-color: #E2EBFA;\n",
              "      box-shadow: 0px 1px 2px rgba(60, 64, 67, 0.3), 0px 1px 3px 1px rgba(60, 64, 67, 0.15);\n",
              "      fill: #174EA6;\n",
              "    }\n",
              "\n",
              "    [theme=dark] .colab-df-convert {\n",
              "      background-color: #3B4455;\n",
              "      fill: #D2E3FC;\n",
              "    }\n",
              "\n",
              "    [theme=dark] .colab-df-convert:hover {\n",
              "      background-color: #434B5C;\n",
              "      box-shadow: 0px 1px 3px 1px rgba(0, 0, 0, 0.15);\n",
              "      filter: drop-shadow(0px 1px 2px rgba(0, 0, 0, 0.3));\n",
              "      fill: #FFFFFF;\n",
              "    }\n",
              "  </style>\n",
              "\n",
              "      <script>\n",
              "        const buttonEl =\n",
              "          document.querySelector('#df-fbbe1835-1e71-4674-8eae-877b506ad362 button.colab-df-convert');\n",
              "        buttonEl.style.display =\n",
              "          google.colab.kernel.accessAllowed ? 'block' : 'none';\n",
              "\n",
              "        async function convertToInteractive(key) {\n",
              "          const element = document.querySelector('#df-fbbe1835-1e71-4674-8eae-877b506ad362');\n",
              "          const dataTable =\n",
              "            await google.colab.kernel.invokeFunction('convertToInteractive',\n",
              "                                                     [key], {});\n",
              "          if (!dataTable) return;\n",
              "\n",
              "          const docLinkHtml = 'Like what you see? Visit the ' +\n",
              "            '<a target=\"_blank\" href=https://colab.research.google.com/notebooks/data_table.ipynb>data table notebook</a>'\n",
              "            + ' to learn more about interactive tables.';\n",
              "          element.innerHTML = '';\n",
              "          dataTable['output_type'] = 'display_data';\n",
              "          await google.colab.output.renderOutput(dataTable, element);\n",
              "          const docLink = document.createElement('div');\n",
              "          docLink.innerHTML = docLinkHtml;\n",
              "          element.appendChild(docLink);\n",
              "        }\n",
              "      </script>\n",
              "    </div>\n",
              "  </div>\n",
              "  "
            ]
          },
          "metadata": {},
          "execution_count": 97
        }
      ]
    },
    {
      "cell_type": "code",
      "source": [
        "# Add windowed columns\n",
        "bitcoin_prices_nbeats = df.copy()\n",
        "for i in range(WINDOW):\n",
        "  bitcoin_prices_nbeats[f\"Closing Price (USD)+{i+1}\"] = bitcoin_prices_nbeats[\"Closing Price (USD)\"].shift(periods=i+1)\n",
        "bitcoin_prices_nbeats.dropna().head()"
      ],
      "metadata": {
        "colab": {
          "base_uri": "https://localhost:8080/",
          "height": 398
        },
        "id": "kQEQK_OQgpUc",
        "outputId": "aaff4b39-4a8c-49e1-e908-e76e8488ede5"
      },
      "execution_count": 98,
      "outputs": [
        {
          "output_type": "execute_result",
          "data": {
            "text/plain": [
              "            Closing Price (USD)  Closing Price (USD)+1  Closing Price (USD)+2  \\\n",
              "Date                                                                            \n",
              "2013-10-08            123.03300              121.79500              120.65533   \n",
              "2013-10-09            124.04900              123.03300              121.79500   \n",
              "2013-10-10            125.96116              124.04900              123.03300   \n",
              "2013-10-11            125.27966              125.96116              124.04900   \n",
              "2013-10-12            125.92750              125.27966              125.96116   \n",
              "\n",
              "            Closing Price (USD)+3  Closing Price (USD)+4  \\\n",
              "Date                                                       \n",
              "2013-10-08              121.33866              118.67466   \n",
              "2013-10-09              120.65533              121.33866   \n",
              "2013-10-10              121.79500              120.65533   \n",
              "2013-10-11              123.03300              121.79500   \n",
              "2013-10-12              124.04900              123.03300   \n",
              "\n",
              "            Closing Price (USD)+5  Closing Price (USD)+6  \\\n",
              "Date                                                       \n",
              "2013-10-08              108.58483              125.45500   \n",
              "2013-10-09              118.67466              108.58483   \n",
              "2013-10-10              121.33866              118.67466   \n",
              "2013-10-11              120.65533              121.33866   \n",
              "2013-10-12              121.79500              120.65533   \n",
              "\n",
              "            Closing Price (USD)+7  \n",
              "Date                               \n",
              "2013-10-08              123.65499  \n",
              "2013-10-09              125.45500  \n",
              "2013-10-10              108.58483  \n",
              "2013-10-11              118.67466  \n",
              "2013-10-12              121.33866  "
            ],
            "text/html": [
              "\n",
              "  <div id=\"df-3ab3565f-ba85-4fe4-9535-41345b041ec4\">\n",
              "    <div class=\"colab-df-container\">\n",
              "      <div>\n",
              "<style scoped>\n",
              "    .dataframe tbody tr th:only-of-type {\n",
              "        vertical-align: middle;\n",
              "    }\n",
              "\n",
              "    .dataframe tbody tr th {\n",
              "        vertical-align: top;\n",
              "    }\n",
              "\n",
              "    .dataframe thead th {\n",
              "        text-align: right;\n",
              "    }\n",
              "</style>\n",
              "<table border=\"1\" class=\"dataframe\">\n",
              "  <thead>\n",
              "    <tr style=\"text-align: right;\">\n",
              "      <th></th>\n",
              "      <th>Closing Price (USD)</th>\n",
              "      <th>Closing Price (USD)+1</th>\n",
              "      <th>Closing Price (USD)+2</th>\n",
              "      <th>Closing Price (USD)+3</th>\n",
              "      <th>Closing Price (USD)+4</th>\n",
              "      <th>Closing Price (USD)+5</th>\n",
              "      <th>Closing Price (USD)+6</th>\n",
              "      <th>Closing Price (USD)+7</th>\n",
              "    </tr>\n",
              "    <tr>\n",
              "      <th>Date</th>\n",
              "      <th></th>\n",
              "      <th></th>\n",
              "      <th></th>\n",
              "      <th></th>\n",
              "      <th></th>\n",
              "      <th></th>\n",
              "      <th></th>\n",
              "      <th></th>\n",
              "    </tr>\n",
              "  </thead>\n",
              "  <tbody>\n",
              "    <tr>\n",
              "      <th>2013-10-08</th>\n",
              "      <td>123.03300</td>\n",
              "      <td>121.79500</td>\n",
              "      <td>120.65533</td>\n",
              "      <td>121.33866</td>\n",
              "      <td>118.67466</td>\n",
              "      <td>108.58483</td>\n",
              "      <td>125.45500</td>\n",
              "      <td>123.65499</td>\n",
              "    </tr>\n",
              "    <tr>\n",
              "      <th>2013-10-09</th>\n",
              "      <td>124.04900</td>\n",
              "      <td>123.03300</td>\n",
              "      <td>121.79500</td>\n",
              "      <td>120.65533</td>\n",
              "      <td>121.33866</td>\n",
              "      <td>118.67466</td>\n",
              "      <td>108.58483</td>\n",
              "      <td>125.45500</td>\n",
              "    </tr>\n",
              "    <tr>\n",
              "      <th>2013-10-10</th>\n",
              "      <td>125.96116</td>\n",
              "      <td>124.04900</td>\n",
              "      <td>123.03300</td>\n",
              "      <td>121.79500</td>\n",
              "      <td>120.65533</td>\n",
              "      <td>121.33866</td>\n",
              "      <td>118.67466</td>\n",
              "      <td>108.58483</td>\n",
              "    </tr>\n",
              "    <tr>\n",
              "      <th>2013-10-11</th>\n",
              "      <td>125.27966</td>\n",
              "      <td>125.96116</td>\n",
              "      <td>124.04900</td>\n",
              "      <td>123.03300</td>\n",
              "      <td>121.79500</td>\n",
              "      <td>120.65533</td>\n",
              "      <td>121.33866</td>\n",
              "      <td>118.67466</td>\n",
              "    </tr>\n",
              "    <tr>\n",
              "      <th>2013-10-12</th>\n",
              "      <td>125.92750</td>\n",
              "      <td>125.27966</td>\n",
              "      <td>125.96116</td>\n",
              "      <td>124.04900</td>\n",
              "      <td>123.03300</td>\n",
              "      <td>121.79500</td>\n",
              "      <td>120.65533</td>\n",
              "      <td>121.33866</td>\n",
              "    </tr>\n",
              "  </tbody>\n",
              "</table>\n",
              "</div>\n",
              "      <button class=\"colab-df-convert\" onclick=\"convertToInteractive('df-3ab3565f-ba85-4fe4-9535-41345b041ec4')\"\n",
              "              title=\"Convert this dataframe to an interactive table.\"\n",
              "              style=\"display:none;\">\n",
              "        \n",
              "  <svg xmlns=\"http://www.w3.org/2000/svg\" height=\"24px\"viewBox=\"0 0 24 24\"\n",
              "       width=\"24px\">\n",
              "    <path d=\"M0 0h24v24H0V0z\" fill=\"none\"/>\n",
              "    <path d=\"M18.56 5.44l.94 2.06.94-2.06 2.06-.94-2.06-.94-.94-2.06-.94 2.06-2.06.94zm-11 1L8.5 8.5l.94-2.06 2.06-.94-2.06-.94L8.5 2.5l-.94 2.06-2.06.94zm10 10l.94 2.06.94-2.06 2.06-.94-2.06-.94-.94-2.06-.94 2.06-2.06.94z\"/><path d=\"M17.41 7.96l-1.37-1.37c-.4-.4-.92-.59-1.43-.59-.52 0-1.04.2-1.43.59L10.3 9.45l-7.72 7.72c-.78.78-.78 2.05 0 2.83L4 21.41c.39.39.9.59 1.41.59.51 0 1.02-.2 1.41-.59l7.78-7.78 2.81-2.81c.8-.78.8-2.07 0-2.86zM5.41 20L4 18.59l7.72-7.72 1.47 1.35L5.41 20z\"/>\n",
              "  </svg>\n",
              "      </button>\n",
              "      \n",
              "  <style>\n",
              "    .colab-df-container {\n",
              "      display:flex;\n",
              "      flex-wrap:wrap;\n",
              "      gap: 12px;\n",
              "    }\n",
              "\n",
              "    .colab-df-convert {\n",
              "      background-color: #E8F0FE;\n",
              "      border: none;\n",
              "      border-radius: 50%;\n",
              "      cursor: pointer;\n",
              "      display: none;\n",
              "      fill: #1967D2;\n",
              "      height: 32px;\n",
              "      padding: 0 0 0 0;\n",
              "      width: 32px;\n",
              "    }\n",
              "\n",
              "    .colab-df-convert:hover {\n",
              "      background-color: #E2EBFA;\n",
              "      box-shadow: 0px 1px 2px rgba(60, 64, 67, 0.3), 0px 1px 3px 1px rgba(60, 64, 67, 0.15);\n",
              "      fill: #174EA6;\n",
              "    }\n",
              "\n",
              "    [theme=dark] .colab-df-convert {\n",
              "      background-color: #3B4455;\n",
              "      fill: #D2E3FC;\n",
              "    }\n",
              "\n",
              "    [theme=dark] .colab-df-convert:hover {\n",
              "      background-color: #434B5C;\n",
              "      box-shadow: 0px 1px 3px 1px rgba(0, 0, 0, 0.15);\n",
              "      filter: drop-shadow(0px 1px 2px rgba(0, 0, 0, 0.3));\n",
              "      fill: #FFFFFF;\n",
              "    }\n",
              "  </style>\n",
              "\n",
              "      <script>\n",
              "        const buttonEl =\n",
              "          document.querySelector('#df-3ab3565f-ba85-4fe4-9535-41345b041ec4 button.colab-df-convert');\n",
              "        buttonEl.style.display =\n",
              "          google.colab.kernel.accessAllowed ? 'block' : 'none';\n",
              "\n",
              "        async function convertToInteractive(key) {\n",
              "          const element = document.querySelector('#df-3ab3565f-ba85-4fe4-9535-41345b041ec4');\n",
              "          const dataTable =\n",
              "            await google.colab.kernel.invokeFunction('convertToInteractive',\n",
              "                                                     [key], {});\n",
              "          if (!dataTable) return;\n",
              "\n",
              "          const docLinkHtml = 'Like what you see? Visit the ' +\n",
              "            '<a target=\"_blank\" href=https://colab.research.google.com/notebooks/data_table.ipynb>data table notebook</a>'\n",
              "            + ' to learn more about interactive tables.';\n",
              "          element.innerHTML = '';\n",
              "          dataTable['output_type'] = 'display_data';\n",
              "          await google.colab.output.renderOutput(dataTable, element);\n",
              "          const docLink = document.createElement('div');\n",
              "          docLink.innerHTML = docLinkHtml;\n",
              "          element.appendChild(docLink);\n",
              "        }\n",
              "      </script>\n",
              "    </div>\n",
              "  </div>\n",
              "  "
            ]
          },
          "metadata": {},
          "execution_count": 98
        }
      ]
    },
    {
      "cell_type": "code",
      "source": [
        "X = bitcoin_prices_nbeats.dropna().drop(\"Closing Price (USD)\", axis=1)\n",
        "y = bitcoin_prices_nbeats.dropna()[\"Closing Price (USD)\"]\n",
        "\n",
        "# Make train and test sets\n",
        "split_size = int(len(X) * 0.8)\n",
        "X_train, y_train = X[:split_size], y[:split_size]\n",
        "X_test, y_test = X[split_size:], y[split_size:]\n",
        "len(X_train), len(y_train), len(X_test), len(y_test)"
      ],
      "metadata": {
        "colab": {
          "base_uri": "https://localhost:8080/"
        },
        "id": "pCLyBhf3g9xM",
        "outputId": "617e855a-02da-4ed4-fbf9-310703b3ff5b"
      },
      "execution_count": 99,
      "outputs": [
        {
          "output_type": "execute_result",
          "data": {
            "text/plain": [
              "(2224, 2224, 556, 556)"
            ]
          },
          "metadata": {},
          "execution_count": 99
        }
      ]
    },
    {
      "cell_type": "code",
      "source": [
        "# 1. Turn train and test arrays into tensor Datasets\n",
        "train_features_dataset = tf.data.Dataset.from_tensor_slices(X_train)\n",
        "train_labels_dataset = tf.data.Dataset.from_tensor_slices(y_train)\n",
        "\n",
        "test_features_dataset = tf.data.Dataset.from_tensor_slices(X_test)\n",
        "test_labels_dataset = tf.data.Dataset.from_tensor_slices(y_test)\n",
        "\n",
        "# 2. Combine features & labels\n",
        "train_dataset = tf.data.Dataset.zip((train_features_dataset, train_labels_dataset))\n",
        "test_dataset = tf.data.Dataset.zip((test_features_dataset, test_labels_dataset))\n",
        "\n",
        "# 3. Batch and prefetch for optimal performance\n",
        "BATCH_SIZE = 1024 # taken from Appendix D in N-BEATS paper\n",
        "train_dataset = train_dataset.batch(BATCH_SIZE).prefetch(tf.data.AUTOTUNE)\n",
        "test_dataset = test_dataset.batch(BATCH_SIZE).prefetch(tf.data.AUTOTUNE)\n",
        "\n",
        "train_dataset, test_dataset"
      ],
      "metadata": {
        "colab": {
          "base_uri": "https://localhost:8080/"
        },
        "id": "jg7SziXQhO3j",
        "outputId": "563e9f45-5e85-4269-e9a7-301cdd991fb8"
      },
      "execution_count": 100,
      "outputs": [
        {
          "output_type": "execute_result",
          "data": {
            "text/plain": [
              "(<PrefetchDataset element_spec=(TensorSpec(shape=(None, 7), dtype=tf.float64, name=None), TensorSpec(shape=(None,), dtype=tf.float64, name=None))>,\n",
              " <PrefetchDataset element_spec=(TensorSpec(shape=(None, 7), dtype=tf.float64, name=None), TensorSpec(shape=(None,), dtype=tf.float64, name=None))>)"
            ]
          },
          "metadata": {},
          "execution_count": 100
        }
      ]
    },
    {
      "cell_type": "markdown",
      "source": [
        "Setting up hyperparameters"
      ],
      "metadata": {
        "id": "epxWx1UVi0hH"
      }
    },
    {
      "cell_type": "code",
      "source": [
        "N_EPOCHS = 5000 # sometimes called \"Iterations\" \n",
        "N_NEURONS = 512 # sometimes called \"Width\" \n",
        "N_LAYERS = 4\n",
        "N_STACKS = 30\n",
        "\n",
        "INPUT_SIZE = WINDOW* HORIZON # called \"Lookback\"\n",
        "THETA_SIZE = INPUT_SIZE + HORIZON\n",
        "\n",
        "INPUT_SIZE, THETA_SIZE"
      ],
      "metadata": {
        "colab": {
          "base_uri": "https://localhost:8080/"
        },
        "id": "cLW7O3rth9Ww",
        "outputId": "b1a2d406-1ba2-47a6-dc21-95b96b618f43"
      },
      "execution_count": 101,
      "outputs": [
        {
          "output_type": "execute_result",
          "data": {
            "text/plain": [
              "(7, 8)"
            ]
          },
          "metadata": {},
          "execution_count": 101
        }
      ]
    },
    {
      "cell_type": "markdown",
      "source": [
        "Need 2 layers for residual parts of N-BEATS model (add and subtract).\n",
        "N-BEATS uses double residual stacking to help train its deep architecture"
      ],
      "metadata": {
        "id": "S6zXVD9ef787"
      }
    },
    {
      "cell_type": "code",
      "source": [
        "%%time\n",
        "\n",
        "nbeats_block_layer = NBeatsBlock(input_size=INPUT_SIZE,\n",
        "                                 theta_size=THETA_SIZE,\n",
        "                                 horizon=HORIZON,\n",
        "                                 n_neurons=N_NEURONS,\n",
        "                                 n_layers=N_LAYERS,\n",
        "                                 name=\"InitialBlock\")\n",
        "\n",
        "stack_input = layers.Input(shape = INPUT_SIZE, name = 'stack_input')\n",
        "\n",
        "residuals, forecast = nbeats_block_layer(stack_input)\n",
        "\n",
        "for i, _ in enumerate(range(N_STACKS - 1)):\n",
        "  backcast, block_forecast = NBeatsBlock(\n",
        "      input_size=INPUT_SIZE,\n",
        "      theta_size=THETA_SIZE,\n",
        "      horizon=HORIZON,\n",
        "      n_neurons=N_NEURONS,\n",
        "      n_layers=N_LAYERS,\n",
        "      name=f\"NBeatsBlock_{i}\"\n",
        "  )(residuals)\n",
        "\n",
        "  residuals = layers.subtract([residuals, backcast], name = f'subtract_{i}')\n",
        "  forecast = layers.add([residuals, forecast])\n",
        "\n",
        "# Put the model together using functional API\n",
        "model_7 = tf.keras.Model(stack_input, forecast, name = 'n_beats')\n",
        "\n",
        "model_7.compile(loss=\"mae\",\n",
        "                optimizer=tf.keras.optimizers.Adam(0.001),\n",
        "                metrics=[\"mae\", \"mse\"])\n",
        "\n",
        "model_7.fit(train_dataset,\n",
        "            epochs=N_EPOCHS,\n",
        "            validation_data=test_dataset,\n",
        "            verbose=0, # prevent large amounts of training outputs\n",
        "            callbacks=[tf.keras.callbacks.EarlyStopping(monitor=\"val_loss\", patience=200, restore_best_weights=True),\n",
        "                      tf.keras.callbacks.ReduceLROnPlateau(monitor=\"val_loss\", patience=100, verbose=1)])"
      ],
      "metadata": {
        "id": "hTed0YRaf71w"
      },
      "execution_count": null,
      "outputs": []
    },
    {
      "cell_type": "markdown",
      "source": [
        "Plotting the N-beats model"
      ],
      "metadata": {
        "id": "k5gFxM-dqOtn"
      }
    },
    {
      "cell_type": "code",
      "source": [
        "from tensorflow.keras.utils import plot_model\n",
        "plot_model(model_7)"
      ],
      "metadata": {
        "id": "PS_g-GCHjqN8"
      },
      "execution_count": null,
      "outputs": []
    },
    {
      "cell_type": "markdown",
      "source": [
        "### Ensemble"
      ],
      "metadata": {
        "id": "OhFWtnOnSYST"
      }
    },
    {
      "cell_type": "code",
      "source": [
        "def get_ensemble_models(horizon = HORIZON,\n",
        "                       train_data = train_dataset,\n",
        "                       test_data = test_dataset,\n",
        "                       num_iter = 10,\n",
        "                       num_epochs = 1000,\n",
        "                       loss_functions = ['mae', 'mape', 'mse']):\n",
        "  \"\"\"\"\"\"\n",
        "  ensemble_models = []\n",
        "\n",
        "  for i in range(num_iter):\n",
        "    for loss_function in loss_functions:\n",
        "      print(f\"Optimizing model by reducing: {loss_function} for {num_epochs} epochs, model number: {i}\")\n",
        "\n",
        "      model = tf.keras.Sequential([\n",
        "        # Initialize layers with normal (Gaussian) distribution so we can use the models for prediction\n",
        "        # interval estimation later: https://www.tensorflow.org/api_docs/python/tf/keras/initializers/HeNormal\n",
        "        layers.Dense(128, kernel_initializer=\"he_normal\", activation=\"relu\"), \n",
        "        layers.Dense(128, kernel_initializer=\"he_normal\", activation=\"relu\"),\n",
        "        layers.Dense(HORIZON)                                 \n",
        "      ])\n",
        "\n",
        "      model.compile(loss=loss_function,\n",
        "                    optimizer=tf.keras.optimizers.Adam(),\n",
        "                    metrics=[\"mae\", \"mse\"])\n",
        "      \n",
        "      model.fit(train_data,\n",
        "                epochs=num_epochs,\n",
        "                verbose=0,\n",
        "                validation_data=test_data,\n",
        "                # Add callbacks to prevent training from going/stalling for too long\n",
        "                callbacks=[tf.keras.callbacks.EarlyStopping(monitor=\"val_loss\",\n",
        "                                                            patience=200,\n",
        "                                                            restore_best_weights=True),\n",
        "                           tf.keras.callbacks.ReduceLROnPlateau(monitor=\"val_loss\",\n",
        "                                                                patience=100,\n",
        "                                                                verbose=1)])\n",
        "      \n",
        "      ensemble_models.append(model)\n",
        "\n",
        "  return ensemble_models"
      ],
      "metadata": {
        "id": "oV196T_7qXfH"
      },
      "execution_count": null,
      "outputs": []
    },
    {
      "cell_type": "code",
      "source": [
        "%%time\n",
        "ensemble_models = get_ensemble_models()"
      ],
      "metadata": {
        "colab": {
          "base_uri": "https://localhost:8080/"
        },
        "id": "pelruO2HVNTu",
        "outputId": "75158834-db39-44d3-bba6-6e3cc5c86928"
      },
      "execution_count": 105,
      "outputs": [
        {
          "output_type": "stream",
          "name": "stdout",
          "text": [
            "Optimizing model by reducing: mae for 1000 epochs, model number: 0\n",
            "\n",
            "Epoch 848: ReduceLROnPlateau reducing learning rate to 0.00010000000474974513.\n",
            "\n",
            "Epoch 948: ReduceLROnPlateau reducing learning rate to 1.0000000474974514e-05.\n",
            "Optimizing model by reducing: mape for 1000 epochs, model number: 0\n",
            "\n",
            "Epoch 179: ReduceLROnPlateau reducing learning rate to 0.00010000000474974513.\n",
            "\n",
            "Epoch 791: ReduceLROnPlateau reducing learning rate to 1.0000000474974514e-05.\n",
            "\n",
            "Epoch 891: ReduceLROnPlateau reducing learning rate to 1.0000000656873453e-06.\n",
            "Optimizing model by reducing: mse for 1000 epochs, model number: 0\n",
            "\n",
            "Epoch 325: ReduceLROnPlateau reducing learning rate to 0.00010000000474974513.\n",
            "\n",
            "Epoch 425: ReduceLROnPlateau reducing learning rate to 1.0000000474974514e-05.\n",
            "Optimizing model by reducing: mae for 1000 epochs, model number: 1\n",
            "\n",
            "Epoch 764: ReduceLROnPlateau reducing learning rate to 0.00010000000474974513.\n",
            "\n",
            "Epoch 864: ReduceLROnPlateau reducing learning rate to 1.0000000474974514e-05.\n",
            "Optimizing model by reducing: mape for 1000 epochs, model number: 1\n",
            "\n",
            "Epoch 145: ReduceLROnPlateau reducing learning rate to 0.00010000000474974513.\n",
            "\n",
            "Epoch 726: ReduceLROnPlateau reducing learning rate to 1.0000000474974514e-05.\n",
            "\n",
            "Epoch 826: ReduceLROnPlateau reducing learning rate to 1.0000000656873453e-06.\n",
            "Optimizing model by reducing: mse for 1000 epochs, model number: 1\n",
            "\n",
            "Epoch 466: ReduceLROnPlateau reducing learning rate to 0.00010000000474974513.\n",
            "\n",
            "Epoch 566: ReduceLROnPlateau reducing learning rate to 1.0000000474974514e-05.\n",
            "Optimizing model by reducing: mae for 1000 epochs, model number: 2\n",
            "Optimizing model by reducing: mape for 1000 epochs, model number: 2\n",
            "\n",
            "Epoch 237: ReduceLROnPlateau reducing learning rate to 0.00010000000474974513.\n",
            "\n",
            "Epoch 340: ReduceLROnPlateau reducing learning rate to 1.0000000474974514e-05.\n",
            "\n",
            "Epoch 440: ReduceLROnPlateau reducing learning rate to 1.0000000656873453e-06.\n",
            "Optimizing model by reducing: mse for 1000 epochs, model number: 2\n",
            "\n",
            "Epoch 648: ReduceLROnPlateau reducing learning rate to 0.00010000000474974513.\n",
            "\n",
            "Epoch 748: ReduceLROnPlateau reducing learning rate to 1.0000000474974514e-05.\n",
            "Optimizing model by reducing: mae for 1000 epochs, model number: 3\n",
            "\n",
            "Epoch 477: ReduceLROnPlateau reducing learning rate to 0.00010000000474974513.\n",
            "\n",
            "Epoch 658: ReduceLROnPlateau reducing learning rate to 1.0000000474974514e-05.\n",
            "\n",
            "Epoch 758: ReduceLROnPlateau reducing learning rate to 1.0000000656873453e-06.\n",
            "Optimizing model by reducing: mape for 1000 epochs, model number: 3\n",
            "\n",
            "Epoch 204: ReduceLROnPlateau reducing learning rate to 0.00010000000474974513.\n",
            "\n",
            "Epoch 652: ReduceLROnPlateau reducing learning rate to 1.0000000474974514e-05.\n",
            "\n",
            "Epoch 752: ReduceLROnPlateau reducing learning rate to 1.0000000656873453e-06.\n",
            "Optimizing model by reducing: mse for 1000 epochs, model number: 3\n",
            "\n",
            "Epoch 808: ReduceLROnPlateau reducing learning rate to 0.00010000000474974513.\n",
            "Optimizing model by reducing: mae for 1000 epochs, model number: 4\n",
            "\n",
            "Epoch 987: ReduceLROnPlateau reducing learning rate to 0.00010000000474974513.\n",
            "Optimizing model by reducing: mape for 1000 epochs, model number: 4\n",
            "\n",
            "Epoch 108: ReduceLROnPlateau reducing learning rate to 0.00010000000474974513.\n",
            "Optimizing model by reducing: mse for 1000 epochs, model number: 4\n",
            "\n",
            "Epoch 338: ReduceLROnPlateau reducing learning rate to 0.00010000000474974513.\n",
            "\n",
            "Epoch 438: ReduceLROnPlateau reducing learning rate to 1.0000000474974514e-05.\n",
            "Optimizing model by reducing: mae for 1000 epochs, model number: 5\n",
            "\n",
            "Epoch 329: ReduceLROnPlateau reducing learning rate to 0.00010000000474974513.\n",
            "\n",
            "Epoch 645: ReduceLROnPlateau reducing learning rate to 1.0000000474974514e-05.\n",
            "\n",
            "Epoch 745: ReduceLROnPlateau reducing learning rate to 1.0000000656873453e-06.\n",
            "Optimizing model by reducing: mape for 1000 epochs, model number: 5\n",
            "\n",
            "Epoch 125: ReduceLROnPlateau reducing learning rate to 0.00010000000474974513.\n",
            "\n",
            "Epoch 230: ReduceLROnPlateau reducing learning rate to 1.0000000474974514e-05.\n",
            "\n",
            "Epoch 330: ReduceLROnPlateau reducing learning rate to 1.0000000656873453e-06.\n",
            "Optimizing model by reducing: mse for 1000 epochs, model number: 5\n",
            "\n",
            "Epoch 311: ReduceLROnPlateau reducing learning rate to 0.00010000000474974513.\n",
            "\n",
            "Epoch 411: ReduceLROnPlateau reducing learning rate to 1.0000000474974514e-05.\n",
            "Optimizing model by reducing: mae for 1000 epochs, model number: 6\n",
            "\n",
            "Epoch 359: ReduceLROnPlateau reducing learning rate to 0.00010000000474974513.\n",
            "\n",
            "Epoch 838: ReduceLROnPlateau reducing learning rate to 1.0000000474974514e-05.\n",
            "\n",
            "Epoch 938: ReduceLROnPlateau reducing learning rate to 1.0000000656873453e-06.\n",
            "Optimizing model by reducing: mape for 1000 epochs, model number: 6\n",
            "\n",
            "Epoch 262: ReduceLROnPlateau reducing learning rate to 0.00010000000474974513.\n",
            "\n",
            "Epoch 362: ReduceLROnPlateau reducing learning rate to 1.0000000474974514e-05.\n",
            "Optimizing model by reducing: mse for 1000 epochs, model number: 6\n",
            "\n",
            "Epoch 481: ReduceLROnPlateau reducing learning rate to 0.00010000000474974513.\n",
            "\n",
            "Epoch 581: ReduceLROnPlateau reducing learning rate to 1.0000000474974514e-05.\n",
            "Optimizing model by reducing: mae for 1000 epochs, model number: 7\n",
            "\n",
            "Epoch 396: ReduceLROnPlateau reducing learning rate to 0.00010000000474974513.\n",
            "Optimizing model by reducing: mape for 1000 epochs, model number: 7\n",
            "\n",
            "Epoch 121: ReduceLROnPlateau reducing learning rate to 0.00010000000474974513.\n",
            "\n",
            "Epoch 752: ReduceLROnPlateau reducing learning rate to 1.0000000474974514e-05.\n",
            "\n",
            "Epoch 854: ReduceLROnPlateau reducing learning rate to 1.0000000656873453e-06.\n",
            "\n",
            "Epoch 954: ReduceLROnPlateau reducing learning rate to 1.0000001111620805e-07.\n",
            "Optimizing model by reducing: mse for 1000 epochs, model number: 7\n",
            "\n",
            "Epoch 318: ReduceLROnPlateau reducing learning rate to 0.00010000000474974513.\n",
            "\n",
            "Epoch 418: ReduceLROnPlateau reducing learning rate to 1.0000000474974514e-05.\n",
            "Optimizing model by reducing: mae for 1000 epochs, model number: 8\n",
            "Optimizing model by reducing: mape for 1000 epochs, model number: 8\n",
            "\n",
            "Epoch 182: ReduceLROnPlateau reducing learning rate to 0.00010000000474974513.\n",
            "Optimizing model by reducing: mse for 1000 epochs, model number: 8\n",
            "\n",
            "Epoch 271: ReduceLROnPlateau reducing learning rate to 0.00010000000474974513.\n",
            "\n",
            "Epoch 371: ReduceLROnPlateau reducing learning rate to 1.0000000474974514e-05.\n",
            "Optimizing model by reducing: mae for 1000 epochs, model number: 9\n",
            "\n",
            "Epoch 718: ReduceLROnPlateau reducing learning rate to 0.00010000000474974513.\n",
            "\n",
            "Epoch 880: ReduceLROnPlateau reducing learning rate to 1.0000000474974514e-05.\n",
            "\n",
            "Epoch 980: ReduceLROnPlateau reducing learning rate to 1.0000000656873453e-06.\n",
            "Optimizing model by reducing: mape for 1000 epochs, model number: 9\n",
            "\n",
            "Epoch 312: ReduceLROnPlateau reducing learning rate to 0.00010000000474974513.\n",
            "\n",
            "Epoch 412: ReduceLROnPlateau reducing learning rate to 1.0000000474974514e-05.\n",
            "Optimizing model by reducing: mse for 1000 epochs, model number: 9\n",
            "\n",
            "Epoch 349: ReduceLROnPlateau reducing learning rate to 0.00010000000474974513.\n",
            "\n",
            "Epoch 449: ReduceLROnPlateau reducing learning rate to 1.0000000474974514e-05.\n",
            "CPU times: user 11min 29s, sys: 54.9 s, total: 12min 24s\n",
            "Wall time: 10min 58s\n"
          ]
        }
      ]
    },
    {
      "cell_type": "code",
      "source": [
        "!nvidia-smi"
      ],
      "metadata": {
        "colab": {
          "base_uri": "https://localhost:8080/"
        },
        "id": "Zf2pMovaWYLh",
        "outputId": "764bfcee-068f-4226-dd32-d1f2c56db1ba"
      },
      "execution_count": 106,
      "outputs": [
        {
          "output_type": "stream",
          "name": "stdout",
          "text": [
            "Sat Jul 30 12:11:37 2022       \n",
            "+-----------------------------------------------------------------------------+\n",
            "| NVIDIA-SMI 460.32.03    Driver Version: 460.32.03    CUDA Version: 11.2     |\n",
            "|-------------------------------+----------------------+----------------------+\n",
            "| GPU  Name        Persistence-M| Bus-Id        Disp.A | Volatile Uncorr. ECC |\n",
            "| Fan  Temp  Perf  Pwr:Usage/Cap|         Memory-Usage | GPU-Util  Compute M. |\n",
            "|                               |                      |               MIG M. |\n",
            "|===============================+======================+======================|\n",
            "|   0  Tesla T4            Off  | 00000000:00:04.0 Off |                    0 |\n",
            "| N/A   77C    P0    34W /  70W |   1836MiB / 15109MiB |      5%      Default |\n",
            "|                               |                      |                  N/A |\n",
            "+-------------------------------+----------------------+----------------------+\n",
            "                                                                               \n",
            "+-----------------------------------------------------------------------------+\n",
            "| Processes:                                                                  |\n",
            "|  GPU   GI   CI        PID   Type   Process name                  GPU Memory |\n",
            "|        ID   ID                                                   Usage      |\n",
            "|=============================================================================|\n",
            "+-----------------------------------------------------------------------------+\n"
          ]
        }
      ]
    },
    {
      "cell_type": "code",
      "source": [
        "def make_ensemble_preds(ensemble_models, data):\n",
        "  \"\"\"\"\"\"\n",
        "  ensemble_preds = []\n",
        "  for model in ensemble_models:\n",
        "    preds = model.predict(data)\n",
        "    ensemble_preds.append(preds)\n",
        "  \n",
        "  return tf.constant(tf.squeeze(ensemble_preds))"
      ],
      "metadata": {
        "id": "uugUgsg2XEmq"
      },
      "execution_count": 107,
      "outputs": []
    },
    {
      "cell_type": "code",
      "source": [
        "ensemble_preds = make_ensemble_preds(ensemble_models, test_dataset)"
      ],
      "metadata": {
        "colab": {
          "base_uri": "https://localhost:8080/"
        },
        "id": "Liu0GRz7Xnzp",
        "outputId": "5959db22-ef95-4354-b008-ff33ffc98d2f"
      },
      "execution_count": 108,
      "outputs": [
        {
          "output_type": "stream",
          "name": "stdout",
          "text": [
            "WARNING:tensorflow:5 out of the last 22 calls to <function Model.make_predict_function.<locals>.predict_function at 0x7ff79321add0> triggered tf.function retracing. Tracing is expensive and the excessive number of tracings could be due to (1) creating @tf.function repeatedly in a loop, (2) passing tensors with different shapes, (3) passing Python objects instead of tensors. For (1), please define your @tf.function outside of the loop. For (2), @tf.function has experimental_relax_shapes=True option that relaxes argument shapes that can avoid unnecessary retracing. For (3), please refer to https://www.tensorflow.org/guide/function#controlling_retracing and https://www.tensorflow.org/api_docs/python/tf/function for  more details.\n"
          ]
        },
        {
          "output_type": "stream",
          "name": "stderr",
          "text": [
            "WARNING:tensorflow:5 out of the last 22 calls to <function Model.make_predict_function.<locals>.predict_function at 0x7ff79321add0> triggered tf.function retracing. Tracing is expensive and the excessive number of tracings could be due to (1) creating @tf.function repeatedly in a loop, (2) passing tensors with different shapes, (3) passing Python objects instead of tensors. For (1), please define your @tf.function outside of the loop. For (2), @tf.function has experimental_relax_shapes=True option that relaxes argument shapes that can avoid unnecessary retracing. For (3), please refer to https://www.tensorflow.org/guide/function#controlling_retracing and https://www.tensorflow.org/api_docs/python/tf/function for  more details.\n"
          ]
        },
        {
          "output_type": "stream",
          "name": "stdout",
          "text": [
            "WARNING:tensorflow:6 out of the last 23 calls to <function Model.make_predict_function.<locals>.predict_function at 0x7ff73040ed40> triggered tf.function retracing. Tracing is expensive and the excessive number of tracings could be due to (1) creating @tf.function repeatedly in a loop, (2) passing tensors with different shapes, (3) passing Python objects instead of tensors. For (1), please define your @tf.function outside of the loop. For (2), @tf.function has experimental_relax_shapes=True option that relaxes argument shapes that can avoid unnecessary retracing. For (3), please refer to https://www.tensorflow.org/guide/function#controlling_retracing and https://www.tensorflow.org/api_docs/python/tf/function for  more details.\n"
          ]
        },
        {
          "output_type": "stream",
          "name": "stderr",
          "text": [
            "WARNING:tensorflow:6 out of the last 23 calls to <function Model.make_predict_function.<locals>.predict_function at 0x7ff73040ed40> triggered tf.function retracing. Tracing is expensive and the excessive number of tracings could be due to (1) creating @tf.function repeatedly in a loop, (2) passing tensors with different shapes, (3) passing Python objects instead of tensors. For (1), please define your @tf.function outside of the loop. For (2), @tf.function has experimental_relax_shapes=True option that relaxes argument shapes that can avoid unnecessary retracing. For (3), please refer to https://www.tensorflow.org/guide/function#controlling_retracing and https://www.tensorflow.org/api_docs/python/tf/function for  more details.\n"
          ]
        }
      ]
    },
    {
      "cell_type": "code",
      "source": [
        "ensemble_preds"
      ],
      "metadata": {
        "colab": {
          "base_uri": "https://localhost:8080/"
        },
        "id": "HXkvIE4qXu2r",
        "outputId": "3e91f463-fcf7-44b2-d4bd-7f4e7f420954"
      },
      "execution_count": 109,
      "outputs": [
        {
          "output_type": "execute_result",
          "data": {
            "text/plain": [
              "<tf.Tensor: shape=(30, 556), dtype=float32, numpy=\n",
              "array([[ 8751.544 ,  8735.9795,  9085.024 , ..., 49520.8   , 49301.004 ,\n",
              "        45770.715 ],\n",
              "       [ 8822.295 ,  8811.975 ,  9047.192 , ..., 50151.52  , 48771.832 ,\n",
              "        45942.57  ],\n",
              "       [ 8726.603 ,  8739.168 ,  9016.647 , ..., 49958.207 , 48899.035 ,\n",
              "        46142.746 ],\n",
              "       ...,\n",
              "       [ 8762.109 ,  8765.547 ,  9106.561 , ..., 49949.92  , 48417.137 ,\n",
              "        46176.094 ],\n",
              "       [ 8786.689 ,  8795.546 ,  9028.825 , ..., 50102.293 , 48109.49  ,\n",
              "        46389.36  ],\n",
              "       [ 8828.495 ,  8748.662 ,  9037.831 , ..., 49640.85  , 48776.066 ,\n",
              "        45854.6   ]], dtype=float32)>"
            ]
          },
          "metadata": {},
          "execution_count": 109
        }
      ]
    },
    {
      "cell_type": "code",
      "source": [
        "# Find upper and lower bounds of ensemble predictions\n",
        "def get_upper_lower(preds): # 1. Take the predictions of multiple randomly initialized deep learning neural networks\n",
        "  \n",
        "  # 2. Measure the standard deviation of the predictions\n",
        "  std = tf.math.reduce_std(preds, axis=0)\n",
        "  \n",
        "  # 3. Multiply the standard deviation by 1.96\n",
        "  interval = 1.96 * std # https://en.wikipedia.org/wiki/1.96 \n",
        "\n",
        "  # 4. Get the prediction interval upper and lower bounds\n",
        "  preds_mean = tf.reduce_mean(preds, axis=0)\n",
        "  lower, upper = preds_mean - interval, preds_mean + interval\n",
        "  \n",
        "  return lower, upper\n",
        "\n",
        "# Get the upper and lower bounds of the 95% \n",
        "lower, upper = get_upper_lower(preds=ensemble_preds) "
      ],
      "metadata": {
        "id": "4giK6J0EXzrK"
      },
      "execution_count": 110,
      "outputs": []
    },
    {
      "cell_type": "code",
      "source": [
        "# Get the median values of our ensemble preds\n",
        "ensemble_median = np.median(ensemble_preds, axis=0)\n",
        "\n",
        "# Plot the median of our ensemble preds along with the prediction intervals (where the predictions fall between)\n",
        "offset=500\n",
        "plt.figure(figsize=(10, 7))\n",
        "plt.plot(X_test.index[offset:], y_test[offset:], \"g\", label=\"Test Data\")\n",
        "plt.plot(X_test.index[offset:], ensemble_median[offset:], \"k-\", label=\"Ensemble Median\")\n",
        "plt.xlabel(\"Date\")\n",
        "plt.ylabel(\"BTC Price\")\n",
        "plt.fill_between(X_test.index[offset:], \n",
        "                 (lower)[offset:], \n",
        "                 (upper)[offset:], label=\"Prediction Intervals\")\n",
        "plt.legend(loc=\"upper left\", fontsize=14);"
      ],
      "metadata": {
        "colab": {
          "base_uri": "https://localhost:8080/",
          "height": 446
        },
        "id": "t5t5ShSNYJAB",
        "outputId": "7b470f84-7ef3-4036-c7b7-be9731127d1c"
      },
      "execution_count": 111,
      "outputs": [
        {
          "output_type": "display_data",
          "data": {
            "text/plain": [
              "<Figure size 720x504 with 1 Axes>"
            ],
            "image/png": "[encoded data removed]"
          },
          "metadata": {
            "needs_background": "light"
          }
        }
      ]
    },
    {
      "cell_type": "markdown",
      "source": [
        "* Aleatoric uncertainty - this type of uncertainty cannot be reduced, it is also referred to as \"data\" or \"subway\" uncertainty.\n",
        "\n",
        "    * Let's say your train is scheduled to arrive at 10:08am but very rarely does it arrive at exactly 10:08am. You know it's usually a minute or two either side and perhaps up to 10-minutes late if traffic is bad. Even with all the data you could imagine, this level of uncertainty is still going to be present (much of it being noise).\n",
        "    * When we measured prediction intervals, we were measuring a form of subway uncertainty for Bitcoin price predictions (a little either side of the point prediction).\n",
        "\n",
        "* Epistemic uncertainty - this type of uncertainty can be reduced, it is also referred to as \"model\" or \"coconut\" uncertainty, it is very hard to calculate.\n",
        "\n",
        "    * The analogy for coconut uncertainty involves whether or not you'd get hit on the head by a coconut when going to a beach.\n",
        "    * If you were at a beach with coconuts trees, as you could imagine, this would be very hard to calculate. How often does a coconut fall of a tree? Where are you standing?\n",
        "    * But you could reduce this uncertainty to zero by going to a beach without coconuts (collect more data about your situation).\n",
        "    * Model uncertainty can be reduced by collecting more data samples/building a model to capture different parameters about the data you're modelling."
      ],
      "metadata": {
        "id": "L4WB-RdfuWpt"
      }
    },
    {
      "cell_type": "markdown",
      "source": [
        "### Model 9: Train on Full Historical Dataset"
      ],
      "metadata": {
        "id": "UbZD61JRu555"
      }
    },
    {
      "cell_type": "code",
      "source": [
        "bitcoin_prices_windowed.head()"
      ],
      "metadata": {
        "colab": {
          "base_uri": "https://localhost:8080/",
          "height": 398
        },
        "id": "XL7ZcuDPveGC",
        "outputId": "2e1b989f-0c95-4112-eccf-c702913c69db"
      },
      "execution_count": 112,
      "outputs": [
        {
          "output_type": "execute_result",
          "data": {
            "text/plain": [
              "            Closing Price (USD) block_reward  Closing Price (USD)+1  \\\n",
              "Date                                                                  \n",
              "2013-10-01            123.65499           25                    NaN   \n",
              "2013-10-02            125.45500           25              123.65499   \n",
              "2013-10-03            108.58483           25              125.45500   \n",
              "2013-10-04            118.67466           25              108.58483   \n",
              "2013-10-05            121.33866           25              118.67466   \n",
              "\n",
              "            Closing Price (USD)+2  Closing Price (USD)+3  \\\n",
              "Date                                                       \n",
              "2013-10-01                    NaN                    NaN   \n",
              "2013-10-02                    NaN                    NaN   \n",
              "2013-10-03              123.65499                    NaN   \n",
              "2013-10-04              125.45500              123.65499   \n",
              "2013-10-05              108.58483              125.45500   \n",
              "\n",
              "            Closing Price (USD)+4  Closing Price (USD)+5  \\\n",
              "Date                                                       \n",
              "2013-10-01                    NaN                    NaN   \n",
              "2013-10-02                    NaN                    NaN   \n",
              "2013-10-03                    NaN                    NaN   \n",
              "2013-10-04                    NaN                    NaN   \n",
              "2013-10-05              123.65499                    NaN   \n",
              "\n",
              "            Closing Price (USD)+6  Closing Price (USD)+7  \n",
              "Date                                                      \n",
              "2013-10-01                    NaN                    NaN  \n",
              "2013-10-02                    NaN                    NaN  \n",
              "2013-10-03                    NaN                    NaN  \n",
              "2013-10-04                    NaN                    NaN  \n",
              "2013-10-05                    NaN                    NaN  "
            ],
            "text/html": [
              "\n",
              "  <div id=\"df-d4370786-331b-4b38-87ed-106a217db6c4\">\n",
              "    <div class=\"colab-df-container\">\n",
              "      <div>\n",
              "<style scoped>\n",
              "    .dataframe tbody tr th:only-of-type {\n",
              "        vertical-align: middle;\n",
              "    }\n",
              "\n",
              "    .dataframe tbody tr th {\n",
              "        vertical-align: top;\n",
              "    }\n",
              "\n",
              "    .dataframe thead th {\n",
              "        text-align: right;\n",
              "    }\n",
              "</style>\n",
              "<table border=\"1\" class=\"dataframe\">\n",
              "  <thead>\n",
              "    <tr style=\"text-align: right;\">\n",
              "      <th></th>\n",
              "      <th>Closing Price (USD)</th>\n",
              "      <th>block_reward</th>\n",
              "      <th>Closing Price (USD)+1</th>\n",
              "      <th>Closing Price (USD)+2</th>\n",
              "      <th>Closing Price (USD)+3</th>\n",
              "      <th>Closing Price (USD)+4</th>\n",
              "      <th>Closing Price (USD)+5</th>\n",
              "      <th>Closing Price (USD)+6</th>\n",
              "      <th>Closing Price (USD)+7</th>\n",
              "    </tr>\n",
              "    <tr>\n",
              "      <th>Date</th>\n",
              "      <th></th>\n",
              "      <th></th>\n",
              "      <th></th>\n",
              "      <th></th>\n",
              "      <th></th>\n",
              "      <th></th>\n",
              "      <th></th>\n",
              "      <th></th>\n",
              "      <th></th>\n",
              "    </tr>\n",
              "  </thead>\n",
              "  <tbody>\n",
              "    <tr>\n",
              "      <th>2013-10-01</th>\n",
              "      <td>123.65499</td>\n",
              "      <td>25</td>\n",
              "      <td>NaN</td>\n",
              "      <td>NaN</td>\n",
              "      <td>NaN</td>\n",
              "      <td>NaN</td>\n",
              "      <td>NaN</td>\n",
              "      <td>NaN</td>\n",
              "      <td>NaN</td>\n",
              "    </tr>\n",
              "    <tr>\n",
              "      <th>2013-10-02</th>\n",
              "      <td>125.45500</td>\n",
              "      <td>25</td>\n",
              "      <td>123.65499</td>\n",
              "      <td>NaN</td>\n",
              "      <td>NaN</td>\n",
              "      <td>NaN</td>\n",
              "      <td>NaN</td>\n",
              "      <td>NaN</td>\n",
              "      <td>NaN</td>\n",
              "    </tr>\n",
              "    <tr>\n",
              "      <th>2013-10-03</th>\n",
              "      <td>108.58483</td>\n",
              "      <td>25</td>\n",
              "      <td>125.45500</td>\n",
              "      <td>123.65499</td>\n",
              "      <td>NaN</td>\n",
              "      <td>NaN</td>\n",
              "      <td>NaN</td>\n",
              "      <td>NaN</td>\n",
              "      <td>NaN</td>\n",
              "    </tr>\n",
              "    <tr>\n",
              "      <th>2013-10-04</th>\n",
              "      <td>118.67466</td>\n",
              "      <td>25</td>\n",
              "      <td>108.58483</td>\n",
              "      <td>125.45500</td>\n",
              "      <td>123.65499</td>\n",
              "      <td>NaN</td>\n",
              "      <td>NaN</td>\n",
              "      <td>NaN</td>\n",
              "      <td>NaN</td>\n",
              "    </tr>\n",
              "    <tr>\n",
              "      <th>2013-10-05</th>\n",
              "      <td>121.33866</td>\n",
              "      <td>25</td>\n",
              "      <td>118.67466</td>\n",
              "      <td>108.58483</td>\n",
              "      <td>125.45500</td>\n",
              "      <td>123.65499</td>\n",
              "      <td>NaN</td>\n",
              "      <td>NaN</td>\n",
              "      <td>NaN</td>\n",
              "    </tr>\n",
              "  </tbody>\n",
              "</table>\n",
              "</div>\n",
              "      <button class=\"colab-df-convert\" onclick=\"convertToInteractive('df-d4370786-331b-4b38-87ed-106a217db6c4')\"\n",
              "              title=\"Convert this dataframe to an interactive table.\"\n",
              "              style=\"display:none;\">\n",
              "        \n",
              "  <svg xmlns=\"http://www.w3.org/2000/svg\" height=\"24px\"viewBox=\"0 0 24 24\"\n",
              "       width=\"24px\">\n",
              "    <path d=\"M0 0h24v24H0V0z\" fill=\"none\"/>\n",
              "    <path d=\"M18.56 5.44l.94 2.06.94-2.06 2.06-.94-2.06-.94-.94-2.06-.94 2.06-2.06.94zm-11 1L8.5 8.5l.94-2.06 2.06-.94-2.06-.94L8.5 2.5l-.94 2.06-2.06.94zm10 10l.94 2.06.94-2.06 2.06-.94-2.06-.94-.94-2.06-.94 2.06-2.06.94z\"/><path d=\"M17.41 7.96l-1.37-1.37c-.4-.4-.92-.59-1.43-.59-.52 0-1.04.2-1.43.59L10.3 9.45l-7.72 7.72c-.78.78-.78 2.05 0 2.83L4 21.41c.39.39.9.59 1.41.59.51 0 1.02-.2 1.41-.59l7.78-7.78 2.81-2.81c.8-.78.8-2.07 0-2.86zM5.41 20L4 18.59l7.72-7.72 1.47 1.35L5.41 20z\"/>\n",
              "  </svg>\n",
              "      </button>\n",
              "      \n",
              "  <style>\n",
              "    .colab-df-container {\n",
              "      display:flex;\n",
              "      flex-wrap:wrap;\n",
              "      gap: 12px;\n",
              "    }\n",
              "\n",
              "    .colab-df-convert {\n",
              "      background-color: #E8F0FE;\n",
              "      border: none;\n",
              "      border-radius: 50%;\n",
              "      cursor: pointer;\n",
              "      display: none;\n",
              "      fill: #1967D2;\n",
              "      height: 32px;\n",
              "      padding: 0 0 0 0;\n",
              "      width: 32px;\n",
              "    }\n",
              "\n",
              "    .colab-df-convert:hover {\n",
              "      background-color: #E2EBFA;\n",
              "      box-shadow: 0px 1px 2px rgba(60, 64, 67, 0.3), 0px 1px 3px 1px rgba(60, 64, 67, 0.15);\n",
              "      fill: #174EA6;\n",
              "    }\n",
              "\n",
              "    [theme=dark] .colab-df-convert {\n",
              "      background-color: #3B4455;\n",
              "      fill: #D2E3FC;\n",
              "    }\n",
              "\n",
              "    [theme=dark] .colab-df-convert:hover {\n",
              "      background-color: #434B5C;\n",
              "      box-shadow: 0px 1px 3px 1px rgba(0, 0, 0, 0.15);\n",
              "      filter: drop-shadow(0px 1px 2px rgba(0, 0, 0, 0.3));\n",
              "      fill: #FFFFFF;\n",
              "    }\n",
              "  </style>\n",
              "\n",
              "      <script>\n",
              "        const buttonEl =\n",
              "          document.querySelector('#df-d4370786-331b-4b38-87ed-106a217db6c4 button.colab-df-convert');\n",
              "        buttonEl.style.display =\n",
              "          google.colab.kernel.accessAllowed ? 'block' : 'none';\n",
              "\n",
              "        async function convertToInteractive(key) {\n",
              "          const element = document.querySelector('#df-d4370786-331b-4b38-87ed-106a217db6c4');\n",
              "          const dataTable =\n",
              "            await google.colab.kernel.invokeFunction('convertToInteractive',\n",
              "                                                     [key], {});\n",
              "          if (!dataTable) return;\n",
              "\n",
              "          const docLinkHtml = 'Like what you see? Visit the ' +\n",
              "            '<a target=\"_blank\" href=https://colab.research.google.com/notebooks/data_table.ipynb>data table notebook</a>'\n",
              "            + ' to learn more about interactive tables.';\n",
              "          element.innerHTML = '';\n",
              "          dataTable['output_type'] = 'display_data';\n",
              "          await google.colab.output.renderOutput(dataTable, element);\n",
              "          const docLink = document.createElement('div');\n",
              "          docLink.innerHTML = docLinkHtml;\n",
              "          element.appendChild(docLink);\n",
              "        }\n",
              "      </script>\n",
              "    </div>\n",
              "  </div>\n",
              "  "
            ]
          },
          "metadata": {},
          "execution_count": 112
        }
      ]
    },
    {
      "cell_type": "code",
      "source": [
        "# Train model on entire data to make prediction for the next day \n",
        "X_all = bitcoin_prices_windowed.drop([\"Closing Price (USD)\", \"block_reward\"], axis=1).dropna().to_numpy() # only want prices, our future model can be a univariate model\n",
        "y_all = bitcoin_prices_windowed.dropna()[\"Closing Price (USD)\"].to_numpy()"
      ],
      "metadata": {
        "id": "GHl1_i0ebFQh"
      },
      "execution_count": 113,
      "outputs": []
    },
    {
      "cell_type": "code",
      "source": [
        "# 1. Turn X and y into tensor Datasets\n",
        "features_dataset_all = tf.data.Dataset.from_tensor_slices(X_all)\n",
        "labels_dataset_all = tf.data.Dataset.from_tensor_slices(y_all)\n",
        "\n",
        "# 2. Combine features & labels\n",
        "dataset_all = tf.data.Dataset.zip((features_dataset_all, labels_dataset_all))\n",
        "\n",
        "# 3. Batch and prefetch for optimal performance\n",
        "BATCH_SIZE = 1024 # taken from Appendix D in N-BEATS paper\n",
        "dataset_all = dataset_all.batch(BATCH_SIZE).prefetch(tf.data.AUTOTUNE)\n",
        "\n",
        "dataset_all"
      ],
      "metadata": {
        "id": "ltrpJpkEvXv9",
        "colab": {
          "base_uri": "https://localhost:8080/"
        },
        "outputId": "9997f425-c92c-4c2f-d299-862b05252817"
      },
      "execution_count": 114,
      "outputs": [
        {
          "output_type": "execute_result",
          "data": {
            "text/plain": [
              "<PrefetchDataset element_spec=(TensorSpec(shape=(None, 7), dtype=tf.float64, name=None), TensorSpec(shape=(None,), dtype=tf.float64, name=None))>"
            ]
          },
          "metadata": {},
          "execution_count": 114
        }
      ]
    },
    {
      "cell_type": "code",
      "source": [
        "# Create model (nice and simple, just to test)\n",
        "model_9 = tf.keras.Sequential([\n",
        "  layers.Dense(128, activation=\"relu\"),\n",
        "  layers.Dense(128, activation=\"relu\"),\n",
        "  layers.Dense(HORIZON)\n",
        "])\n",
        "\n",
        "# Compile\n",
        "model_9.compile(loss=tf.keras.losses.mae,\n",
        "                optimizer=tf.keras.optimizers.Adam())\n",
        "\n",
        "# Fit model on all of the data to make future forecasts\n",
        "model_9.fit(dataset_all,\n",
        "            epochs=100,\n",
        "            verbose=0) # don't print out anything, we've seen this all before"
      ],
      "metadata": {
        "id": "5q5RlC71VbRy",
        "colab": {
          "base_uri": "https://localhost:8080/"
        },
        "outputId": "e64f6fcd-5a34-44e1-e7d9-ca512f6ec9a2"
      },
      "execution_count": 115,
      "outputs": [
        {
          "output_type": "execute_result",
          "data": {
            "text/plain": [
              "<keras.callbacks.History at 0x7ff6c8aa51d0>"
            ]
          },
          "metadata": {},
          "execution_count": 115
        }
      ]
    },
    {
      "cell_type": "code",
      "source": [
        "INTO_FUTURE = 14"
      ],
      "metadata": {
        "id": "iBvHliZDnOur"
      },
      "execution_count": 116,
      "outputs": []
    },
    {
      "cell_type": "code",
      "source": [
        "def make_future_forecast(values, model, into_future, window_size) -> list:\n",
        "  \"\"\"\n",
        "  Makes future forecasts into_future steps after values ends.\n",
        "\n",
        "  Returns future forecasts as list of floats.\n",
        "  \"\"\"\n",
        "  # 2. Make an empty list for future forecasts/prepare data to forecast on\n",
        "  future_forecast = []\n",
        "  last_window = values[-WINDOW:] # only want preds from the last window (this will get updated)\n",
        "\n",
        "  # 3. Make INTO_FUTURE number of predictions, altering the data which gets predicted on each time \n",
        "  for _ in range(into_future):\n",
        "    \n",
        "    # Predict on last window then append it again, again, again (model starts to make forecasts on its own forecasts)\n",
        "    future_pred = model.predict(tf.expand_dims(last_window, axis=0))\n",
        "    print(f\"Predicting on: \\n {last_window} -> Prediction: {tf.squeeze(future_pred).numpy()}\\n\")\n",
        "    \n",
        "    # Append predictions to future_forecast\n",
        "    future_forecast.append(tf.squeeze(future_pred).numpy())\n",
        "    # print(future_forecast)\n",
        "\n",
        "    # Update last window with new pred and get WINDOW_SIZE most recent preds (model was trained on WINDOW_SIZE windows)\n",
        "    last_window = np.append(last_window, future_pred)[-WINDOW:]\n",
        "  \n",
        "  return future_forecast"
      ],
      "metadata": {
        "id": "bT3mottSo_Gm"
      },
      "execution_count": 117,
      "outputs": []
    },
    {
      "cell_type": "code",
      "source": [
        "future_forecast = make_future_forecast(values=y_all,\n",
        "                                       model=model_9,\n",
        "                                       into_future=INTO_FUTURE,\n",
        "                                       window_size=WINDOW)"
      ],
      "metadata": {
        "colab": {
          "base_uri": "https://localhost:8080/"
        },
        "id": "XR4yro9yrUPt",
        "outputId": "65652332-ac1e-4281-c390-2922aa4b5296"
      },
      "execution_count": 118,
      "outputs": [
        {
          "output_type": "stream",
          "name": "stdout",
          "text": [
            "Predicting on: \n",
            " [56573.5554719  52147.82118698 49764.1320816  50032.69313676\n",
            " 47885.62525472 45604.61575361 43144.47129086] -> Prediction: 55476.3828125\n",
            "\n",
            "Predicting on: \n",
            " [52147.82118698 49764.1320816  50032.69313676 47885.62525472\n",
            " 45604.61575361 43144.47129086 55476.3828125 ] -> Prediction: 52923.25\n",
            "\n",
            "Predicting on: \n",
            " [49764.1320816  50032.69313676 47885.62525472 45604.61575361\n",
            " 43144.47129086 55476.3828125  52923.25      ] -> Prediction: 48790.33203125\n",
            "\n",
            "Predicting on: \n",
            " [50032.69313676 47885.62525472 45604.61575361 43144.47129086\n",
            " 55476.3828125  52923.25       48790.33203125] -> Prediction: 47690.16796875\n",
            "\n",
            "Predicting on: \n",
            " [47885.62525472 45604.61575361 43144.47129086 55476.3828125\n",
            " 52923.25       48790.33203125 47690.16796875] -> Prediction: 47220.7734375\n",
            "\n",
            "Predicting on: \n",
            " [45604.61575361 43144.47129086 55476.3828125  52923.25\n",
            " 48790.33203125 47690.16796875 47220.7734375 ] -> Prediction: 46069.1875\n",
            "\n",
            "Predicting on: \n",
            " [43144.47129086 55476.3828125  52923.25       48790.33203125\n",
            " 47690.16796875 47220.7734375  46069.1875    ] -> Prediction: 48518.1328125\n",
            "\n",
            "Predicting on: \n",
            " [55476.3828125  52923.25       48790.33203125 47690.16796875\n",
            " 47220.7734375  46069.1875     48518.1328125 ] -> Prediction: 54996.0078125\n",
            "\n",
            "Predicting on: \n",
            " [52923.25       48790.33203125 47690.16796875 47220.7734375\n",
            " 46069.1875     48518.1328125  54996.0078125 ] -> Prediction: 51736.9453125\n",
            "\n",
            "Predicting on: \n",
            " [48790.33203125 47690.16796875 47220.7734375  46069.1875\n",
            " 48518.1328125  54996.0078125  51736.9453125 ] -> Prediction: 47181.09765625\n",
            "\n",
            "Predicting on: \n",
            " [47690.16796875 47220.7734375  46069.1875     48518.1328125\n",
            " 54996.0078125  51736.9453125  47181.09765625] -> Prediction: 46643.1796875\n",
            "\n",
            "Predicting on: \n",
            " [47220.7734375  46069.1875     48518.1328125  54996.0078125\n",
            " 51736.9453125  47181.09765625 46643.1796875 ] -> Prediction: 47661.34765625\n",
            "\n",
            "Predicting on: \n",
            " [46069.1875     48518.1328125  54996.0078125  51736.9453125\n",
            " 47181.09765625 46643.1796875  47661.34765625] -> Prediction: 48438.078125\n",
            "\n",
            "Predicting on: \n",
            " [48518.1328125  54996.0078125  51736.9453125  47181.09765625\n",
            " 46643.1796875  47661.34765625 48438.078125  ] -> Prediction: 51459.87109375\n",
            "\n"
          ]
        }
      ]
    },
    {
      "cell_type": "code",
      "source": [
        "def get_future_dates(start_date, into_future, offset=1):\n",
        "  \"\"\"\n",
        "  Returns array of datetime values from ranging from start_date to start_date+horizon.\n",
        "\n",
        "  start_date: date to start range (np.datetime64)\n",
        "  into_future: number of days to add onto start date for range (int)\n",
        "  offset: number of days to offset start_date by (default 1)\n",
        "  \"\"\"\n",
        "  start_date = start_date + np.timedelta64(offset, \"D\") # specify start date, \"D\" stands for day\n",
        "  end_date = start_date + np.timedelta64(into_future, \"D\") # specify end date\n",
        "  return np.arange(start_date, end_date, dtype=\"datetime64[D]\") # return a date range between start date and end date"
      ],
      "metadata": {
        "id": "xi_G0qtXrmm1"
      },
      "execution_count": 119,
      "outputs": []
    },
    {
      "cell_type": "code",
      "source": [
        "last_timestep = df.index[-1]\n",
        "last_timestep"
      ],
      "metadata": {
        "colab": {
          "base_uri": "https://localhost:8080/"
        },
        "id": "JvvcDkFesJrs",
        "outputId": "0846f0fe-3c40-40b5-92a7-39bd12625d9f"
      },
      "execution_count": 120,
      "outputs": [
        {
          "output_type": "execute_result",
          "data": {
            "text/plain": [
              "Timestamp('2021-05-18 00:00:00')"
            ]
          },
          "metadata": {},
          "execution_count": 120
        }
      ]
    },
    {
      "cell_type": "code",
      "source": [
        "next_time_steps = get_future_dates(start_date=last_timestep, \n",
        "                                   into_future=INTO_FUTURE)\n",
        "next_time_steps"
      ],
      "metadata": {
        "colab": {
          "base_uri": "https://localhost:8080/"
        },
        "id": "SXaxGPxisNeW",
        "outputId": "b8544ab9-65fb-4344-ca2b-e909cb236780"
      },
      "execution_count": 121,
      "outputs": [
        {
          "output_type": "execute_result",
          "data": {
            "text/plain": [
              "array(['2021-05-19', '2021-05-20', '2021-05-21', '2021-05-22',\n",
              "       '2021-05-23', '2021-05-24', '2021-05-25', '2021-05-26',\n",
              "       '2021-05-27', '2021-05-28', '2021-05-29', '2021-05-30',\n",
              "       '2021-05-31', '2021-06-01'], dtype='datetime64[D]')"
            ]
          },
          "metadata": {},
          "execution_count": 121
        }
      ]
    },
    {
      "cell_type": "code",
      "source": [
        "next_time_steps = np.insert(next_time_steps, 0, last_timestep)\n",
        "future_forecast = np.insert(future_forecast, 0, prices[-1])\n",
        "next_time_steps.shape, future_forecast.shape"
      ],
      "metadata": {
        "colab": {
          "base_uri": "https://localhost:8080/"
        },
        "id": "ezFuXfhWsPDk",
        "outputId": "e2cb72f1-ab62-4e7d-cfce-0cc7a98bb046"
      },
      "execution_count": 122,
      "outputs": [
        {
          "output_type": "execute_result",
          "data": {
            "text/plain": [
              "((15,), (15,))"
            ]
          },
          "metadata": {},
          "execution_count": 122
        }
      ]
    },
    {
      "cell_type": "code",
      "source": [
        "plt.figure(figsize=(10, 7))\n",
        "plot_time_series(df.index, prices, start=2500, format=\"-\", label=\"Actual BTC Price\")\n",
        "plot_time_series(next_time_steps, future_forecast, format=\"-\", label=\"Predicted BTC Price\")"
      ],
      "metadata": {
        "colab": {
          "base_uri": "https://localhost:8080/",
          "height": 442
        },
        "id": "wh981LBcsRZJ",
        "outputId": "512c7d28-64e9-4ccd-c605-83a94cd79eef"
      },
      "execution_count": 124,
      "outputs": [
        {
          "output_type": "display_data",
          "data": {
            "text/plain": [
              "<Figure size 720x504 with 1 Axes>"
            ],
            "image/png": "[encoded data removed]"
          },
          "metadata": {
            "needs_background": "light"
          }
        }
      ]
    },
    {
      "cell_type": "markdown",
      "source": [
        "## Turkey Problem"
      ],
      "metadata": {
        "id": "Xr8B0WyZIVAU"
      }
    },
    {
      "cell_type": "code",
      "source": [
        "btc_price_turkey = prices.copy()\n",
        "btc_price_turkey[-1] = btc_price_turkey[-1] / 100"
      ],
      "metadata": {
        "id": "M69F8T8dsXAk"
      },
      "execution_count": 125,
      "outputs": []
    },
    {
      "cell_type": "code",
      "source": [
        "btc_timesteps_turkey = np.array(df.index)\n",
        "btc_timesteps_turkey[-10:]"
      ],
      "metadata": {
        "colab": {
          "base_uri": "https://localhost:8080/"
        },
        "id": "J4AcwVKDH7fN",
        "outputId": "78a53e5b-aa0b-449e-fbbd-7fcc0331b09a"
      },
      "execution_count": 128,
      "outputs": [
        {
          "output_type": "execute_result",
          "data": {
            "text/plain": [
              "array(['2021-05-09T00:00:00.000000000', '2021-05-10T00:00:00.000000000',\n",
              "       '2021-05-11T00:00:00.000000000', '2021-05-12T00:00:00.000000000',\n",
              "       '2021-05-13T00:00:00.000000000', '2021-05-14T00:00:00.000000000',\n",
              "       '2021-05-15T00:00:00.000000000', '2021-05-16T00:00:00.000000000',\n",
              "       '2021-05-17T00:00:00.000000000', '2021-05-18T00:00:00.000000000'],\n",
              "      dtype='datetime64[ns]')"
            ]
          },
          "metadata": {},
          "execution_count": 128
        }
      ]
    },
    {
      "cell_type": "markdown",
      "source": [
        "Change 1 value"
      ],
      "metadata": {
        "id": "SnueGsCIJds5"
      }
    },
    {
      "cell_type": "code",
      "source": [
        "plt.figure(figsize=(10, 7))\n",
        "plot_time_series(timesteps=btc_timesteps_turkey, \n",
        "                 values=btc_price_turkey, \n",
        "                 format=\"-\", \n",
        "                 label=\"BTC Price + Turkey Problem\", \n",
        "                 start=2500)"
      ],
      "metadata": {
        "colab": {
          "base_uri": "https://localhost:8080/",
          "height": 442
        },
        "id": "hs4XPxCmIHFF",
        "outputId": "c6692f37-5ad4-4a5f-9fd5-39339b87c983"
      },
      "execution_count": 129,
      "outputs": [
        {
          "output_type": "display_data",
          "data": {
            "text/plain": [
              "<Figure size 720x504 with 1 Axes>"
            ],
            "image/png": "[encoded data removed]"
          },
          "metadata": {
            "needs_background": "light"
          }
        }
      ]
    },
    {
      "cell_type": "code",
      "source": [
        "full_windows, full_labels = make_windows(np.array(btc_price_turkey), window_size=WINDOW, horizon_size=HORIZON)\n",
        "len(full_windows), len(full_labels)\n",
        "\n",
        "X_train, X_test, y_train, y_test = make_train_test_splits(full_windows, full_labels)\n",
        "len(X_train), len(X_test), len(y_train), len(y_test)"
      ],
      "metadata": {
        "colab": {
          "base_uri": "https://localhost:8080/"
        },
        "id": "wxDD-XSbITFy",
        "outputId": "5bd1d9c8-6ebf-4281-bd10-9588338610a6"
      },
      "execution_count": 132,
      "outputs": [
        {
          "output_type": "execute_result",
          "data": {
            "text/plain": [
              "(2224, 556, 2224, 556)"
            ]
          },
          "metadata": {},
          "execution_count": 132
        }
      ]
    },
    {
      "cell_type": "code",
      "source": [
        "# Clone model 1 architecture for turkey model and fit the turkey model on the turkey data\n",
        "turkey_model = tf.keras.models.clone_model(model_1)\n",
        "turkey_model._name = \"Turkey_Model\"\n",
        "turkey_model.compile(loss=\"mae\",\n",
        "                     optimizer=tf.keras.optimizers.Adam())\n",
        "turkey_model.fit(X_train, y_train,\n",
        "                 epochs=100,\n",
        "                 verbose=0,\n",
        "                 validation_data=(X_test, y_test),\n",
        "                 callbacks=[create_model_checkpoint(turkey_model.name)])"
      ],
      "metadata": {
        "colab": {
          "base_uri": "https://localhost:8080/"
        },
        "id": "IVExny6FIpOd",
        "outputId": "f61de9a0-d543-4990-facb-086974d01e4d"
      },
      "execution_count": 133,
      "outputs": [
        {
          "output_type": "stream",
          "name": "stdout",
          "text": [
            "INFO:tensorflow:Assets written to: model_experiments/Turkey_Model/assets\n"
          ]
        },
        {
          "output_type": "stream",
          "name": "stderr",
          "text": [
            "INFO:tensorflow:Assets written to: model_experiments/Turkey_Model/assets\n"
          ]
        },
        {
          "output_type": "stream",
          "name": "stdout",
          "text": [
            "INFO:tensorflow:Assets written to: model_experiments/Turkey_Model/assets\n"
          ]
        },
        {
          "output_type": "stream",
          "name": "stderr",
          "text": [
            "INFO:tensorflow:Assets written to: model_experiments/Turkey_Model/assets\n"
          ]
        },
        {
          "output_type": "stream",
          "name": "stdout",
          "text": [
            "INFO:tensorflow:Assets written to: model_experiments/Turkey_Model/assets\n"
          ]
        },
        {
          "output_type": "stream",
          "name": "stderr",
          "text": [
            "INFO:tensorflow:Assets written to: model_experiments/Turkey_Model/assets\n"
          ]
        },
        {
          "output_type": "stream",
          "name": "stdout",
          "text": [
            "INFO:tensorflow:Assets written to: model_experiments/Turkey_Model/assets\n"
          ]
        },
        {
          "output_type": "stream",
          "name": "stderr",
          "text": [
            "INFO:tensorflow:Assets written to: model_experiments/Turkey_Model/assets\n"
          ]
        },
        {
          "output_type": "stream",
          "name": "stdout",
          "text": [
            "INFO:tensorflow:Assets written to: model_experiments/Turkey_Model/assets\n"
          ]
        },
        {
          "output_type": "stream",
          "name": "stderr",
          "text": [
            "INFO:tensorflow:Assets written to: model_experiments/Turkey_Model/assets\n"
          ]
        },
        {
          "output_type": "stream",
          "name": "stdout",
          "text": [
            "INFO:tensorflow:Assets written to: model_experiments/Turkey_Model/assets\n"
          ]
        },
        {
          "output_type": "stream",
          "name": "stderr",
          "text": [
            "INFO:tensorflow:Assets written to: model_experiments/Turkey_Model/assets\n"
          ]
        },
        {
          "output_type": "stream",
          "name": "stdout",
          "text": [
            "INFO:tensorflow:Assets written to: model_experiments/Turkey_Model/assets\n"
          ]
        },
        {
          "output_type": "stream",
          "name": "stderr",
          "text": [
            "INFO:tensorflow:Assets written to: model_experiments/Turkey_Model/assets\n"
          ]
        },
        {
          "output_type": "stream",
          "name": "stdout",
          "text": [
            "INFO:tensorflow:Assets written to: model_experiments/Turkey_Model/assets\n"
          ]
        },
        {
          "output_type": "stream",
          "name": "stderr",
          "text": [
            "INFO:tensorflow:Assets written to: model_experiments/Turkey_Model/assets\n"
          ]
        },
        {
          "output_type": "stream",
          "name": "stdout",
          "text": [
            "INFO:tensorflow:Assets written to: model_experiments/Turkey_Model/assets\n"
          ]
        },
        {
          "output_type": "stream",
          "name": "stderr",
          "text": [
            "INFO:tensorflow:Assets written to: model_experiments/Turkey_Model/assets\n"
          ]
        },
        {
          "output_type": "stream",
          "name": "stdout",
          "text": [
            "INFO:tensorflow:Assets written to: model_experiments/Turkey_Model/assets\n"
          ]
        },
        {
          "output_type": "stream",
          "name": "stderr",
          "text": [
            "INFO:tensorflow:Assets written to: model_experiments/Turkey_Model/assets\n"
          ]
        },
        {
          "output_type": "stream",
          "name": "stdout",
          "text": [
            "INFO:tensorflow:Assets written to: model_experiments/Turkey_Model/assets\n"
          ]
        },
        {
          "output_type": "stream",
          "name": "stderr",
          "text": [
            "INFO:tensorflow:Assets written to: model_experiments/Turkey_Model/assets\n"
          ]
        },
        {
          "output_type": "stream",
          "name": "stdout",
          "text": [
            "INFO:tensorflow:Assets written to: model_experiments/Turkey_Model/assets\n"
          ]
        },
        {
          "output_type": "stream",
          "name": "stderr",
          "text": [
            "INFO:tensorflow:Assets written to: model_experiments/Turkey_Model/assets\n"
          ]
        },
        {
          "output_type": "stream",
          "name": "stdout",
          "text": [
            "INFO:tensorflow:Assets written to: model_experiments/Turkey_Model/assets\n"
          ]
        },
        {
          "output_type": "stream",
          "name": "stderr",
          "text": [
            "INFO:tensorflow:Assets written to: model_experiments/Turkey_Model/assets\n"
          ]
        },
        {
          "output_type": "stream",
          "name": "stdout",
          "text": [
            "INFO:tensorflow:Assets written to: model_experiments/Turkey_Model/assets\n"
          ]
        },
        {
          "output_type": "stream",
          "name": "stderr",
          "text": [
            "INFO:tensorflow:Assets written to: model_experiments/Turkey_Model/assets\n"
          ]
        },
        {
          "output_type": "stream",
          "name": "stdout",
          "text": [
            "INFO:tensorflow:Assets written to: model_experiments/Turkey_Model/assets\n"
          ]
        },
        {
          "output_type": "stream",
          "name": "stderr",
          "text": [
            "INFO:tensorflow:Assets written to: model_experiments/Turkey_Model/assets\n"
          ]
        },
        {
          "output_type": "stream",
          "name": "stdout",
          "text": [
            "INFO:tensorflow:Assets written to: model_experiments/Turkey_Model/assets\n"
          ]
        },
        {
          "output_type": "stream",
          "name": "stderr",
          "text": [
            "INFO:tensorflow:Assets written to: model_experiments/Turkey_Model/assets\n"
          ]
        },
        {
          "output_type": "execute_result",
          "data": {
            "text/plain": [
              "<keras.callbacks.History at 0x7ff6b96986d0>"
            ]
          },
          "metadata": {},
          "execution_count": 133
        }
      ]
    },
    {
      "cell_type": "code",
      "source": [
        "turkey_model = tf.keras.models.load_model(\"model_experiments/Turkey_Model/\")\n",
        "turkey_model.evaluate(X_test, y_test)"
      ],
      "metadata": {
        "colab": {
          "base_uri": "https://localhost:8080/"
        },
        "id": "LYMWqEQfJf1Y",
        "outputId": "536fea5e-93d4-41ab-9635-64f2a54e0bc0"
      },
      "execution_count": 134,
      "outputs": [
        {
          "output_type": "stream",
          "name": "stdout",
          "text": [
            "18/18 [==============================] - 0s 3ms/step - loss: 640.2097\n"
          ]
        },
        {
          "output_type": "execute_result",
          "data": {
            "text/plain": [
              "640.209716796875"
            ]
          },
          "metadata": {},
          "execution_count": 134
        }
      ]
    },
    {
      "cell_type": "code",
      "source": [
        ""
      ],
      "metadata": {
        "id": "dA9pys7aJwAA"
      },
      "execution_count": null,
      "outputs": []
    }
  ]
}